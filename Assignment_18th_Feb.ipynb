{
 "cells": [
  {
   "cell_type": "markdown",
   "id": "41bba133-8ee5-4ea4-ac15-47d6c308ca70",
   "metadata": {},
   "source": [
    "# Assignment Answers"
   ]
  },
  {
   "cell_type": "markdown",
   "id": "72256544-b2a8-4d36-bebf-d943ec4efd74",
   "metadata": {},
   "source": [
    "# 1."
   ]
  },
  {
   "cell_type": "markdown",
   "id": "86aa509a-9e0b-4922-827a-d8446e3c87ac",
   "metadata": {},
   "source": [
    "##### Part-1:<br><br>\n",
    "- API stands for Application Programming Interface\n",
    "- API is a mechanisms that enables two software components using either homogeneous or heterogeneous technology to communicate with each other using a set of definitions and protocols.<br><br>\n",
    "##### Part-2:<br><br>\n",
    "- For example, the Google search engine uses API to fetch and display any query. When we type anything in the search bar it is passed as a API request, which is then processed in the background giving the desired result later on."
   ]
  },
  {
   "cell_type": "markdown",
   "id": "1a515072-2d9c-403e-bb8f-7c917bd09825",
   "metadata": {},
   "source": [
    "# 2."
   ]
  },
  {
   "cell_type": "markdown",
   "id": "29d4d071-8e1b-4244-8172-a09bf151e029",
   "metadata": {},
   "source": [
    "__(i) Advantages:__<br><br>\n",
    "- It ensures more flexibility in information-transfer processes.\n",
    "- It can be used as a way to provide consumers with a variety of experiences by enabling protocols, features, and commands to be customised to meet particular needs.\n",
    "- We may build layers in your apps to distribute information to various audiences with the help of API.\n",
    "- It makes data distribution more effective.\n",
    "- It provides flexibility in data migration and services.<br><br>\n",
    "__(ii) Disadvantages:__<br><br>\n",
    "- It becomes prime target of hackers as it provides a single point entry.\n",
    "- It can be complex and challenging to use.\n",
    "- They may not have all the functionality we need, requiring additional development work."
   ]
  },
  {
   "cell_type": "markdown",
   "id": "18743f82-c7dc-4131-87e5-9e17e5ec4d20",
   "metadata": {},
   "source": [
    "# 3."
   ]
  },
  {
   "cell_type": "markdown",
   "id": "b4e59446-b4a6-4397-a504-9242a5697d71",
   "metadata": {},
   "source": [
    "##### Part-1:<br><br>\n",
    "- Web API is an API that is used to provide services on the internet.\n",
    "- It uses HTTP protocol to communicate over the internet.\n",
    "- client sideIt does not incorporate information about a web server or browser and is just concerned with the client-side of Web applications.\n",
    "##### Part-2:<br><br>\n",
    "__(i) API:__<br><br>\n",
    "- It provides an interface to the applications to make communication happen between them.\n",
    "- It uses TCP, SMTP, HTTP, etc., protocols to communicate over the internet.<br><br>\n",
    "__(ii) Web API:__<br><br>\n",
    "- It is a subset of API which mainly provides its services on the web.\n",
    "- It uses HTTP protocol for the communication between different systems and applications."
   ]
  },
  {
   "cell_type": "markdown",
   "id": "38b041ed-59a2-4961-843d-70951891803f",
   "metadata": {},
   "source": [
    "# 4."
   ]
  },
  {
   "cell_type": "markdown",
   "id": "8e0bb16d-bdaf-4cdb-8b42-6224c36f1c8a",
   "metadata": {},
   "source": [
    "##### Part-1:<br><br>\n",
    "__(i) REST:__<br><br>\n",
    "- It stands for <i>Representationaln State Transfer</i>.\n",
    "- It uses a  client-server architecture composed of clients, servers, and resources.\n",
    "- It is Stateless, which means no client content is stored on the server between requests.\n",
    "- It cachese data to improve the client-server interactions.<br><br>\n",
    "\n",
    "__(ii) SOAP:__<br><br>\n",
    "- It stands for <i>Simple Object Access Protocol</i>.\n",
    "- It was first protocol created to allow communication between programmes created in various programming languages and on various platforms.\n",
    "- It uses the XML format to send messages over the HTTP protocol.\n",
    "- The structure of a SOAP message consists of an envelope, header, and body element.\n",
    "- It provides built-in compliances that include security, atomicity, consistency, isolation, and durability (ACID).<br><br>\n",
    "##### Part-2: Shortcomings of SOAP are;<br><br>\n",
    "- It only uses XML format data in web service, whereas JSON and other lightweight formats are not supported by it.\n",
    "- It is slow because it uses XML format, whereas the payload for a simple string message is large.\n",
    "- There are no security features in the SOAP specification.\n",
    "- There is no state reference for the remote object in the SOAP client."
   ]
  },
  {
   "cell_type": "markdown",
   "id": "ed60cbd2-2e46-4ee3-89f5-c7ab296d6184",
   "metadata": {},
   "source": [
    "# 5."
   ]
  },
  {
   "cell_type": "markdown",
   "id": "f3adddde-7ef8-472f-8171-b74a724283d3",
   "metadata": {},
   "source": [
    "__(i) REST:__<br><br>\n",
    "- It is an architectural pattern.\n",
    "- It uses Uniform Service Locators to access to the components on the hardware device.\n",
    "- It doesn’t need much bandwidth.\n",
    "- It work with plain text, XML, HTML and JSON.\n",
    "- It can use SOAP.\n",
    "<br><br>\n",
    "__(ii) SOAP:__<br><br>\n",
    "- It is a protocol.\n",
    "- It uses service interfaces to expose its functionality to client applications.\n",
    "- It needs more bandwidth for its usage.\n",
    "- It only works with XML formats.\n",
    "- It can not use REST."
   ]
  },
  {
   "cell_type": "code",
   "execution_count": null,
   "id": "f2e6c339-47a6-45fc-b0d7-96d976276191",
   "metadata": {},
   "outputs": [],
   "source": []
  }
 ],
 "metadata": {
  "kernelspec": {
   "display_name": "Python 3 (ipykernel)",
   "language": "python",
   "name": "python3"
  },
  "language_info": {
   "codemirror_mode": {
    "name": "ipython",
    "version": 3
   },
   "file_extension": ".py",
   "mimetype": "text/x-python",
   "name": "python",
   "nbconvert_exporter": "python",
   "pygments_lexer": "ipython3",
   "version": "3.10.8"
  }
 },
 "nbformat": 4,
 "nbformat_minor": 5
}
