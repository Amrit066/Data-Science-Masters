{
 "cells": [
  {
   "cell_type": "markdown",
   "id": "2442f942-95a5-47e1-88f4-144e2d7a208a",
   "metadata": {},
   "source": [
    "# Assignment Answers"
   ]
  },
  {
   "cell_type": "markdown",
   "id": "241fe601-b224-4e2f-b173-a4d63dba1097",
   "metadata": {},
   "source": [
    "# 1."
   ]
  },
  {
   "cell_type": "markdown",
   "id": "304c99f2-c628-4215-ae56-50be1f139cae",
   "metadata": {},
   "source": [
    "##### Part-1:<br><br>\n",
    "- Multiprocessing in Python is a built-in library that allows the system to run multiple processes simultaneously.\n",
    "- It will make it possible to divide apps into smaller, independent threads.\n",
    "- The operating system can then assign each of these threads or processes to the CPU to operate them concurrently, enhancing performance and effectiveness overall.<br><br>\n",
    "##### Part-2:<br><br>\n",
    "- It leverages straightforward, understandable coding.\n",
    "- It aids in getting over CPython's global interpreter lock (GIL) restrictions.\n",
    "- It analyses a lot of data and completes jobs more quickly.\n",
    "- It increases the total power of a system by using numerous CPUs.\n",
    "- Primitives for synchronization are eliminated.\n",
    "- It is more affordable than systems with just one processor.<br><br>"
   ]
  },
  {
   "cell_type": "markdown",
   "id": "e4f79d25-dc99-46a5-9366-64c9c1cc04f5",
   "metadata": {},
   "source": [
    "# 2."
   ]
  },
  {
   "cell_type": "markdown",
   "id": "2dc960a7-2321-43d9-87c6-7a49a3fd2691",
   "metadata": {},
   "source": [
    "The difference between multiprocessing and multithreading are as follows:<br><br>\n",
    "- Multiprocessing uses two or more CPUs to increase overall performance of the system, whereas multithreading uses a single process with multiple code segments to increase the performance.\n",
    "- A more dependable system is built using multiprocessing, whereas parallel threads are built using multithreading.\n",
    "- In comparison to multiprocessing, which takes a lot of effort and specific resources to build, multithreading can be created quickly and with few resources.\n",
    "- Multiprocessing executes many processes simultaneously, whereas multithreading executes many threads simultaneously.\n",
    "- Multithreading uses a common address space for all the threads, whereas multiprocessing creates a separate address space for each process."
   ]
  },
  {
   "cell_type": "markdown",
   "id": "1ae346dc-27cc-4c16-afee-b247be36c427",
   "metadata": {},
   "source": [
    "# 3."
   ]
  },
  {
   "cell_type": "code",
   "execution_count": 2,
   "id": "5082eb4e-f728-4e8a-a501-6da20e9269cb",
   "metadata": {},
   "outputs": [],
   "source": [
    "# Importing multiprocessing library\n",
    "import multiprocessing"
   ]
  },
  {
   "cell_type": "code",
   "execution_count": 9,
   "id": "a7625f1a-0ad1-49be-be07-0f0bf75c0417",
   "metadata": {},
   "outputs": [],
   "source": [
    "# Defining a function to work as a separate process\n",
    "# This function will separate odd integers from the given list\n",
    "def filter_odd_num(lst):\n",
    "    res=[]\n",
    "    for num in lst:\n",
    "        if(num & 1 != 0):\n",
    "            res.append(num)\n",
    "        else:\n",
    "            continue\n",
    "    \n",
    "    print(\"List of odd numbers in- {} \\n\\nis- {}\".format(lst,res))"
   ]
  },
  {
   "cell_type": "code",
   "execution_count": 10,
   "id": "50716676-db17-4670-88d8-9ab259d68015",
   "metadata": {},
   "outputs": [],
   "source": [
    "# Creating list variable to be passed as argument\n",
    "List=[i for i in range(37,89)]\n",
    "\n",
    "# Creating a process\n",
    "process= multiprocessing.Process(target=filter_odd_num,args=(List,))"
   ]
  },
  {
   "cell_type": "code",
   "execution_count": null,
   "id": "9c17cb31-7a9d-437b-9e13-60f9a550ac48",
   "metadata": {},
   "outputs": [],
   "source": [
    "# Running the above created process\n",
    "process.start()\n"
   ]
  },
  {
   "cell_type": "markdown",
   "id": "29fe9b88-baa5-4723-bd41-b3173b27b037",
   "metadata": {},
   "source": [
    "# 4."
   ]
  },
  {
   "cell_type": "markdown",
   "id": "f9bca7ff-7d99-4f11-b69f-80c589682d26",
   "metadata": {},
   "source": [
    "##### Part-1:<br><br>\n",
    "- The Python Multiprocessing Pool class allows you to create and manage process pools in Python.\n",
    "- It can be used to execute a function in parallel with various input values while dividing the input data among processes.\n",
    "- This way of process execution is known to get a parallelism of data.\n",
    "##### Part-2:<br><br>\n",
    "- Multiprocessing pool is used because it offers a convenient means of parallelizing the execution of a function across multiple input values, distributing the input data across processes i.e. data based parallelism."
   ]
  },
  {
   "cell_type": "markdown",
   "id": "768990d6-6d7b-4000-bbe6-dca21649654a",
   "metadata": {},
   "source": [
    "# 5."
   ]
  },
  {
   "cell_type": "markdown",
   "id": "e44bd037-5714-48b2-9083-26e8452c3314",
   "metadata": {},
   "source": [
    "To create a pool of worker processes in python follow the steps given below:<br><br>\n",
    "__STEP-1:__ At firt, import the multiprocessing library. For example,"
   ]
  },
  {
   "cell_type": "code",
   "execution_count": 12,
   "id": "943a1cba-a113-4c56-be39-860dde308716",
   "metadata": {},
   "outputs": [],
   "source": [
    "# Importing multiprocessing library\n",
    "import multiprocessing"
   ]
  },
  {
   "cell_type": "markdown",
   "id": "7a98e839-7e29-4543-87b2-13dd2732dfb8",
   "metadata": {},
   "source": [
    "__STEP-2:__ Then define a function to work as a process. For example,"
   ]
  },
  {
   "cell_type": "code",
   "execution_count": 13,
   "id": "badf88ff-6266-4d5f-aeec-ff899c3730e2",
   "metadata": {},
   "outputs": [],
   "source": [
    "## Defining a function to work as a separate process\n",
    "# This function will increase the value of numbers by 1\n",
    "def increment(x):\n",
    "    return x+1"
   ]
  },
  {
   "cell_type": "markdown",
   "id": "4988793a-123a-4ca2-b6ff-3e122432ea32",
   "metadata": {},
   "source": [
    "__STEP-3:__ Then create instances of process using thee __Pool()__ method in __multiprocessing__ library by passing the desired value as argument. For example,"
   ]
  },
  {
   "cell_type": "code",
   "execution_count": 14,
   "id": "2911764e-6afd-4380-8e4f-00944d48250c",
   "metadata": {},
   "outputs": [],
   "source": [
    "# Creating instances of processes\n",
    "pool= multiprocessing.Pool(4)"
   ]
  },
  {
   "cell_type": "markdown",
   "id": "71c432a4-093e-40df-bda0-a34eb8fa9e0b",
   "metadata": {},
   "source": [
    "__STEP-4:__ Then create a sequence of data to be passed as argument for each worker processes. For example,"
   ]
  },
  {
   "cell_type": "code",
   "execution_count": 15,
   "id": "e9e6e225-0f98-4c23-9404-c39b78368dd6",
   "metadata": {},
   "outputs": [],
   "source": [
    "# Declaraing list variable\n",
    "List=[i for i in range(10)]"
   ]
  },
  {
   "cell_type": "markdown",
   "id": "595196c5-8df1-44b5-8810-f034b8fef3fd",
   "metadata": {},
   "source": [
    "__STEP-5:__ Now, use the __map()__ method to assign a data to each processes, which will then return the output as list.<br> This is the final step in creating pool of worker processes. For example,"
   ]
  },
  {
   "cell_type": "code",
   "execution_count": null,
   "id": "3bcc303f-62d7-4dae-b85c-75cb68afc8a2",
   "metadata": {},
   "outputs": [],
   "source": [
    "# Mapping processe with data\n",
    "res= pool.map(increment,List)\n",
    "\n",
    "# Displaying the result\n",
    "print(\"Original list:\",List)\n",
    "print(\"Output List:\",res)"
   ]
  },
  {
   "cell_type": "markdown",
   "id": "e1c046f1-0f36-4078-8396-9013719aacdf",
   "metadata": {},
   "source": [
    "# 6."
   ]
  },
  {
   "cell_type": "code",
   "execution_count": 23,
   "id": "86508c00-5516-461a-acc1-2388e3da8640",
   "metadata": {},
   "outputs": [],
   "source": [
    "# Importing multiprocessing library\n",
    "import multiprocessing"
   ]
  },
  {
   "cell_type": "code",
   "execution_count": 24,
   "id": "0a989e54-b575-4e0b-a27c-5b3ae3e85ef8",
   "metadata": {},
   "outputs": [],
   "source": [
    "# Defining a functions to work as processe\n",
    "def square_of(x):\n",
    "    print(\"Square of {} is {}\".format(x,x*x))"
   ]
  },
  {
   "cell_type": "code",
   "execution_count": 26,
   "id": "c1aba4c2-f4bf-47c8-9a51-8b82c4705713",
   "metadata": {},
   "outputs": [],
   "source": [
    "# Creating four processes with four different arguments\n",
    "process=[ multiprocessing.Process(target=square_of, args=(i,)) for i in range(5,9)]"
   ]
  },
  {
   "cell_type": "code",
   "execution_count": null,
   "id": "55092ce8-8c26-43d4-b33d-98e900b9ca86",
   "metadata": {},
   "outputs": [],
   "source": [
    "# Executing each processes\n",
    "for p in process:\n",
    "    p.start()"
   ]
  },
  {
   "cell_type": "code",
   "execution_count": null,
   "id": "cedffb4f-36db-407e-a8b8-22e26358b535",
   "metadata": {},
   "outputs": [],
   "source": []
  }
 ],
 "metadata": {
  "kernelspec": {
   "display_name": "Python 3 (ipykernel)",
   "language": "python",
   "name": "python3"
  },
  "language_info": {
   "codemirror_mode": {
    "name": "ipython",
    "version": 3
   },
   "file_extension": ".py",
   "mimetype": "text/x-python",
   "name": "python",
   "nbconvert_exporter": "python",
   "pygments_lexer": "ipython3",
   "version": "3.10.8"
  }
 },
 "nbformat": 4,
 "nbformat_minor": 5
}
