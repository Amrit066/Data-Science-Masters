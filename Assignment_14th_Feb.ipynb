{
 "cells": [
  {
   "cell_type": "markdown",
   "id": "12005a38-d9ba-49ee-8bb8-9978092d2681",
   "metadata": {},
   "source": [
    "# Assignment Answers"
   ]
  },
  {
   "cell_type": "markdown",
   "id": "3aeb3a61-538e-4331-bf71-f69f9484f7ef",
   "metadata": {},
   "source": [
    "# 1."
   ]
  },
  {
   "cell_type": "markdown",
   "id": "32f23138-d3a3-43c7-a76f-a307a2036207",
   "metadata": {},
   "source": [
    "##### Part-1:<br><br>\n",
    "In Python programming, multithreading allows for easy and effective information sharing and communication across threads by allowing many threads in a process to share the main thread's data area.<br><br>\n",
    "##### Part-2:<br><br>\n",
    "Multiple threads can each run independently while sharing the resources of the process. Running many tasks and function cells simultaneously is the goal of multithreading.<br><br>\n",
    "##### Part-3:<br><br>\n",
    "__Threading__ module is used for creating threads in python."
   ]
  },
  {
   "cell_type": "markdown",
   "id": "b3aebd8d-bd75-4591-915a-0228dcdc3d77",
   "metadata": {},
   "source": [
    "# 2."
   ]
  },
  {
   "cell_type": "markdown",
   "id": "7be4abe4-ddd7-4d52-bf96-293826804568",
   "metadata": {},
   "source": [
    "Threading module is basically used to create multiple threads inside a process in python. It allows us to run multiple part of our program concurrently.<br><br>\n",
    "__(i) activeCount()__: This function is used to givr the count of all the threads that are currently active.<br>\n",
    "__(ii) currentThread()__: This function is used to return the current object of the thread class.<br>\n",
    "__(iii) enumerate()__: This function is used to return the list containing all active threads."
   ]
  },
  {
   "cell_type": "markdown",
   "id": "a3e109b4-9a07-4be0-be6a-57c59603ada8",
   "metadata": {},
   "source": [
    "# 3."
   ]
  },
  {
   "cell_type": "markdown",
   "id": "637cc917-d946-4804-a7c7-74cc0a6deb50",
   "metadata": {},
   "source": [
    "__(i) run()__:<br>\n",
    "- It is an inbuilt method of the Thread class of the threading module in Python. This method is used to represent a thread's activity.\n",
    "- It is used to execute any target function that is a part of the active thread object for the given thread. \n",
    "- It typically runs after the. start() method is called in the background.<br><br>\n",
    "__(ii) start()__:<br>\n",
    "- It initiates a thread's activity. \n",
    "- It must only be called once for each thread as doing otherwise will result in a runtime error.<br><br>\n",
    "__(iii) join()__:<br>\n",
    "- It blocks the execution of other code until the thread on which the join() method was called gets terminated.\n",
    "- It simply means it waits for the other thread to die. \n",
    "- It has a void type and throws InterruptedException.<br><br>\n",
    "__(iv) isAlive()__:<br>\n",
    "- This method is used to check if the thread, on which it is called, is alive or not.<br><br>"
   ]
  },
  {
   "cell_type": "markdown",
   "id": "61bd4907-9ab3-4755-bebf-92b2cace02aa",
   "metadata": {},
   "source": [
    "# 4."
   ]
  },
  {
   "cell_type": "markdown",
   "id": "defa721e-bda7-40e3-90c2-163c53699e01",
   "metadata": {},
   "source": [
    "- Defining functions to find square and cube"
   ]
  },
  {
   "cell_type": "code",
   "execution_count": 16,
   "id": "165d1fc0-14d8-4e3c-befc-88d5f62df6de",
   "metadata": {},
   "outputs": [],
   "source": [
    "# To find cube\n",
    "def Cube(*args):\n",
    "    lst=[i for i in args]\n",
    "    new_list=[i**3 for i in lst]\n",
    "    print(\"The list of cubes for {} is {}\".format(lst,new_list))\n",
    "\n",
    "# To find square\n",
    "def Square(*args):\n",
    "    lst=[i for i in args]\n",
    "    new_list=[i**2 for i in lst]\n",
    "    print(\"The list of squares for {} is {}\".format(lst,new_list))"
   ]
  },
  {
   "cell_type": "markdown",
   "id": "3b5685bc-1c02-4e87-8db2-134a9d41e28d",
   "metadata": {},
   "source": [
    "- Declaraing list type variable containing numeric values and also storing both the function names in another list"
   ]
  },
  {
   "cell_type": "code",
   "execution_count": 17,
   "id": "8e528843-4203-4c7c-82eb-c26180202f16",
   "metadata": {},
   "outputs": [],
   "source": [
    "# List variable\n",
    "List=[1,2,3,4,5,6,7,8,9,10]\n",
    "Func_List=[Cube,Square]"
   ]
  },
  {
   "cell_type": "markdown",
   "id": "3f11ff97-a036-4438-8559-bfbab60c6082",
   "metadata": {},
   "source": [
    "- Importing threading library and creating threads"
   ]
  },
  {
   "cell_type": "code",
   "execution_count": 18,
   "id": "f9575abe-19a4-42fe-8c65-5c05c78eeecc",
   "metadata": {},
   "outputs": [],
   "source": [
    "# Importing library\n",
    "import threading\n",
    "\n",
    "# Creating threads\n",
    "threads=[threading.Thread(target=func, args=(List)) for func in Func_List]"
   ]
  },
  {
   "cell_type": "markdown",
   "id": "604d5b9a-731a-43a6-8f7f-3c15f5af0b12",
   "metadata": {},
   "source": [
    "- Running threads"
   ]
  },
  {
   "cell_type": "code",
   "execution_count": 19,
   "id": "9a2c560b-7d55-41f5-a2d1-5d2a30f0a322",
   "metadata": {},
   "outputs": [
    {
     "name": "stdout",
     "output_type": "stream",
     "text": [
      "The list of cubes for [1, 2, 3, 4, 5, 6, 7, 8, 9, 10] is [1, 8, 27, 64, 125, 216, 343, 512, 729, 1000]\n",
      "The list of squares for [1, 2, 3, 4, 5, 6, 7, 8, 9, 10] is [1, 4, 9, 16, 25, 36, 49, 64, 81, 100]\n"
     ]
    }
   ],
   "source": [
    "for thread in threads:\n",
    "    thread.start()"
   ]
  },
  {
   "cell_type": "markdown",
   "id": "9736dd0f-8b06-4b92-b64a-e424c5a880f2",
   "metadata": {},
   "source": [
    "# 5."
   ]
  },
  {
   "cell_type": "markdown",
   "id": "544e692d-8700-4df4-bcec-52b26f7404f8",
   "metadata": {},
   "source": [
    "##### Part-1: Advantages of multithreading:<br><br>\n",
    "- It helps in better utilization of memory and CPU resources.\n",
    "- It divides the complex and large program into simple and independent units of execution.\n",
    "- It helps in achieving concurrency, where multiple subprocess can run simultaneously.\n",
    "- It is helpful in applications that must processes very large amount of data.<br><br>\n",
    "##### Part-2: Disadvantages of multithreading:<br><br>\n",
    "- It creates unnecessary context switching.\n",
    "- The complexity and difficulty in writing code for multithreading increases as compared to normal programs.\n",
    "- The complexity of debugging and testing process also increases with the use of multithreading in the program.\n",
    "- The potential for the occurrence of deadlock also increases.<br><br>"
   ]
  },
  {
   "cell_type": "markdown",
   "id": "ee8fefdf-16c7-44e2-a552-f31e6710dc6f",
   "metadata": {},
   "source": [
    "# 6."
   ]
  },
  {
   "cell_type": "markdown",
   "id": "d79b53ad-b488-4b3e-9074-85bbd525fa0b",
   "metadata": {},
   "source": [
    "##### Part-1:<br><br>\n",
    "- __Deadlock__ is a condition which occurs when two processes are directly or indirectly waiting for one another.<br>\n",
    "- This typically happens when two processes are awaiting the acquisition of shared resources by other processes.<br>\n",
    "- For example, suppose that thread T1 has obtained resource R1 and also requires resource R2 to complete its task. However, while thread T2 is awaiting resource R1, it acquires resource R2 (which is acquired by T1). As long as they keep waiting for the other resources they require, neither of them will be able to complete its work. And this situation is nothing but a deadlock situation, where no thread is able to get the resource they want.<br><br>\n",
    "##### Part-2:<br><br>\n",
    "- While, __race condition__ is a condition which occurs when two or more processes or threads are trying to access the same resource that only one should access at at time, so the second one fails.<br>\n",
    "- For eaxmple, suppose two persons are trying to deposit Rs. 1,000 online into the same bank account. The initial amount is Rs. 2,500. Both the persons would be able to see Rs. 2,500 initially. Each of them tries to deposit Rs. 1,000, and the final amount is expected to be Rs. 4,500. But due to race conditions, the final amount in the bank is Rs. 3,500 instead of Rs. 4,500.<br>\n",
    "- There are many scenarios like RAW(Read After Write), WAW(Write After Write), and WAR(Write After Read), that causes race condition to occur."
   ]
  },
  {
   "cell_type": "code",
   "execution_count": null,
   "id": "0ee9d8a3-c878-48af-a0e0-93a038a00029",
   "metadata": {},
   "outputs": [],
   "source": []
  }
 ],
 "metadata": {
  "kernelspec": {
   "display_name": "Python 3 (ipykernel)",
   "language": "python",
   "name": "python3"
  },
  "language_info": {
   "codemirror_mode": {
    "name": "ipython",
    "version": 3
   },
   "file_extension": ".py",
   "mimetype": "text/x-python",
   "name": "python",
   "nbconvert_exporter": "python",
   "pygments_lexer": "ipython3",
   "version": "3.10.8"
  }
 },
 "nbformat": 4,
 "nbformat_minor": 5
}
