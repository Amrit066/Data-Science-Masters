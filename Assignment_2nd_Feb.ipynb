{
 "cells": [
  {
   "cell_type": "markdown",
   "id": "990edd93-5e95-4bc0-806b-f53cf0bb9116",
   "metadata": {},
   "source": [
    "# Assignment Answers"
   ]
  },
  {
   "cell_type": "markdown",
   "id": "cdf4eaf5-3949-4a2f-89a3-a88fdcd15199",
   "metadata": {},
   "source": [
    "# 1."
   ]
  },
  {
   "cell_type": "markdown",
   "id": "a5d49c52-c12d-4dc0-af9e-288e1d991365",
   "metadata": {},
   "source": [
    "### Part-1:\n",
    "The characteristics of tuples are:\n",
    "\n",
    "(i) It supports ordered arrangement of elements.<br>\n",
    "(ii) It allows us to retrieve elements using their index.<br>\n",
    "(iii) It does not allow its elements to be changed i.e., it's <b>immutable</b> in nature.<br>\n",
    "(iv) It also allows duplicate elements to be stored.<br>\n",
    "(v) It is used to store data of different types i.e., <b>heterogeneous</b> in nature<br><br>\n",
    "    \n",
    "### Part-2:\n",
    "\n",
    "Yes, tuple is immutable in nature.<br>"
   ]
  },
  {
   "cell_type": "markdown",
   "id": "a12b3a65-2383-461d-8798-5eb60a4425a4",
   "metadata": {},
   "source": [
    "# 2."
   ]
  },
  {
   "cell_type": "markdown",
   "id": "e2bdbdf0-072d-4deb-b544-50bd96beaf0e",
   "metadata": {},
   "source": [
    "### Part-1:\n",
    "The two tuple methods in Pyhton are:<br>\n",
    "<b>(i) count()</b><br>\n",
    "- It is used to count the occurrence of element, in a sequence given, which is passed as an argument in the count method.\n",
    "- If the element is not present in the sequence, then it will just return 0.\n",
    "- Eg:<br>\n",
    "      a=(1,2,1,3)<br>\n",
    "      print(a.count(1))<br>\n",
    "      <b>Output</b>: 2<br>\n",
    "      \n",
    "<b>(iI) index()</b><br>\n",
    "- It is used to return the first occurence of element, in a sequence given, which is passed as an argument in the index method.\n",
    "- If the element is not present in the sequence, then it will raise <b>ValueError</b>.\n",
    "- Eg:<br>\n",
    "      a=(1,2,1,3)<br>\n",
    "      print(a.index(1))<br>\n",
    "      <b>Output</b>: 0<br>\n",
    "\n",
    "### Part-2:\n",
    "The reason why tuple has only two in-built methods for Python is because tuple is immutable in nature. Therefore we cannot change the value of elements in tuple once it's assigned. And the methods like index() and count(), other than those available for list, doesn't change the elements."
   ]
  },
  {
   "cell_type": "markdown",
   "id": "829f70cd-1997-48bc-861c-cf84e144af91",
   "metadata": {},
   "source": [
    "# 3."
   ]
  },
  {
   "cell_type": "markdown",
   "id": "edcab119-c869-4e76-8cd0-9db960adb956",
   "metadata": {},
   "source": [
    "### Part-1:\n",
    "Set, is the collection datatypes in Python that does not allow duplicate items.<br>\n",
    "\n",
    "### Part-2:"
   ]
  },
  {
   "cell_type": "code",
   "execution_count": 3,
   "id": "e1b96ddb-ab83-4801-9f0d-090be40bec24",
   "metadata": {},
   "outputs": [],
   "source": [
    "List=[1,1,1,2,1,3,1,4,2,1,2,2,2,3,2,4,3,1,3,2,3,3,3,4,4,1,4,2,4,3,4,4]\n",
    "\n",
    "# Making a the list give above as set will remove duplicate items itself.\n",
    "Set=set(List)"
   ]
  },
  {
   "cell_type": "markdown",
   "id": "c255728d-0195-4682-874c-75b56b1dd67d",
   "metadata": {},
   "source": [
    "# 4."
   ]
  },
  {
   "cell_type": "markdown",
   "id": "bc3eaf0f-fdb9-4429-aded-4af5358727e3",
   "metadata": {},
   "source": [
    "<b>(i) Union</b> \n",
    "- It is used to join to sets together and then return the update set. \n",
    "- We need to store the returned set into some variable to see the changes.\n",
    "- Eg:<br>\n",
    "        set1={1,2,3}<br>\n",
    "        set2={4,5,6}<br>\n",
    "        set3=set1.union(set2)<br>\n",
    "        print(set3)<br>\n",
    "\n",
    "<b>(ii) Update</b> \n",
    "- It is also used to join to sets together and store the updated set in the set-variable on which the update method was called upon. \n",
    "- We don't need to store the returned set into some variable to see the changes.\n",
    "- Eg:<br>\n",
    "        set1={1,2,3}<br>\n",
    "        set2={4,5,6}<br>\n",
    "        set1.update(set2)<br>\n",
    "        print(set1)<br>"
   ]
  },
  {
   "cell_type": "markdown",
   "id": "ccaf0270-d881-4126-8c6c-045c3d9e21f8",
   "metadata": {},
   "source": [
    "# 5."
   ]
  },
  {
   "cell_type": "markdown",
   "id": "dabd7013-f24b-4f93-80ff-9e8457beb836",
   "metadata": {},
   "source": [
    "### Part-1:\n",
    "- Dictionary is a collection datatype.\n",
    "- It is used to store the data in the form of key-value pairs.\n",
    "- We can access the value of the dictionary using their key only.\n",
    "- Eg:<br>\n",
    "        dict1={<br>\n",
    "                \"Name\": \"Abhay Singh\",<br>\n",
    "                \"Course\": \"Data Science Masters\"<br>\n",
    "             }<br>\n",
    "        Here, <br>\n",
    "                Name and Course, are the key of the dictionary-dict1, and<br>\n",
    "                Abhay Singh abd Data Science Masters, are the value for the respective keys. <br>\n",
    "\n",
    "### Part-2:\n",
    "Dictionary is an unordered collection of data items."
   ]
  },
  {
   "cell_type": "markdown",
   "id": "5b633d7c-9cbb-42f9-a15d-65ff20a0cbb4",
   "metadata": {},
   "source": [
    "# 6."
   ]
  },
  {
   "cell_type": "markdown",
   "id": "a0562190-52cd-4fa7-b0db-2865d03d8c8e",
   "metadata": {},
   "source": [
    "Yes, we can create a nested dictionary.<br>\n",
    "Eg:-<br><br> \n"
   ]
  },
  {
   "cell_type": "code",
   "execution_count": null,
   "id": "e5482c94-a896-446c-adda-34304ed76f59",
   "metadata": {},
   "outputs": [],
   "source": [
    "# Defining dictionary\n",
    "dict1={\n",
    "         \"Name\":\"Abhay Singh\",\n",
    "         \"Address\":{\n",
    "                     \"City\":\"Kolkata\",\n",
    "                     \"State\":\"West Bengal\",\n",
    "                   },\n",
    "       }\n",
    "# Accessing the nested dictionary using its key\n",
    "print(dict1[\"Address\"][\"City\"])"
   ]
  },
  {
   "cell_type": "markdown",
   "id": "baee07aa-dce1-4804-9d05-ee42ab737134",
   "metadata": {},
   "source": [
    "# 7."
   ]
  },
  {
   "cell_type": "code",
   "execution_count": null,
   "id": "4203e634-59e2-4d1d-b80a-e6e0feec32c6",
   "metadata": {},
   "outputs": [],
   "source": [
    "dict1={\n",
    "        \"language\":\"Python\",\n",
    "        \"course\":\"Data Science Masters\"\n",
    "      }\n",
    "\n",
    "key=\"topics\"\n",
    "value=[\"Python\", \"Machine Learning\" \"Deep Learning\"]\n",
    "\n",
    "dict1.setdefault(key,value)"
   ]
  },
  {
   "cell_type": "markdown",
   "id": "e106519e-d451-477e-a14f-5304d8b7d235",
   "metadata": {},
   "source": [
    "# 8."
   ]
  },
  {
   "cell_type": "markdown",
   "id": "29e4afee-51c6-4998-a12b-06bda195f94b",
   "metadata": {},
   "source": [
    "The three view objects in Python dictionary are: <b>keys</b>, <b>values</b> and <b>itemss</b>.\n",
    "\n",
    "- For Keys"
   ]
  },
  {
   "cell_type": "code",
   "execution_count": null,
   "id": "319722a8-044b-46e8-8a18-0b345bc8b10f",
   "metadata": {},
   "outputs": [],
   "source": [
    "dict1={\n",
    "        \"Sport\":\"Cricket\",\n",
    "        \"Teams\":[\"India\",\"Australia\",\"England\",\"South Africa\",\"Sri Lanka\", \"New Zeland\"]\n",
    "      }\n",
    "keys=dict1.keys()\n",
    "print(keys)"
   ]
  },
  {
   "cell_type": "markdown",
   "id": "d0fcfb5f-debf-41a5-8906-b2e779a3c222",
   "metadata": {},
   "source": [
    "- For Values"
   ]
  },
  {
   "cell_type": "code",
   "execution_count": null,
   "id": "0d067741-044f-4ed3-8e9b-04ee285d924d",
   "metadata": {},
   "outputs": [],
   "source": [
    "dict1={\n",
    "        \"Sport\":\"Cricket\",\n",
    "        \"Teams\":[\"India\",\"Australia\",\"England\",\"South Africa\",\"Sri Lanka\", \"New Zeland\"]\n",
    "      }\n",
    "values=dict1.values()\n",
    "print(values)"
   ]
  },
  {
   "cell_type": "markdown",
   "id": "34dff14f-a036-420f-9088-111564248875",
   "metadata": {},
   "source": [
    "- For Items"
   ]
  },
  {
   "cell_type": "code",
   "execution_count": null,
   "id": "2cfb4105-25d5-47be-903a-de314852f766",
   "metadata": {},
   "outputs": [],
   "source": [
    "dict1={\n",
    "        \"Sport\":\"Cricket\",\n",
    "        \"Teams\":[\"India\",\"Australia\",\"England\",\"South Africa\",\"Sri Lanka\", \"New Zeland\"]\n",
    "      }\n",
    "items=dict1.items()\n",
    "print(items)"
   ]
  }
 ],
 "metadata": {
  "kernelspec": {
   "display_name": "Python 3 (ipykernel)",
   "language": "python",
   "name": "python3"
  },
  "language_info": {
   "codemirror_mode": {
    "name": "ipython",
    "version": 3
   },
   "file_extension": ".py",
   "mimetype": "text/x-python",
   "name": "python",
   "nbconvert_exporter": "python",
   "pygments_lexer": "ipython3",
   "version": "3.10.8"
  }
 },
 "nbformat": 4,
 "nbformat_minor": 5
}
