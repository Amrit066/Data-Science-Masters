{
 "cells": [
  {
   "cell_type": "markdown",
   "id": "7e02fda2-e855-480b-9c04-39cdae15b66c",
   "metadata": {},
   "source": [
    "# Assignment Answers"
   ]
  },
  {
   "cell_type": "markdown",
   "id": "627c2396-9296-4682-95d9-c70412c13042",
   "metadata": {},
   "source": [
    "# 1."
   ]
  },
  {
   "cell_type": "code",
   "execution_count": null,
   "id": "357c06ad-5c29-43f3-b63d-6716878712a7",
   "metadata": {},
   "outputs": [],
   "source": [
    "List=[\n",
    "        (\"Sachin Tendulkar\", 34357),\n",
    "        (\"Ricky Ponting\", 27483),\n",
    "        (\"Jack Kallis\", 25534),\n",
    "        (\"Virat Kohli\", 24936)\n",
    "     ]\n",
    "print(\"List Before Sorting:\")\n",
    "print(List,end=\"\\n\")\n",
    "\n",
    "List=list(sorted(List, key=lambda x: x[1]))\n",
    "print(\"List After Sorting:\")\n",
    "print(List)"
   ]
  },
  {
   "cell_type": "markdown",
   "id": "765f49c3-23e2-420e-a4c7-ef9946a65b7c",
   "metadata": {},
   "source": [
    "# 2."
   ]
  },
  {
   "cell_type": "code",
   "execution_count": null,
   "id": "59ed9406-095b-4c36-92a0-3e9f48464520",
   "metadata": {},
   "outputs": [],
   "source": [
    "List=[i for i in range(1,11)]\n",
    "print(\"Orginal List: \",List)\n",
    "\n",
    "List=list(map(lambda x: x*x,List))\n",
    "print(\"New List: \",List)\n"
   ]
  },
  {
   "cell_type": "markdown",
   "id": "3352804b-8705-4b20-a38d-cb2a320556ed",
   "metadata": {},
   "source": [
    "# 3."
   ]
  },
  {
   "cell_type": "code",
   "execution_count": null,
   "id": "4ec56172-daea-4644-aed5-6ae897969e48",
   "metadata": {},
   "outputs": [],
   "source": [
    "List=[i for i in range(1,11)]\n",
    "print(\"Orginal List: \",List)\n",
    "\n",
    "Tuple=list(map(lambda x: str(x),List))\n",
    "print(\"New Tuple: \",Tuple)\n"
   ]
  },
  {
   "cell_type": "markdown",
   "id": "9e23e019-bf3d-4c78-841a-b9c9bc182aac",
   "metadata": {},
   "source": [
    "# 4."
   ]
  },
  {
   "cell_type": "code",
   "execution_count": null,
   "id": "1f3079f1-15e8-470e-96ac-17462f813f1b",
   "metadata": {},
   "outputs": [],
   "source": [
    "# Importing reduce function\n",
    "from functools import reduce\n",
    "\n",
    "# To calculate product\n",
    "def product_of(x,y):\n",
    "    return x*y\n",
    "\n",
    "List=[i for i in range(1,26)]\n",
    "print(\"Orginal List: \",List)\n",
    "\n",
    "val=reduce(product_of,List)\n",
    "print(\"Final value of product: \",val)"
   ]
  },
  {
   "cell_type": "markdown",
   "id": "e62de921-1587-49b0-871c-3abbfa2a0684",
   "metadata": {},
   "source": [
    "# 5."
   ]
  },
  {
   "cell_type": "code",
   "execution_count": null,
   "id": "1cc1405a-bf7c-4731-b6be-3edfed678d22",
   "metadata": {},
   "outputs": [],
   "source": [
    "# To check if number is divisible by both 2 and 3\n",
    "def num_filter(x):\n",
    "    return True if(x%2==0 and x%3==0) else False\n",
    "\n",
    "List=[2,3,6,9,27,60,90,120,55,46]\n",
    "print(\"Orginal List: \",List)\n",
    "\n",
    "List=list(filter(num_filter,List))\n",
    "print(\"New List: \",List)"
   ]
  },
  {
   "cell_type": "markdown",
   "id": "a294e67c-c678-4043-bf05-26cd53ab1c01",
   "metadata": {},
   "source": [
    "# 6."
   ]
  },
  {
   "cell_type": "code",
   "execution_count": null,
   "id": "caa146f9-8d2d-4bb7-9c14-790942590352",
   "metadata": {},
   "outputs": [],
   "source": [
    "List=[\"python\",\"php\",\"aba\",\"radar\",\"level\"]\n",
    "print(\"Orginal List: \",List)\n",
    "\n",
    "List=list(filter(lambda x: x==x[::-1],List))\n",
    "print(\"New List: \",List)"
   ]
  },
  {
   "cell_type": "code",
   "execution_count": null,
   "id": "677194eb-1a22-4b51-8b63-b4a321623e43",
   "metadata": {},
   "outputs": [],
   "source": []
  }
 ],
 "metadata": {
  "kernelspec": {
   "display_name": "Python 3 (ipykernel)",
   "language": "python",
   "name": "python3"
  },
  "language_info": {
   "codemirror_mode": {
    "name": "ipython",
    "version": 3
   },
   "file_extension": ".py",
   "mimetype": "text/x-python",
   "name": "python",
   "nbconvert_exporter": "python",
   "pygments_lexer": "ipython3",
   "version": "3.10.8"
  }
 },
 "nbformat": 4,
 "nbformat_minor": 5
}
