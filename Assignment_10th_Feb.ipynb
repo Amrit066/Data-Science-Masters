{
 "cells": [
  {
   "cell_type": "markdown",
   "id": "9d0e472d-1cb3-48f0-ba4d-4da1a5494b74",
   "metadata": {},
   "source": [
    "# Assignment Answers"
   ]
  },
  {
   "cell_type": "markdown",
   "id": "69a078ac-8783-47c4-9f5c-32a1f840573b",
   "metadata": {},
   "source": [
    "# 1."
   ]
  },
  {
   "cell_type": "markdown",
   "id": "ab4ded0c-a680-4991-8f90-ed60a63eab2a",
   "metadata": {},
   "source": [
    "#### Part-1:<br><br>\n",
    "The function which is used to open a file in python is, <b>open()</b>.<br><br>\n",
    "\n",
    "#### Part-2:<br><br>\n",
    "The different modes through which a file can be open in python are as explained below:<br><br>\n",
    "(i) w<br>\n",
    "- It opens a file for writing.\n",
    "- It creates a new file if it doesn't exits.\n",
    "- It deletes all the data from the file before writing if the file already exists.<br>\n",
    "(ii) r<br>\n",
    "- It open a file for reading data from it.\n",
    "- It's the defualt mode for opening a file.<br>\n",
    "(iii) a<br>\n",
    "- It opens a file in append mode.\n",
    "- This mode helps to append new information or data at the end of the file (if it already exits).\n",
    "- It create new file and add data to it, if the file does not exists.<br>\n",
    "(iv) b<br>\n",
    "- It opens the file in binary mode, which is used to represent the data in machine readable form.<br>\n",
    "(v) w+<br>\n",
    "- It opens the file for both reading and writing.\n",
    "- It creates file and erase all its data before writing, if the file doesn't exists.<br>\n",
    "(vi) r+<br>\n",
    "- It opens the file for both reading and writing.\n",
    "- It generates an error if the file doesn't exists.<br>\n",
    "(vii) a+<br>\n",
    "- It opens the file for both reading and writing.\n",
    "- It creates file and appends data at the end of the file, if the file doesn't exists.<br>\n",
    "(viii) wb<br>\n",
    "- It opens the file for writing in binary mode.\n",
    "- Rest of the functionality are same as <b>w mode</b><br>\n",
    "(ix) rb<br>\n",
    "- It opens the binary file for reading.\n",
    "- Rest of the functionality are same as <b>r mode</b><br>\n",
    "(x) ab<br>\n",
    "- It opens the file for appending in binary mode.\n",
    "- Rest of the functionality are same as <b>a mode</b><br>\n",
    "(xi) wb+<br>\n",
    "- It opens the file for writing in binary mode.\n",
    "- Rest of the functionality are same as <b>w mode</b><br>\n",
    "(xii) rb+<br>\n",
    "- It opens the binary file for reading.\n",
    "- Rest of the functionality are same as <b>r+ mode</b><br>\n",
    "(xiii) ab+<br>\n",
    "- It opens the file for appending in binary mode.\n",
    "- Rest of the functionality are same as <b>a+ mode</b><br>"
   ]
  },
  {
   "cell_type": "markdown",
   "id": "0d50e74b-168e-4dc7-adbf-c17becf56653",
   "metadata": {},
   "source": [
    "# 2."
   ]
  },
  {
   "cell_type": "markdown",
   "id": "45c65f1f-0b87-42eb-83fc-52a320a416fc",
   "metadata": {},
   "source": [
    "#### Part-1:<br><br>\n",
    "<b> close()</b> function is used to close the opened file.<br><br>\n",
    "\n",
    "#### Part-2:<br><br>\n",
    "The reason why we should always close the file are given below:<br>\n",
    "- When we open the file for either reading or writing operation the the access to this file gets locked, which means we cannot access this file outside of the python program, until or unless the program is terminared.\n",
    "- The resources allocated for the file by the OS are limited. Therefore, it might happen that if we don't close the previousily opened file and try to access new file, then doing read/ write operations may associate corrupt data with this file.\n",
    "- Not closing the file may also cause problem during the debugging process.\n"
   ]
  },
  {
   "cell_type": "markdown",
   "id": "a84dfb76-da65-4b58-be17-c3bcf6c5cbe5",
   "metadata": {},
   "source": [
    "# 3."
   ]
  },
  {
   "cell_type": "code",
   "execution_count": null,
   "id": "5f0463c6-f7e3-4c43-aed6-79483485dd0e",
   "metadata": {},
   "outputs": [],
   "source": [
    "# Defining a class which contains method to perform read/write operations from/to a file.\n",
    "class File_RW:\n",
    "    # Method to perform reading operation\n",
    "    def read_from(self,path):\n",
    "        file=open(path,\"r\")\n",
    "        print(file.read())\n",
    "        print(\"File reading successfully completed\")\n",
    "        file.close()\n",
    "    # Method to perform write operation \n",
    "    def write_to(self,path,text):\n",
    "        file=open(path,\"w\")\n",
    "        file.write(text)\n",
    "        print(\"File writing successfully completed\")\n",
    "        file.close()\n",
    "        \n",
    "# Creating File_RW object\n",
    "file=File_RW()\n",
    "text=\"I want to become a Data Scientist.\"\n",
    "# Invoking method to write in a file \n",
    "file.write_to(\"assignment.txt\",text)\n",
    "# Invoking method to read from a file \n",
    "file.read_from(\"assignment.txt\")"
   ]
  },
  {
   "cell_type": "markdown",
   "id": "428d6e16-bfc1-4983-be5f-29d7f850fe0c",
   "metadata": {},
   "source": [
    "# 4."
   ]
  },
  {
   "cell_type": "markdown",
   "id": "ba14e957-0419-4ed1-9541-8923654680aa",
   "metadata": {},
   "source": [
    "<b>(i) read():</b><br><br>\n",
    "- It is used to read the content from the file.\n",
    "- By default, it reads the whole content from the file.\n",
    "- It can also take an optional parameter, that specifies the number of bytes to be returned from the file.\n",
    "- Example<br><br>\n"
   ]
  },
  {
   "cell_type": "code",
   "execution_count": null,
   "id": "985721c3-6217-4d44-96ba-08bf18bdb857",
   "metadata": {},
   "outputs": [],
   "source": [
    "# Defining a function to read the data from the file\n",
    "def read_from(path,size):\n",
    "    file=open(path,\"r\")\n",
    "    print(file.read(size))\n",
    "    file.close()\n",
    "    \n",
    "# Path of the file\n",
    "path=\"assignment.txt\"\n",
    "\n",
    "# Calling the function to read whole content\n",
    "print(\"Reading....\\n\\n\")\n",
    "read_from(path,-1)  # Here, -1 is passed as size in the function,\n",
    "                    # which means to read the whole content.\n",
    "    \n",
    "# Calling the function to read the specified bytes from the file\n",
    "print(\"\\n\\nReading....\\n\\n\")\n",
    "read_from(path,34)  # Here, 34 is passed as the size-argument,\n",
    "                    # which means to read only 34 bytes from the file."
   ]
  },
  {
   "cell_type": "markdown",
   "id": "68f97950-b64d-45f9-94f6-45b95b7b127e",
   "metadata": {},
   "source": [
    "<b>(ii) readline():</b><br><br>\n",
    "- It is used to read one line at a time from the file.\n",
    "- It reads a line's entire data by default.\n",
    "- It can also take an optional parameter, that specifies the number of bytes to be returned from a single line.\n",
    "- We can use a loop statement to iterate over each line of the file.\n",
    "- Example<br><br>\n"
   ]
  },
  {
   "cell_type": "code",
   "execution_count": null,
   "id": "762b6457-abc3-4ee4-94a5-fa552c0c448f",
   "metadata": {},
   "outputs": [],
   "source": [
    "# Defining a function to read the data from the file\n",
    "def read_from(path,size):\n",
    "    file=open(path,\"r\")\n",
    "    x=file.readline(size)\n",
    "    while(x!=\"\"):\n",
    "        print(x)\n",
    "        x=file.readline(size)\n",
    "    file.close()\n",
    "    \n",
    "# Path of the file\n",
    "path=\"assignment.txt\"\n",
    "\n",
    "# Calling the function to read whole content\n",
    "print(\"Reading....\\n\\n\")\n",
    "read_from(path,-1)  # Here, -1 is passed as size in the function,\n",
    "                    # which means to read the whole data of a line.\n",
    "    \n",
    "# Calling the function to read the specified bytes from the file\n",
    "print(\"\\n\\nReading....\\n\\n\")\n",
    "read_from(path,34)  # Here, 34 is passed as the size-argument,\n",
    "                    # which means to read only 34 bytes from each line."
   ]
  },
  {
   "cell_type": "markdown",
   "id": "da67c247-4fd4-40a3-b359-91cf0bfc4995",
   "metadata": {},
   "source": [
    "<b>(iii) readlines():</b><br><br>\n",
    "- It returns a list containing each line in the file as a list item.\n",
    "- It can also take an optional parameter, that specifies the number of bytes to be returned, after which it stops reading lines.\n",
    "- It add '\\n' as delimeter after every line returned from the file to denote end of the line.\n",
    "- Example<br><br>\n"
   ]
  },
  {
   "cell_type": "code",
   "execution_count": null,
   "id": "f49139de-5d48-4f59-9b88-738a7dcb226e",
   "metadata": {},
   "outputs": [],
   "source": [
    "# Defining a function to read the data from the file\n",
    "def read_from(path,size):\n",
    "    file=open(path,\"r\")\n",
    "    print(file.readlines(size))\n",
    "    file.close()\n",
    "    \n",
    "# Path of the file\n",
    "path=\"assignment.txt\"\n",
    "\n",
    "# Calling the function to read whole content\n",
    "print(\"Reading....\\n\\n\")\n",
    "read_from(path,-1)  # Here, -1 is passed as size in the function,\n",
    "                    # which means to return all the lines as list.\n",
    "    \n",
    "# Calling the function to read the specified bytes from the file\n",
    "print(\"\\n\\nReading....\\n\\n\")\n",
    "read_from(path,34)  # Here, 34 is passed as the size-argument,\n",
    "                    # which means to read upto line whose byte size is 34 bytes."
   ]
  },
  {
   "cell_type": "markdown",
   "id": "1d3db6d0-2d18-402c-8434-fa32690edbb2",
   "metadata": {},
   "source": [
    "# 5."
   ]
  },
  {
   "cell_type": "markdown",
   "id": "9fc3a23a-a106-4d21-914e-cd651974ede4",
   "metadata": {},
   "source": [
    "- Python's with statement is used for handling exceptions and coordinating activities.\n",
    "- The advantage of using with statement with open() is that, we don't need to explicitly specify the <b>close()</b> method to close the file."
   ]
  },
  {
   "cell_type": "markdown",
   "id": "3b4c5d73-39fd-4e4e-a6c3-a90fd58fb5e1",
   "metadata": {},
   "source": [
    "# 6."
   ]
  },
  {
   "cell_type": "markdown",
   "id": "5a771445-9b52-4afc-9cb7-35bd361d21d0",
   "metadata": {},
   "source": [
    "<b>(i) write()</b><br><br>\n",
    "- It is used to write the content to the file.\n",
    "- It takes a string as an argument to be saved to the file.\n",
    "- Example<br><br>"
   ]
  },
  {
   "cell_type": "code",
   "execution_count": null,
   "id": "ad903916-0f3f-4ae9-a7d0-6893527b12b4",
   "metadata": {},
   "outputs": [],
   "source": [
    "# Defining a function to write the data to the file\n",
    "def write_to(path,text):\n",
    "    file=open(path,\"w\")\n",
    "    file.write(text)\n",
    "    file.close()\n",
    "    \n",
    "# Path of the file\n",
    "path=\"assignment_new1.txt\"\n",
    "# Text to be written\n",
    "text=\"PW Skills is the result of a continual effort to exponentially \\\n",
    "increase the employability of every Indian, irrespective of their \\\n",
    "socioeconomic status\\n. With accessibility and affordability \\\n",
    "being the support structure of high-quality, industry-relevant \\\n",
    "courses, PW Skills aims to empower professionals and students \\\n",
    "alike to either jumpstart their careers or leverage existing \\\n",
    "skills with new, future-driven upgrades that will help them \\\n",
    "realise their full potential.\"\n",
    "\n",
    "# Calling the function to write the whole content\n",
    "print(\"Writing....\\n\\n\")\n",
    "write_to(path,text) \n",
    "print(\"Writing Successful\")\n"
   ]
  },
  {
   "cell_type": "markdown",
   "id": "4ebe5a30-177a-496a-be43-b965db534b01",
   "metadata": {},
   "source": [
    "<b>(ii) writelines()</b><br><br>\n",
    "- It is also used to write the content to the file.\n",
    "- It takes list of strings as an argument to be saved.\n",
    "- Example<br><br>"
   ]
  },
  {
   "cell_type": "code",
   "execution_count": null,
   "id": "9ba8f532-39e9-4a9e-97d5-7e329a5b5db4",
   "metadata": {},
   "outputs": [],
   "source": [
    "# Defining a function to write the data to the file\n",
    "def write_to(path,List):\n",
    "    file=open(path,\"w\")\n",
    "    file.writelines(List)\n",
    "    file.close()\n",
    "    \n",
    "# Path of the file\n",
    "path=\"assignment_new2.txt\"\n",
    "# Text to be written\n",
    "text_list=[\"\\nPW Skills is the result of a continual effort to exponentially increase the employability of every Indian, irrespective of their socioeconomic status.\\n\",\" With accessibility and affordability being the support structure of high-quality, industry-relevant courses, PW Skills aims to empower professionals and students alike to either jumpstart their careers or leverage existing skills with new, future-driven upgrades that will help them realise their full potential.\"]\n",
    "\n",
    "# Calling the function to write the whole content\n",
    "print(\"Writing....\\n\\n\")\n",
    "write_to(path,text_list) \n",
    "print(\"Writing Successful\")\n"
   ]
  },
  {
   "cell_type": "code",
   "execution_count": null,
   "id": "f405c5ce-2291-491f-8cde-285b5029d0ae",
   "metadata": {},
   "outputs": [],
   "source": []
  }
 ],
 "metadata": {
  "kernelspec": {
   "display_name": "Python 3 (ipykernel)",
   "language": "python",
   "name": "python3"
  },
  "language_info": {
   "codemirror_mode": {
    "name": "ipython",
    "version": 3
   },
   "file_extension": ".py",
   "mimetype": "text/x-python",
   "name": "python",
   "nbconvert_exporter": "python",
   "pygments_lexer": "ipython3",
   "version": "3.10.8"
  }
 },
 "nbformat": 4,
 "nbformat_minor": 5
}
