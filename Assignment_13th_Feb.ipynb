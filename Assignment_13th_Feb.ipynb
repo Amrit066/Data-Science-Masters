{
 "cells": [
  {
   "cell_type": "markdown",
   "id": "6b8676b6-9b7a-4b60-b52a-8e7ef4e2cf43",
   "metadata": {},
   "source": [
    "# Assignment Answers"
   ]
  },
  {
   "cell_type": "markdown",
   "id": "fe8db06b-9f60-4907-8861-f9d8b757d0b5",
   "metadata": {},
   "source": [
    "# 1."
   ]
  },
  {
   "cell_type": "markdown",
   "id": "d7c31da0-22e9-43af-9bec-ecbd6a55113e",
   "metadata": {},
   "source": [
    "We can consider the following reason as why the Exxception class is used while creating a Custom Exception:<br><br>\n",
    "- It adds the Custom Exception class in the hierarchy of python exception classes.\n",
    "- It grants the custom exception, a kind of exception class, more meaning.\n",
    "- The custom classes derived from Exception class does not need to write the whole code from the scratch to implement exception handling. It can be done by the use of predefined inherited methods from the Exception Class. We only need to pass the custom messages in the __init()__ method of the Exception class, and it will print the details regarding the exception with custom message and details about the traceback of the error."
   ]
  },
  {
   "cell_type": "markdown",
   "id": "95d844b6-7015-4efc-a283-6b2bf818d615",
   "metadata": {},
   "source": [
    "# 2."
   ]
  },
  {
   "cell_type": "markdown",
   "id": "61449102-f536-45da-a683-c55dc0cfb664",
   "metadata": {},
   "source": [
    "- By using Python's inspect module, we can print the tree hierarchy. The inspect module is used to gather data on programme objects, including modules, classes, methods, and objects. Users may use it, for instance, to extract and format a function's argument list or to examine a class's contents.\n",
    "- Using the inspect.getclasstree() function, which is used to organise the provided list of classes into a hierarchy of nested lists, we may create a tree hierarchy. The classes descended from the class whose entry would come before the list where the nested list occurs will be present there.\n",
    "- Example: "
   ]
  },
  {
   "cell_type": "code",
   "execution_count": null,
   "id": "d7177b2f-4ac4-4e92-a1da-188b86f8d250",
   "metadata": {},
   "outputs": [],
   "source": [
    "# Importing the required module\n",
    "import inspect"
   ]
  },
  {
   "cell_type": "code",
   "execution_count": null,
   "id": "1ffe1ae8-3bcd-412a-80b1-c6414e8006cd",
   "metadata": {},
   "outputs": [],
   "source": [
    " # Function to print the hierarchy \n",
    "def display_tree_hierarchy(cls, ind = 0):\n",
    "    \n",
    "    # Printing name of the class\n",
    "    print ('-' * ind,\"*\", cls.__name__) \n",
    "    # Iterating through subclasses\n",
    "    for i in cls.__subclasses__():\n",
    "        display_tree_hierarchy(i, ind + 5)\n",
    "  "
   ]
  },
  {
   "cell_type": "code",
   "execution_count": null,
   "id": "af4ac288-6052-4398-ba9a-c58a1d41512f",
   "metadata": {},
   "outputs": [],
   "source": [
    "# Driver Code\n",
    "print(\"Python Exceptions Hierarchy:\")\n",
    "inspect.getclasstree(inspect.getmro(BaseException)) # inspect.getmro() returns a tuple \n",
    "                                                    # of class base classes.\n",
    "  \n",
    "# Calling the function to print the hierarchy\n",
    "display_tree_hierarchy(BaseException)"
   ]
  },
  {
   "cell_type": "markdown",
   "id": "b4b0c136-003e-40e9-8f04-67abb9d0fe15",
   "metadata": {},
   "source": [
    "# 3."
   ]
  },
  {
   "cell_type": "markdown",
   "id": "fff48e85-a612-473d-8b9a-8275dcdc1714",
   "metadata": {},
   "source": [
    "##### Part-1:<br><br>\n",
    "- Arithmetic Errors are errors related to the numeric calculations like adition, subtraction, multiplication and division.<br>\n",
    "- FloatingPointError, OverflowError, and ZeroDivisionError, are some of the examples that falls under ArithmeticError class.\n",
    "- We can check all the error that are defined under ArithmeticError class using the code given below.\n"
   ]
  },
  {
   "cell_type": "code",
   "execution_count": null,
   "id": "e98450a4-08ec-4d82-9c6f-a82657a18fe3",
   "metadata": {},
   "outputs": [],
   "source": [
    "# Importing the required module\n",
    "import inspect\n",
    "\n",
    "\n",
    " # Function to print the hierarchy \n",
    "def display_tree_hierarchy(cls, ind = 0,isArithmeticError=False):\n",
    "    \n",
    "    #Check if the error is ArithmeticError or not\n",
    "    isArithmeticError= True if(cls.__name__==\"ArithmeticError\" or isArithmeticError) else False\n",
    "    # Printing name of the class\n",
    "    if(isArithmeticError):\n",
    "        print ('-' * ind,\"*\", cls.__name__) \n",
    "        # Iterating through subclasses\n",
    "        for i in cls.__subclasses__():\n",
    "            display_tree_hierarchy(i, ind+5,isArithmeticError)\n",
    "    else:\n",
    "        # Iterating through subclasses\n",
    "        for i in cls.__subclasses__():\n",
    "            display_tree_hierarchy(i, 0,isArithmeticError)\n",
    "        \n",
    "        \n",
    "        \n",
    "# Driver Code\n",
    "print(\"Python Exceptions Hierarchy:\")\n",
    "inspect.getclasstree(inspect.getmro(BaseException)) # inspect.getmro() returns a tuple \n",
    "                                                    # of class base classes.\n",
    "  \n",
    "# Calling the function to print the hierarchy\n",
    "display_tree_hierarchy(BaseException)"
   ]
  },
  {
   "cell_type": "markdown",
   "id": "0f0c4c63-1fad-487b-93ba-748532d62895",
   "metadata": {},
   "source": [
    "##### Part-2:<br><br>\n",
    "<b>(i) ZeroDivisionError</b>\n",
    "- This error is the part of ArithmeticError, which occurs when we try to divide an integer with the value 0.\n",
    "- Example:"
   ]
  },
  {
   "cell_type": "code",
   "execution_count": null,
   "id": "6928a589-bdd5-42a2-892b-bcdc30fcd391",
   "metadata": {},
   "outputs": [],
   "source": [
    "# Defining Variables\n",
    "a=1\n",
    "b=0\n",
    "\n",
    "# Storing quotient into other variable\n",
    "c= a/b  # Here, it will generate ZeroDivivsion Error"
   ]
  },
  {
   "cell_type": "markdown",
   "id": "d44b9678-d0bb-4f06-9c70-b558c9303351",
   "metadata": {},
   "source": [
    "<b>(ii) OverflowError</b>\n",
    "- It is raised when an arithmetic operation exceeds the limits to be represented.\n",
    "- Example:"
   ]
  },
  {
   "cell_type": "code",
   "execution_count": null,
   "id": "2ab4841c-5221-4899-b3ec-3c59db079e43",
   "metadata": {},
   "outputs": [],
   "source": [
    "# Defining Variable\n",
    "j = 7.0\n",
    "\n",
    "# Calling the for loop to perform multiplication until it exceeds the limit\n",
    "for i in range(1, 1000):\n",
    "    j = j**i  # Here, it will generate OverflowError"
   ]
  },
  {
   "cell_type": "markdown",
   "id": "98e9f41d-a550-4201-b257-73be44496a2e",
   "metadata": {},
   "source": [
    "# 4."
   ]
  },
  {
   "cell_type": "markdown",
   "id": "62732c7a-7b6b-400a-b691-baca8916f232",
   "metadata": {},
   "source": [
    "##### Part-1:<br>\n",
    "- LookupError Exception is the Base class for errors raised when something can’t be found.\n",
    "- IndexError and KeyError are the example of LookupError.\n",
    "##### Part-2:<br>\n",
    "Ans<b> IndexError</b> is raised when a sequence reference is out of range.<br>\n",
    "While, <b>a KeyError</b> is raised when the key we are trying to access is not present in the dictionary.<br><br>\n",
    "Example:"
   ]
  },
  {
   "cell_type": "code",
   "execution_count": null,
   "id": "295d95f1-8b64-4b6d-b3c4-c8309acbd54e",
   "metadata": {},
   "outputs": [],
   "source": [
    "# Defining Variables\n",
    "List=[1,2,3]\n",
    "d={\n",
    "    1:3,\n",
    "    2:2,\n",
    "    3:1\n",
    "  }\n"
   ]
  },
  {
   "cell_type": "code",
   "execution_count": null,
   "id": "e30ccc4c-d17f-4980-ad3f-5151748cc692",
   "metadata": {},
   "outputs": [],
   "source": [
    "# Access Element\n",
    "print(List[3])  # Here, it will generate IndexError"
   ]
  },
  {
   "cell_type": "code",
   "execution_count": null,
   "id": "afb57ee0-8719-4fe1-ad90-4a6b90925770",
   "metadata": {},
   "outputs": [],
   "source": [
    "# Access Element\n",
    "print(d[0])  # Here, it will generate KeyError"
   ]
  },
  {
   "cell_type": "markdown",
   "id": "812cfa85-4fc9-4c57-8d2a-f22c68ca6049",
   "metadata": {},
   "source": [
    "# 5."
   ]
  },
  {
   "cell_type": "markdown",
   "id": "93be471f-a0dc-42ee-b976-ade1031798a6",
   "metadata": {},
   "source": [
    "The <b> ImportError</b> is raised when there is error in successfully loading the class,module or library in python.<br>\n",
    "Example: In the example given below, we have created two separate python files, where each file is trying to import another file. But this will not be executed successfully and will raise an ImportError.<br><br>\n",
    "__NOTE__: The given below program should be executed only when __test1.py__ and __test2.py__ is created, otherwise it will throw \"ModuleNotFoundError\""
   ]
  },
  {
   "cell_type": "code",
   "execution_count": null,
   "id": "7ebcec16-a5ff-43bd-a384-6a15d19e624a",
   "metadata": {},
   "outputs": [],
   "source": [
    "from test1 import Class1\n",
    "class Class2:\n",
    "    obj = Class1()"
   ]
  },
  {
   "cell_type": "code",
   "execution_count": null,
   "id": "efac74f9-a4a9-4ecf-b761-53c21a86754b",
   "metadata": {},
   "outputs": [],
   "source": [
    "\n",
    "from test2 import Class2\n",
    "class Class1:\n",
    "    obj = Class2()"
   ]
  },
  {
   "cell_type": "markdown",
   "id": "f7a119a7-c00e-441f-99b9-47251325f615",
   "metadata": {},
   "source": [
    "While, <b> ModuleNotFoundError</b> is specifically raised when the module that we are trying to load is not present.<br>\n",
    "Example:"
   ]
  },
  {
   "cell_type": "code",
   "execution_count": null,
   "id": "57c645d5-755a-419e-9700-1836a2b57eff",
   "metadata": {},
   "outputs": [],
   "source": [
    "# Importing Library that doesn't exists\n",
    "import abhay  # Here, it will generate ModuleNotFoundError"
   ]
  },
  {
   "cell_type": "markdown",
   "id": "8eead823-d487-4fd6-a4f7-f0532d13e039",
   "metadata": {},
   "source": [
    "# 6."
   ]
  },
  {
   "cell_type": "markdown",
   "id": "612ea97a-9987-40a9-985c-ce1cf693cb93",
   "metadata": {},
   "source": [
    "- We should always use a specific exception while handling the exceptions.\n",
    "- We should avoid using multiple exception as it would make the code bulky.\n",
    "- When defining custom exception, we should use proper message to be displayed as output.\n",
    "- We need to keep a proper log of all the errors that occurs during the execution of a program. It will help us to debug easily.\n",
    "- We should always document everything that we are creating.\n",
    "- We should write the code in a way which will free all the resources when the program ends its execution."
   ]
  },
  {
   "cell_type": "code",
   "execution_count": null,
   "id": "21f168d7-2d4d-48e4-a9aa-51b225e8d648",
   "metadata": {},
   "outputs": [],
   "source": []
  }
 ],
 "metadata": {
  "kernelspec": {
   "display_name": "Python 3 (ipykernel)",
   "language": "python",
   "name": "python3"
  },
  "language_info": {
   "codemirror_mode": {
    "name": "ipython",
    "version": 3
   },
   "file_extension": ".py",
   "mimetype": "text/x-python",
   "name": "python",
   "nbconvert_exporter": "python",
   "pygments_lexer": "ipython3",
   "version": "3.10.8"
  }
 },
 "nbformat": 4,
 "nbformat_minor": 5
}
