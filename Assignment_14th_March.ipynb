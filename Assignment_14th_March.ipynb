{
 "cells": [
  {
   "cell_type": "markdown",
   "id": "dfd0c0b5-68ac-4407-9994-ea9db999bf83",
   "metadata": {},
   "source": [
    "# Assignment Answers"
   ]
  },
  {
   "cell_type": "markdown",
   "id": "f3993a0f-5221-49b6-9041-625b5b10da4f",
   "metadata": {},
   "source": [
    "# 1."
   ]
  },
  {
   "cell_type": "code",
   "execution_count": null,
   "id": "c3cf97a0-fdff-4e15-a10e-bde94385fbbe",
   "metadata": {},
   "outputs": [],
   "source": [
    "# Importing Libraries\n",
    "import numpy as np\n",
    "import scipy.stats as stats"
   ]
  },
  {
   "cell_type": "code",
   "execution_count": null,
   "id": "210463af-b448-4993-9ea5-91f6936314ef",
   "metadata": {},
   "outputs": [],
   "source": [
    "# Function to perform variance ratio test\n",
    "def f_test(x, y):\n",
    "    \n",
    "    x = np.array(x)\n",
    "    y = np.array(y)\n",
    "    \n",
    "    f_stat = np.var(x, ddof=1)/np.var(y, ddof=1) #calculate F test statistic \n",
    "    dfn = x.size-1 #define degrees of freedom numerator \n",
    "    dfd = y.size-1 #define degrees of freedom denominator \n",
    "    p = 1-stats.f.cdf(f_stat, dfn, dfd) #find p-value of F test statistic \n",
    "   \n",
    "    return f_stat, p\n"
   ]
  },
  {
   "cell_type": "code",
   "execution_count": null,
   "id": "e9e337da-d537-4727-aa98-71f7dac42ef4",
   "metadata": {},
   "outputs": [],
   "source": [
    "# Taking input\n",
    "arr1 = list(map(int,input(\"Enter first array of data as 1 2 3...\").split()))\n",
    "arr2 = list(map(int,input(\"Enter second array of data as 1 2 3...\").split()))"
   ]
  },
  {
   "cell_type": "code",
   "execution_count": null,
   "id": "a2bd04d1-6581-4c2b-85a3-c65d5ffcf3ef",
   "metadata": {},
   "outputs": [],
   "source": [
    "f_stat , p = f_test(arr1,arr2)\n",
    "\n",
    "# Printing Results\n",
    "print(f\"F-value: {f_stat:.3f}\")\n",
    "print(f\"P-value: {p:.3f}\")"
   ]
  },
  {
   "cell_type": "markdown",
   "id": "7e5d458b-c1be-49f1-b0de-c970961fe1ff",
   "metadata": {},
   "source": [
    "# 2."
   ]
  },
  {
   "cell_type": "code",
   "execution_count": null,
   "id": "bbca59a5-4519-447a-a552-1dc3ac49d08f",
   "metadata": {},
   "outputs": [],
   "source": [
    "# Given Data\n",
    "alpha = 0.05"
   ]
  },
  {
   "cell_type": "code",
   "execution_count": null,
   "id": "5324da16-343e-49ea-b0a5-71b94d168d6c",
   "metadata": {},
   "outputs": [],
   "source": [
    "# Importing Libraries\n",
    "import scipy.stats as stats"
   ]
  },
  {
   "cell_type": "code",
   "execution_count": null,
   "id": "a01ec728-8961-4aec-872b-b1bb0c415cdb",
   "metadata": {},
   "outputs": [],
   "source": [
    "# Function to return the F-value\n",
    "def critical_f_value(dfn,dfd,alpha=alpha):\n",
    "    \n",
    "    f_val1 = stats.f.ppf(q=1-(alpha/2), dfn=dfn,dfd=dfd) # alpha/2 for two tailed test\n",
    "    f_val2 = stats.f.ppf(q=alpha/2, dfn=dfn,dfd=dfd)\n",
    "    return f_val1,f_val2"
   ]
  },
  {
   "cell_type": "code",
   "execution_count": null,
   "id": "63b3bb86-9488-498f-85fe-7d1996a11035",
   "metadata": {},
   "outputs": [],
   "source": [
    "# Taking Input\n",
    "dfn = int(input(\"Enter degree of freedom for numerator: \"))\n",
    "dfd = int(input(\"Enter degree of freedom for denominator: \"))"
   ]
  },
  {
   "cell_type": "code",
   "execution_count": null,
   "id": "eb852499-897b-43a7-ac22-abb1ff9f5a55",
   "metadata": {},
   "outputs": [],
   "source": [
    "critical_fval1,critical_fval2 = critical_f_value(dfn,dfd)\n",
    "\n",
    "# Printing Result\n",
    "print(f\"Lower Critical F-value: {min(critical_fval1,critical_fval2):.3f}\")\n",
    "print(f\"Higher Critical F-value: {max(critical_fval1,critical_fval2):.3f}\")"
   ]
  },
  {
   "cell_type": "markdown",
   "id": "43e4e7bb-63e2-4b30-8535-a8fb72729955",
   "metadata": {},
   "source": [
    "# 3."
   ]
  },
  {
   "cell_type": "code",
   "execution_count": null,
   "id": "704a8212-376b-4e67-94d5-53a9b008afa4",
   "metadata": {},
   "outputs": [],
   "source": [
    "# Importing Libraries\n",
    "import numpy as np\n",
    "import scipy.stats as stats"
   ]
  },
  {
   "cell_type": "code",
   "execution_count": null,
   "id": "a2727e1f-6eaf-4a52-ad7f-4f848b8ba28d",
   "metadata": {},
   "outputs": [],
   "source": [
    "# Function to return the F-value\n",
    "def critical_f_value(dfn,dfd,alpha):\n",
    "    \n",
    "    f_val1 = stats.f.ppf(q=1-(alpha/2), dfn=dfn,dfd=dfd) # alpha/2 for two tailed test\n",
    "    f_val2 = stats.f.ppf(q=alpha/2, dfn=dfn,dfd=dfd)\n",
    "    return f_val1,f_val2\n",
    "\n",
    "# Function to perform variance ratio test\n",
    "def f_test(x, y):\n",
    "    \n",
    "    x = np.array(x)\n",
    "    y = np.array(y)\n",
    "    \n",
    "    f_stat = np.var(x, ddof=1)/np.var(y, ddof=1) #calculate F test statistic \n",
    "    dfn = x.size-1 #define degrees of freedom numerator \n",
    "    dfd = y.size-1 #define degrees of freedom denominator \n",
    "    p = 1-stats.f.cdf(f_stat, dfn, dfd) #find p-value of F test statistic \n",
    "   \n",
    "    return f_stat, p,dfn,dfd"
   ]
  },
  {
   "cell_type": "code",
   "execution_count": null,
   "id": "c48a62f7-bebb-4d1d-acaa-8e553d8c26d3",
   "metadata": {},
   "outputs": [],
   "source": [
    "# Taking input\n",
    "mean1 = float(input(\"Enter mean for first normal distribution: \"))\n",
    "mean2 = float(input(\"Enter mean for second normal distribution: \"))\n",
    "var1 = float(input(\"Enter variance of first normal distribution: \"))\n",
    "var2 = float(input(\"Enter variance of second normal distribution: \"))"
   ]
  },
  {
   "cell_type": "code",
   "execution_count": null,
   "id": "112d4efe-c990-4ba5-b343-6a041c80cd2e",
   "metadata": {},
   "outputs": [],
   "source": [
    "# Generating Samples\n",
    "sample1 = np.random.normal(loc=mean1, scale=var1**0.5, size=100)\n",
    "sample2 = np.random.normal(loc=mean2, scale=var2**0.5, size=100)"
   ]
  },
  {
   "cell_type": "code",
   "execution_count": null,
   "id": "33074f83-ef27-4465-a9b0-a43275ec808b",
   "metadata": {},
   "outputs": [],
   "source": [
    "f_stat, p,dfn,dfd = f_test(sample1, sample2)\n",
    "critical_fval1,critical_fval2 = critical_f_value(dfn,dfd,0.05)\n",
    "\n",
    "# Printing Results\n",
    "print(f\"F-stat: {f_stat:.3f}\")\n",
    "print(f\"P-value: {p:.3f}\")\n",
    "print(f\"Degree of freedom numerator: {dfn}\")\n",
    "print(f\"Degree of freedom denominator: {dfd}\")\n",
    "print(f\"Lower Critical F-value: {min(critical_fval1,critical_fval2):.3f}\")\n",
    "print(f\"Higher Critical F-value: {max(critical_fval1,critical_fval2):.3f}\")"
   ]
  },
  {
   "cell_type": "code",
   "execution_count": null,
   "id": "0aa84f08-4d28-435c-bf29-2020891a31ef",
   "metadata": {},
   "outputs": [],
   "source": [
    "# Making Decisions\n",
    "if(f_stat > max(critical_fval1,critical_fval2) or f_stat < min(critical_fval1,critical_fval2)):\n",
    "    print(\"Variances are not equal\")\n",
    "else:\n",
    "    print(\"Variances are equal\")"
   ]
  },
  {
   "cell_type": "markdown",
   "id": "2a35d272-47bc-48e2-85ee-4f180ac0635e",
   "metadata": {},
   "source": [
    "# 4."
   ]
  },
  {
   "cell_type": "code",
   "execution_count": null,
   "id": "12daf0a2-ed44-4049-a336-500858c04d38",
   "metadata": {},
   "outputs": [],
   "source": [
    "# Given Data\n",
    "var1 = 10\n",
    "var2 = 15"
   ]
  },
  {
   "cell_type": "code",
   "execution_count": null,
   "id": "dab81988-90f5-4c3a-ba55-69f05f857cf4",
   "metadata": {},
   "outputs": [],
   "source": [
    "# Importing Libraries\n",
    "import numpy as np\n",
    "import scipy.stats as stats"
   ]
  },
  {
   "cell_type": "code",
   "execution_count": null,
   "id": "0a6e7869-68c7-4912-ae92-560059b0ef46",
   "metadata": {},
   "outputs": [],
   "source": [
    "# Function to perform variance ratio test\n",
    "def f_test(x, y):\n",
    "    \n",
    "    x = np.array(x)\n",
    "    y = np.array(y)\n",
    "    \n",
    "    f_stat = np.var(x, ddof=1)/np.var(y, ddof=1) #calculate F test statistic \n",
    "    dfn = x.size-1 #define degrees of freedom numerator \n",
    "    dfd = y.size-1 #define degrees of freedom denominator \n",
    "    p = 1-stats.f.cdf(f_stat, dfn, dfd) #find p-value of F test statistic \n",
    "   \n",
    "    return p"
   ]
  },
  {
   "cell_type": "code",
   "execution_count": null,
   "id": "67e818f4-f0e9-413c-a937-95b5b51c3d80",
   "metadata": {},
   "outputs": [],
   "source": [
    "# Taking input\n",
    "mean1 = float(input(\"Enter mean for first normal distribution: \"))\n",
    "mean2 = float(input(\"Enter mean for second normal distribution: \"))"
   ]
  },
  {
   "cell_type": "code",
   "execution_count": null,
   "id": "efeeda57-08f7-4136-b158-37fb1e53313f",
   "metadata": {},
   "outputs": [],
   "source": [
    "# Generating Samples\n",
    "sample1 = np.random.normal(loc=mean1, scale=var1**0.5, size=12)\n",
    "sample2 = np.random.normal(loc=mean2, scale=var2**0.5, size=12)"
   ]
  },
  {
   "cell_type": "code",
   "execution_count": null,
   "id": "68f0db15-e4d0-400b-bf68-45eca6deddbf",
   "metadata": {},
   "outputs": [],
   "source": [
    "p = f_test(sample1, sample2)\n",
    "\n",
    "# Printing Results\n",
    "print(f\"P-value: {p:.3f}\")"
   ]
  },
  {
   "cell_type": "code",
   "execution_count": null,
   "id": "60969410-64b9-4aaf-a4c6-5aff2dd389d5",
   "metadata": {},
   "outputs": [],
   "source": [
    "# Making Decisions\n",
    "if(p<0.05):\n",
    "    print(\"Variances are significantly different\")\n",
    "else:\n",
    "    print(\"Variances are equal\")"
   ]
  },
  {
   "cell_type": "markdown",
   "id": "1d252897-4755-4798-89ba-ad41f6aa0a60",
   "metadata": {},
   "source": [
    "# 5."
   ]
  },
  {
   "cell_type": "code",
   "execution_count": null,
   "id": "c350217d-e59d-4afe-967b-d0e5ce8a5d0d",
   "metadata": {},
   "outputs": [],
   "source": [
    "# Given Data\n",
    "var1 = 0.005\n",
    "var2 = 0.006"
   ]
  },
  {
   "cell_type": "code",
   "execution_count": null,
   "id": "3836fcfd-ab72-45e5-8fbd-1ef913f9efd2",
   "metadata": {},
   "outputs": [],
   "source": [
    "# Importing Libraries\n",
    "import numpy as np\n",
    "import scipy.stats as stats"
   ]
  },
  {
   "cell_type": "code",
   "execution_count": null,
   "id": "93016e35-163c-43ed-a3d8-a797e83a1529",
   "metadata": {},
   "outputs": [],
   "source": [
    "# Function to perform variance ratio test\n",
    "def f_test():\n",
    "    \n",
    "    f_stat = var1/var2 #calculate F test statistic \n",
    "    dfn = 24 #define degrees of freedom numerator \n",
    "    dfd = 24 #define degrees of freedom denominator \n",
    "    p = 1-stats.f.cdf(f_stat, dfn, dfd) #find p-value of F test statistic \n",
    "   \n",
    "    return p"
   ]
  },
  {
   "cell_type": "code",
   "execution_count": null,
   "id": "d5298a07-f2ed-4aeb-abb7-b9401e4a911a",
   "metadata": {},
   "outputs": [],
   "source": [
    "p = f_test()\n",
    "\n",
    "# Printing Results\n",
    "print(f\"P-value: {p:.3f}\")"
   ]
  },
  {
   "cell_type": "code",
   "execution_count": null,
   "id": "fe2eb05d-be27-4d7f-9ca4-9923ac7a25ea",
   "metadata": {},
   "outputs": [],
   "source": [
    "# Making Decisions\n",
    "if(p<0.01):\n",
    "    print(\"Variances are equal\")\n",
    "else:\n",
    "    print(\"Variances are not equal\")"
   ]
  },
  {
   "cell_type": "markdown",
   "id": "06826ab3-66d8-49d2-addd-c2eed89aa442",
   "metadata": {},
   "source": [
    "# 6."
   ]
  },
  {
   "cell_type": "markdown",
   "id": "a9a04981-a6f0-4839-9214-76bdc77b4185",
   "metadata": {},
   "source": [
    "To find the mean and variance of F-distribution at first, \n",
    "- we will generate a random sample from this F-distribution using degree of freedom for numerator and denominator\n",
    "- then we will calculate the mean and varinace for that respective sample"
   ]
  },
  {
   "cell_type": "code",
   "execution_count": null,
   "id": "8f67d0cf-80e6-4b6e-a897-05f99a431750",
   "metadata": {},
   "outputs": [],
   "source": [
    "# Importing Libraries\n",
    "import numpy as np"
   ]
  },
  {
   "cell_type": "code",
   "execution_count": null,
   "id": "38194bab-e156-4673-9be0-87635c6d6a9d",
   "metadata": {},
   "outputs": [],
   "source": [
    "# Function to calculate mean and variance\n",
    "def find_meanAndvar(sample):\n",
    "    \n",
    "    return np.mean(sample), np.var(sample)"
   ]
  },
  {
   "cell_type": "code",
   "execution_count": null,
   "id": "4849bf04-a21a-4aef-887e-198629e5489c",
   "metadata": {},
   "outputs": [],
   "source": [
    "# Taking Input\n",
    "dfn = int(input(\"Enter degree of freedom for numerator: \"))\n",
    "dfd = int(input(\"Enter degree of freedom for denominator: \"))"
   ]
  },
  {
   "cell_type": "code",
   "execution_count": null,
   "id": "2fb07356-b2f2-4a56-b1c0-3df1c5c3dc31",
   "metadata": {},
   "outputs": [],
   "source": [
    "# Creating sample from F-distribution\n",
    "sample = np.random.f(dfn, dfd, size=20)"
   ]
  },
  {
   "cell_type": "code",
   "execution_count": null,
   "id": "3486260d-ccb1-4997-99da-c8988a33a8c4",
   "metadata": {},
   "outputs": [],
   "source": [
    "mean, var = find_meanAndvar(sample)\n",
    "\n",
    "# Printing Results\n",
    "print(f\"Sample : {sample}\")\n",
    "print(f\"Mean : {mean:.3f}\")\n",
    "print(f\"Variance : {var:.3f}\")"
   ]
  },
  {
   "cell_type": "markdown",
   "id": "e4fa5fd5-d39a-4c78-befa-194fc205b3e7",
   "metadata": {},
   "source": [
    "# 7."
   ]
  },
  {
   "cell_type": "code",
   "execution_count": null,
   "id": "0a0d20ac-1d28-4a7e-8961-7296efc5aa6d",
   "metadata": {},
   "outputs": [],
   "source": [
    "# Given Data\n",
    "var1 = 25\n",
    "var2 = 20\n",
    "n1 = 10\n",
    "n2 = 15\n",
    "alpha = 0.1"
   ]
  },
  {
   "cell_type": "code",
   "execution_count": null,
   "id": "00250584-a4da-483a-b372-cdeecaebd7d5",
   "metadata": {},
   "outputs": [],
   "source": [
    "# Importing Libraries\n",
    "import scipy.stats as stats"
   ]
  },
  {
   "cell_type": "code",
   "execution_count": null,
   "id": "80a7f187-0fc9-46c5-a17a-b93aa294235b",
   "metadata": {},
   "outputs": [],
   "source": [
    "# Function to return the F-value\n",
    "def critical_f_value(dfn,dfd,alpha):\n",
    "    \n",
    "    f_val1 = stats.f.ppf(q=1-(alpha/2), dfn=dfn,dfd=dfd) # alpha/2 for two tailed test\n",
    "    f_val2 = stats.f.ppf(q=alpha/2, dfn=dfn,dfd=dfd)\n",
    "    return f_val1,f_val2\n",
    "\n",
    "# Function to perform variance ratio test\n",
    "def f_test(var1,var2,dfn,dfd):\n",
    "    \n",
    "    f_stat = var1/var2 #calculate F test statistic \n",
    "    dfn = dfn #define degrees of freedom numerator \n",
    "    dfd = dfd #define degrees of freedom denominator \n",
    "    p = 1-stats.f.cdf(f_stat, dfn, dfd) #find p-value of F test statistic \n",
    "   \n",
    "    return p,f_stat"
   ]
  },
  {
   "cell_type": "code",
   "execution_count": null,
   "id": "80861f7f-b1d9-4371-98bb-2b7e01c98bb6",
   "metadata": {},
   "outputs": [],
   "source": [
    "critical_fval1,critical_fval2 = critical_f_value(n2-1,n1-1,alpha)\n",
    "p,f_stat = f_test(var1,var2,n2-1,n1-1)\n",
    "\n",
    "# Printing Results\n",
    "print(f\"F-stat: {f_stat:.3f}\")\n",
    "print(f\"P-value: {p:.3f}\")\n",
    "print(f\"Lower Critical F-value: {min(critical_fval1,critical_fval2):.3f}\")\n",
    "print(f\"Higher Critical F-value: {max(critical_fval1,critical_fval2):.3f}\")"
   ]
  },
  {
   "cell_type": "code",
   "execution_count": null,
   "id": "e2929897-e62b-4614-9ef8-9a46f06507e1",
   "metadata": {},
   "outputs": [],
   "source": [
    "# Making Decisions\n",
    "if(f_stat > max(critical_fval1,critical_fval2) or f_stat < min(critical_fval1,critical_fval2)):\n",
    "    print(\"Variances are significantly different\")\n",
    "else:\n",
    "    print(\"Variances are equal\")"
   ]
  },
  {
   "cell_type": "markdown",
   "id": "549ea220-206b-4895-b7fa-42b09072a342",
   "metadata": {},
   "source": [
    "# 8."
   ]
  },
  {
   "cell_type": "code",
   "execution_count": null,
   "id": "cd136f82-2d3e-470d-ad34-b88a5a05bc83",
   "metadata": {},
   "outputs": [],
   "source": [
    "# Given Data\n",
    "A = [24,25,28,23,22,20,27]\n",
    "B = [31,33,35,30,32,36]\n",
    "alpha = 0.05"
   ]
  },
  {
   "cell_type": "code",
   "execution_count": null,
   "id": "3c14af29-81bb-42ca-9f65-3a1f1dab30fe",
   "metadata": {},
   "outputs": [],
   "source": [
    "# Importing Libraries\n",
    "import scipy.stats as stats\n",
    "import numpy as np"
   ]
  },
  {
   "cell_type": "code",
   "execution_count": null,
   "id": "e6ba7def-a344-4657-bf12-9f9503be9ae9",
   "metadata": {},
   "outputs": [],
   "source": [
    "# Function to perform F test\n",
    "def f_test(x, y):\n",
    "    \n",
    "    x = np.array(x)\n",
    "    y = np.array(y)\n",
    "    \n",
    "    f_stat = np.var(x, ddof=1)/np.var(y, ddof=1) #calculate F test statistic \n",
    "    dfn = x.size-1 #define degrees of freedom numerator \n",
    "    dfd = y.size-1 #define degrees of freedom denominator \n",
    "    p = 1-stats.f.cdf(f_stat, dfn, dfd) #find p-value of F test statistic \n",
    "   \n",
    "    return p"
   ]
  },
  {
   "cell_type": "code",
   "execution_count": null,
   "id": "27762736-79cb-4132-9029-b23d94744d3c",
   "metadata": {},
   "outputs": [],
   "source": [
    "p = f_test(A,B)\n",
    "\n",
    "# Printing Result\n",
    "print(f\"P-value: {p:.3f}\")"
   ]
  },
  {
   "cell_type": "code",
   "execution_count": null,
   "id": "d0e8ccfa-c183-48dc-ab7e-a76cb2e50577",
   "metadata": {},
   "outputs": [],
   "source": [
    "# Making Decisions\n",
    "if(p<0.05):\n",
    "    print(\"Variances are significantly different\")\n",
    "else:\n",
    "    print(\"Variances are equal\")"
   ]
  },
  {
   "cell_type": "markdown",
   "id": "5c71379c-7ab0-4d7b-ad1d-cac87c6c65f8",
   "metadata": {},
   "source": [
    "# 9."
   ]
  },
  {
   "cell_type": "code",
   "execution_count": null,
   "id": "b842a973-e940-4710-9915-86267972875c",
   "metadata": {},
   "outputs": [],
   "source": [
    "# Given Data\n",
    "groupA = [80, 85, 90, 92, 87, 83]\n",
    "groupB = [75, 78, 82, 79, 81, 84]\n",
    "alpha = 0.01"
   ]
  },
  {
   "cell_type": "code",
   "execution_count": null,
   "id": "2205b866-d987-45c5-b150-f826e7d071c0",
   "metadata": {},
   "outputs": [],
   "source": [
    "# Importing Libraries\n",
    "import scipy.stats as stats\n",
    "import numpy as np"
   ]
  },
  {
   "cell_type": "code",
   "execution_count": null,
   "id": "327b2dfd-5a47-49a4-b6bf-5423ce9c1a53",
   "metadata": {},
   "outputs": [],
   "source": [
    "# Function to perform F test\n",
    "def f_test(x, y):\n",
    "    \n",
    "    x = np.array(x)\n",
    "    y = np.array(y)\n",
    "    \n",
    "    f_stat = np.var(x, ddof=1)/np.var(y, ddof=1) #calculate F test statistic \n",
    "    dfn = x.size-1 #define degrees of freedom numerator \n",
    "    dfd = y.size-1 #define degrees of freedom denominator \n",
    "    p = 1-stats.f.cdf(f_stat, dfn, dfd) #find p-value of F test statistic \n",
    "   \n",
    "    return p"
   ]
  },
  {
   "cell_type": "code",
   "execution_count": null,
   "id": "e623d381-7295-4b69-8f5b-a982b57b907a",
   "metadata": {},
   "outputs": [],
   "source": [
    "p = f_test(groupA,groupB)\n",
    "\n",
    "# Printing Result\n",
    "print(f\"P-value: {p:.3f}\")"
   ]
  },
  {
   "cell_type": "code",
   "execution_count": null,
   "id": "b3be9315-e25b-480b-83e9-dfc51fba0f75",
   "metadata": {},
   "outputs": [],
   "source": [
    "# Making Decisions\n",
    "if(p<0.05):\n",
    "    print(\"Variances are significantly different\")\n",
    "else:\n",
    "    print(\"Variances are equal\")"
   ]
  },
  {
   "cell_type": "code",
   "execution_count": null,
   "id": "a394546e-d8f7-46e2-ba01-a60011c82dd1",
   "metadata": {},
   "outputs": [],
   "source": []
  }
 ],
 "metadata": {
  "kernelspec": {
   "display_name": "Python 3 (ipykernel)",
   "language": "python",
   "name": "python3"
  },
  "language_info": {
   "codemirror_mode": {
    "name": "ipython",
    "version": 3
   },
   "file_extension": ".py",
   "mimetype": "text/x-python",
   "name": "python",
   "nbconvert_exporter": "python",
   "pygments_lexer": "ipython3",
   "version": "3.10.8"
  }
 },
 "nbformat": 4,
 "nbformat_minor": 5
}
