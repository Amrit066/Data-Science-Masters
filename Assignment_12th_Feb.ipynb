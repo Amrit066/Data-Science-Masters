{
 "cells": [
  {
   "cell_type": "markdown",
   "id": "98c8d0c8-0994-497d-a8c5-77b4e1f67017",
   "metadata": {},
   "source": [
    "# Assignment Answers"
   ]
  },
  {
   "cell_type": "markdown",
   "id": "4f187679-4ec4-4642-a1ff-340de081798d",
   "metadata": {},
   "source": [
    "# 1."
   ]
  },
  {
   "cell_type": "markdown",
   "id": "0d9583ff-72d1-4122-97da-e9c7e8e0122e",
   "metadata": {},
   "source": [
    "##### Part-1:<br><br>\n",
    "Exception in python is an object that represents an error. Exception is basically a situation that disrupts the normal flow of the program. When program written in python tries to execute any statement which can not be handled by predefined methods or libraries, then it displays an unwanted message, which we called as Exception.<br><br>\n",
    "##### Part-2:<br><br>\n",
    "<b>(i) Exception</b>\n",
    "- It is a situation which is unknown to the python libraries, and causes any program to stop abruptly.\n",
    "- It occurs at run time.\n",
    "- It can be handled with python exception handling mechanism.<br><br>\n",
    "<b>(ii) Syntax Errors</b>\n",
    "- It is also called <i>parsing error</i>, which occurs when there is any kind of syntactical mismatch like improper indentation, use of undefined keyword,etc.\n",
    "- It occurs at compile time.\n",
    "- It can not be handled with python exception handling mechanism.<br><br>"
   ]
  },
  {
   "cell_type": "markdown",
   "id": "5e588925-fe98-435d-821c-36f6f5650c26",
   "metadata": {},
   "source": [
    "# 2."
   ]
  },
  {
   "cell_type": "markdown",
   "id": "2466bb93-0c6c-4dcc-8201-52b71ea87cdb",
   "metadata": {},
   "source": [
    "When any exceptions occur in python then it should be handled properly, otherwise it will stop the further execution of the program. And this will lead to generation of error message on the screen.<br>\n",
    "This simply means an exception will not give us the desired result even the program has compiled successfully.<br><br>\n",
    "Example: In the code below we will try to divide an integer with zero, and we will try to execute it once without doing exception handling and the next with exception handling."
   ]
  },
  {
   "cell_type": "markdown",
   "id": "7c3de09d-ead6-4638-9eef-53eb364ab979",
   "metadata": {},
   "source": [
    "- Case-1: Without Exception Handling"
   ]
  },
  {
   "cell_type": "code",
   "execution_count": null,
   "id": "f753cee4-1099-4fcd-969d-241f14222928",
   "metadata": {},
   "outputs": [],
   "source": [
    "a=1\n",
    "b=0\n",
    "print(a/b) # Here, it will display system generated error message"
   ]
  },
  {
   "cell_type": "markdown",
   "id": "4295561f-e38f-4da6-864d-701513f51e0e",
   "metadata": {},
   "source": [
    "- Case-2: With Exception Handling"
   ]
  },
  {
   "cell_type": "code",
   "execution_count": null,
   "id": "1c66a29e-d6de-42e7-bbe2-5c1d87da46af",
   "metadata": {},
   "outputs": [],
   "source": [
    "a=1\n",
    "b=0\n",
    "try:\n",
    "    print(a/b) # Here, it will pass the control to except block,\n",
    "               # where a proper message will be displayed\n",
    "except:\n",
    "    print(\"Divisor can not be zero\")"
   ]
  },
  {
   "cell_type": "markdown",
   "id": "a8112dd5-9cb0-449f-b77e-994cd57ebafe",
   "metadata": {},
   "source": [
    "# 3."
   ]
  },
  {
   "cell_type": "markdown",
   "id": "4ad615a3-00c8-494d-9f11-6ee6e0b8a6f0",
   "metadata": {},
   "source": [
    "The <b>try</b> and <b>except</b> statement blocks in python are basically used to catch and handle exceptions.<br><br>\n",
    "Example: "
   ]
  },
  {
   "cell_type": "code",
   "execution_count": null,
   "id": "77756b29-6254-479d-88ed-3a325ca9c12d",
   "metadata": {},
   "outputs": [],
   "source": [
    "# Defining variable list\n",
    "List=[1,2,3]\n",
    "# The code that can generate exception are written inside try block\n",
    "try:\n",
    "    print(\"Value at index {} is {}\".format(4,List[4]))\n",
    "# The code to handle exceptions are writen inside except block\n",
    "except Exception as e:\n",
    "    print(\"You are trying to access element at index either higher or lower than correct range\")"
   ]
  },
  {
   "cell_type": "markdown",
   "id": "f370ed74-78a4-4d59-a586-e42e3e7c9649",
   "metadata": {},
   "source": [
    "# 4."
   ]
  },
  {
   "cell_type": "markdown",
   "id": "beb46420-d325-4e0d-91fd-951b0a3778e1",
   "metadata": {},
   "source": [
    "### (a)"
   ]
  },
  {
   "cell_type": "markdown",
   "id": "7b2b625d-c5c1-479f-bd5a-56f01d918181",
   "metadata": {},
   "source": [
    "__try__ is used in python to handle exceptions. It is basically a block statement, where all the codes that could possibly generate any kind of exceptions are written.<br>\n",
    "While, __else__, is used to execute statements only when there is no error in try block. It comes after the try and except block statements.<br><br>\n",
    "Example:"
   ]
  },
  {
   "cell_type": "code",
   "execution_count": null,
   "id": "7c5fd214-43f3-48b3-b0b7-6b1042c75f4f",
   "metadata": {},
   "outputs": [],
   "source": [
    "# Defining variable list\n",
    "List=[1,2,3]\n",
    "# The code that can generate exception are written inside try block\n",
    "try:\n",
    "    print(\"Value at index {} is {}\".format(2,List[2]))\n",
    "# The code to handle exceptions are writen inside except block\n",
    "except Exception as e:\n",
    "    print(\"You are trying to access element at index either higher or lower than correct range\")\n",
    "# It will be executed when try block is executed successfully\n",
    "else:\n",
    "    print(\"Fetching of the element is successful\")"
   ]
  },
  {
   "cell_type": "markdown",
   "id": "f122a0f3-2348-4960-9ee8-09b645e6bd8d",
   "metadata": {},
   "source": [
    "### (b)"
   ]
  },
  {
   "cell_type": "markdown",
   "id": "d759abba-952f-403f-9053-c9147fb41bca",
   "metadata": {},
   "source": [
    "__finally__ is a keyword that is used as a part of the python exception handling mechanism. The codes written within the finally block will always be executed whether there is any exception or not. It is placed at the end of try-catch-else block statement.<br><br>\n",
    "Example:"
   ]
  },
  {
   "cell_type": "markdown",
   "id": "db8ed2e6-c0ef-4987-8fe1-3de4d3294b8f",
   "metadata": {},
   "source": [
    "##### case-1: When there is exception"
   ]
  },
  {
   "cell_type": "code",
   "execution_count": null,
   "id": "d5c764bc-3501-4c27-b809-283ce3159c3a",
   "metadata": {},
   "outputs": [],
   "source": [
    "# Defining variable list\n",
    "List=[1,2,3]\n",
    "# The code that can generate exception are written inside try block\n",
    "try:\n",
    "    print(\"Value at index {} is {}\".format(5,List[5]))\n",
    "# The code to handle exceptions are writen inside except block\n",
    "except Exception as e:\n",
    "    print(\"You are trying to access element at index either higher or lower than correct range\")\n",
    "# It will be executed when try block is executed successfully\n",
    "else:\n",
    "    print(\"Fetching of the element is successful\")\n",
    "# It will be excuted in any case\n",
    "finally:\n",
    "    List.append(4)\n",
    "    print(\"Element is added successfully\")"
   ]
  },
  {
   "cell_type": "markdown",
   "id": "94e33496-0788-4943-9911-c8ba2860b6cc",
   "metadata": {},
   "source": [
    "##### case-2: When there is no exception"
   ]
  },
  {
   "cell_type": "code",
   "execution_count": null,
   "id": "4dae50a8-2803-4258-bf81-498b515ab3e9",
   "metadata": {},
   "outputs": [],
   "source": [
    "# Defining variable list\n",
    "List=[1,2,3]\n",
    "# The code that can generate exception are written inside try block\n",
    "try:\n",
    "    print(\"Value at index {} is {}\".format(1,List[1]))\n",
    "# The code to handle exceptions are writen inside except block\n",
    "except Exception as e:\n",
    "    print(\"You are trying to access element at index either higher or lower than correct range\")\n",
    "# It will be executed when try block is executed successfully\n",
    "else:\n",
    "    print(\"Fetching of the element is successful\")\n",
    "# It will be excuted in any case\n",
    "finally:\n",
    "    List.append(4)\n",
    "    print(\"Element is added successfully\")"
   ]
  },
  {
   "cell_type": "markdown",
   "id": "09bc0e1b-9e61-480c-8078-5a56c85a89f7",
   "metadata": {},
   "source": [
    "### (c)"
   ]
  },
  {
   "cell_type": "markdown",
   "id": "da8efb94-2529-443b-b28f-4288dc5a9e55",
   "metadata": {},
   "source": [
    "The keyword __raise__ is used to generate user-defined exceptions in python. It throw exceptions with custom messages.<br><br>\n",
    "Example:"
   ]
  },
  {
   "cell_type": "code",
   "execution_count": null,
   "id": "1b6a04eb-23f4-4c8f-b25e-f1e99396214b",
   "metadata": {},
   "outputs": [],
   "source": [
    "# Defining variable list\n",
    "List=[1,2,3]\n",
    "# The code that can generate exception are written inside try block\n",
    "try:\n",
    "    i=5\n",
    "    if(i>=len(List) or i<0):\n",
    "        raise Exception(\"You are trying to access element at index either higher or lower than correct range\")\n",
    "    else:\n",
    "        print(\"Value at index {} is {}\".format(i,List[i]))\n",
    "    # The code to handle exceptions are writen inside except block\n",
    "except Exception as e:\n",
    "    print(e)\n"
   ]
  },
  {
   "cell_type": "markdown",
   "id": "bd9864c9-23b3-43a8-befe-b0a17d53d19e",
   "metadata": {},
   "source": [
    "# 5."
   ]
  },
  {
   "cell_type": "markdown",
   "id": "0af72525-d04a-4a6d-a84d-2a020282e590",
   "metadata": {},
   "source": [
    "#### Part-1:<br><br>\n",
    "Custom exceptions in Python are derived from the built-in Exception class and are a new user-defined class. It mostly serves to display customised messages in a way that is much easier to read.<br><br>\n",
    "#### Part-2:<br><br>\n",
    "Using custom exceptions can help us make Python's readability and usability even better, especially while we are creating our package. We run the risk of making Python less readable if we opt to use only built-in exceptions and avoid custom ones at all costs.<br><br>\n",
    "### Part-3: Example-<br><br>"
   ]
  },
  {
   "cell_type": "code",
   "execution_count": null,
   "id": "9a8d1a65-faed-40d0-882b-3e8687e20ca3",
   "metadata": {},
   "outputs": [],
   "source": [
    "# Custom Exception Class\n",
    "class IndexOutOfRangeException(Exception):\n",
    "    def __init__(self,index,List):\n",
    "        self.msg=f\"You are trying to access index {index} which is not in range [{0},{len(List)}].\"\n",
    "        super().__init__(self.msg)\n",
    " \n",
    "\n",
    "\n",
    "# Defining variable list\n",
    "List=[1,2,3]\n",
    "# The code that can generate exception are written inside try block\n",
    "try:\n",
    "    i=5\n",
    "    if(i>=len(List) or i<0):\n",
    "        raise IndexOutOfRangeException(i,List)\n",
    "    else:\n",
    "        print(\"Value at index {} is {}\".format(i,List[i]))\n",
    "    # The code to handle exceptions are writen inside except block\n",
    "except IndexOutOfRangeException as e:\n",
    "    print(e)\n"
   ]
  },
  {
   "cell_type": "markdown",
   "id": "dd4016a0-15d6-413d-8562-8277015175fa",
   "metadata": {},
   "source": [
    "# 6."
   ]
  },
  {
   "cell_type": "markdown",
   "id": "cabd3735-5cd5-4816-a0a7-e4613f776137",
   "metadata": {},
   "source": [
    "##### Defining Custom Exception Class"
   ]
  },
  {
   "cell_type": "code",
   "execution_count": 20,
   "id": "7f398bdf-335a-4445-ab97-4a75dd2341c4",
   "metadata": {},
   "outputs": [],
   "source": [
    "# Custom Exception Class\n",
    "class IndexOutOfRangeException(Exception):\n",
    "    def __init__(self,index,List):\n",
    "        self.msg=f\"You are trying to access index {index} which is not in range [{0},{len(List)}].\"\n",
    "        super().__init__(self.msg)\n",
    " "
   ]
  },
  {
   "cell_type": "markdown",
   "id": "a32906ba-966a-43fe-9f10-ff3fdb2d9d47",
   "metadata": {},
   "source": [
    "##### Calling Custom Exception Class To Handle Exception"
   ]
  },
  {
   "cell_type": "code",
   "execution_count": null,
   "id": "2e49a460-5ae4-418a-89ec-f06543f93def",
   "metadata": {},
   "outputs": [],
   "source": [
    "# Defining variable list\n",
    "List=[1,2,3]\n",
    "\n",
    "\n",
    "# The code that can generate exception are written inside try block\n",
    "try:\n",
    "    i=6\n",
    "    if(i>=len(List) or i<0):\n",
    "        raise IndexOutOfRangeException(i,List)\n",
    "    else:\n",
    "        print(\"Value at index {} is {}\".format(i,List[i]))\n",
    "        \n",
    "# The code to handle exceptions are writen inside except block\n",
    "except IndexOutOfRangeException as e:\n",
    "    print(e)"
   ]
  },
  {
   "cell_type": "code",
   "execution_count": null,
   "id": "5a866975-55ac-483c-a1a0-a0e0c41506da",
   "metadata": {},
   "outputs": [],
   "source": []
  }
 ],
 "metadata": {
  "kernelspec": {
   "display_name": "Python 3 (ipykernel)",
   "language": "python",
   "name": "python3"
  },
  "language_info": {
   "codemirror_mode": {
    "name": "ipython",
    "version": 3
   },
   "file_extension": ".py",
   "mimetype": "text/x-python",
   "name": "python",
   "nbconvert_exporter": "python",
   "pygments_lexer": "ipython3",
   "version": "3.10.8"
  }
 },
 "nbformat": 4,
 "nbformat_minor": 5
}
