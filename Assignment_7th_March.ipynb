{
 "cells": [
  {
   "cell_type": "markdown",
   "id": "f7f43b8b-60fe-43a4-93a7-36584773fec4",
   "metadata": {},
   "source": [
    "# Assignment Answers"
   ]
  },
  {
   "cell_type": "markdown",
   "id": "72d77ff0-c4f6-4687-bfc0-7a19a84cf040",
   "metadata": {},
   "source": [
    "# 1."
   ]
  },
  {
   "cell_type": "markdown",
   "id": "5a21c0e7-2d4d-482c-a3c1-99825e72698f",
   "metadata": {},
   "source": [
    "The three measures of central tendency are:<br><br>\n",
    "1. Mean\n",
    "2. Median\n",
    "3. Mode"
   ]
  },
  {
   "cell_type": "markdown",
   "id": "6292aa99-febb-4838-b776-eae0dfee2dad",
   "metadata": {},
   "source": [
    "# 2."
   ]
  },
  {
   "cell_type": "markdown",
   "id": "97fe8e12-1f1c-4349-87ec-bd221c755051",
   "metadata": {},
   "source": [
    "1. Mean :\n",
    "- It is measure of average of all value in a sample set.\n",
    "- It is found by adding all numbers in the data set and then dividing by the number of values in the set.\n",
    "2. Median :\n",
    "- It is measure of central value of a sample set. \n",
    "- In these, data set is ordered from lowest to highest value and then finds exact middle.\n",
    "3. Mode :\n",
    "- It is value most frequently arrived in sample set. \n",
    "- The value repeated most of time in central set is actually mode.\n",
    "<br><br>"
   ]
  },
  {
   "cell_type": "markdown",
   "id": "1dfb33e5-7ab4-4bbc-a264-c42065ebcfa6",
   "metadata": {},
   "source": [
    "# 3."
   ]
  },
  {
   "cell_type": "code",
   "execution_count": null,
   "id": "7cac5351-f49a-4147-83d7-cb1c2e50c1dc",
   "metadata": {},
   "outputs": [],
   "source": [
    "# Importing Library\n",
    "import numpy as np\n",
    "from scipy import stats"
   ]
  },
  {
   "cell_type": "code",
   "execution_count": null,
   "id": "347ae2ee-0523-4fe0-a31e-43b3f1263753",
   "metadata": {},
   "outputs": [],
   "source": [
    "# Given Dataset\n",
    "data=[178,177,176,177,178.2,178,175,179,180,175,178.9,176.2,177,172.5,178,176.5]"
   ]
  },
  {
   "cell_type": "markdown",
   "id": "c8698da1-68f0-41c8-a1df-ccdfd00a06e2",
   "metadata": {},
   "source": [
    "- Calculating Mean"
   ]
  },
  {
   "cell_type": "code",
   "execution_count": null,
   "id": "a477b7a7-c67b-4751-94d7-f317ebc442db",
   "metadata": {},
   "outputs": [],
   "source": [
    "print(\"Mean: {:.2f}\".format(np.mean(data)))"
   ]
  },
  {
   "cell_type": "markdown",
   "id": "0d78f0bd-3b47-4c5a-90a1-9b24c4f8f330",
   "metadata": {},
   "source": [
    "- Calculating Median"
   ]
  },
  {
   "cell_type": "code",
   "execution_count": null,
   "id": "e69b0a05-d40c-40aa-bf49-f18ff99179a3",
   "metadata": {},
   "outputs": [],
   "source": [
    "print(\"Median: {:.2f}\".format(np.median(data)))"
   ]
  },
  {
   "cell_type": "markdown",
   "id": "5fb06292-7a82-4f52-97e4-4c3c4374ff7e",
   "metadata": {},
   "source": [
    "- Calculating Mode"
   ]
  },
  {
   "cell_type": "code",
   "execution_count": null,
   "id": "704f4b4a-5cd1-4ef7-b43d-dae0521207e7",
   "metadata": {},
   "outputs": [],
   "source": [
    "print(\"Mode: {}\".format(stats.mode(data)[0][0]))"
   ]
  },
  {
   "cell_type": "markdown",
   "id": "a56cd3c6-97d0-467f-98e5-471373a62400",
   "metadata": {},
   "source": [
    "# 4."
   ]
  },
  {
   "cell_type": "code",
   "execution_count": null,
   "id": "5649f636-8ec3-46e9-af06-e854498c0ad6",
   "metadata": {},
   "outputs": [],
   "source": [
    "# Importing Library\n",
    "import numpy as np"
   ]
  },
  {
   "cell_type": "code",
   "execution_count": null,
   "id": "841ff346-2ce0-4416-a7a1-6c0ada25d33b",
   "metadata": {},
   "outputs": [],
   "source": [
    "# Given Data\n",
    "data=[178,177,176,177,178.2,178,175,179,180,175,178.9,176.2,177,172.5,178,176.5]"
   ]
  },
  {
   "cell_type": "code",
   "execution_count": null,
   "id": "967a5690-8632-490e-be36-915c8690ec31",
   "metadata": {},
   "outputs": [],
   "source": [
    "# Calculating Standard Deviation\n",
    "print(\"Standard Deviation: {:.2f}\".format(np.std(data)))"
   ]
  },
  {
   "cell_type": "markdown",
   "id": "29b52b95-5cbf-43c5-aa53-6cfc724e7743",
   "metadata": {},
   "source": [
    "# 5."
   ]
  },
  {
   "cell_type": "markdown",
   "id": "3c69de3d-2358-49c8-961c-fe6fbdf6befe",
   "metadata": {},
   "source": [
    "##### Part-1:<br><br>\n",
    "1. Range :\n",
    "- It is given as the smallest and largest observations.\n",
    "- It can be defined as the difference between the maximum value and the minimum value.\n",
    "- Thus it shows the deviation between the smallest and largest value in the given dataset.\n",
    "2. Variance :\n",
    "- The average squared deviation from the mean of the given data set is known as the variance. \n",
    "- This measure of dispersion checks the spread of the data about the mean. \n",
    "3. Standard Deviation :\n",
    "- The square root of the variance gives the standard deviation. \n",
    "- Thus, the standard deviation also measures the variation of the data about the mean.\n",
    "<br><br>\n",
    "##### Part-2: Let us take a dataset as given below and then try to find eah of the dispersion methods in order to know abot the deviation in the dataset."
   ]
  },
  {
   "cell_type": "code",
   "execution_count": null,
   "id": "09a9db69-354e-4fd2-bc2d-6acead85356b",
   "metadata": {},
   "outputs": [],
   "source": [
    "# Importing Library\n",
    "import numpy as np"
   ]
  },
  {
   "cell_type": "code",
   "execution_count": null,
   "id": "88bd8bd3-c065-4f67-8c46-464a26169108",
   "metadata": {},
   "outputs": [],
   "source": [
    "# Given Data\n",
    "data=[178,177,176,177,178.2,178,175,179,180,175,178.9,176.2,177,172.5,178,176.5]"
   ]
  },
  {
   "cell_type": "code",
   "execution_count": null,
   "id": "1bb9c3df-7947-453a-9467-65ae2ac75ac0",
   "metadata": {},
   "outputs": [],
   "source": [
    "# Calculating Range, Variance, and Standard Deviation\n",
    "print(\"Range: {:.2f}\".format(max(data)-min(data)))\n",
    "print(\"Variance: {:.2f}\".format(np.var(data)))\n",
    "print(\"Standard Deviation: {:.2f}\".format(np.std(data)))"
   ]
  },
  {
   "cell_type": "markdown",
   "id": "dc5322b0-bf2c-4d9b-ad43-f56f9e3e6864",
   "metadata": {},
   "source": [
    "# 6."
   ]
  },
  {
   "cell_type": "markdown",
   "id": "a8d196fd-4a09-4bdb-8ad7-a6b9a73cd09c",
   "metadata": {},
   "source": [
    "- A Venn diagram is a visual representation that makes use of circles to demonstrate the connections between different objects or limited groups of objects. \n",
    "- Circles that overlap share certain characteristics, whereas circles that do not coincide do not.\n",
    "- They are useful for showing how two concepts are related and different visually."
   ]
  },
  {
   "cell_type": "markdown",
   "id": "7bcbcf53-d44d-4186-aec1-cd0cdcf9f62c",
   "metadata": {},
   "source": [
    "# 7."
   ]
  },
  {
   "cell_type": "markdown",
   "id": "3488968f-68a9-4351-8d96-b4e353a011ed",
   "metadata": {},
   "source": [
    "(i)"
   ]
  },
  {
   "cell_type": "markdown",
   "id": "cce2c419-45a7-430a-9f63-8915c027a812",
   "metadata": {},
   "source": [
    "Question is incomplete"
   ]
  },
  {
   "cell_type": "markdown",
   "id": "f074e170-1a14-4531-8186-f9ba66bc3d2f",
   "metadata": {},
   "source": [
    "(ii)"
   ]
  },
  {
   "cell_type": "markdown",
   "id": "4d416207-b03d-40f8-819b-963fcdcd03fc",
   "metadata": {},
   "source": [
    "Question is incomplete"
   ]
  },
  {
   "cell_type": "markdown",
   "id": "d1c23ac0-9d6c-45b8-b5d1-482ee0d42cb2",
   "metadata": {},
   "source": [
    "# 8."
   ]
  },
  {
   "cell_type": "markdown",
   "id": "ad8a24cb-7a88-471a-a41a-9d2c069f82ea",
   "metadata": {},
   "source": [
    "- Skewness is a metric for a distribution's imbalance. When the left and right sides of a distribution are not mirror copies, it is asymmetrical.\n",
    "- Right (or positive), left (or negative), or zero skewness can all apply to a distribution. \n",
    "- When compared to a left-skewed distribution, a right-skewed distribution has a longer tail on the left side of its apex."
   ]
  },
  {
   "cell_type": "markdown",
   "id": "2b8325e0-8806-41fa-8970-cbad091051f3",
   "metadata": {},
   "source": [
    "# 9."
   ]
  },
  {
   "cell_type": "markdown",
   "id": "02f37097-36c0-43f1-b874-6bcb3f297e60",
   "metadata": {},
   "source": [
    "If a data is right skewed then median will come before mean that is median will be less than mean in the distribution."
   ]
  },
  {
   "cell_type": "markdown",
   "id": "eef3bd16-cf1b-4ed7-8f07-37341ec3cbce",
   "metadata": {},
   "source": [
    "# 10."
   ]
  },
  {
   "cell_type": "markdown",
   "id": "97cc344b-c253-4786-95c2-b151be2fde97",
   "metadata": {},
   "source": [
    "1. Covariance:\n",
    "- Covariance is a statistical term that refers to a systematic relationship between two random variables in which a change in the other reflects a change in one variable.\n",
    "- The covariance value can range from -∞ to +∞, with a negative value indicating a negative relationship and a positive value indicating a positive relationship.\n",
    "- The greater this number, the more reliant the relationship. Positive covariance denotes a direct relationship and is represented by a positive number.\n",
    "- While, a negative number denotes negative covariance, which indicates an inverse relationship between the two variables. \n",
    "- Covariance is great for defining the type of relationship, but it's terrible for interpreting the magnitude.\n",
    "- It can be of two types: positive and negative. \n",
    "2. Correlation:\n",
    "- A correlation is a measure that determines the degree to which two or more random variables move in sequence..\n",
    "- When an equivalent movement of another variable reciprocates the movement of one variable in some way or another during the study of two variables, the variables are said to be correlated. \n",
    "- Positive correlation occurs when two variables move in the same direction. \n",
    "- While, when variables move in the opposite direction, they are said to be negatively correlated.\n",
    "- The value of correlation lies in the range of -1 to 1."
   ]
  },
  {
   "cell_type": "markdown",
   "id": "98d8f9a2-8ea8-4ff5-8f31-33d818ed8016",
   "metadata": {},
   "source": [
    "# 11."
   ]
  },
  {
   "cell_type": "markdown",
   "id": "3673f4a6-8339-4460-a68c-f3790b376881",
   "metadata": {},
   "source": [
    "- To calculate sample mean, we at first calculate the sum of each and every data present in the dataset.\n",
    "- Then we divide the sum by one less than the count of total number of data in the dataset to get the mean.\n",
    "- Example:"
   ]
  },
  {
   "cell_type": "code",
   "execution_count": null,
   "id": "f04294ef-ed9e-4828-ae2c-a5d71c2df8f1",
   "metadata": {},
   "outputs": [],
   "source": [
    "# Given Data\n",
    "data=[178,177,176,177,178.2,178,175,179,180,175,178.9,176.2,177,172.5,178,176.5]\n"
   ]
  },
  {
   "cell_type": "code",
   "execution_count": null,
   "id": "bf5cd1cf-6a6d-4fc3-9330-0319a6786351",
   "metadata": {},
   "outputs": [],
   "source": [
    "# Calculating Sum\n",
    "sm= sum(data)\n",
    "# Calculating Total Data\n",
    "n=len(data)\n",
    "\n",
    "# Calculating Mean\n",
    "mean = sm/(n-1)\n",
    "\n",
    "# Printing Mean Value\n",
    "print(\"Mean : {:.2f}\".format(mean))"
   ]
  },
  {
   "cell_type": "markdown",
   "id": "c2bd10bf-b2e4-461b-8dd8-9df1c7e6de80",
   "metadata": {},
   "source": [
    "# 12."
   ]
  },
  {
   "cell_type": "markdown",
   "id": "0b8fe10f-b992-404f-a6d1-f5cb3c7fd86f",
   "metadata": {},
   "source": [
    "- For a normal distribution of data, all the three measures of central tendency should be equal.\n",
    "- That is, mean = median = mode."
   ]
  },
  {
   "cell_type": "markdown",
   "id": "624a5ea4-d27c-44a6-8467-60499f8f2a2f",
   "metadata": {},
   "source": [
    "# 13."
   ]
  },
  {
   "cell_type": "markdown",
   "id": "7fb7fdfc-bcf6-4f3b-9307-8797c7772336",
   "metadata": {},
   "source": [
    "1. Covariance:\n",
    "- Covariance is a statistical term that refers to a systematic relationship between two random variables in which a change in the other reflects a change in one variable.\n",
    "- The covariance value can range from -∞ to +∞, with a negative value indicating a negative relationship and a positive value indicating a positive relationship.\n",
    "- The greater this number, the more reliant the relationship. Positive covariance denotes a direct relationship and is represented by a positive number.\n",
    "- While, a negative number denotes negative covariance, which indicates an inverse relationship between the two variables. \n",
    "- Covariance is great for defining the type of relationship, but it's terrible for interpreting the magnitude.\n",
    "- It can be of two types: positive and negative. \n",
    "2. Correlation:\n",
    "- A correlation is a measure that determines the degree to which two or more random variables move in sequence..\n",
    "- When an equivalent movement of another variable reciprocates the movement of one variable in some way or another during the study of two variables, the variables are said to be correlated. \n",
    "- Positive correlation occurs when two variables move in the same direction. \n",
    "- While, when variables move in the opposite direction, they are said to be negatively correlated.\n",
    "- The value of correlation lies in the range of -1 to 1."
   ]
  },
  {
   "cell_type": "markdown",
   "id": "79e85358-bcfb-4b34-a565-4b4500090732",
   "metadata": {},
   "source": [
    "# 14."
   ]
  },
  {
   "cell_type": "markdown",
   "id": "f1e22401-ee6a-47eb-9964-0cc6149675ec",
   "metadata": {},
   "source": [
    "- Measures of central tendency and dispersion can give misleading impressions of a data set if the set contains one or more outliers. \n",
    "- An outlier is a value that is much greater than or much less than most of the other values in a data set. \n",
    "- An outlier can affect the central tendency and dispersion by being unusually small or unusually large\n",
    "- Example:"
   ]
  },
  {
   "cell_type": "markdown",
   "id": "03957a15-d758-40ec-aa63-41ba189f6408",
   "metadata": {},
   "source": [
    "Consider the data set:  "
   ]
  },
  {
   "cell_type": "code",
   "execution_count": 30,
   "id": "84ca706b-413d-45f9-9014-ff231bbca9c2",
   "metadata": {},
   "outputs": [],
   "source": [
    "data =[11, 15, 10,37, 17, 14,9, 15]"
   ]
  },
  {
   "cell_type": "markdown",
   "id": "3491072e-44ca-42d1-8ade-54a26ce3909d",
   "metadata": {},
   "source": [
    "Identifying the outlier in the data set. "
   ]
  },
  {
   "cell_type": "code",
   "execution_count": 31,
   "id": "e30fdd97-c816-46d9-8e35-5a541fbfbd3c",
   "metadata": {},
   "outputs": [],
   "source": [
    "outlier = 37"
   ]
  },
  {
   "cell_type": "markdown",
   "id": "27198313-6cc2-488f-a773-6f203b5f4fe8",
   "metadata": {},
   "source": [
    "Now, calculating mean(central tendency) and range(dispersion) of the data set given above when the outlier is included and when it is not in order to find the affect of outlier. \n"
   ]
  },
  {
   "cell_type": "code",
   "execution_count": 32,
   "id": "17cae088-2775-4973-abbb-ff5e2ff69ae1",
   "metadata": {},
   "outputs": [],
   "source": [
    "# With Outlier\n",
    "# (i) Mean\n",
    "mean1 = sum(data)/len(data)\n",
    "# (ii) Range\n",
    "range1 = max(data)-min(data)\n",
    "\n",
    "# Without Outlier\n",
    "data.remove(outlier)\n",
    "# (i) Mean\n",
    "mean2 = sum(data)/len(data)\n",
    "# (ii) Range\n",
    "range2 = max(data)-min(data)"
   ]
  },
  {
   "cell_type": "code",
   "execution_count": 33,
   "id": "6009f98c-d53e-4030-a2fc-bb94c9ac2bac",
   "metadata": {},
   "outputs": [
    {
     "name": "stdout",
     "output_type": "stream",
     "text": [
      "Mean with outlier: 16.00\n",
      "Mean without outlier: 13.00\n",
      "Range with outlier: 28.00\n",
      "Range without outlier: 8.00\n"
     ]
    }
   ],
   "source": [
    "# Displaying Result\n",
    "print(\"Mean with outlier: {:.2f}\".format(mean1))\n",
    "print(\"Mean without outlier: {:.2f}\".format(mean2))\n",
    "print(\"Range with outlier: {:.2f}\".format(range1))\n",
    "print(\"Range without outlier: {:.2f}\".format(range2))"
   ]
  },
  {
   "cell_type": "code",
   "execution_count": null,
   "id": "d542308b-8a0d-40f1-b413-c8188b4fb90f",
   "metadata": {},
   "outputs": [],
   "source": []
  }
 ],
 "metadata": {
  "kernelspec": {
   "display_name": "Python 3 (ipykernel)",
   "language": "python",
   "name": "python3"
  },
  "language_info": {
   "codemirror_mode": {
    "name": "ipython",
    "version": 3
   },
   "file_extension": ".py",
   "mimetype": "text/x-python",
   "name": "python",
   "nbconvert_exporter": "python",
   "pygments_lexer": "ipython3",
   "version": "3.10.8"
  }
 },
 "nbformat": 4,
 "nbformat_minor": 5
}
