{
 "cells": [
  {
   "cell_type": "markdown",
   "id": "686f93de-19a9-4ea5-bf9b-ff6eda2162bd",
   "metadata": {},
   "source": [
    "# Assignment Answers"
   ]
  },
  {
   "cell_type": "code",
   "execution_count": null,
   "id": "44cdf3ce-3f3d-49b5-a59d-065ea15bc6d6",
   "metadata": {},
   "outputs": [],
   "source": [
    "# Importing Library\n",
    "import pandas as pd\n",
    "# To display whole content of the cell\n",
    "pd.set_option('display.max_colwidth', None)"
   ]
  },
  {
   "cell_type": "markdown",
   "id": "46502022-539d-494d-9afd-9c31223ef5a2",
   "metadata": {},
   "source": [
    "# 1."
   ]
  },
  {
   "cell_type": "markdown",
   "id": "c1f95d2d-ac19-453b-b53e-250d3048e1e8",
   "metadata": {},
   "source": [
    "- We will use the below given data throughout this question:"
   ]
  },
  {
   "cell_type": "code",
   "execution_count": null,
   "id": "2d41c430-1c09-4c33-a164-6011f62ffb2d",
   "metadata": {},
   "outputs": [],
   "source": [
    "# Declaring a dictionary type variable to convert into pandas dataframe data type\n",
    "Dict={\n",
    "       \"Name\"   : [\"Alice\",\"Bob\",\"Claire\",\"Abhay\",\"Amrit\",\"Aman\",\"Rahul\"],\n",
    "       \"Age\"    : [25,30,27,21,22,23,24],\n",
    "       \"Gender\" : [\"Female\",\"Male\",\"Female\",\"Male\",\"Male\",\"Male\",\"Male\"]\n",
    "     }\n",
    "# To pandas dataframe\n",
    "df = pd.DataFrame(Dict)"
   ]
  },
  {
   "cell_type": "markdown",
   "id": "8a069784-d828-4fb9-83d2-332a9c269ee7",
   "metadata": {},
   "source": [
    "Some of the functions of pandas are:<br><br>\n",
    "1. head():\n",
    "- It is used to fetch/display the rows of a DataFrame.\n",
    "- It fetches first five rows at default, but we can pass an argument as to specify number of rows we wanted to be fetched.\n",
    "- It can be used when we only want limited number of rows and that also from the start.\n",
    "- Example:"
   ]
  },
  {
   "cell_type": "code",
   "execution_count": null,
   "id": "19b7db8d-2a87-4af2-9561-c88e2a96d66a",
   "metadata": {},
   "outputs": [],
   "source": [
    "df.head(2)"
   ]
  },
  {
   "cell_type": "markdown",
   "id": "dd2f3bf0-4ab6-4f15-a0e9-10a245b6217c",
   "metadata": {},
   "source": [
    "2. tail():\n",
    "- It is used to fetch/display the rows of a DataFrame.\n",
    "- It fetches last five rows at default, but we can pass an argument as to specify number of rows we wanted to be fetched.\n",
    "- It can be used when we only want limited number of rows and that also from the end.\n",
    "- Example:"
   ]
  },
  {
   "cell_type": "code",
   "execution_count": null,
   "id": "c36e4dc0-3d3f-4d64-bbe3-a415293b8008",
   "metadata": {},
   "outputs": [],
   "source": [
    "df.tail(2)"
   ]
  },
  {
   "cell_type": "markdown",
   "id": "fc67de61-f961-4dcf-bd1c-0149a96e645d",
   "metadata": {},
   "source": [
    "3. dtypes:\n",
    "- It is used to describe the data types for each column present in the dataframe.\n",
    "- It can be used to tell us the data types of the columns before performing any operations.\n",
    "- Example:"
   ]
  },
  {
   "cell_type": "code",
   "execution_count": null,
   "id": "06978055-b98d-45e9-ac01-efaa8898fb22",
   "metadata": {},
   "outputs": [],
   "source": [
    "df.dtypes"
   ]
  },
  {
   "cell_type": "markdown",
   "id": "7d06fcb3-08da-43d5-9edc-4fdbf4147300",
   "metadata": {},
   "source": [
    "4. describe():\n",
    "- It is used to generate descriptive statistics of the data in a Pandas DataFrame. \n",
    "- It helps in getting a quick overview of the dataset.\n",
    "- It can be used when we want short statistical summary of the data present in DataFrames.\n",
    "- Example:"
   ]
  },
  {
   "cell_type": "code",
   "execution_count": null,
   "id": "ddcf423a-4e4e-4b57-b31f-0af6cb161d3b",
   "metadata": {},
   "outputs": [],
   "source": [
    "df.describe()"
   ]
  },
  {
   "cell_type": "markdown",
   "id": "7c2e6cf4-5bf6-41b6-a747-e25447f3577e",
   "metadata": {},
   "source": [
    "5. iloc():\n",
    "- It takes as a parameter the rows and column indices and gives you the subset of the DataFrame accordingly.\n",
    "- It can be used when we want specified rows and columns for data manipulation.\n",
    "- Example:"
   ]
  },
  {
   "cell_type": "code",
   "execution_count": null,
   "id": "bc804403-ef5b-47da-8d5d-c042dc5719f4",
   "metadata": {},
   "outputs": [],
   "source": [
    "df.iloc[1:4]"
   ]
  },
  {
   "cell_type": "markdown",
   "id": "e4c961d9-6b4e-444a-a7eb-abe558f55cd1",
   "metadata": {},
   "source": [
    "# 2."
   ]
  },
  {
   "cell_type": "code",
   "execution_count": null,
   "id": "49bba791-77b5-4642-b80b-1b1b49500293",
   "metadata": {},
   "outputs": [],
   "source": [
    "# Defining DataFrame\n",
    "df1 = pd.DataFrame({\n",
    "                      \"A\":list(range(5,17)),\n",
    "                      \"B\":list(range(7,19)),\n",
    "                      \"C\":list(range(9,21))\n",
    "                  })\n",
    "# Output\n",
    "print(\"DataFrame without re-indexing:\\n\",df1)"
   ]
  },
  {
   "cell_type": "code",
   "execution_count": null,
   "id": "fa00f30c-4dbc-408d-8bd1-7e980d3f4181",
   "metadata": {},
   "outputs": [],
   "source": [
    "# New DataFrame With Re-indexed Rows\n",
    "newdf1 = df1.reindex(list(i+2 if i!=1 else 1 for i in range(1,len(df1[\"A\"]))))\n",
    "# Output\n",
    "print(\"New DataFrame with re-indexing:\\n\",newdf1)"
   ]
  },
  {
   "cell_type": "markdown",
   "id": "57f7d669-9d8f-4e5a-9a67-9916634b7fca",
   "metadata": {},
   "source": [
    "# 3."
   ]
  },
  {
   "cell_type": "code",
   "execution_count": null,
   "id": "51235b35-b9e3-4f2a-8fdf-03978bbc5803",
   "metadata": {},
   "outputs": [],
   "source": [
    "# Defining DataFrame Taking Column Values As Discussed In The Question\n",
    "df2 = pd.DataFrame({\n",
    "                      \"Values\":[10, 20, 30, 40, 50]\n",
    "                  })"
   ]
  },
  {
   "cell_type": "code",
   "execution_count": null,
   "id": "a60f2514-5134-49c3-b46a-429a8f7f1060",
   "metadata": {},
   "outputs": [],
   "source": [
    "# Declaring variable to store sum\n",
    "sums = 0 \n",
    "# Iterating over values\n",
    "for i in range(3):\n",
    "    sums+=df2[\"Values\"][i]\n",
    "\n",
    "# Printing Output\n",
    "print(sums)"
   ]
  },
  {
   "cell_type": "markdown",
   "id": "a0484a09-04c7-4a0b-a653-382df8727917",
   "metadata": {},
   "source": [
    "# 4."
   ]
  },
  {
   "cell_type": "markdown",
   "id": "f5a8f02e-913f-4730-878d-2a2c63ee7ba0",
   "metadata": {},
   "source": [
    "- Let the dataframe with corresponding Text column be as follows:"
   ]
  },
  {
   "cell_type": "code",
   "execution_count": null,
   "id": "46ce0205-eeec-431c-b8b4-b9f00845767d",
   "metadata": {},
   "outputs": [],
   "source": [
    "# Defining DataFrame\n",
    "df3 = pd.DataFrame({\n",
    "                      \"Text\":[\"I have enrolled in PW Skills Data Science Master Course\",\" And my name is Abhay Singh\",\"Currently, I am solving the question from one of its assignments\"]\n",
    "                  })"
   ]
  },
  {
   "cell_type": "markdown",
   "id": "f0523417-2b5d-4d4b-85aa-37ae6aea3cf7",
   "metadata": {},
   "source": [
    "- Creating new column to store word count"
   ]
  },
  {
   "cell_type": "code",
   "execution_count": null,
   "id": "72e69d41-2acb-42f7-8204-850a0701bef9",
   "metadata": {},
   "outputs": [],
   "source": [
    "df3[\"Word_Count\"] = list(len(val[1][0].split()) for val in df3.iterrows())"
   ]
  },
  {
   "cell_type": "markdown",
   "id": "ebf7b124-930b-41f3-ae87-14517eb194c8",
   "metadata": {},
   "source": [
    "- Output"
   ]
  },
  {
   "cell_type": "code",
   "execution_count": null,
   "id": "24f97419-e0f5-4c52-8f38-d5143bee11a8",
   "metadata": {},
   "outputs": [],
   "source": [
    "print(df3)"
   ]
  },
  {
   "cell_type": "markdown",
   "id": "246e2a16-4924-4fc9-9314-337b89f72bfa",
   "metadata": {},
   "source": [
    "# 5."
   ]
  },
  {
   "cell_type": "markdown",
   "id": "4d08cfb8-7aee-44f7-8c10-d5794edbaf9f",
   "metadata": {},
   "source": [
    "__DatFrame.size__ gives the total number of elements in the dataframe, which is product of both rows and columns.<br><br>\n",
    "While, __DataFrame.shape__ gives the tuple containing information about rows and columns."
   ]
  },
  {
   "cell_type": "markdown",
   "id": "753da8b8-778a-4031-924d-29f1662b85dc",
   "metadata": {},
   "source": [
    "# 6."
   ]
  },
  {
   "cell_type": "markdown",
   "id": "9b0817c6-43c1-40ff-94bb-daacf23b423c",
   "metadata": {},
   "source": [
    "__pandas.read_excel()__ function of pandas is used to read an excel file."
   ]
  },
  {
   "cell_type": "markdown",
   "id": "baaad10d-f194-4d01-8f11-b14454a668fe",
   "metadata": {},
   "source": [
    "# 7."
   ]
  },
  {
   "cell_type": "markdown",
   "id": "02b1e228-551c-4a8e-a5d6-17842bcebaf1",
   "metadata": {},
   "source": [
    "- Let the dataframe with corresponding Email column be as follows:"
   ]
  },
  {
   "cell_type": "code",
   "execution_count": null,
   "id": "be3a7327-d714-4343-afc9-73b954f5cb6a",
   "metadata": {},
   "outputs": [],
   "source": [
    "# Defining DataFrame\n",
    "df4 = pd.DataFrame({\n",
    "                      \"Email\":[\"john.doe@example.com\",\"lorem.ipsum@html.com\"]\n",
    "                  })"
   ]
  },
  {
   "cell_type": "markdown",
   "id": "0e7c0aca-5380-465d-aaef-d414bb852b45",
   "metadata": {},
   "source": [
    "- Creating new column to store word count"
   ]
  },
  {
   "cell_type": "code",
   "execution_count": null,
   "id": "499a3339-5190-40f0-8d41-5da849842369",
   "metadata": {},
   "outputs": [],
   "source": [
    "df4[\"Username\"] = list(val[1][0].split(\"@\")[0] for val in df3.iterrows())"
   ]
  },
  {
   "cell_type": "markdown",
   "id": "7f17ee39-63a7-418d-846e-7719bb8ff550",
   "metadata": {},
   "source": [
    "- Output"
   ]
  },
  {
   "cell_type": "code",
   "execution_count": null,
   "id": "02e40abd-f046-4010-8d16-60fb232313df",
   "metadata": {},
   "outputs": [],
   "source": [
    "print(df4)"
   ]
  },
  {
   "cell_type": "markdown",
   "id": "efc4145d-1762-4e49-b70a-a92c0585aee1",
   "metadata": {},
   "source": [
    "# 8."
   ]
  },
  {
   "cell_type": "code",
   "execution_count": null,
   "id": "4413b315-b4f8-4437-9557-887cfab4bf0b",
   "metadata": {},
   "outputs": [],
   "source": [
    "# Defining DataFrame\n",
    "df5 = pd.DataFrame({\n",
    "                      \"A\":[3,8,6,2,9],\n",
    "                      \"B\":[5,2,9,3,1],\n",
    "                      \"C\":[1,7,4,5,2]\n",
    "                  })\n",
    "\n",
    "# Creating New DataFrame\n",
    "newdf5 = df5[(df5[\"A\"] > 5) & (df5[\"B\"] < 10)]\n",
    "# Printing New DataFrame\n",
    "print(newdf5)"
   ]
  },
  {
   "cell_type": "markdown",
   "id": "0d030e97-01ee-4237-9af6-b4cf1ecc3c0e",
   "metadata": {},
   "source": [
    "# 9."
   ]
  },
  {
   "cell_type": "code",
   "execution_count": null,
   "id": "31f2486d-42f9-452f-94c9-d5873424fec5",
   "metadata": {},
   "outputs": [],
   "source": [
    "# Defining DataFrame Taking Column Values As Discussed In The Question\n",
    "df6 = pd.DataFrame({\n",
    "                      \"Values\":[10, 20, 30, 40, 50]\n",
    "                  })"
   ]
  },
  {
   "cell_type": "code",
   "execution_count": null,
   "id": "7c0a7522-f324-4bce-9045-fcd344d256c2",
   "metadata": {},
   "outputs": [],
   "source": [
    "# To Calculate Mean\n",
    "mean = df6[\"Values\"].mean()\n",
    "print(\"Mean :\",mean)\n",
    "# To Calculate Mean\n",
    "median = df6[\"Values\"].median()\n",
    "print(\"Median :\",median)\n",
    "# To Calculate Mean\n",
    "std = df6[\"Values\"].std()\n",
    "print(\"Standard deviation : {:.4f}\".format(std))"
   ]
  },
  {
   "cell_type": "markdown",
   "id": "6e5e86b9-0296-4367-b955-0d701de1e3d4",
   "metadata": {},
   "source": [
    "# 10."
   ]
  },
  {
   "cell_type": "code",
   "execution_count": 93,
   "id": "e49ca5f4-b1fc-461c-9062-59698720c462",
   "metadata": {},
   "outputs": [],
   "source": [
    "# Defining DataFrame Taking Column Date and Sales As Discussed In The Question\n",
    "df7 = pd.DataFrame({\n",
    "                      \"Date\":[\"2023-01-01\",\"2023-01-02\",\"2023-01-03\",\"2023-01-04\",\"2023-01-05\",\"2023-01-06\",\"2023-01-07\",\"2023-01-08\",\"2023-01-09\",\"2023-01-10\"],\n",
    "                      \"Sales\":list(range(3456,3456+10))\n",
    "                  })"
   ]
  },
  {
   "cell_type": "code",
   "execution_count": 103,
   "id": "b22c1597-a0f3-4de3-b09a-557f87af32b4",
   "metadata": {},
   "outputs": [],
   "source": [
    "# DataFrame with new column as MovingAverage \n",
    "df7[\"MovingAverage\"] = df7[\"Sales\"].rolling(7).mean()\n",
    "df7.fillna(0.0,inplace=True)  # Replacing NaN values with 0.0"
   ]
  },
  {
   "cell_type": "code",
   "execution_count": null,
   "id": "d41978f0-422c-4aa5-8d18-87d009c14286",
   "metadata": {},
   "outputs": [],
   "source": [
    "# Output\n",
    "print(\"Modified DataFrame is :\\n\",df7)"
   ]
  },
  {
   "cell_type": "markdown",
   "id": "f3af9985-e914-45cc-82e8-9871ff4c613f",
   "metadata": {},
   "source": [
    "# 11."
   ]
  },
  {
   "cell_type": "code",
   "execution_count": null,
   "id": "478cc766-82f3-4d67-8da6-5d7a7b7f3bc5",
   "metadata": {},
   "outputs": [],
   "source": [
    "# Defining DataFrame Taking Column Date As Discussed In The Question\n",
    "df8 = pd.DataFrame({\n",
    "                      \"Date\":[\"2023-01-01\",\"2023-01-02\",\"2023-01-03\",\"2023-01-04\",\"2023-01-05\"]\n",
    "                  })"
   ]
  },
  {
   "cell_type": "code",
   "execution_count": null,
   "id": "23e82e00-25ca-4cf5-aca3-bdcef5c8ffa0",
   "metadata": {},
   "outputs": [],
   "source": [
    "# DataFrame with new column as Weekday\n",
    "df8[\"Weekday\"] = list(pd.Timestamp(val[1][0]).day_name() for val in df8.iterrows())"
   ]
  },
  {
   "cell_type": "code",
   "execution_count": null,
   "id": "09332e73-05fa-4d5e-abcb-19e9a7560664",
   "metadata": {},
   "outputs": [],
   "source": [
    "# Output\n",
    "print(\"Modified DataFrame is :\\n\",df8)"
   ]
  },
  {
   "cell_type": "markdown",
   "id": "f657c919-8f8e-4825-adcd-8a579bed5cf7",
   "metadata": {},
   "source": [
    "# 12."
   ]
  },
  {
   "cell_type": "code",
   "execution_count": null,
   "id": "fd52b0db-911b-4a36-89eb-370ff1112b93",
   "metadata": {},
   "outputs": [],
   "source": [
    "# Defining DataFrame Taking Column Date As Discussed In The Question\n",
    "df9 = pd.DataFrame({\n",
    "                      \"Date\":[pd.Timestamp(\"2023-01-01\"),pd.Timestamp(\"2023-01-02\"),pd.Timestamp(\"2023-01-03\"),pd.Timestamp(\"2023-03-04\"),pd.Timestamp(\"2023-02-05\")]\n",
    "                  })"
   ]
  },
  {
   "cell_type": "code",
   "execution_count": null,
   "id": "26e5a475-25ef-4f77-bed6-8b087dbea8ef",
   "metadata": {},
   "outputs": [],
   "source": [
    "# Filtering rows of dataframe df9 and storing it into df10\n",
    "df10 = df9[(df9[\"Date\"] > pd.Timestamp('2023-01-01')) & (df9[\"Date\"] < pd.Timestamp('2023-01-31'))]"
   ]
  },
  {
   "cell_type": "code",
   "execution_count": null,
   "id": "95d36014-f7b9-4484-8e81-c82bdbfd641b",
   "metadata": {},
   "outputs": [],
   "source": [
    "# Displaying Result\n",
    "print(\"Original DataFrame :\\n\",df9)\n",
    "print(\"New DataFrame :\\n\",df10)"
   ]
  },
  {
   "cell_type": "markdown",
   "id": "68e6c62e-f8c4-40b4-b8e8-d2aeef0877a9",
   "metadata": {},
   "source": [
    "# 13."
   ]
  },
  {
   "cell_type": "markdown",
   "id": "cf5dc097-1887-49f6-9384-5d258061d253",
   "metadata": {},
   "source": [
    "To use the basic functions of pandas, the first and foremost necessary library that needs to be imported is , __numpy__."
   ]
  },
  {
   "cell_type": "code",
   "execution_count": null,
   "id": "1c8873f4-c4ff-4e05-88b1-624e6d71d8b6",
   "metadata": {},
   "outputs": [],
   "source": []
  }
 ],
 "metadata": {
  "kernelspec": {
   "display_name": "Python 3 (ipykernel)",
   "language": "python",
   "name": "python3"
  },
  "language_info": {
   "codemirror_mode": {
    "name": "ipython",
    "version": 3
   },
   "file_extension": ".py",
   "mimetype": "text/x-python",
   "name": "python",
   "nbconvert_exporter": "python",
   "pygments_lexer": "ipython3",
   "version": "3.10.8"
  }
 },
 "nbformat": 4,
 "nbformat_minor": 5
}
