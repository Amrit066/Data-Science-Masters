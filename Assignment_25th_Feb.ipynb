{
 "cells": [
  {
   "cell_type": "markdown",
   "id": "47bce912-8382-4297-a951-fb3e51ec8f5a",
   "metadata": {},
   "source": [
    "# Assignment Answers"
   ]
  },
  {
   "cell_type": "code",
   "execution_count": null,
   "id": "44be42ef-f95c-4916-9384-b77a291320d5",
   "metadata": {},
   "outputs": [],
   "source": [
    "# Importing Library\n",
    "import pandas as pd\n",
    "import numpy as np\n",
    "# Setting pandas option to display full content of a cell\n",
    "pd.set_option('display.max_colwidth', None)"
   ]
  },
  {
   "cell_type": "code",
   "execution_count": null,
   "id": "cc590bd8-c8b7-41a0-ae47-dd241bbdf301",
   "metadata": {},
   "outputs": [],
   "source": [
    "# Data Given In The Question\n",
    "# Data-1:\n",
    "course_name = [\"Data Science\", \"Machine Learning\", \"Big Data\", \"Data Engineer\"]\n",
    "duration = [2,3,6,4]\n",
    "df = pd.DataFrame(data = {\"course_name\" : course_name, \"duration\" : duration})\n",
    "\n",
    "# Data-2:\n",
    "columns = ['column_1', 'column_2', 'column_3', 'column_4', 'column_5', 'column_6']\n",
    "indices = [1,2,3,4,5,6]\n",
    "#Creating a dataframe:\n",
    "df1 = pd.DataFrame(np.random.rand(6,6), columns = columns, index = indices)"
   ]
  },
  {
   "cell_type": "markdown",
   "id": "8438e171-48f9-4221-a265-9e926352d8bc",
   "metadata": {},
   "source": [
    "# 1."
   ]
  },
  {
   "cell_type": "code",
   "execution_count": null,
   "id": "a0c93595-b8e1-4c1d-9b58-458d4a2d67f4",
   "metadata": {},
   "outputs": [],
   "source": [
    "print(\"Data present in the second row are :\\n\",df.iloc[1])"
   ]
  },
  {
   "cell_type": "markdown",
   "id": "413621cb-6144-4842-8884-588da80f39e6",
   "metadata": {},
   "source": [
    "# 2."
   ]
  },
  {
   "cell_type": "markdown",
   "id": "02793353-68ce-4ccf-aa2e-95c3ba5a3595",
   "metadata": {},
   "source": [
    "With the help of __loc__, we can access the column from a dataframe using its name.<br>\n",
    "While, if we use __iloc__, we can access any specific column from a dataframe only using the builtin indices but not with its name."
   ]
  },
  {
   "cell_type": "markdown",
   "id": "46cc3cce-11e0-49dc-a0f8-053eefbc48d0",
   "metadata": {},
   "source": [
    "# 3."
   ]
  },
  {
   "cell_type": "markdown",
   "id": "7421c23f-90e2-4f6f-8826-830f2b6c10f0",
   "metadata": {},
   "source": [
    "##### Part-1: Reindexing"
   ]
  },
  {
   "cell_type": "code",
   "execution_count": null,
   "id": "de801a6c-31eb-4898-9d7e-c09ce4c7363f",
   "metadata": {},
   "outputs": [],
   "source": [
    "# Declaring reindex variable\n",
    "reindex = [3,0,1,2]\n",
    "# Reindexing dataframe\n",
    "new_df = df.reindex(reindex)"
   ]
  },
  {
   "cell_type": "markdown",
   "id": "33faf566-d2a5-41bd-b848-5eaf0fcef946",
   "metadata": {},
   "source": [
    "##### Part-2: Output"
   ]
  },
  {
   "cell_type": "code",
   "execution_count": null,
   "id": "13889b46-e47d-41bb-8ebd-12f5fabfe75c",
   "metadata": {},
   "outputs": [],
   "source": [
    "print(new_df.loc[2])\n",
    "print(new_df.iloc[2])"
   ]
  },
  {
   "cell_type": "markdown",
   "id": "59f489ba-1b52-4657-bdd9-f1b2d07d1493",
   "metadata": {},
   "source": [
    "##### Part-3: Explanation"
   ]
  },
  {
   "cell_type": "markdown",
   "id": "dc27c399-1633-4397-8822-d8d30668e779",
   "metadata": {},
   "source": [
    "In the above output, it can be observed that __loc__ is trying to consider the old index as assigned to each row even after reindexing, and then accessing row corresponding to that index.<br>\n",
    "But __iloc__ is implicitly assigning new indices to each row after each row and then it is trying to fetch row accordingly."
   ]
  },
  {
   "cell_type": "markdown",
   "id": "fd10c72c-0b9e-484f-98ad-80e4bcce065e",
   "metadata": {},
   "source": [
    "# 4."
   ]
  },
  {
   "cell_type": "markdown",
   "id": "68a6af8f-fdb2-49d9-b3ac-b98d3ee8a24b",
   "metadata": {},
   "source": [
    "#### (i)"
   ]
  },
  {
   "cell_type": "code",
   "execution_count": null,
   "id": "14247d7f-428e-4571-b74c-dc3a2575ee1c",
   "metadata": {},
   "outputs": [],
   "source": [
    "print(df1.mean())"
   ]
  },
  {
   "cell_type": "markdown",
   "id": "e900ce9f-f0b4-43b4-bbeb-4806cf15271f",
   "metadata": {},
   "source": [
    "#### (ii)"
   ]
  },
  {
   "cell_type": "code",
   "execution_count": null,
   "id": "940a3fce-5213-4bda-80d1-6dc2168c5385",
   "metadata": {},
   "outputs": [],
   "source": [
    "print(\"Standard deviation of \\\"column_2\\\" is\", df1[\"column_2\"].std())"
   ]
  },
  {
   "cell_type": "markdown",
   "id": "10060d32-cc35-48b6-940e-98d41584e006",
   "metadata": {},
   "source": [
    "# 5."
   ]
  },
  {
   "cell_type": "markdown",
   "id": "7d84bd2b-c7e5-423c-9803-7443f05b181f",
   "metadata": {},
   "source": [
    "##### Part-1: Code"
   ]
  },
  {
   "cell_type": "code",
   "execution_count": null,
   "id": "923770c5-f950-4d00-a325-63697aeb20ac",
   "metadata": {},
   "outputs": [],
   "source": [
    "# Replacing data of column_2 with string value \"22\"\n",
    "df1.loc[:,\"column_2\"] = \"22\"\n",
    "print(\"Standard deviation of \\\"column_2\\\" is\", df1[\"column_2\"].std())"
   ]
  },
  {
   "cell_type": "markdown",
   "id": "e7d2e86c-c3e3-4fbb-8d7b-9038828df22b",
   "metadata": {},
   "source": [
    "##### Part-2: Explanation"
   ]
  },
  {
   "cell_type": "markdown",
   "id": "b05cb0a5-7a06-46d9-ac08-6ca29e503add",
   "metadata": {},
   "source": [
    "__mean__ is a statistical tool that tells the average of all the values present there. It is only applied to numerical data types values but not to string types. Therefore, it is giving a TypeError here, as the operation we are trying to perform is not feasible for the data type we are applying on."
   ]
  },
  {
   "cell_type": "markdown",
   "id": "3301d42f-2b60-43bc-a1ca-21694a44977a",
   "metadata": {},
   "source": [
    "# 6."
   ]
  },
  {
   "cell_type": "markdown",
   "id": "7fb75717-25af-4f37-966c-a814edd83c03",
   "metadata": {},
   "source": [
    "##### Part-1:<br><br>\n",
    "- Pandas' window functions are used to carry out calculations across a collection of rows that are connected to the present row. - We can perform aggregated calculations across different data cross-sections or partitions with the aid of the windows functions. - The windows function in Pandas returns a value for each row of the initial table.\n",
    "<br><br>\n",
    "##### Part-2:<br><br>\n",
    "- Windows function in Pandas can be broadly divided into three categories namely- __Aggregate__, __Ranking__, and __Value__.\n",
    "- The Aggregate category of window functions can be of three types namely- __Group__, __Rolling__, and __Expanding__.\n",
    "- The Ranking category of window functions can be of five types namely- __Row Numbers__, __Rank__, __Dense rank__, __Percent__, and __N-Tile / qcut()__.\n",
    "- The Value category of window functions can be of two types namely- __Lag / Lead__, and __First / Last/nth__."
   ]
  },
  {
   "cell_type": "markdown",
   "id": "d9b29d10-7d82-43da-b930-5afc3329e813",
   "metadata": {},
   "source": [
    "# 7."
   ]
  },
  {
   "cell_type": "code",
   "execution_count": null,
   "id": "788cf4d7-7007-480f-991f-ff4009f47fc7",
   "metadata": {},
   "outputs": [],
   "source": [
    "# Importing Library\n",
    "from datetime import datetime\n",
    "\n",
    "# Creating Current Time Object\n",
    "today = datetime.today()\n",
    "\n",
    "# Printing current mont and year\n",
    "print(\"Current month :\",today.month)\n",
    "print(\"Current year :\",today.year)"
   ]
  },
  {
   "cell_type": "markdown",
   "id": "d47829df-4238-4031-874d-639a7ef0d61f",
   "metadata": {},
   "source": [
    "# 8."
   ]
  },
  {
   "cell_type": "code",
   "execution_count": null,
   "id": "76df4542-16aa-4bcc-94df-0a1bb6b0199d",
   "metadata": {},
   "outputs": [],
   "source": [
    "# Taking input\n",
    "date1 = input(\"Enter first date as YYYY-MM-DD\")\n",
    "date2 = input(\"Enter second date as YYYY-MM-DD\")"
   ]
  },
  {
   "cell_type": "code",
   "execution_count": null,
   "id": "3e450c21-4ff2-4541-80f8-e01fc68def96",
   "metadata": {},
   "outputs": [],
   "source": [
    "# Calculating time difference\n",
    "days = pd.Timedelta(pd.to_datetime(date1)-pd.to_datetime(date2)).days\n",
    "hours = pd.Timedelta(pd.to_datetime(date1)-pd.to_datetime(date2)).days * 24\n",
    "minutes = pd.Timedelta(pd.to_datetime(date1)-pd.to_datetime(date2)).days * 24 * 60\n",
    "\n",
    "# Printing The Result\n",
    "print(\"Total days between {} and {} is {}\".format(date1,date2,days))\n",
    "print(\"Total hours between {} and {} is {}\".format(date1,date2,hours))\n",
    "print(\"Total minutes between {} and {} is {}\".format(date1,date2,minutes))"
   ]
  },
  {
   "cell_type": "markdown",
   "id": "eb72978f-45e1-4d1a-9d81-0376074efdf8",
   "metadata": {},
   "source": [
    "# 9."
   ]
  },
  {
   "cell_type": "code",
   "execution_count": 48,
   "id": "61bf6a65-6056-4f65-88d2-5a8b2f20cae6",
   "metadata": {},
   "outputs": [
    {
     "name": "stdin",
     "output_type": "stream",
     "text": [
      "Enter file path:  matches.csv\n",
      "Enter column name:  team1\n",
      "Enter order of category to be sorted(ascending or descending):  Ascending\n"
     ]
    }
   ],
   "source": [
    "# Taking Inputs\n",
    "file =input(\"Enter file path: \")\n",
    "column = input(\"Enter column name: \")\n",
    "category_order = input(\"Enter order of category to be sorted(ascending or descending): \")"
   ]
  },
  {
   "cell_type": "code",
   "execution_count": 49,
   "id": "40f73190-4959-4c13-aca4-ee9c005de119",
   "metadata": {},
   "outputs": [
    {
     "name": "stdout",
     "output_type": "stream",
     "text": [
      "      id  season     city        date                team1  \\\n",
      "317  318    2012    Delhi  2012-04-10  Chennai Super Kings   \n",
      "477  478    2014   Ranchi  2014-05-02  Chennai Super Kings   \n",
      "223  224    2010  Chennai  2010-04-15  Chennai Super Kings   \n",
      "215  216    2010   Nagpur  2010-04-10  Chennai Super Kings   \n",
      "210  211    2010  Chennai  2010-04-06  Chennai Super Kings   \n",
      "205  206    2010  Chennai  2010-04-03  Chennai Super Kings   \n",
      "193  194    2010   Mumbai  2010-03-25  Chennai Super Kings   \n",
      "503  504    2014  Kolkata  2014-05-20  Chennai Super Kings   \n",
      "181  182    2010  Kolkata  2010-03-16  Chennai Super Kings   \n",
      "506  507    2014   Ranchi  2014-05-22  Chennai Super Kings   \n",
      "\n",
      "                     team2            toss_winner toss_decision  result  \\\n",
      "317       Delhi Daredevils       Delhi Daredevils         field  normal   \n",
      "477  Kolkata Knight Riders    Chennai Super Kings           bat  normal   \n",
      "223       Delhi Daredevils    Chennai Super Kings           bat  normal   \n",
      "215        Deccan Chargers    Chennai Super Kings           bat  normal   \n",
      "210         Mumbai Indians    Chennai Super Kings           bat  normal   \n",
      "205       Rajasthan Royals    Chennai Super Kings           bat  normal   \n",
      "193         Mumbai Indians         Mumbai Indians         field  normal   \n",
      "503  Kolkata Knight Riders  Kolkata Knight Riders         field  normal   \n",
      "181  Kolkata Knight Riders    Chennai Super Kings           bat  normal   \n",
      "506    Sunrisers Hyderabad    Sunrisers Hyderabad         field  normal   \n",
      "\n",
      "     dl_applied                 winner  win_by_runs  win_by_wickets  \\\n",
      "317           0       Delhi Daredevils            0               8   \n",
      "477           0    Chennai Super Kings           34               0   \n",
      "223           0       Delhi Daredevils            0               6   \n",
      "215           0        Deccan Chargers            0               6   \n",
      "210           0    Chennai Super Kings           24               0   \n",
      "205           0    Chennai Super Kings           23               0   \n",
      "193           0         Mumbai Indians            0               5   \n",
      "503           0  Kolkata Knight Riders            0               8   \n",
      "181           0    Chennai Super Kings           55               0   \n",
      "506           0    Sunrisers Hyderabad            0               6   \n",
      "\n",
      "    player_of_match                                         venue  \\\n",
      "317        M Morkel                              Feroz Shah Kotla   \n",
      "477       RA Jadeja            JSCA International Stadium Complex   \n",
      "223       G Gambhir               MA Chidambaram Stadium, Chepauk   \n",
      "215       RJ Harris  Vidarbha Cricket Association Stadium, Jamtha   \n",
      "210        SK Raina               MA Chidambaram Stadium, Chepauk   \n",
      "205         M Vijay               MA Chidambaram Stadium, Chepauk   \n",
      "193    SR Tendulkar                             Brabourne Stadium   \n",
      "503      RV Uthappa                                  Eden Gardens   \n",
      "181        MS Dhoni                                  Eden Gardens   \n",
      "506       DA Warner            JSCA International Stadium Complex   \n",
      "\n",
      "             umpire1        umpire2  umpire3  \n",
      "317        Asad Rauf    SK Tarapore      NaN  \n",
      "477     AK Chaudhary       NJ Llong      NaN  \n",
      "223  HDPK Dharmasena      SS Hazare      NaN  \n",
      "215  HDPK Dharmasena     SJA Taufel      NaN  \n",
      "210         S Asnani      DJ Harper      NaN  \n",
      "205      RE Koertzen      RB Tiffin      NaN  \n",
      "193        BF Bowden      AM Saheba      NaN  \n",
      "503     RM Deshpande  C Shamshuddin      NaN  \n",
      "181  HDPK Dharmasena      AM Saheba      NaN  \n",
      "506     BNJ Oxenford  C Shamshuddin      NaN  \n"
     ]
    }
   ],
   "source": [
    "# Reading CSV file\n",
    "df3 = pd.read_csv(file)\n",
    "\n",
    "# Converting into categorical data type\n",
    "df4=df3.astype({column:\"category\"})\n",
    "\n",
    "# Sorting as per the given column and order\n",
    "df4.sort_values(by=column,ascending = category_order.lower() == \"ascending\",inplace = True) \n",
    "\n",
    "# Displaying Result\n",
    "print(df4.head(10))"
   ]
  },
  {
   "cell_type": "markdown",
   "id": "2377ec38-1f57-48f3-a152-2155fe481bc3",
   "metadata": {},
   "source": [
    "# 10."
   ]
  },
  {
   "cell_type": "code",
   "execution_count": 50,
   "id": "77734d3c-09f0-400b-a993-ad7673f84c51",
   "metadata": {},
   "outputs": [
    {
     "name": "stdin",
     "output_type": "stream",
     "text": [
      "Enter file path:  supermarket_sales.csv\n",
      "Enter column name of csv file containing different products:  Product line\n",
      "Enter column name of csv file containing numerical sales data:  Total\n",
      "Enter column name of csv file containing time data:  Date\n"
     ]
    }
   ],
   "source": [
    "# Taking Inputs\n",
    "file =input(\"Enter file path: \")\n",
    "category_col=input(\"Enter column name of csv file containing different products: \")\n",
    "sales_col=input(\"Enter column name of csv file containing numerical sales data: \")\n",
    "time_col=input(\"Enter column name of csv file containing time data: \")"
   ]
  },
  {
   "cell_type": "code",
   "execution_count": 51,
   "id": "e0e16196-ef99-4983-bb42-5cb260cf1fe3",
   "metadata": {},
   "outputs": [],
   "source": [
    "# Reading csv file\n",
    "df5 = pd.read_csv(file).head(30)\n",
    "\n",
    "# Transforming a long format dataframe to a wide format dataframe\n",
    "df5_pivot = pd.pivot_table(data=df5, index=[time_col], columns=[category_col], values=sales_col)"
   ]
  },
  {
   "cell_type": "code",
   "execution_count": 52,
   "id": "3004739a-9754-48f8-ba4f-7b3f0d98ac38",
   "metadata": {},
   "outputs": [
    {
     "data": {
      "text/plain": [
       "[Text(0, 0, '1/5/2019'),\n",
       " Text(1, 0, '3/8/2019'),\n",
       " Text(2, 0, '3/3/2019'),\n",
       " Text(3, 0, '1/27/2019'),\n",
       " Text(4, 0, '2/8/2019'),\n",
       " Text(5, 0, '3/25/2019'),\n",
       " Text(6, 0, '2/25/2019'),\n",
       " Text(7, 0, '2/24/2019'),\n",
       " Text(8, 0, '1/10/2019'),\n",
       " Text(9, 0, '2/20/2019'),\n",
       " Text(10, 0, '2/6/2019'),\n",
       " Text(11, 0, '3/9/2019'),\n",
       " Text(12, 0, '2/12/2019'),\n",
       " Text(13, 0, '2/7/2019'),\n",
       " Text(14, 0, '3/29/2019'),\n",
       " Text(15, 0, '1/15/2019'),\n",
       " Text(16, 0, '3/11/2019'),\n",
       " Text(17, 0, '1/1/2019'),\n",
       " Text(18, 0, '1/21/2019'),\n",
       " Text(19, 0, '3/5/2019'),\n",
       " Text(20, 0, '3/15/2019'),\n",
       " Text(21, 0, '2/17/2019'),\n",
       " Text(22, 0, '3/2/2019'),\n",
       " Text(23, 0, '3/22/2019'),\n",
       " Text(24, 0, '3/10/2019'),\n",
       " Text(25, 0, '1/25/2019')]"
      ]
     },
     "execution_count": 52,
     "metadata": {},
     "output_type": "execute_result"
    },
    {
     "data": {
      "image/png": "[encoded data removed]",
      "text/plain": [
       "<Figure size 800x600 with 1 Axes>"
      ]
     },
     "metadata": {},
     "output_type": "display_data"
    }
   ],
   "source": [
    "# Plotting Data\n",
    "ax = df5_pivot.plot.bar(stacked=True, figsize=(8,6))\n",
    "ax.set_title('Total Sales Report', fontsize=20)\n",
    "ax.set_xticklabels(list(df5[time_col].unique()), rotation=90)"
   ]
  },
  {
   "cell_type": "markdown",
   "id": "cfba39b2-23c1-4d71-a435-bc3f2918ccaa",
   "metadata": {},
   "source": [
    "# 11."
   ]
  },
  {
   "cell_type": "code",
   "execution_count": 61,
   "id": "45805596-b3ea-452a-b98c-fc88e1b63256",
   "metadata": {},
   "outputs": [],
   "source": [
    "# Creating CSV File\n",
    "# Data To Be Written \n",
    "df_data = pd.DataFrame({\"Student ID\":list(range(1,11)), \"Test Score\":[85,90,80,75,85,82,78,85,90,85]})\n",
    "# Writing To File\n",
    "df_data.to_csv(\"student_data.csv\",index=False)"
   ]
  },
  {
   "cell_type": "code",
   "execution_count": 62,
   "id": "2812d501-fe0c-4e18-82d2-64477bcbae24",
   "metadata": {},
   "outputs": [
    {
     "name": "stdin",
     "output_type": "stream",
     "text": [
      "Enter file path:  student_data.csv\n"
     ]
    }
   ],
   "source": [
    "# Taking Inputs\n",
    "file =input(\"Enter file path: \")"
   ]
  },
  {
   "cell_type": "code",
   "execution_count": 63,
   "id": "a61082a9-9c3c-477c-8068-18988be1bbeb",
   "metadata": {},
   "outputs": [],
   "source": [
    "# Reading CSV File\n",
    "df6 = pd.read_csv(file)"
   ]
  },
  {
   "cell_type": "code",
   "execution_count": 64,
   "id": "03c79f97-511b-4920-a139-d7ebd69cb0f9",
   "metadata": {},
   "outputs": [
    {
     "name": "stdout",
     "output_type": "stream",
     "text": [
      "+----------+----------+\n",
      "|Statistic |Value     |\n",
      "+----------+----------+\n",
      "|Mean      |      83.5|\n",
      "|Median    |      85.0|\n",
      "|Mode      |        85|\n",
      "+----------+----------+\n"
     ]
    }
   ],
   "source": [
    "# Displaying Output\n",
    "print(\"{:1}{:10}{:1}{:10}{:1}\".format(\"+\",\"-\"*10,\"+\",\"-\"*10,\"+\"))\n",
    "print(\"{:1}{:10}{:1}{:10}{:1}\".format(\"|\",\"Statistic\",\"|\",\"Value\",\"|\"))\n",
    "print(\"{:1}{:10}{:1}{:10}{:1}\".format(\"+\",\"-\"*10,\"+\",\"-\"*10,\"+\"))\n",
    "print(\"{:1}{:10}{:1}{:10}{:1}\".format(\"|\",\"Mean\",\"|\",df6[\"Test Score\"].mean(),\"|\"))\n",
    "print(\"{:1}{:10}{:1}{:10}{:1}\".format(\"|\",\"Median\",\"|\",df6[\"Test Score\"].median(),\"|\"))\n",
    "print(\"{:1}{:10}{:1}{:10}{:1}\".format(\"|\",\"Mode\",\"|\",df6[\"Test Score\"].mode()[0],\"|\"))\n",
    "print(\"{:1}{:10}{:1}{:10}{:1}\".format(\"+\",\"-\"*10,\"+\",\"-\"*10,\"+\"))\n"
   ]
  },
  {
   "cell_type": "code",
   "execution_count": null,
   "id": "a0f3a04a-6a84-408a-adc5-9f6755f64d6e",
   "metadata": {},
   "outputs": [],
   "source": []
  }
 ],
 "metadata": {
  "kernelspec": {
   "display_name": "Python 3 (ipykernel)",
   "language": "python",
   "name": "python3"
  },
  "language_info": {
   "codemirror_mode": {
    "name": "ipython",
    "version": 3
   },
   "file_extension": ".py",
   "mimetype": "text/x-python",
   "name": "python",
   "nbconvert_exporter": "python",
   "pygments_lexer": "ipython3",
   "version": "3.10.8"
  }
 },
 "nbformat": 4,
 "nbformat_minor": 5
}
