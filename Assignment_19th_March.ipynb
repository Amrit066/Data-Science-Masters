{
 "cells": [
  {
   "cell_type": "markdown",
   "id": "c1903a51-324d-4844-b640-57271794c728",
   "metadata": {},
   "source": [
    "# Assignment Answers"
   ]
  },
  {
   "cell_type": "markdown",
   "id": "e5162c87-f5c7-4cef-9e4e-b2f0c83f0d9f",
   "metadata": {},
   "source": [
    "# 1."
   ]
  },
  {
   "cell_type": "markdown",
   "id": "efdb100b-915f-4883-9228-a546434fed80",
   "metadata": {},
   "source": [
    "##### Part-1:<br><br>\n",
    "- Min-max scaling is a feature scaling technique.\n",
    "- It is used to transform data in a way that can be utilized by the machine learning algorithms in a better way to learn.\n",
    "<br><br>\n",
    "##### Part-2:<br><br>\n",
    "In the dataset, we get different features list with different ranges of values. <br>\n",
    "So, it may happen that one feature will have the range of value much higher than the other feature.<br>\n",
    "In such cases, our model may get trained with the feature having more ranges than other as it will think that feature of great importance.<br><br>\n",
    "Therefore, to avoid such situation we can use min-max scaling technique, which works as follows:<br>\n",
    "    - First choose the feature to be scaled.\n",
    "    - Then, find the minimum and maximum from all the data.\n",
    "    - Finally, transform this data by subtracting minimun value from every single data and then dividing them by the difference of maximum and minimum value.\n",
    "<br><br>\n",
    "##### Part-3:Example<br><br>\n",
    "Suppose that we want to predict the price of a house based on the dataset that we are given, which have features like area of house, number of rooms,etc.<br>\n",
    "Now, we can see that area of house and number of rooms are two contrasting features in terms of their numerical vales.<br>\n",
    "Area of house can have value upto thousands, while number of rooms will have value at maximum of 10.<br>\n",
    "So, this disparity in data of these two features may lead algorithm to consider area of hous as important feature than number of rooms in a hous.<br>\n",
    "Though number of rooms is also very important feature to consider during the prediction of house price.<br><br>\n",
    "So, in such case we can use min-max scaling on area of house feature to scale it down to proper value."
   ]
  },
  {
   "cell_type": "markdown",
   "id": "12bdfca4-eb5e-4140-ba4a-022d033cfea7",
   "metadata": {},
   "source": [
    "# 2."
   ]
  },
  {
   "cell_type": "markdown",
   "id": "2f66e715-ccfe-4ad4-82a1-998ff068db32",
   "metadata": {},
   "source": [
    "##### Part-1:<br><br>\n",
    "- Unit vector scaling is a feature scaling technique which is performed considering whole feature vector to be of unit length.\n",
    "- It is calculated by dividing each component with the eucleadian length of vector.\n",
    "\n",
    "<br><br>\n",
    "##### Part-2:<br><br>\n",
    "It is different from min-max scaling in a way that it considers the feature as a vector, and then it tries to normalize them into unit vector form i.e., a vector with unit magnitude.<br>\n",
    "Hence, in this case we divide each value with the vector magnitude of the feature.\n",
    "<br><br>\n",
    "##### Part-3:Example<br><br>\n",
    "Suppose that we have a feature with data as,<br>\n",
    "f = [1,2,3,4,5], and we want to apply unit vector scaling on it.<br>\n",
    "At first, let's find the magnitude of this feature vectir,<br>\n",
    "|f| = sqrt(1<sup>2</sup>+2<sup>2</sup>+3<sup>2</sup>+4<sup>2</sup>+5<sup>2</sup>)<br>\n",
    "|f| = sqrt(55)<br>\n",
    "|f| = 7.42<br>\n",
    "Now, the feature vector after scaling will become as,<br>\n",
    "f_scaled = [1/7.42,2/7.42,3/7.42,4/7.42,5/7.42]"
   ]
  },
  {
   "cell_type": "markdown",
   "id": "6c2cbc63-1ce8-43e8-b665-72ceed3aa41e",
   "metadata": {},
   "source": [
    "# 3."
   ]
  },
  {
   "cell_type": "markdown",
   "id": "35152564-4e1b-442a-9846-82520af9eeef",
   "metadata": {},
   "source": [
    "##### Part-1:<br><br>\n",
    "- Principal component analysisis an unsupervised machine learning technique which is used in machine learning to reduce dimensionality. \n",
    "- It is a statistical procedure that transforms the observations of correlated features into a set of linearly uncorrelated features with the help of orthogonal transformation. \n",
    "- It is used to find principal components that are newly altered characteristics. \n",
    "- It is a method for identifying significant trends in the provided dataset by lowering the variances.\n",
    "<br><br>\n",
    "##### Part-2:<br><br>\n",
    "- Principal Component Analysis(PCA) is one of the most popular linear dimension reduction algorithms. \n",
    "- It is a projection based method that transforms the data by projecting it onto a set of orthogonal(perpendicular) axes.\n",
    "- PCA works on a condition that while the data in a higher-dimensional space is mapped to data in a lower dimension space, the variance or spread of the data in the lower dimensional space should be maximum.\n",
    "<br><br>\n",
    "##### Part-3:<br><br>\n",
    "Suppose that we have the following data for Age, Weight, and Height of people and we want to predict bmi.<br>\n",
    "Age= [3,6,7,9,4]<br>\n",
    "Height = [5.4,5.4,5.4,5.4,5.4]<br>\n",
    "Weight = [55,67,49,59,80]<br>\n",
    "Here, we can observe that there is much difference in height people, so we can simply remove it.<br>\n",
    "Now, we are left with Age and Weight, and we want to convert this data into a single feature.<br>\n",
    "This can be achieved by the use of PCA, which generates a principal component based on the distribution of data from these two features. Thei principal component has the data mapped from both the features. Thus preserving all the data in a single feature."
   ]
  },
  {
   "cell_type": "markdown",
   "id": "15629ea4-3d63-4e9d-9cd5-f9ceac48347d",
   "metadata": {},
   "source": [
    "# 4."
   ]
  },
  {
   "cell_type": "markdown",
   "id": "869ddcc6-7675-4eb9-9265-ac95c0401739",
   "metadata": {},
   "source": [
    "PCA is a method used in Feature Extraction to reduce a dataset containing different number of features into some reduced features set preserving the variability of original features.<br><br>\n",
    "As PCA helps in the reduction of features from the original set of features, it can be used to train the model effectively with less and important features only, helping in the improvement of performance.<br>\n",
    "This way PCA can be used in Feature Extraction to extract important features through the process of dimensionality reduction.\n",
    "<br><br>\n",
    "- Let's understand with an example<br>\n",
    "Suppose that we have the following data for Age, Weight, and Height of people and we want to predict bmi.<br>\n",
    "Age= [3,6,7,9,4]<br>\n",
    "Height = [5.4,5.4,5.4,5.4,5.4]<br>\n",
    "Weight = [55,67,49,59,80]<br>\n",
    "Here, we can observe that there is much difference in height people, so we can simply remove it.<br>\n",
    "Now, we are left with Age and Weight, and we want to convert this data into a single feature.<br>\n",
    "This can be achieved by the use of PCA, which generates a principal component based on the distribution of data from these two features. Thei principal component has the data mapped from both the features. Thus preserving all the data in a single feature.\n",
    "<br><br>\n",
    "Hence,<br>\n",
    "we see that, intially we had three different features present in the dataset, but after some analysis and application of PCA, we reduced it down to one feature in the form of principal component.<br>\n",
    "This way, the complexity of training the model can be reduced as the shape of feature is decreased from 3 to 1."
   ]
  },
  {
   "cell_type": "markdown",
   "id": "d9d32604-81fb-4df6-a234-3bce8235d52f",
   "metadata": {},
   "source": [
    "# 5."
   ]
  },
  {
   "cell_type": "markdown",
   "id": "2d5c84ed-5ce8-4ac9-8476-c1577a97b194",
   "metadata": {},
   "source": [
    "We can apply Min-Max scaling on the given dataset to build a better recommendation system in the steps discussed below:<br><br>\n",
    "Step-1: At first, we will decide the feautre on which min-max scaling need to be performed. \n",
    "<br>\n",
    "In this case, we can say that price will be that one feature as it can have data varying in wide range.<br><br>\n",
    "Step-2: Then, find the minimum and maximum value from all the values present in price.<br><br>\n",
    "Step-3: Finally, subtract minimum value from each value and divide with the range.<br>\n",
    "This will give us the scaled values price variable.\n",
    "<br><br>\n",
    "Now, the dataset is ready for further processing."
   ]
  },
  {
   "cell_type": "markdown",
   "id": "6bd9a836-4215-4c4c-abcf-c9e0873d1f2e",
   "metadata": {},
   "source": [
    "# 6."
   ]
  },
  {
   "cell_type": "markdown",
   "id": "e23af7dd-9841-4a08-b864-3aee75acbc76",
   "metadata": {},
   "source": [
    "As we know that PCA is a method used to minimize dimensions of different variables in a given data set. <br>\n",
    "It generally involves application of covariance analysis among different attributes.<br>\n",
    "The original data is mapped into a new coordinate system based on the variance within given data. <br>\n",
    "PCA employs a mathematical procedure to transmute correlated variables into linearly uncorrelated variables called principal components. <br><br>\n",
    "Based on the characteristics of PCA, I would follow the steps given below to reduce the dimensions of a dataset;<br><br>\n",
    "Step-1: At first, we need to gather information about all the features present.<br>\n",
    "Step-2: Then, we need to identify such features where there is very little or no variance within the values. Thus shows that the respective feature have no effect on the target variable.<br>\n",
    "Step-3: So, eliminate those features first from the dataset obtained in Step-2.<br>\n",
    "Step-4: Now, we will try to find those variables which are correlated to eachother.<br>\n",
    "Step-5: Then using PCA we will reduced those highly correlated data into small number of un-correlated principal components that actually account for most of the variance in the highly correlated data.<br><br>\n",
    "Thus, we will be able reduce the dimension of the original data in a way so that it incorporates most variability in it,resulting in development of an efficient model."
   ]
  },
  {
   "cell_type": "markdown",
   "id": "1ea6700d-4b4b-4d85-a87f-c1edf83e14c7",
   "metadata": {},
   "source": [
    "# 7."
   ]
  },
  {
   "cell_type": "code",
   "execution_count": 121,
   "id": "adc17059-b2c8-4476-a8bc-42a0d880720b",
   "metadata": {},
   "outputs": [
    {
     "name": "stdout",
     "output_type": "stream",
     "text": [
      "Original Feature Data:  [1, 5, 10, 15, 20]\n",
      "Scaled Feature Data:  [0.0, 0.21, 0.47, 0.74, 1.0]\n"
     ]
    }
   ],
   "source": [
    "# Given Data\n",
    "feature = [1,5,10,15,20]\n",
    "\n",
    "# Finding minimum and maximum value\n",
    "mn,mx = min(feature),max(feature)\n",
    "# Finding range\n",
    "ranges = mx-mn\n",
    "\n",
    "# Scaling the data\n",
    "feature_scaled = [round(((i-mn)/ranges),2) for i in feature]\n",
    "\n",
    "# Result\n",
    "print(\"Original Feature Data: \", feature)\n",
    "print(\"Scaled Feature Data: \", feature_scaled)"
   ]
  },
  {
   "cell_type": "markdown",
   "id": "bb00586c-1625-4563-a4a2-c1c9b978008b",
   "metadata": {},
   "source": [
    "# 8."
   ]
  },
  {
   "cell_type": "markdown",
   "id": "4df0845d-80ea-4404-a3c8-8726c491a954",
   "metadata": {},
   "source": [
    "Let's randomly assign data to each of the feature given, so that we can apply feature extraction process using PCA in python.<br>"
   ]
  },
  {
   "cell_type": "code",
   "execution_count": 122,
   "id": "56788f51-de50-477c-85b1-a0d1762d9878",
   "metadata": {},
   "outputs": [],
   "source": [
    "# Importing Libraries\n",
    "import pandas as pd\n",
    "import numpy as np\n",
    "from sklearn.decomposition import PCA\n",
    "from sklearn.preprocessing import StandardScaler as sc"
   ]
  },
  {
   "cell_type": "code",
   "execution_count": 123,
   "id": "b22fa9ee-8281-49e5-a4c4-cad471674780",
   "metadata": {},
   "outputs": [],
   "source": [
    "np.random.seed(20)\n",
    "\n",
    "# Populating features with data\n",
    "height = np.random.randint(2,6,10)\n",
    "weight = np.random.randint(2,6,10)\n",
    "age = np.random.randint(2,6,10)\n",
    "gender = np.array([round(i) for i in np.random.rand(10)]) #It will be 0 and where 0-male & 1-female\n",
    "bp = np.random.randint(0,3,10)  # It will be 0,1,2 where 0-low bp, 1-normal bp, & 2-high bp\n",
    "\n",
    "# Converting data into dataframe\n",
    "dic= {\n",
    "    \"height\":height,\n",
    "    \"weight\":weight,\n",
    "    \"age\":age,\n",
    "    \"gender\":gender,\n",
    "    \"bp\":bp\n",
    "}\n",
    "df = pd.DataFrame(dic)"
   ]
  },
  {
   "cell_type": "code",
   "execution_count": 124,
   "id": "66919934-af0f-4139-ade6-23be79a7ad0a",
   "metadata": {},
   "outputs": [],
   "source": [
    "# Normalizing Data\n",
    "scaler = sc()\n",
    "scaler.fit(df)\n",
    "data_scaled = scaler.transform(df)\n",
    "df_scaled = pd.DataFrame(data_scaled,columns=[\"height\",\"weight\",\"age\",\"gender\",\"bp\"])\n",
    "# df_scaled"
   ]
  },
  {
   "cell_type": "code",
   "execution_count": 125,
   "id": "8b5f6e70-d953-4593-94ed-89d9f97114fc",
   "metadata": {},
   "outputs": [
    {
     "name": "stdout",
     "output_type": "stream",
     "text": [
      "Shape of original dataset:  (10, 5)\n",
      "Shape of dataset after PCA:  (10, 5)\n"
     ]
    }
   ],
   "source": [
    "# Applying PCA\n",
    "pca = PCA(n_components = 0.95) #If 0 < n_components < 1 and svd_solver == 'full', \n",
    "                               # select the number of components such that the amount of variance that needs to be explained is greater \n",
    "                               # than the percentage specified by n_components.\n",
    "pca.fit(data_scaled)\n",
    "data_pca = pca.transform(data_scaled)\n",
    "\n",
    "# Printing Result\n",
    "print(\"Shape of original dataset: \",data_scaled.shape)\n",
    "print(\"Shape of dataset after PCA: \",data_pca.shape)"
   ]
  },
  {
   "cell_type": "code",
   "execution_count": 126,
   "id": "e3beeb09-b3d6-45a6-a34e-2db532b59960",
   "metadata": {},
   "outputs": [
    {
     "data": {
      "image/png": "[encoded data removed]",
      "text/plain": [
       "<Figure size 1200x600 with 1 Axes>"
      ]
     },
     "metadata": {},
     "output_type": "display_data"
    }
   ],
   "source": [
    "# Setting figure size\n",
    "plt.figure(figsize=(12,6))\n",
    "\n",
    "# Data for plotting\n",
    "xi = np.arange(1, 6, step=1) # For total principal components\n",
    "y = np.cumsum(pca.explained_variance_ratio_)\n",
    "\n",
    "# Setting value for y-axisa and x-axis\n",
    "plt.ylim(0.0,1.1)\n",
    "plt.xticks(np.arange(0, 6, step=1)) #change from 0-based array index to 1-based human-readable label\n",
    "\n",
    "# Plotting Data\n",
    "plt.plot(xi, y, marker='o', linestyle='--', color='b')\n",
    "plt.axhline(y=0.95, color='r', linestyle='-')\n",
    "\n",
    "\n",
    "plt.title('The number of components needed to explain variance')\n",
    "plt.xlabel('Number of Principal Components')\n",
    "plt.ylabel('Cumulative variance (%)')\n",
    "plt.text(1, 0.85, '95% cut-off threshold', color = 'red', fontsize=16)\n",
    "\n",
    "# Showing Data\n",
    "plt.show()"
   ]
  },
  {
   "cell_type": "markdown",
   "id": "43a5c51e-2267-447c-b9ae-83ea1d1ff9c4",
   "metadata": {},
   "source": [
    "As per the question of, how many principal components to be retain, then we should follow the following statement;<br><br>\n",
    "- Ideally, we can choose total number of principal components as there are features in our dataset, but it will not help us to achieve the goal of PCA.\n",
    "- So, the optimal number of principal components is reached when the cumulative variance stops growing fast or we have obtained variance of greater than or equal to 95%.\n",
    "<br><br>\n",
    "Hence,<br>\n",
    "after observing the above plot (No. of PCs VS Cumulative Variances), we can cleary say that it will be better to go with four principal components for the dataset that we have currently. "
   ]
  },
  {
   "cell_type": "code",
   "execution_count": null,
   "id": "a0d016a3-80fb-425d-9e5a-847018180a7e",
   "metadata": {},
   "outputs": [],
   "source": []
  }
 ],
 "metadata": {
  "kernelspec": {
   "display_name": "Python 3 (ipykernel)",
   "language": "python",
   "name": "python3"
  },
  "language_info": {
   "codemirror_mode": {
    "name": "ipython",
    "version": 3
   },
   "file_extension": ".py",
   "mimetype": "text/x-python",
   "name": "python",
   "nbconvert_exporter": "python",
   "pygments_lexer": "ipython3",
   "version": "3.10.8"
  }
 },
 "nbformat": 4,
 "nbformat_minor": 5
}
