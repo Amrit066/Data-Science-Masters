{
 "cells": [
  {
   "cell_type": "markdown",
   "id": "1b100388-b17b-4fd1-91a7-9f9b2840b2cc",
   "metadata": {},
   "source": [
    "# Assignment Answers"
   ]
  },
  {
   "cell_type": "markdown",
   "id": "79b477d5-aebc-41ae-a85a-51e278cc0887",
   "metadata": {},
   "source": [
    "# 1."
   ]
  },
  {
   "cell_type": "markdown",
   "id": "b3cbaa89-1418-4caf-8963-4e12f6ee135a",
   "metadata": {},
   "source": [
    "Probability density function is a function that is used to determine the likelihood of occurences of all the outcomes in an experiment."
   ]
  },
  {
   "cell_type": "markdown",
   "id": "0a68e1d9-0072-42e1-bc65-03acecce77ae",
   "metadata": {},
   "source": [
    "# 2."
   ]
  },
  {
   "cell_type": "markdown",
   "id": "1f07267b-9f11-4804-a0dd-f1cde15b8a04",
   "metadata": {},
   "source": [
    "There are mainly two types of probability distribution, as mentioned below:<br><br>\n",
    "1. Discrete Probability Distribution\n",
    "- It is used to show the distribution of discrete random variables using probability distribution functions.\n",
    "- Discrete Uniform Distribution, Binomial Distribution, Bernoulli Distribution, are some of the examples of discrete probability distribution.\n",
    "<br><br>\n",
    "1. Continuous Probability Distribution\n",
    "- It is used to show the distribution of continuous random variables using probability distribution functions.\n",
    "- Normal or Gaussian Distribution, Standard Normal Distribution, Student's T Distribution, are some of the examples of discrete probability distribution.\n",
    "<br><br>"
   ]
  },
  {
   "cell_type": "markdown",
   "id": "8ec6d9fd-f45a-4e9e-ad25-86111348be88",
   "metadata": {},
   "source": [
    "# 3."
   ]
  },
  {
   "cell_type": "code",
   "execution_count": 8,
   "id": "42b4c0a0-ca83-4e64-89a2-3a4555f95007",
   "metadata": {},
   "outputs": [],
   "source": [
    "# importing library\n",
    "from scipy import stats"
   ]
  },
  {
   "cell_type": "code",
   "execution_count": 41,
   "id": "5fea832f-dded-46e9-a3a2-1f05ce9ab86d",
   "metadata": {},
   "outputs": [
    {
     "name": "stdin",
     "output_type": "stream",
     "text": [
      "Enter mean:  100\n",
      "Enter standard deviation:  12\n",
      "Enter point to calculate pdf about:  87\n"
     ]
    }
   ],
   "source": [
    "# taking input\n",
    "mean= int(input(\"Enter mean: \"))\n",
    "std= int(input(\"Enter standard deviation: \"))\n",
    "point= int(input(\"Enter point to calculate pdf about: \"))"
   ]
  },
  {
   "cell_type": "code",
   "execution_count": 42,
   "id": "c49b33d1-a95b-4f71-948a-964e3ea2d5da",
   "metadata": {},
   "outputs": [
    {
     "name": "stdout",
     "output_type": "stream",
     "text": [
      "PDF: 0.0185\n"
     ]
    }
   ],
   "source": [
    "# calculating pdf\n",
    "pdf = stats.norm(mean,std).pdf(point)\n",
    "# displaying result\n",
    "print(\"PDF: {:.4f}\".format(pdf))"
   ]
  },
  {
   "cell_type": "markdown",
   "id": "d6bdca43-9e0f-4ff1-a1ac-1ace7a7f4a7e",
   "metadata": {},
   "source": [
    "# 4."
   ]
  },
  {
   "cell_type": "markdown",
   "id": "2163c1e8-2114-4f9b-8032-4a135b3be574",
   "metadata": {},
   "source": [
    "- The most important property of binomial distribution is that, it has binary outcome. That is the outcome of each independent trial is either success or failure.\n",
    "- The number of trial is fixed.\n",
    "- The probability of success or failure remains the same for each trial.\n",
    "- Each given trial is independent of other.\n",
    "- Example:<br><br>\n",
    "    - Getting head in toss a of coin in n-trials.\n",
    "    - Getting 3 in roll of a coin in n-trials."
   ]
  },
  {
   "cell_type": "markdown",
   "id": "eaa1c9c9-480b-4a2f-8fb8-8f3edb4fc301",
   "metadata": {},
   "source": [
    "# 5."
   ]
  },
  {
   "cell_type": "code",
   "execution_count": 10,
   "id": "135fd40c-a6cc-484e-9762-8f000e7757e0",
   "metadata": {},
   "outputs": [],
   "source": [
    "# importing library\n",
    "import numpy as np\n",
    "import matplotlib.pyplot as plt"
   ]
  },
  {
   "cell_type": "code",
   "execution_count": 32,
   "id": "1784fbbe-07a7-4c6b-b760-2fdfbc4d2a40",
   "metadata": {},
   "outputs": [
    {
     "data": {
      "image/png": "[encoded data removed]",
      "text/plain": [
       "<Figure size 1000x600 with 1 Axes>"
      ]
     },
     "metadata": {},
     "output_type": "display_data"
    }
   ],
   "source": [
    "# generating sample\n",
    "sample = np.random.binomial(1000,0.4,1000)\n",
    "# plotting histogram\n",
    "plt.figure(figsize=(10,6))\n",
    "plt.hist(sample,bins=100,color='orange')\n",
    "plt.xlabel(\"Data\")\n",
    "plt.ylabel(\"Count\")\n",
    "plt.title(\"Histogram Of Binomial Distribution\")\n",
    "plt.show()"
   ]
  },
  {
   "cell_type": "markdown",
   "id": "3747fe3d-ebd5-4e99-aaf8-447343503b6b",
   "metadata": {},
   "source": [
    "# 6."
   ]
  },
  {
   "cell_type": "code",
   "execution_count": 45,
   "id": "3c23dc17-0d0f-4f21-a66a-5035835f0dec",
   "metadata": {},
   "outputs": [],
   "source": [
    "# importing library\n",
    "from scipy import stats\n",
    "import numpy as np"
   ]
  },
  {
   "cell_type": "code",
   "execution_count": 53,
   "id": "f444be2d-cfac-484a-bcf4-7aae6af6f3e3",
   "metadata": {},
   "outputs": [
    {
     "name": "stdin",
     "output_type": "stream",
     "text": [
      "Enter mean:  12\n",
      "Enter point to calculate pdf about:  7\n"
     ]
    }
   ],
   "source": [
    "# taking input\n",
    "mean= int(input(\"Enter mean: \"))\n",
    "point= int(input(\"Enter point to calculate pdf about: \"))"
   ]
  },
  {
   "cell_type": "code",
   "execution_count": 55,
   "id": "863ed022-7138-491d-b60f-5043c90b00c0",
   "metadata": {},
   "outputs": [
    {
     "name": "stdout",
     "output_type": "stream",
     "text": [
      "CDF: 0.3385\n"
     ]
    }
   ],
   "source": [
    "# generating data of type poisson distribution\n",
    "poisson = np.random.poisson(mean, 100)\n",
    "# calculating cdf\n",
    "cdf = stats.norm(mean,std).cdf(point)\n",
    "# displaying result\n",
    "print(\"CDF: {:.4f}\".format(cdf))"
   ]
  },
  {
   "cell_type": "markdown",
   "id": "8bf0933c-300c-46ad-80d9-c9846a666875",
   "metadata": {},
   "source": [
    "# 7."
   ]
  },
  {
   "cell_type": "markdown",
   "id": "3fbe0b75-edb5-4605-9457-24948a78e120",
   "metadata": {},
   "source": [
    "1. Binomial Distribution\n",
    "- It gives number of successess in different independent experiment sequences.\n",
    "- It is a type of distribution which has only two possible outcomes, that is either success or failure.\n",
    "- It is based on two parameters.\n",
    "- Number of trials is fixed in this case.\n",
    "2. Poisson Distribution\n",
    "- It gives the count of independent events occur randomly with a given period of time.\n",
    "- It can have any number of outcome.\n",
    "- It is based on only one parameter.\n",
    "- Number of trials can be different.\n"
   ]
  },
  {
   "cell_type": "markdown",
   "id": "3a95f2dd-8d2f-411f-b6fd-71800ac8ac51",
   "metadata": {},
   "source": [
    "# 8."
   ]
  },
  {
   "cell_type": "code",
   "execution_count": 58,
   "id": "0b645a2b-3624-4daa-baaa-e701f4bc5a25",
   "metadata": {},
   "outputs": [],
   "source": [
    "# importing library\n",
    "import numpy as np"
   ]
  },
  {
   "cell_type": "code",
   "execution_count": 67,
   "id": "50a807d0-fdff-4155-996e-9e058cdb3cbc",
   "metadata": {},
   "outputs": [],
   "source": [
    "# generating sample data of type poisson distribution\n",
    "sample = np.random.poisson(5, 1000)\n"
   ]
  },
  {
   "cell_type": "code",
   "execution_count": null,
   "id": "e8197196-cee4-43c9-b7ef-93eb3225396c",
   "metadata": {},
   "outputs": [],
   "source": [
    "\n",
    "# Calculating sample mean\n",
    "mean = sum(sample)/(len(sample)-1)\n",
    "# Calculating sample variance\n",
    "var =(np.std(sample)**2)*len(sample)/(len(sample)-1)\n",
    "\n",
    "# printing result\n",
    "print(\"Sample mean: {:.4f}\".format(mean))\n",
    "print(\"Sample variance: {:.4f}\".format(var))"
   ]
  },
  {
   "cell_type": "markdown",
   "id": "7c641e96-72f3-4f51-9729-7ea60a6ba753",
   "metadata": {},
   "source": [
    "# 9."
   ]
  },
  {
   "cell_type": "markdown",
   "id": "ee5284eb-0cb8-4351-939d-18d1a330becd",
   "metadata": {},
   "source": [
    "- In Binomial distribution, variance is equal to the product of mean and probability of failure.\n",
    "- While, in Poisson distribution, both mean and variance are equal."
   ]
  },
  {
   "cell_type": "markdown",
   "id": "235ef699-4ffb-4b72-a113-87fd981dba0c",
   "metadata": {},
   "source": [
    "# 10."
   ]
  },
  {
   "cell_type": "markdown",
   "id": "5c1e807f-f0fa-487d-954b-717f834ba1e2",
   "metadata": {},
   "source": [
    "In normal distribution with respect to the mean position, the least frequent data appear at the end of the distribution graph on both sides of the mean. That's the least frequent data can be found after 2nd standard deviation from the mean."
   ]
  }
 ],
 "metadata": {
  "kernelspec": {
   "display_name": "Python 3 (ipykernel)",
   "language": "python",
   "name": "python3"
  },
  "language_info": {
   "codemirror_mode": {
    "name": "ipython",
    "version": 3
   },
   "file_extension": ".py",
   "mimetype": "text/x-python",
   "name": "python",
   "nbconvert_exporter": "python",
   "pygments_lexer": "ipython3",
   "version": "3.10.8"
  }
 },
 "nbformat": 4,
 "nbformat_minor": 5
}
