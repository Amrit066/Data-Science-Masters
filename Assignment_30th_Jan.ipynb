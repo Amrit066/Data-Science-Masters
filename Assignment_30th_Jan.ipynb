{
 "cells": [
  {
   "cell_type": "markdown",
   "id": "ffbee4f3-97a0-476d-b2d7-3f67ccb61418",
   "metadata": {},
   "source": [
    "# Assignment Answers"
   ]
  },
  {
   "cell_type": "markdown",
   "id": "618dbfd2-24d5-43fe-a5ad-80a66c7af0ba",
   "metadata": {
    "tags": []
   },
   "source": [
    "### 1."
   ]
  },
  {
   "cell_type": "code",
   "execution_count": null,
   "id": "2b709c89-bb65-451e-95df-1eaa121e7c8a",
   "metadata": {},
   "outputs": [],
   "source": [
    "# Taking input\n",
    "percentage=float(input(\"Enter your percentage: \"))\n",
    "\n",
    "# Checking percentage and displaying respective grade\n",
    "if(percentage>90):\n",
    "    print(\"A\")\n",
    "elif(80<percentage<=90):\n",
    "    print(\"B\")\n",
    "elif(60<=percentage<=80):\n",
    "    print(\"C\")\n",
    "else:\n",
    "    print(\"D\")"
   ]
  },
  {
   "cell_type": "markdown",
   "id": "b43568bf-d883-4429-ab81-f3c08f74ff90",
   "metadata": {},
   "source": [
    "### 2."
   ]
  },
  {
   "cell_type": "code",
   "execution_count": null,
   "id": "89ef194d-4615-4b34-a924-485662105375",
   "metadata": {},
   "outputs": [],
   "source": [
    "# Taking input\n",
    "cp=float(input(\"Enter the cost price of the bike: \"))\n",
    "\n",
    "# Calculating and displaying tax to be paid\n",
    "if(cp>100000):\n",
    "    print(cp*0.15)\n",
    "elif(50000<=cp<=100000):\n",
    "    print(cp*0.10)\n",
    "else:\n",
    "    print(cp*0.05)"
   ]
  },
  {
   "cell_type": "markdown",
   "id": "cf044b40-ebe4-4916-87e0-2a22b1a84ebc",
   "metadata": {},
   "source": [
    "### 3."
   ]
  },
  {
   "cell_type": "code",
   "execution_count": null,
   "id": "6ab3b002-9d0c-4254-9973-45dbf4e1de1e",
   "metadata": {},
   "outputs": [],
   "source": [
    "# Taking Input\n",
    "city=input(\"Enter city name: \")\n",
    "\n",
    "# Displaying corresponding Monument\n",
    "if(city.capitalize()==\"Delhi\"):\n",
    "    print(\"Red Fort\")\n",
    "elif(city.capitalize()==\"Agra\"):\n",
    "    print(\"Taj Mahal\")\n",
    "elif(city.capitalize()==\"Jaipur\"):\n",
    "    print(\"Jal Mahal\")\n",
    "else:\n",
    "    print(\"Monument Not Found\")"
   ]
  },
  {
   "cell_type": "markdown",
   "id": "b8768130-ac0d-4020-833b-6a07668f7857",
   "metadata": {},
   "source": [
    "### 4."
   ]
  },
  {
   "cell_type": "code",
   "execution_count": null,
   "id": "eb778469-80e7-420a-b740-8809b388c12e",
   "metadata": {},
   "outputs": [],
   "source": [
    "# Taking input\n",
    "n=int(input(\"Enter a number: \"))\n",
    "\n",
    "count=0\n",
    "# Checking until n<=10\n",
    "while(n>10):\n",
    "    count+=1\n",
    "    n/=3\n",
    "# Displaying the count\n",
    "print(count)"
   ]
  },
  {
   "cell_type": "markdown",
   "id": "5f9c05e2-a91c-4924-8525-5b12be553280",
   "metadata": {},
   "source": [
    "### 5."
   ]
  },
  {
   "cell_type": "raw",
   "id": "050b35cc-e1c9-4bfa-ae2f-c3eee24e8a11",
   "metadata": {},
   "source": [
    "The while loop in Python is used when we have to execute a certain set of statements repeatedly.\n",
    "It can be used in the program if any of the following given points are satisfied:\n",
    "\n",
    "(i) When we want to check for a condition to met before executing  the statements.\n",
    "    Eg:- Suppose we ask user to enter non-negative number as input. \n",
    "        Here, we can use while to repeatedly ask the user to give the input until condition is met (i.e., proper input is provided).\n",
    "        \n",
    "        n=int(input(\"Enter a number: \"))\n",
    "        while(n<0):\n",
    "            print(\"Wrong Input!!!\")\n",
    "            n=int(input(\"Enter a number: \"))\n",
    "        \n",
    "\n",
    "(ii) To perform an operation repeatedly until the condition becomes false.\n",
    "    Eg:- To print first 10 positive integers.\n",
    "         n=1\n",
    "         while(n<=10):\n",
    "             print(n)\n",
    "             n+=1"
   ]
  },
  {
   "cell_type": "markdown",
   "id": "417eadfa-e591-4b22-a059-fa1e6e309770",
   "metadata": {},
   "source": [
    "### 6."
   ]
  },
  {
   "cell_type": "markdown",
   "id": "b4b2fd94-19a6-4d4b-832e-49ef97c718a6",
   "metadata": {},
   "source": [
    "##### (i) Right Angled Triangle Pattern"
   ]
  },
  {
   "cell_type": "code",
   "execution_count": null,
   "id": "6a6a7bec-9f47-4e84-951a-59e69b60d152",
   "metadata": {},
   "outputs": [],
   "source": [
    "# Taking no. of row to be printed as input\n",
    "n=int(input(\"Enter number of rows: \"))\n",
    "\n",
    "# Printing the pattern\n",
    "m=n\n",
    "while(n):\n",
    "    i=0\n",
    "    while(m-n>=i):\n",
    "        print(\"*\",end=\"\")\n",
    "        i+=1\n",
    "    print()\n",
    "    n-=1\n",
    "    "
   ]
  },
  {
   "cell_type": "markdown",
   "id": "1ece7f6c-488a-48da-a6f5-e6d73c327652",
   "metadata": {
    "tags": []
   },
   "source": [
    "##### (ii) Mirrored Right Angled Triangle Pattern"
   ]
  },
  {
   "cell_type": "code",
   "execution_count": null,
   "id": "6a669886-e2f9-4ff3-b463-13abc401e749",
   "metadata": {},
   "outputs": [],
   "source": [
    "# Taking no. of row to be printed as input\n",
    "n=int(input(\"Enter number of rows: \"))\n",
    "\n",
    "# Printing the pattern\n",
    "m=n\n",
    "while(n):\n",
    "    i=n-1\n",
    "    while(i):\n",
    "        print(\" \",end=\"\")\n",
    "        i-=1\n",
    "    while(m-n>=i):\n",
    "        print(\"*\",end=\"\")\n",
    "        i+=1\n",
    "    print()\n",
    "    n-=1\n",
    "    "
   ]
  },
  {
   "cell_type": "markdown",
   "id": "fb7695bc-ff48-4ace-8c2c-f2542c31aa80",
   "metadata": {},
   "source": [
    "##### (iii) Equilateral Triangle Pattern"
   ]
  },
  {
   "cell_type": "code",
   "execution_count": null,
   "id": "af49ce70-ea53-4768-9ce3-83cb4ce9a157",
   "metadata": {},
   "outputs": [],
   "source": [
    "# Taking no. of row to be printed as input\n",
    "n=int(input(\"Enter number of rows: \"))\n",
    "\n",
    "# Printing the pattern\n",
    "m=n\n",
    "while(n):\n",
    "    i=n-1\n",
    "    while(i):\n",
    "        print(\" \",end=\"\")\n",
    "        i-=1\n",
    "    while(m-n>i):\n",
    "        print(\"*\",end=\"\")\n",
    "        i+=1\n",
    "    i=0\n",
    "    while(m-n>=i):\n",
    "        print(\"*\",end=\"\")\n",
    "        i+=1\n",
    "    print()\n",
    "    n-=1"
   ]
  },
  {
   "cell_type": "markdown",
   "id": "1a3e89fe-c3f1-4082-a41c-cf9c746bb90c",
   "metadata": {
    "tags": []
   },
   "source": [
    "### 7."
   ]
  },
  {
   "cell_type": "code",
   "execution_count": null,
   "id": "066111af-8484-4a54-aeaf-43822b20c2c8",
   "metadata": {},
   "outputs": [],
   "source": [
    "# Declaring variable with value 10\n",
    "n=10\n",
    "\n",
    "# Printing vale in reverse order till 1\n",
    "while(n):\n",
    "    print(n,end=\" \")\n",
    "    n-=1"
   ]
  },
  {
   "cell_type": "markdown",
   "id": "d0e6b878-ac8f-4924-9e89-afd69ada18c5",
   "metadata": {},
   "source": [
    "### 8."
   ]
  },
  {
   "cell_type": "code",
   "execution_count": null,
   "id": "9b6dc73f-2d4b-468b-b146-69673a1b31b1",
   "metadata": {},
   "outputs": [],
   "source": [
    "# Declaring variable with value 10\n",
    "n=10\n",
    "\n",
    "# Printing vale in reverse order till 1\n",
    "while(n):\n",
    "    print(n,end=\" \")\n",
    "    n-=1"
   ]
  }
 ],
 "metadata": {
  "kernelspec": {
   "display_name": "Python 3 (ipykernel)",
   "language": "python",
   "name": "python3"
  },
  "language_info": {
   "codemirror_mode": {
    "name": "ipython",
    "version": 3
   },
   "file_extension": ".py",
   "mimetype": "text/x-python",
   "name": "python",
   "nbconvert_exporter": "python",
   "pygments_lexer": "ipython3",
   "version": "3.10.8"
  }
 },
 "nbformat": 4,
 "nbformat_minor": 5
}
