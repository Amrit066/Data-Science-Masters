{
 "cells": [
  {
   "cell_type": "markdown",
   "id": "ad54f92a-0993-4e74-acc4-0a1210deac31",
   "metadata": {},
   "source": [
    "# Assignment Answers"
   ]
  },
  {
   "cell_type": "markdown",
   "id": "af3f0416-5b0d-44ae-9d3a-7d15a3cdc0ee",
   "metadata": {},
   "source": [
    "# 1."
   ]
  },
  {
   "cell_type": "code",
   "execution_count": null,
   "id": "826626f9-9b9f-456c-8c90-80ff80509e72",
   "metadata": {},
   "outputs": [],
   "source": [
    "# Importing Library\n",
    "import pandas as pd"
   ]
  },
  {
   "cell_type": "code",
   "execution_count": null,
   "id": "91304175-54f7-46e3-9151-9e7e1dcf8e91",
   "metadata": {},
   "outputs": [],
   "source": [
    "# Declaring a list type variable to convert into pandas series data type\n",
    "List=[4,8,15,16,23,42]\n",
    "# Type Checking\n",
    "type(List)"
   ]
  },
  {
   "cell_type": "code",
   "execution_count": null,
   "id": "a7700cdc-7037-4e69-9838-ee4c352a22c3",
   "metadata": {},
   "outputs": [],
   "source": [
    "# To pandas series\n",
    "series1 = pd.Series(List)\n",
    "# Displaying\n",
    "print(\"Series is : \\n\", series1)\n",
    "print(\"Type : \",type(series1))"
   ]
  },
  {
   "cell_type": "markdown",
   "id": "3a19e2db-a5fa-4b64-b454-a62ce332a568",
   "metadata": {},
   "source": [
    "# 2."
   ]
  },
  {
   "cell_type": "code",
   "execution_count": null,
   "id": "6589c913-832c-41d6-ae0d-f6cc6440cefb",
   "metadata": {},
   "outputs": [],
   "source": [
    "# Importing Library\n",
    "import pandas as pd"
   ]
  },
  {
   "cell_type": "code",
   "execution_count": null,
   "id": "f5a8b178-e889-4bb9-8cd3-034e8b2e0c5a",
   "metadata": {},
   "outputs": [],
   "source": [
    "# Declaring a list type variable to convert into pandas series data type\n",
    "List=list(range(5,15))\n",
    "# Type Checking\n",
    "type(List)"
   ]
  },
  {
   "cell_type": "code",
   "execution_count": null,
   "id": "8b054f7b-e67a-467b-9be2-cd84b7d7495b",
   "metadata": {},
   "outputs": [],
   "source": [
    "# To pandas series\n",
    "series2 = pd.Series(List)\n",
    "# Displaying\n",
    "print(\"Series is : \\n\", series2)\n",
    "print(\"Type : \",type(series2))"
   ]
  },
  {
   "cell_type": "markdown",
   "id": "0362eb04-5017-4dbd-bb7d-555c656688db",
   "metadata": {},
   "source": [
    "# 3."
   ]
  },
  {
   "cell_type": "code",
   "execution_count": null,
   "id": "5d17a07c-15d6-4318-9215-79320864ba39",
   "metadata": {},
   "outputs": [],
   "source": [
    "# Importing Library\n",
    "import pandas as pd"
   ]
  },
  {
   "cell_type": "code",
   "execution_count": null,
   "id": "a8169329-232d-44bf-942d-616af71b3dcf",
   "metadata": {},
   "outputs": [],
   "source": [
    "# Declaring a dictionary type variable to convert into pandas dataframe data type\n",
    "Dict={\n",
    "       \"Name\"   : [\"Alice\",\"Bob\",\"Claire\"],\n",
    "       \"Age\"    : [25,30,27],\n",
    "       \"Gender\" : [\"Female\",\"Male\",\"Female\"]\n",
    "     }\n",
    "# Type Checking\n",
    "type(Dict)"
   ]
  },
  {
   "cell_type": "code",
   "execution_count": null,
   "id": "d8d4337b-8fa7-4012-834e-dc38ba925828",
   "metadata": {},
   "outputs": [],
   "source": [
    "# To pandas dataframe\n",
    "df = pd.DataFrame(Dict)\n",
    "# Displaying\n",
    "print(\"DataFrame is : \\n\", df)\n",
    "print(\"Type : \",type(df))"
   ]
  },
  {
   "cell_type": "markdown",
   "id": "dc6865b7-7f0b-49e8-bf21-7abeb97d12a9",
   "metadata": {},
   "source": [
    "# 4."
   ]
  },
  {
   "cell_type": "markdown",
   "id": "d34f16f5-f07c-4233-b16b-b52f9fbda872",
   "metadata": {},
   "source": [
    "##### Part-1:<br><br>\n",
    "- The Pandas DataFrame is a two-dimensional framework with scalable columns and rows. \n",
    "- We can consider it a dictionary of Series items as well.\n",
    "<br><br>\n",
    "##### Part-2:<br><br>\n",
    "- The difference between DataFrame and Series is that, a dataframe can be made of more than one series, or we can say that a dataframe is a collection of series that can be used to analyse the data. \n",
    "- Whereas, Series can only hold a single list with an index.\n",
    "<br><br>\n",
    "- Example"
   ]
  },
  {
   "cell_type": "markdown",
   "id": "84b5a305-4b9e-4f85-9f98-d082406a6cdb",
   "metadata": {},
   "source": [
    "- For DataFrame"
   ]
  },
  {
   "cell_type": "code",
   "execution_count": null,
   "id": "c593cfd2-8f50-4457-b5c9-78387b9aa897",
   "metadata": {},
   "outputs": [],
   "source": [
    "# Declaring a dictionary type variable to convert into pandas dataframe data type\n",
    "Dict={\n",
    "       \"Name\"   : [\"Alice\",\"Bob\",\"Claire\"],\n",
    "       \"Age\"    : [25,30,27],\n",
    "       \"Gender\" : [\"Female\",\"Male\",\"Female\"]\n",
    "     }\n",
    "# To pandas dataframe\n",
    "df = pd.DataFrame(Dict)\n",
    "# Displaying\n",
    "print(\"DataFrame is : \\n\", df)\n",
    "print(\"Type : \",type(df))"
   ]
  },
  {
   "cell_type": "markdown",
   "id": "0f0148fd-23fa-4877-a82d-c38caeb81397",
   "metadata": {},
   "source": [
    "- For Series"
   ]
  },
  {
   "cell_type": "code",
   "execution_count": null,
   "id": "e71d97cd-b32a-4981-8bee-ad8f5dd7876c",
   "metadata": {},
   "outputs": [],
   "source": [
    "# Declaring a list type variable to convert into pandas series data type\n",
    "List=list(range(5,15))\n",
    "# To pandas series\n",
    "series2 = pd.Series(List)\n",
    "# Displaying\n",
    "print(\"Series is : \\n\", series2)\n",
    "print(\"Type : \",type(series2))"
   ]
  },
  {
   "cell_type": "markdown",
   "id": "a133a658-ca75-426e-a69d-611eeb52f61d",
   "metadata": {},
   "source": [
    "# 5."
   ]
  },
  {
   "cell_type": "markdown",
   "id": "3a0f2670-0f3f-4800-8196-21ce486bcc33",
   "metadata": {},
   "source": [
    "Some common functions that we can use to manipulate data in a Pands DatFrame are:<br><br>\n",
    "1. head():\n",
    "- It is used to fetch/display the rows of a DataFrame.\n",
    "- It fetches first five rows at default, but we can pass an argument as to specify number of rows we wanted to be fetched.\n",
    "- It can be used when we only want limited number of rows and that also from the start.\n",
    "2. tail():\n",
    "- It is used to fetch/display the rows of a DataFrame.\n",
    "- It fetches last five rows at default, but we can pass an argument as to specify number of rows we wanted to be fetched.\n",
    "- It can be used when we only want limited number of rows and that also from the end.\n",
    "3. dtypes:\n",
    "- It is used to describe the data types for each column present in the dataframe.\n",
    "- It can be used to tell us the data types of the columns before performing any operations.\n",
    "4. describe():\n",
    "- It is used to generate descriptive statistics of the data in a Pandas DataFrame. \n",
    "- It helps in getting a quick overview of the dataset.\n",
    "- It can be used when we want short statistical summary of the data present in DataFrames.\n",
    "5. iloc():\n",
    "- It takes as a parameter the rows and column indices and gives you the subset of the DataFrame accordingly.\n",
    "- It can be used when we want specified rows and columns for data manipulation."
   ]
  },
  {
   "cell_type": "markdown",
   "id": "1af6e759-f639-4a35-ae93-ded1e5493bab",
   "metadata": {},
   "source": [
    "# 6."
   ]
  },
  {
   "cell_type": "markdown",
   "id": "7ec5c690-5a54-4464-b26c-cd5cf69aea55",
   "metadata": {},
   "source": [
    "1. Series:\n",
    "- It is not size mutable i.e., size can't be changed.\n",
    "- While, its data can be changed.\n",
    "2. DataFrame:\n",
    "- It is size mutable i.e., its size can be changed.\n",
    "- And, its data can also be changed.\n",
    "3. Panel:\n",
    "- It is size mutable i.e., its size can be changed.\n",
    "- And, its data can also be changed."
   ]
  },
  {
   "cell_type": "markdown",
   "id": "0b69d7a0-d375-4622-878d-f555ebc9c16d",
   "metadata": {},
   "source": [
    "# 7."
   ]
  },
  {
   "cell_type": "code",
   "execution_count": null,
   "id": "96b5328f-ff38-478a-84e2-c1ef08552a3e",
   "metadata": {},
   "outputs": [],
   "source": [
    "# Importing Libraries\n",
    "import pandas as pd"
   ]
  },
  {
   "cell_type": "code",
   "execution_count": null,
   "id": "9fd041fa-7aa0-4511-b8a8-38496d4e9cae",
   "metadata": {},
   "outputs": [],
   "source": [
    "# Declaring multiple series\n",
    "s1 = pd.Series([\"Alice\",\"Bob\",\"Claire\"])\n",
    "s2 = pd.Series([25,30,27])\n",
    "s3 = pd.Series([\"Female\",\"Male\",\"Female\"])\n",
    "\n",
    "# Creating DataFrame\n",
    "df = pd.DataFrame({\"Name\" : s1, \"Age\" : s2, \"Gender\" : s3})"
   ]
  },
  {
   "cell_type": "code",
   "execution_count": null,
   "id": "66a03752-7ef9-400c-a3f1-550e3a48f37e",
   "metadata": {},
   "outputs": [],
   "source": [
    "# Displaying DataFrame\n",
    "print(\"DatFrame is : \\n\",df)"
   ]
  },
  {
   "cell_type": "code",
   "execution_count": null,
   "id": "caba2b61-8099-4d59-a139-3468b9cdc08a",
   "metadata": {},
   "outputs": [],
   "source": []
  }
 ],
 "metadata": {
  "kernelspec": {
   "display_name": "Python 3 (ipykernel)",
   "language": "python",
   "name": "python3"
  },
  "language_info": {
   "codemirror_mode": {
    "name": "ipython",
    "version": 3
   },
   "file_extension": ".py",
   "mimetype": "text/x-python",
   "name": "python",
   "nbconvert_exporter": "python",
   "pygments_lexer": "ipython3",
   "version": "3.10.8"
  }
 },
 "nbformat": 4,
 "nbformat_minor": 5
}
