{
 "cells": [
  {
   "cell_type": "markdown",
   "id": "f7f22660-c139-4a07-b074-f37aab19b969",
   "metadata": {},
   "source": [
    "# Assignment Answers"
   ]
  },
  {
   "cell_type": "markdown",
   "id": "807f4c09-f295-4bad-87b1-ed1463cbcb5f",
   "metadata": {},
   "source": [
    "# 1."
   ]
  },
  {
   "cell_type": "markdown",
   "id": "d0155959-0c83-49f3-ae2f-04f74c291240",
   "metadata": {},
   "source": [
    "Statistics is the branch of science that deals with the collection, arrangement, and analysis of data so that conclusions can be derived from it by applying appropriate scientific methods with the use of mathematical tools."
   ]
  },
  {
   "cell_type": "markdown",
   "id": "21f34af0-f9ef-444e-88af-77ee3bd0ab68",
   "metadata": {},
   "source": [
    "# 2."
   ]
  },
  {
   "cell_type": "markdown",
   "id": "94f69c0d-e552-4be2-bddd-c4f404cf0f47",
   "metadata": {},
   "source": [
    "There are two types of statistics as given below:<br><br>\n",
    "1. Descriptive Statistics \n",
    "- This type of statistics collects the data and then give the summary or description about the collected data.\n",
    "- It is used when we want to get only the summary of the data.\n",
    "2. Inferential Statistics\n",
    "- It is the type of statistics which gives the inferences about the population based on the summary of sample data.\n",
    "- It is used when we want to get the information about the population from the sample data."
   ]
  },
  {
   "cell_type": "markdown",
   "id": "f3def8e4-9147-4241-abf2-707831b00200",
   "metadata": {},
   "source": [
    "# 3."
   ]
  },
  {
   "cell_type": "markdown",
   "id": "747d6bc3-744e-41b7-bff4-c227e8663417",
   "metadata": {},
   "source": [
    "There are basically two types of data and these are categorized below:<br><br>\n",
    "1. Qualitative Data\n",
    "- It is a type of data that does not possess any numerical capability.\n",
    "- It is also called __Categorical Data__, as data can be classified into different categories.\n",
    "- It can be further classified into __nominal__ and __ordinal__ data.\n",
    "- Example: Gender of a person.\n",
    "2. Quantitative Data\n",
    "- Data that have numerical meaning to it, is called Qualitative Data.\n",
    "- Arithmetic operations can be performed on such type of data.\n",
    "- It can be further classified into __interval__ and __ratio__ data.\n",
    "- Example: Height of a person."
   ]
  },
  {
   "cell_type": "markdown",
   "id": "d13cef0d-3ba1-4709-9e94-47610a60d206",
   "metadata": {},
   "source": [
    "# 4."
   ]
  },
  {
   "cell_type": "markdown",
   "id": "e1596856-5cec-4e0f-a153-fd477acec37a",
   "metadata": {},
   "source": [
    "(i) Qualitative data<br>\n",
    "(ii) Qualitative data<br>\n",
    "(iii) Quantitative data<br>\n",
    "(iv) Quantitative data<br>"
   ]
  },
  {
   "cell_type": "markdown",
   "id": "fc4ce1a1-0590-447e-99cc-4dcef4b411e0",
   "metadata": {},
   "source": [
    "# 5."
   ]
  },
  {
   "cell_type": "markdown",
   "id": "d1f67d55-f8c9-4ab9-9f7f-c8c3562c2da5",
   "metadata": {},
   "source": [
    "- Levels of measurement are deined as the ways to collect and analyze data.\n",
    "- It is also called __scale of measurement__.\n",
    "- It depends on the purpose of study and the type of data on which the selection of an appropriate level is being dependent.\n",
    "- There are basically 4 level of measurement as given below;\n",
    "    1. Nominal Level\n",
    "    - Example : Gender of person\n",
    "    2. Ordinal Level\n",
    "    - Example : Rank of persons in a race\n",
    "    3. Interval Level\n",
    "    - Example : Measuring of temperature\n",
    "    4. Ratio Level\n",
    "    - Example : Measuring height of perons"
   ]
  },
  {
   "cell_type": "markdown",
   "id": "d406a883-e983-4614-82a8-63966e70d27b",
   "metadata": {},
   "source": [
    "# 6."
   ]
  },
  {
   "cell_type": "markdown",
   "id": "57c1e54d-a582-413a-9a80-6963b88f8e75",
   "metadata": {},
   "source": [
    "- Understanding the degree of measurement of the variables used in the analysis is crucial because it affects the kind of statistical analysis that can be performed and the conclusions that can be drawn from it.\n",
    "- It also allows statisticians and analysts to more efficiently plan for research and present their findings.\n",
    "- We can underatand its importance from the example given below:<br><br>\n",
    "Let's use data collection as an illustration to determine the types of vehicles people prefer to drive. Use a scale with labels like electric cars, diesel cars, hybrid cars, etc. to gather this kind of data. For this reason, a nominal range of measurement will be employed. A ratio scale of measurement can also be used if the researcher wishes to determine the average weight of residents in a community."
   ]
  },
  {
   "cell_type": "markdown",
   "id": "3c4b690d-240f-4ca5-aaa0-a6b8c9b973d3",
   "metadata": {},
   "source": [
    "# 7."
   ]
  },
  {
   "cell_type": "markdown",
   "id": "c2e83c5c-5060-47e3-9fae-d7e6a33d4827",
   "metadata": {},
   "source": [
    "The difference between the nominal and ordinal data types are given below:<br><br>\n",
    "1. Nomianal Data\n",
    "- It can be labelled.\n",
    "- Order and rank doesn't matter for these data types.\n",
    "- Example: Gender of a person.\n",
    "2. Ordinal Data\n",
    "- It can also be labelled.\n",
    "- Order and rank does matter for these data types.\n",
    "- Nominal data can also be called as ordinal data but vice-versa is not true.\n",
    "- Example: Grades of students"
   ]
  },
  {
   "cell_type": "markdown",
   "id": "e96eda19-963a-4add-869c-7ab4f7a24d32",
   "metadata": {},
   "source": [
    "# 8."
   ]
  },
  {
   "cell_type": "markdown",
   "id": "4f494cc9-a096-4863-b1fb-849d42d64500",
   "metadata": {},
   "source": [
    "Range chart, or Box or Whisker plot can be used to display data in terms of range."
   ]
  },
  {
   "cell_type": "markdown",
   "id": "931d37bd-2af5-4578-ab14-2d3056b51e24",
   "metadata": {},
   "source": [
    "# 9."
   ]
  },
  {
   "cell_type": "markdown",
   "id": "21da7ec5-e897-47ef-9d5b-f3d98c0e35d8",
   "metadata": {},
   "source": [
    "The difference between descriptive and inferential statistics are given below:<br><br>\n",
    "1. Descriptive Statistics \n",
    "- This type of statistics collects the data and then give the summary or description about the collected data.\n",
    "- It is simply used to organize and summarize the collected data.\n",
    "- It is used when we want to get only the summary of the data.\n",
    "- Calculation of central tendency is an example of descriptive statistics.\n",
    "2. Inferential Statistics\n",
    "- It is the type of statistics which gives the inferences about the population based on the summary of sample data.\n",
    "- It generalizes a large dataset and applies probabilities to draw conclusions.\n",
    "- It is used when we want to get the information about the population from the sample data.\n",
    "- Performing hypothesis testing is an example of inferential statistics."
   ]
  },
  {
   "cell_type": "markdown",
   "id": "6c43b52a-0cc7-414c-bcc4-bcc86e8ca75a",
   "metadata": {},
   "source": [
    "# 10."
   ]
  },
  {
   "cell_type": "markdown",
   "id": "5c9c2929-1bc5-4805-a9e9-c027762c3d32",
   "metadata": {},
   "source": [
    "##### Part-1: Measure of central tendency<br><br>\n",
    "- Measure of central tendency is also known as summary statistics that is used to represents the center point or a particular value of a data set or sample set.\n",
    "- In statistics, there are three common measures of central tendency as shown below:\n",
    "1. Mean :\n",
    "    - It is measure of average of all value in a sample set.\n",
    "2. Median :\n",
    "    - It is measure of central value of a sample set. In these, data set is ordered from lowest to highest value and then finds exact middle.\n",
    "3. Mode :\n",
    "    - It is value most frequently arrived in sample set. The value repeated most of time in central set is actually mode.\n",
    "<br><br>\n",
    "##### Part-2: Measure of variability<br><br>\n",
    "- Measure of Variability is also known as measure of dispersion and used to describe variability in a sample or population. \n",
    "- In statistics, there are three common measures of variability as shown below::\n",
    "1. Range :\n",
    "    - It is given measure of how to spread apart values in sample set or data set.\n",
    "    - It is calculated by subtracting minimum value from maximum value. \n",
    "2. Variance :\n",
    "    - It simply describes how much a random variable defers from expected value and it is also computed as square of deviation.\n",
    "3. Dispersion :\n",
    "    - It is measure of dispersion of set of data from its mean.    "
   ]
  },
  {
   "cell_type": "code",
   "execution_count": null,
   "id": "fc0b8fe9-6920-447e-a23e-9dbe0aab4732",
   "metadata": {},
   "outputs": [],
   "source": []
  }
 ],
 "metadata": {
  "kernelspec": {
   "display_name": "Python 3 (ipykernel)",
   "language": "python",
   "name": "python3"
  },
  "language_info": {
   "codemirror_mode": {
    "name": "ipython",
    "version": 3
   },
   "file_extension": ".py",
   "mimetype": "text/x-python",
   "name": "python",
   "nbconvert_exporter": "python",
   "pygments_lexer": "ipython3",
   "version": "3.10.8"
  }
 },
 "nbformat": 4,
 "nbformat_minor": 5
}
