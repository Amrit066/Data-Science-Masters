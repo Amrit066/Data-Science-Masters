{
 "cells": [
  {
   "cell_type": "markdown",
   "id": "35a7a2ec-3612-4c9d-8a9c-557497f86643",
   "metadata": {},
   "source": [
    "# Assignment Answers"
   ]
  },
  {
   "cell_type": "markdown",
   "id": "cd49ef01-05ca-41a4-a240-31a6966198a1",
   "metadata": {},
   "source": [
    "# 1."
   ]
  },
  {
   "cell_type": "markdown",
   "id": "0f7b7af7-551e-432a-90eb-905bbc882d38",
   "metadata": {},
   "source": [
    "##### Part-1:<br><br>\n",
    "A database is basically a repository which is used to store data in a systematic and structured form, so that they can be accessed easily.<br><br>\n",
    "##### Part-2:<br><br>\n",
    "__(i) SQL__<br>\n",
    "- It is used to store data in the form of tables i.e., rows and columns.\n",
    "- It uses predefined schemas to store data.\n",
    "- It is a type Relational Database Management System(RDBMS).\n",
    "- MySQL, MS SQL, Oracle are some of the examples of SQL.<br><br>\n",
    "__(ii) NoSQL__<br>\n",
    "- It can store data in the form documents, JSON, wide columns, etc.\n",
    "- It does not use predefined schema ts.\n",
    "- It is a type of Non-Relational Database Sytem(Non-RDBMS) or Distributed Database Systems.\n",
    "- MongoDB, Cassandra, Neo4j are some of the examples of NoSQL."
   ]
  },
  {
   "cell_type": "markdown",
   "id": "347d9640-c690-4cec-9df7-2fbb70f706c6",
   "metadata": {},
   "source": [
    "# 2."
   ]
  },
  {
   "cell_type": "markdown",
   "id": "e82fc667-e708-4fe4-ad30-451b35bade48",
   "metadata": {},
   "source": [
    "The SQL statements that can be used to specify the database schema constitute DDL, or Data Definition Language. It is used to create and modify the structure of database objects in the database and only works with descriptions of the database schema. Although data cannot be created, modified, or deleted with DDL, database structures can.<br><br>\n",
    "\n",
    "__(i) CREATE__: It is used to create the database or its objects like table, index, function, views, store procedure, and triggers.<br>\n",
    "- Example: Suppose we want to create a Student table having fname, lname, roll_no, phone_no, as its column."
   ]
  },
  {
   "cell_type": "code",
   "execution_count": null,
   "id": "de006b50-a579-44d9-aeb3-5ca1aef18dc6",
   "metadata": {},
   "outputs": [],
   "source": [
    "CREATE TABLE if not exists Student(fname VARCHAR(20), lname VARCHAR(20), roll_no INTEGER, phone_no INTEGER);"
   ]
  },
  {
   "cell_type": "markdown",
   "id": "20ccf177-9320-454a-93ad-c6477ef7a246",
   "metadata": {},
   "source": [
    "__(ii) DROP__: It is used to delete objects from the database. <br>\n",
    "- Example: Suppose there is a Student table having fname, lname, roll_no, phone_no, as its column.\n"
   ]
  },
  {
   "cell_type": "code",
   "execution_count": null,
   "id": "50d73b78-b348-418d-aef7-156eca635494",
   "metadata": {},
   "outputs": [],
   "source": [
    "DROP TABLE Student;  "
   ]
  },
  {
   "cell_type": "markdown",
   "id": "c02426f5-e645-4b02-8752-c5ecaf85c409",
   "metadata": {},
   "source": [
    "__(iii) ALTER__: It is used to alter the structure of the database. <br>\n",
    "- Example: Suppose there is a Student table having fname, lname, roll_no, phone_no, as its column, and we want to add another column named email."
   ]
  },
  {
   "cell_type": "code",
   "execution_count": null,
   "id": "ade13427-008c-4ad1-85e3-a0f9c9ddd6a2",
   "metadata": {},
   "outputs": [],
   "source": [
    "ALTER TABLE Student ADD email VARCHAR(50);  "
   ]
  },
  {
   "cell_type": "markdown",
   "id": "199af5fb-19b9-43fb-ab93-8c518354be58",
   "metadata": {},
   "source": [
    "__(iv) TRUNCATE__: It is used to remove all records from a table, including all spaces allocated for the records are removed. <br>\n",
    "- Example: Suppose there is a Student table having fname, lname, roll_no, phone_no, as its column, and we want to delete all records from it ."
   ]
  },
  {
   "cell_type": "code",
   "execution_count": null,
   "id": "683abac9-f4f3-4461-b028-1156b785f2d4",
   "metadata": {},
   "outputs": [],
   "source": [
    "TRUNCATE TABLE Student;"
   ]
  },
  {
   "cell_type": "markdown",
   "id": "735e69f4-2d47-49a9-aa33-ca2f0af166ad",
   "metadata": {},
   "source": [
    "# 3."
   ]
  },
  {
   "cell_type": "markdown",
   "id": "23cab24f-f9ad-498b-ae21-d580842a60a3",
   "metadata": {},
   "source": [
    "The majority of SQL statements are part of DML, or Data Manipulation Language, which is used to manipulate data that is present in databases. It is part of the SQL statement in charge of managing database and data access.<br><br>\n",
    "\n",
    "__(i) INSERT__: It is used to insert data into a table.<br>\n",
    "- Example: Suppose there is a Student table having fname, lname, roll_no, phone_no, as its column."
   ]
  },
  {
   "cell_type": "code",
   "execution_count": null,
   "id": "f366d014-6e5c-4f46-891e-ce0dcdc67c22",
   "metadata": {},
   "outputs": [],
   "source": [
    "INSERT INTO Student(\"Abhay\",\"Singh\",140,8877665544);"
   ]
  },
  {
   "cell_type": "markdown",
   "id": "9b3827dd-7afe-406c-aeb2-47c74a875766",
   "metadata": {},
   "source": [
    "__(ii) UPDATE__:  It is used to update existing data of row or column within a table. <br>\n",
    "- Example: Suppose there is a Student table having fname, lname, roll_no, phone_no, as its column."
   ]
  },
  {
   "cell_type": "code",
   "execution_count": null,
   "id": "10fadd37-0998-4a4c-8ad1-740a24ce59f1",
   "metadata": {},
   "outputs": [],
   "source": [
    "UPDATE Student SET fname=\"Amrit\" WHERE roll_n0=140;"
   ]
  },
  {
   "cell_type": "markdown",
   "id": "06d4955d-f5f6-4c9b-bd6b-bebb9c7cf71d",
   "metadata": {},
   "source": [
    "__(iii) DELETE__: It is used to delete records from a database table. <br>\n",
    "- Example: Suppose there is a Student table having fname, lname, roll_no, phone_no, as its column."
   ]
  },
  {
   "cell_type": "code",
   "execution_count": null,
   "id": "856cf125-c44f-457e-ac6e-a0402d313973",
   "metadata": {},
   "outputs": [],
   "source": [
    "DELETE FROM Student WHERE roll_no=140;"
   ]
  },
  {
   "cell_type": "markdown",
   "id": "7e9e0aa4-83be-43ae-b2ef-3f32f6ed2559",
   "metadata": {},
   "source": [
    "# 4."
   ]
  },
  {
   "cell_type": "markdown",
   "id": "840fee18-7dd2-4acb-879d-70f1b79a1731",
   "metadata": {},
   "source": [
    "DQL statements are used to run queries on the information contained in schema objects. The DQL Command's objective is to obtain a schema relation based on the query that is supplied to it. It can be explained as follows: It's part of a SQL statement that enables retrieving data from a database and applying order to it.<br><br>\n",
    "\n",
    "__(i) SELECT__: It is used to retrieve data from the database.<br><br>\n",
    "Example: Let's suppose there is a table named \"Student\" and we want to select all the column from the table. Then query goes as follows,"
   ]
  },
  {
   "cell_type": "code",
   "execution_count": null,
   "id": "41bcc352-bd2a-47c3-8abb-a23059710e0f",
   "metadata": {},
   "outputs": [],
   "source": [
    "SELECT * FROM Student;"
   ]
  },
  {
   "cell_type": "markdown",
   "id": "bb3d8c7a-da31-449c-92a3-f9eb870dacf2",
   "metadata": {},
   "source": [
    "# 5."
   ]
  },
  {
   "cell_type": "markdown",
   "id": "77fe6876-0539-4530-a9b2-266529620a62",
   "metadata": {},
   "source": [
    "__(i)Primary Key__ <br>\n",
    "- It is a single or a group of two or more columns in a relational database table.\n",
    "- It contains unique and non-null values.\n",
    "- It is used to uniquely identify all the records in a given relation.\n",
    "- It can either be part of the existing column in table or can be explicitly created.<br><br>\n",
    "__(ii) Foreign Key__ <br>\n",
    "- It is also a single or a group of two or more columns in a relational database table.\n",
    "- It may contain duplicate or null values.\n",
    "- It is used to used to establish a relationship between two or more tables.\n",
    "- Those colums can be designated as foreign key, which contains common data from two or more tables."
   ]
  },
  {
   "cell_type": "markdown",
   "id": "0c223f15-7e5a-4956-b351-2899251cedde",
   "metadata": {},
   "source": [
    "# 6."
   ]
  },
  {
   "cell_type": "markdown",
   "id": "b7ad51ba-01b2-4463-b213-e7fc36ea0636",
   "metadata": {},
   "source": [
    "##### Part-1:<br>\n",
    "To connect MySQL to python follow the given below steps.<br>\n",
    "__STEP-1:__ At first, import mysql.connector"
   ]
  },
  {
   "cell_type": "markdown",
   "id": "a62d425a-f28d-489b-8226-d73eaf0713ce",
   "metadata": {},
   "source": [
    "__STEP-2:__ Then establish a connection using the __connect()__ method, where we need to specify __host__, __user__, and __password__. And connection will be established."
   ]
  },
  {
   "cell_type": "code",
   "execution_count": null,
   "id": "7849d3fe-7c34-4069-8602-2e025a2f565f",
   "metadata": {},
   "outputs": [],
   "source": [
    "# Importing library\n",
    "import mysql.connector as Connector"
   ]
  },
  {
   "cell_type": "code",
   "execution_count": null,
   "id": "f37b208e-6d60-4f44-bb64-54e8c852cff9",
   "metadata": {},
   "outputs": [],
   "source": [
    "# Establishing connection\n",
    "connection= Connector.connect(\n",
    "    host=\"localhost\"    # give proper host name,\n",
    "    user=\"abc\"          # provide correct user name, and\n",
    "    password=\"password\" # provide correct password\n",
    ")"
   ]
  },
  {
   "cell_type": "markdown",
   "id": "c910b782-d966-4c6a-991c-9d74c3179927",
   "metadata": {},
   "source": [
    "__STEP-3:__ Finally, we can define a cursor object to execute our query."
   ]
  },
  {
   "cell_type": "code",
   "execution_count": null,
   "id": "84922b78-b584-45fc-9ccf-45809d212096",
   "metadata": {},
   "outputs": [],
   "source": [
    "# Defining cursor\n",
    "Cursor=connection.cursor()"
   ]
  },
  {
   "cell_type": "markdown",
   "id": "1198149f-87fd-463d-af88-00f55d8a436c",
   "metadata": {},
   "source": [
    "##### Part-2:<br><br>\n",
    "__(i) cursor__<br>\n",
    "- It is used to return a cursor object which helps to execute the query and fetch the records from the database.\n",
    "- The cursor plays a very important role in executing the query. \n",
    "- Example:<br>"
   ]
  },
  {
   "cell_type": "code",
   "execution_count": null,
   "id": "45028699-e5a9-4f3a-acf4-3d7f16d39402",
   "metadata": {},
   "outputs": [],
   "source": [
    "# Importing library\n",
    "import mysql.connector as Connector\n",
    "\n",
    "# Establishing connection\n",
    "connection= Connector.connect(\n",
    "    host=\"localhost\"    # give proper host name,\n",
    "    user=\"abc\"          # provide correct user name, and\n",
    "    password=\"password\" # provide correct password\n",
    ")\n",
    "\n",
    "# Defining cursor\n",
    "Cursor=connection.cursor()"
   ]
  },
  {
   "cell_type": "markdown",
   "id": "f0067d7f-54aa-4301-a30c-bf341454405d",
   "metadata": {},
   "source": [
    "__(ii) execute__<br>\n",
    "- This method helps us to execute the query and return records according to the query.\n",
    "- Example:<br>"
   ]
  },
  {
   "cell_type": "code",
   "execution_count": null,
   "id": "6d20c99a-a24f-41f2-bc2e-529bdf60ae12",
   "metadata": {},
   "outputs": [],
   "source": [
    "# Importing library\n",
    "import mysql.connector as Connector\n",
    "\n",
    "# Establishing connection\n",
    "connection= Connector.connect(\n",
    "    host=\"localhost\"    # give proper host name,\n",
    "    user=\"abc\"          # provide correct user name, and\n",
    "    password=\"password\" # provide correct password\n",
    ")\n",
    "\n",
    "# Defining cursor\n",
    "Cursor=connection.cursor()\n",
    "\n",
    "# Executing query\n",
    "Cursor.execute(\"SELECT * FROM Table_Name\")"
   ]
  },
  {
   "cell_type": "markdown",
   "id": "80e0341e-4a68-415d-bca1-2f23a01ec8f9",
   "metadata": {},
   "source": [
    "# 7."
   ]
  },
  {
   "cell_type": "markdown",
   "id": "db5c2751-66f6-4d1d-afa6-63d9ae360294",
   "metadata": {},
   "source": [
    "The SQL order of execution defines the order in which the clauses of a query are evaluated. The order in which SQL Clauses are evaluated is give below.<br><br>\n",
    "__1. FROM/JOIN__: The FROM and/or JOIN clauses are executed first to determine the data of interest.\n",
    "\n",
    "__2. WHERE__: The WHERE clause is executed to filter out records that do not meet the constraints.\n",
    "\n",
    "__3. GROUP BY__: The GROUP BY clause is executed to group the data based on the values in one or more columns.\n",
    "\n",
    "__4. HAVING__: The HAVING clause is executed to remove the created grouped records that don’t meet the constraints.\n",
    "\n",
    "__5. SELECT__: The SELECT clause is executed to derive all desired columns and expressions.\n",
    "\n",
    "__6. ORDER BY__: The ORDER BY clause is executed to sort the derived values in ascending or descending order.\n",
    "\n",
    "__7. LIMIT/OFFSET__: Finally, the LIMIT and/or OFFSET clauses are executed to keep or skip a specified number of rows."
   ]
  },
  {
   "cell_type": "code",
   "execution_count": null,
   "id": "890cb0da-6b30-4e53-8cbe-180666adcd28",
   "metadata": {},
   "outputs": [],
   "source": []
  }
 ],
 "metadata": {
  "kernelspec": {
   "display_name": "Python 3 (ipykernel)",
   "language": "python",
   "name": "python3"
  },
  "language_info": {
   "codemirror_mode": {
    "name": "ipython",
    "version": 3
   },
   "file_extension": ".py",
   "mimetype": "text/x-python",
   "name": "python",
   "nbconvert_exporter": "python",
   "pygments_lexer": "ipython3",
   "version": "3.10.8"
  }
 },
 "nbformat": 4,
 "nbformat_minor": 5
}
