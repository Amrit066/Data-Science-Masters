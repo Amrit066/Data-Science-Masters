{
 "cells": [
  {
   "cell_type": "markdown",
   "id": "6eb18e3b-55be-4972-902c-f3863289f8d7",
   "metadata": {},
   "source": [
    "# Assignment Answers"
   ]
  },
  {
   "cell_type": "code",
   "execution_count": null,
   "id": "38023fac-28c1-48da-bed3-8a1bdfdf61cb",
   "metadata": {},
   "outputs": [],
   "source": [
    "# Importing Libraries\n",
    "import pandas as pd\n",
    "import numpy as np\n",
    "import matplotlib.pyplot as plt\n",
    "import seaborn as sns\n",
    "import warnings\n",
    "warnings.filterwarnings(\"ignore\")"
   ]
  },
  {
   "cell_type": "code",
   "execution_count": null,
   "id": "eaf44fc1-f26c-4cd7-b353-a4b1fb6abe54",
   "metadata": {},
   "outputs": [],
   "source": [
    "# Defining datasets path\n",
    "wine_data = 'Datasets/winequality-red.csv'\n",
    "student_data = 'Datasets/StudentsPerformance.csv'"
   ]
  },
  {
   "cell_type": "markdown",
   "id": "e6a06693-368b-471a-a50b-1635b75c2ae1",
   "metadata": {},
   "source": [
    "# 1."
   ]
  },
  {
   "cell_type": "markdown",
   "id": "2fbc5ee1-dfd5-4ef9-b64f-c780ceebd875",
   "metadata": {},
   "source": [
    "The key features of wine quality datasets with their importance are listed below:<br><br>\n",
    "1. fixed acidity\n",
    "- Primary fixed acids found in wine are tartaric, succinic, citric, and malic\n",
    "- The wine's acidity is what makes it tasting young and vibrant. \n",
    "- It enhances a wine's overall balance and lends wines a tart, tangy flavour. \n",
    "- It also influences how well a wine will age and makes it a contender for excellent food pairings.\n",
    "2. volatile acidity\n",
    "- Volatile acidity is the gaseous acids present in wine.\n",
    "3. residual sugar\n",
    "- Amount of sugar left after fermentation.\n",
    "4. chlorides\n",
    "- Amount of salt present in wine.\n",
    "5. free sulfur dioxide\n",
    "- So2 is used for prevention of wine by oxidation and microbial spoilage.\n",
    "6. pH\n",
    "-  In wine pH is used for checking acidity\n",
    "7. sulphates\n",
    "- Added sulfites preserve freshness and protect wine from oxidation, and bacteria.\n",
    "8. alcohol\n",
    "- Percent of alcohol present in wine."
   ]
  },
  {
   "cell_type": "markdown",
   "id": "196cbc3b-f5eb-4e14-80f8-9a11be18ceca",
   "metadata": {},
   "source": [
    "# 2."
   ]
  },
  {
   "cell_type": "code",
   "execution_count": null,
   "id": "11924e79-d546-4732-aa18-ddb52c1b0f96",
   "metadata": {},
   "outputs": [],
   "source": [
    "# Loading Dataset \n",
    "df = pd.read_csv(wine_data,delimiter=';')\n",
    "\n",
    "# Checking missing data for each feature\n",
    "df.isnull().sum()"
   ]
  },
  {
   "cell_type": "markdown",
   "id": "5aa589cf-0ad7-4a9b-ba3b-0fbf131ee299",
   "metadata": {},
   "source": [
    "After analyzing the adove dataset, we find that there was not any missing data in any of the features present\n",
    "<br><br>\n",
    "Advantages and disadvantages of imputation techniques are given below.<br><br>\n",
    "1. Mean/Median Imputation<br><br>\n",
    "Advantages<br><br>\n",
    "- Simplicity and ease of implementation are some of the benefits of the mean and median imputation.\n",
    "- The imputation is performed using the existing information from the non-missing data; hence no additional data is required.\n",
    "- Mean and median imputation can provide a good estimate of the missing values, respectively for normally distributed data, and skewed data.\n",
    "<br><br>\n",
    "Disadvantages<br><br>\n",
    "- We cannot apply these two strategies to categorical columns. They can only work for numerical ones.\n",
    "- Mean imputation is sensitive to outliers and may not be a good representation of the central tendency of the data. Similarly to the mean, the median also may not better represent the central tendency.\n",
    "- Median imputation makes the assumption that the data is missing completely at random (MCAR), which is not always true. \n",
    "<br><br>\n",
    "2. Random Sample Imputation<br><br>\n",
    "Advantages<br><br>\n",
    "- This is an easy and straightforward technique.\n",
    "- It tackles both numerical and categorical data types.\n",
    "- There is less distortion in data variance, and it also preserves the original distribution of the data, which is not the case for mean, median, and more.\n",
    "<br><br>\n",
    "Disadvantages<br><br>\n",
    "- The randomness does not necessarily work for every situation, and this can infuse noise in the data, hence leading to incorrect statistical conclusions. \n",
    "- Similarly to the mean and median, this approach also assumes that the data is missing completely at random (MCAR).\n",
    "<br><br>\n",
    "3. Multiple Imputation<br><br>\n",
    "Advantages<br><br>\n",
    "- Multiple imputation is powerful at dealing with missing data in multiple variables and multiple data types. \n",
    "- The approach can produce much better results than mean and median imputations. \n",
    "- Many other algorithms, such as K-Nearest Neighbors, Random forest, and neural networks, can be used as the backbone of the multiple imputation prediction for making predictions. \n",
    "<br><br>\n",
    "Disadvantages<br><br>\n",
    "- Multiple imputation assumes that the data is missing at random (MAR).\n",
    "- Despite all the benefits, this approach can be computationally expensive compared to other techniques, especially when working with large datasets. \n",
    "- This approach requires more effort than the previous ones."
   ]
  },
  {
   "cell_type": "markdown",
   "id": "427cfd05-6740-46e1-844f-ea615d33bd03",
   "metadata": {},
   "source": [
    "# 3."
   ]
  },
  {
   "cell_type": "markdown",
   "id": "32de62ae-d014-48f0-b01e-84d7047b63c0",
   "metadata": {},
   "source": [
    "The key factors that affect the student's performance in an exam can be:<br><br>\n",
    "1. Family background: What educational qualification they have?\n",
    "2. Difficulty in understanding: If it takes time to understand things or not?\n",
    "3. Unhealthy lifestyle: It is related to food, sleep, meditation, etc.\n",
    "4. Proper Study: Whether the student has studied everything or not?"
   ]
  },
  {
   "cell_type": "markdown",
   "id": "5faf8f48-af8e-4985-bb9f-71028cd26fdc",
   "metadata": {},
   "source": [
    "The statistical techniques that we can use to analyze these factors are discussed below:<br><br>\n",
    "1. Finding correlation between the variables: We can find relation between each category with the exam results in order to know whether they have any positive or negative effect on their results.\n",
    "2. Using diagrams: There are different diagrams available to know about the distribution and relationships between different features, like heatmap, using which we can analyze what all features are affecting student's performance."
   ]
  },
  {
   "cell_type": "markdown",
   "id": "4db2793a-6a96-434f-b27b-dd4cb46f4dec",
   "metadata": {},
   "source": [
    "# 4."
   ]
  },
  {
   "cell_type": "code",
   "execution_count": null,
   "id": "d33935df-ec04-4342-b0d5-13b7f39d3855",
   "metadata": {},
   "outputs": [],
   "source": [
    "# Loading Dataset\n",
    "df = pd.read_csv(student_data)"
   ]
  },
  {
   "cell_type": "markdown",
   "id": "6d78ffb7-d8ab-466c-832f-18285b17105f",
   "metadata": {},
   "source": [
    "Let's check for the types of each feature ."
   ]
  },
  {
   "cell_type": "code",
   "execution_count": null,
   "id": "a27a2414-68bd-4777-aabc-86df4357aaf3",
   "metadata": {},
   "outputs": [],
   "source": [
    "df.dtypes"
   ]
  },
  {
   "cell_type": "markdown",
   "id": "1846add6-d21b-425b-9604-eb07defb78de",
   "metadata": {},
   "source": [
    "From the above output we can observe that there are many features which are categorical in nature.<br><br>\n",
    "1. First, we will perform data encoding"
   ]
  },
  {
   "cell_type": "code",
   "execution_count": null,
   "id": "81706169-986f-454d-a395-c77b5395fbc7",
   "metadata": {},
   "outputs": [],
   "source": [
    "df_new = pd.get_dummies(data=df,columns= [\"gender\",\"race/ethnicity\",\"parental level of education\",\"lunch\",\"test preparation course\"])\n"
   ]
  },
  {
   "cell_type": "markdown",
   "id": "2dfd3287-597b-4171-8f04-8a73dfdb6d0a",
   "metadata": {},
   "source": [
    "2. Now, we will create another column showing the percentage of total marks"
   ]
  },
  {
   "cell_type": "code",
   "execution_count": null,
   "id": "dec91bcc-fa1f-4134-8f62-c1755ffb3296",
   "metadata": {},
   "outputs": [],
   "source": [
    "df_new[\"percentage\"] = (df_new['math score']+df_new['reading score']+df_new['writing score'])/3"
   ]
  },
  {
   "cell_type": "markdown",
   "id": "cc5ce5e2-e65d-4a7e-b14d-6eb563816da0",
   "metadata": {},
   "source": [
    "3. As we have to test overall performance of the student, that's why we can rely on percentage feature for it and can drop the rest"
   ]
  },
  {
   "cell_type": "code",
   "execution_count": null,
   "id": "df00dbf7-09e1-4884-bda1-9987d0bb266f",
   "metadata": {},
   "outputs": [],
   "source": [
    "df_new.drop(['math score','reading score','writing score'],axis=1,inplace=True)"
   ]
  },
  {
   "cell_type": "markdown",
   "id": "3669eedf-fc8e-49aa-aa5c-034a8125aa37",
   "metadata": {},
   "source": [
    "4. Finaaly, we can go for feature selection using different algorithms"
   ]
  },
  {
   "cell_type": "markdown",
   "id": "e373607f-f2a9-41c8-8793-c611f30bf928",
   "metadata": {},
   "source": [
    "# 5."
   ]
  },
  {
   "cell_type": "code",
   "execution_count": null,
   "id": "6bdf8b2f-054f-4d56-91f2-1a918f0388a1",
   "metadata": {},
   "outputs": [],
   "source": [
    "# Loading Datset\n",
    "df = pd.read_csv(wine_data,delimiter=';')\n",
    "\n",
    "# Showing Data\n",
    "df.head()"
   ]
  },
  {
   "cell_type": "code",
   "execution_count": null,
   "id": "b9cdc64a-5e15-47d1-8f84-68f1ce86f267",
   "metadata": {},
   "outputs": [],
   "source": [
    "# Showing distribution of each feature\n",
    "plt.figure(figsize=(12,6))\n",
    "plt.suptitle(\"Distribution Plot For Various Features\")\n",
    "\n",
    "for i in range(len(df.columns)):\n",
    "    plt.subplot(4,3,i+1)\n",
    "    sns.kdeplot(x=df[df.columns[i]],shade=True,color=\"r\")\n",
    "    plt.xlabel(df.columns[i])\n",
    "    plt.tight_layout()\n",
    "                "
   ]
  },
  {
   "cell_type": "markdown",
   "id": "c88b741c-db72-4d0a-8f08-3ebd3b478157",
   "metadata": {},
   "source": [
    "Features that exhibit non-normality are:<br><br>\n",
    "- free sulfur dioxide\n",
    "- alcohol\n",
    "- total sulphur dioxide\n",
    "- residual sugar\n",
    "- sulphates"
   ]
  },
  {
   "cell_type": "markdown",
   "id": "26003474-69ce-457a-9cc8-98760ad76a57",
   "metadata": {},
   "source": [
    "Most of the features showing non-normality are right-skewed. And the distribution of data to the right of the mean is also less, which means there might be outliers present.<br>\n",
    "So, we can remoe the ouliers present from the features which may help us to get the normal distribution of these features."
   ]
  },
  {
   "cell_type": "markdown",
   "id": "6ea39434-2d3f-45f3-8f77-0f9116d972cc",
   "metadata": {},
   "source": [
    "# 6."
   ]
  },
  {
   "cell_type": "code",
   "execution_count": 71,
   "id": "48c4d58f-3265-46e9-b9a4-42861f3eecda",
   "metadata": {},
   "outputs": [],
   "source": [
    "# Importing Library\n",
    "from sklearn.decomposition import PCA\n",
    "from sklearn.preprocessing import StandardScaler as sc"
   ]
  },
  {
   "cell_type": "code",
   "execution_count": 55,
   "id": "caffa812-d33b-4bf8-9a98-e648fe7ca675",
   "metadata": {},
   "outputs": [],
   "source": [
    "# Loading dataset\n",
    "df = pd.read_csv(wine_data,delimiter=';')"
   ]
  },
  {
   "cell_type": "code",
   "execution_count": 81,
   "id": "420ab4c9-5d86-495d-8947-0e980955b0f5",
   "metadata": {},
   "outputs": [],
   "source": [
    "# Normalizing Data\n",
    "scaler = sc()\n",
    "scaler.fit(df)\n",
    "data_scaled = scaler.transform(df)\n",
    "df_scaled = pd.DataFrame(data_scaled,columns=['fixed acidity', 'volatile acidity', 'citric acid', 'residual sugar',\n",
    "       'chlorides', 'free sulfur dioxide', 'total sulfur dioxide', 'density',\n",
    "       'pH', 'sulphates', 'alcohol', 'quality'])\n"
   ]
  },
  {
   "cell_type": "code",
   "execution_count": 83,
   "id": "859ee556-4375-41dc-8507-9c0558d11e46",
   "metadata": {},
   "outputs": [
    {
     "data": {
      "image/png": "[encoded data removed]",
      "text/plain": [
       "<Figure size 1200x600 with 1 Axes>"
      ]
     },
     "metadata": {},
     "output_type": "display_data"
    }
   ],
   "source": [
    "# Setting figure size\n",
    "plt.figure(figsize=(12,6))\n",
    "\n",
    "pca = PCA().fit(df_scaled)\n",
    "\n",
    "# Plotting Data\n",
    "plt.plot(np.cumsum(pca.explained_variance_ratio_))\n",
    "plt.axhline(y=0.90, color='r', linestyle='-')\n",
    "\n",
    "\n",
    "plt.title('The number of components needed to explain variance')\n",
    "plt.xlabel('Number of Principal Components')\n",
    "plt.ylabel('Cumulative variance (%)')\n",
    "plt.text(1, 0.85, '90% cut-off threshold', color = 'red', fontsize=16)\n",
    "\n",
    "# Showing Data\n",
    "plt.show()"
   ]
  },
  {
   "cell_type": "markdown",
   "id": "81272562-f89f-48f5-af1a-2cda7dfb2dac",
   "metadata": {},
   "source": [
    "As per the question of, how many principal components to be retain, then we should follow the following statement;<br><br>\n",
    "- Ideally, we can choose the number of principal components as there are features in our dataset, but it will not help us to achieve the goal of PCA.\n",
    "- So, the optimal number of principal components is reached when the cumulative variance stops growing fast or we have obtained variance of greater than or equal to 90%.\n",
    "<br><br>\n",
    "Hence,<br>\n",
    "after observing the above plot (No. of PCs VS Cumulative Variances), we can cleary say that it will be better to go with eight principal components for the dataset that we have currently. "
   ]
  },
  {
   "cell_type": "code",
   "execution_count": null,
   "id": "330cfffe-c599-42d5-aad5-8a2bf15c96a7",
   "metadata": {},
   "outputs": [],
   "source": []
  }
 ],
 "metadata": {
  "kernelspec": {
   "display_name": "Python 3 (ipykernel)",
   "language": "python",
   "name": "python3"
  },
  "language_info": {
   "codemirror_mode": {
    "name": "ipython",
    "version": 3
   },
   "file_extension": ".py",
   "mimetype": "text/x-python",
   "name": "python",
   "nbconvert_exporter": "python",
   "pygments_lexer": "ipython3",
   "version": "3.10.8"
  }
 },
 "nbformat": 4,
 "nbformat_minor": 5
}
