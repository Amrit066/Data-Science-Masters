{
 "cells": [
  {
   "cell_type": "markdown",
   "id": "1bbcf6b4-f2ec-4bb2-bb11-bfe709825342",
   "metadata": {},
   "source": [
    "# Assignment Answers"
   ]
  },
  {
   "cell_type": "markdown",
   "id": "096f4a33-6a1a-4043-8236-9a64fce71b26",
   "metadata": {},
   "source": [
    "# 1."
   ]
  },
  {
   "cell_type": "markdown",
   "id": "0ca8d8cf-9adc-4a86-9e2d-f35d4b55c50d",
   "metadata": {},
   "source": [
    "1. z-test\n",
    "- It is a hypothesis testing in which z-statistic follows normal distribution.\n",
    "- It is used to verify the inferences about the population means on the basis of sample, when the sample size is large enough and population variance is given.\n",
    "2. t-test\n",
    "- It is also a hypothesis testing in which t-statistic is calculated which follows normal distribution.\n",
    "- It is used to verify the inferences about the population means on the basis of sample, when the sample size is sample and the population variance is not given.<br><br>\n",
    " For example, let's say that we have to perform hypothesis testing when the height of students in a college is 6 feet. But a sample of 35 students from the college have height of 5.5 feet with a population standard deviation of 0.7.<br><br>\n",
    " The, in this case we will perform z-test to verify the hypothesis."
   ]
  },
  {
   "cell_type": "markdown",
   "id": "9f2f35b4-223c-416e-909c-df5fd3f73227",
   "metadata": {},
   "source": [
    "# 2."
   ]
  },
  {
   "cell_type": "markdown",
   "id": "79f77977-5f2d-4dcb-b448-136eb38e2520",
   "metadata": {},
   "source": [
    "1. One-tailed test\n",
    "- It denotes the hypothesis testing, when we have to find the inferences in any one part of the probability distribution present after the confidence interval.\n",
    "- It is used to denote that either the population parameter is greater than or less than critical value.\n",
    "2. Two-tailed test\n",
    "- It denotes the hypothesis testing, when we have to find the inferences in both the part of the probability distribution present after the confidence interval.\n",
    "- It is used to denote that the population parameter is both greater than and less than critical value."
   ]
  },
  {
   "cell_type": "markdown",
   "id": "8852adde-2858-466c-8d0a-aac9ba045ef4",
   "metadata": {},
   "source": [
    "# 3."
   ]
  },
  {
   "cell_type": "markdown",
   "id": "5a6fce7d-2ff7-4a40-9cbe-cafa561baae9",
   "metadata": {},
   "source": [
    "1. Type-1 Error\n",
    "- During the hypothesis testing, when we prove that the null hypothesis is false based on the data obtained from test statistics, but in reality it is true. Then, this type of behaviour is called as Type-1 Error\".\n",
    "- Example: A person is condemned to crime, though he/she is not guilty or committed the crime.\n",
    "2. Type-2 Error\n",
    "- During the hypothesis testing, when we prove that the null hypothesis is true based on the data obtained from test statistics, but in reality it is false. Then, this type of behaviour is called as Type-2 Error\".\n",
    "- Example: A person is condemned not guilty when the court actually does commit the crime by letting the guilty one go free."
   ]
  },
  {
   "cell_type": "markdown",
   "id": "88cadacc-30eb-49c8-9c26-0206b69768cb",
   "metadata": {},
   "source": [
    "# 4."
   ]
  },
  {
   "cell_type": "markdown",
   "id": "f8d73f63-24e3-4e59-bc58-b5b76b205a79",
   "metadata": {},
   "source": [
    "- Bayes' Theorem states that the conditional probability of an event, based on the occurrence of another event, is equal to the likelihood of the second event given the first event multiplied by the probability of the first event.\n",
    "- It calculates the conditional probability of an event, based on the values of specific related known probabilities.\n",
    "- Example: Let a bag x contains 4 white and 6 black balls while another Bag y contains 4 white and 3 black balls. One ball is drawn at random from one of the bags, and it is found to be black. Find the probability that it was drawn from Bag x.\n",
    "<br><br>\n",
    "Let E1 be the event of choosing bag x, E2 the event of choosing bag y, and A be the event of drawing a black ball.<br>\n",
    "Then,<br><br>\n",
    "P(E1) = P(E2) = 1/2\n",
    "<br><br>\n",
    "Also,\n",
    "<br><br>P(A|E1) = P(drawing a black ball from Bag x) = 6/10 = 3/5<br>\n",
    "P(A|E2) = P(drawing a black ball from Bag y) = 3/7<br><br>\n",
    "\n",
    "Now, by using Bayes’ theorem, the probability of drawing a black ball from bag x out of two bags,<br><br>\n",
    "P(E1|A) = P(E1) * P(A|E1)/(P(E1) * P(A|E1)+P(E2) * P(A|E2))<br><br>\n",
    "P(E1|A) = 7/12"
   ]
  },
  {
   "cell_type": "markdown",
   "id": "b37e3419-e8e6-40be-bbae-faae8c048600",
   "metadata": {},
   "source": [
    "# 5."
   ]
  },
  {
   "cell_type": "markdown",
   "id": "153f1b43-e11d-4b7f-8000-6da7ddbeda63",
   "metadata": {},
   "source": [
    "##### Part-1:<br><br>\n",
    "- In statistics, a confidence interval describes the likelihood that a population parameter will lie between a set of values for a given percentage of the time.\n",
    "- It measure the degree of uncertainty or certainty in a sampling method.\n",
    "<br><br>\n",
    "##### Part-2: Calulation<br><br>\n",
    "- At first, we gather information such as mean of a sample, and standard deviation.\n",
    "- Then, we determine the level of confindence such as 95%, 98%, etc\n",
    "- Then based on the above data, we try to find either t-statistics or z-statistics, which gives us the CI.\n",
    "<br><br>\n",
    "##### Part-3: Example<br><br>\n",
    "Suppose a group of researchers is studying the heights of high school basketball players. The researchers take a random sample from the population and establish a mean height of 74 inches. <br>\n",
    "By establishing a 95% confidence interval using the sample's mean and standard deviation, and assuming a normal distribution as represented by the bell curve, the researchers arrive at an upper and lower bound that contains the true mean 95% of the time.<br><br>\n",
    "Assume the interval is between 72 inches and 76 inches. If the researchers take 100 random samples from the population of high school basketball players as a whole, the mean should fall between 72 and 76 inches in 95 of those samples.\n",
    "\n",
    "If the researchers want even greater confidence, they can expand the interval to 99% confidence. Doing so invariably creates a broader range, as it makes room for a greater number of sample means. If they establish the 99% confidence interval as being between 70 inches and 78 inches, they can expect 99 of 100 samples evaluated to contain a mean value between these numbe"
   ]
  },
  {
   "cell_type": "markdown",
   "id": "0d8fe579-05d4-4141-8341-1e4fb9bb5f65",
   "metadata": {},
   "source": [
    "# 6."
   ]
  },
  {
   "cell_type": "markdown",
   "id": "3f04fa1d-64da-4d0f-bf66-02424792e2f1",
   "metadata": {},
   "source": [
    "- Example:<br><br>\n",
    "Let there be two bags, x and y, which contains some white and some black balls. One ball is drawn at random from one of the bags, and it is found to be black. Find the probability that it was drawn from Bag x. Some data are given as follows:<br>\n",
    "P(E1) = P(E2) = 1/2<br>\n",
    "P(A|E1) = P(drawing a black ball from Bag x)  = 3/5<br>\n",
    "P(A|E2) = P(drawing a black ball from Bag y) = 3/7  = 3/5<br>\n",
    "where,  <br>\n",
    "    - E1 be the event of choosing bag x, <br>\n",
    "    - E2 the event of choosing bag y, <br>\n",
    "    - A be the event of drawing a black ball.\n",
    "<br><br>\n",
    "- Solution:<br><br>\n",
    "Now, by using Bayes’ theorem, the probability of drawing a black ball from bag x out of two bags,<br><br>\n",
    "P(E1|A) = P(E1) * P(A|E1)/(P(E1) * P(A|E1)+P(E2) * P(A|E2))<br><br>\n",
    "P(E1|A) = 7/12"
   ]
  },
  {
   "cell_type": "markdown",
   "id": "aa0bd9b8-2f2f-45b5-a7f6-5da2587f59fe",
   "metadata": {},
   "source": [
    "# 7."
   ]
  },
  {
   "cell_type": "markdown",
   "id": "6bf072f9-7e7c-4a98-b015-dc7d694cdf16",
   "metadata": {},
   "source": [
    "- Given Data\n",
    "significance level = 0.05<br>\n",
    "mean = 50 <br>\n",
    "std = 5<br>\n",
    "z-value for significance level 0.05 = 1.96\n",
    "<br><br>\n",
    "\n",
    "- Calculating CI<br><br>\n",
    "CI = [mean - 1.96*std, mean + 1.96*std]<br>\n",
    "CI = [50 - 1.96*5, 50 + 1.96*5]<br>\n",
    "CI = [40.2, 59.8]<br>"
   ]
  },
  {
   "cell_type": "markdown",
   "id": "1d596a89-b073-4967-bffc-0b44d1ceaf2f",
   "metadata": {},
   "source": [
    "# 8."
   ]
  },
  {
   "cell_type": "markdown",
   "id": "347bf56a-2e50-493b-9651-3244f5b93f13",
   "metadata": {},
   "source": [
    "##### Part-1:<br><br>\n",
    "- The margin of error is defined a the range of values below and above the sample statistic in a confidence interval.\n",
    "- The margin of error can be calculated in two ways, depending on whether we have parameters from a population or statistics from a sample:<br>\n",
    "\n",
    "    1. Margin of error (parameter) = Critical value x Standard deviation for the population.\n",
    "    2. Margin of error (statistic) = Critical value x Standard error of the sample.\n",
    "<br><br>\n",
    "##### Part-2: How does sample size affect the margin of error?<br><br>\n",
    "- It is intuitive that a greater sample size will be a closer representative of the population than a smaller sample size. \n",
    "- Hence, the larger the sample size, the smaller the sample standard error and therefore the smaller the margin of error.\n",
    "- Example:<br><br>\n",
    "Suppose we collect a simple random sample of data with the following information:<br><br>\n",
    "\n",
    "- Case-1: when sample size is small<br><br>\n",
    "mean: 15<br>\n",
    "std: 4<br>\n",
    "n: 25<br>\n",
    "Confidence Level = 95%<br><br>\n",
    "Then,<br>\n",
    "Margin of error = 1.96*(4/sqrt(25))<br>\n",
    "Margin of error = 1.568 -------------------(i)<br><br>\n",
    "\n",
    "- Case-2: when sample size is large<br><br>\n",
    "mean: 15<br>\n",
    "std: 4<br>\n",
    "n: 200<br>\n",
    "Confidence Level = 95%<br><br>\n",
    "Then,<br>\n",
    "Margin of error = 1.96*(4/sqrt(200))<br>\n",
    "Margin of error = 0.554 ------------------(ii)<br><br>\n",
    "Hence, from equation-(i) and (ii) we can clearly say that if the sample size increses, then the margin of error decrreases."
   ]
  },
  {
   "cell_type": "markdown",
   "id": "13d11f61-4670-408f-b35e-e0604f4a71be",
   "metadata": {},
   "source": [
    "# 9."
   ]
  },
  {
   "cell_type": "markdown",
   "id": "d1174a3a-898b-417c-accf-c351b0c0922e",
   "metadata": {},
   "source": [
    "Formula to calculate z-score is show below:"
   ]
  },
  {
   "attachments": {
    "7c41e631-54fd-4160-b8e9-2855912ea5d5.png": {
     "image/png": "[encoded data removed]"
    }
   },
   "cell_type": "markdown",
   "id": "a6061ac0-2d9c-4024-ab6d-e80e658af9da",
   "metadata": {},
   "source": [
    "![z-stat2.png](attachment:7c41e631-54fd-4160-b8e9-2855912ea5d5.png)"
   ]
  },
  {
   "cell_type": "markdown",
   "id": "d053a8d6-dfbe-44f6-847d-e8c423594dd6",
   "metadata": {},
   "source": [
    "Hence,<br>\n",
    "z-score = (75 - 70)/5<br>\n",
    "z-score = 5/5<br>\n",
    "z-score = 1"
   ]
  },
  {
   "cell_type": "markdown",
   "id": "142925dd-35da-4286-a79a-d54afc726772",
   "metadata": {},
   "source": [
    "# 10."
   ]
  },
  {
   "cell_type": "markdown",
   "id": "80b4ab40-9ee0-46a2-90d6-a5ab6bd364be",
   "metadata": {},
   "source": [
    "- Given Data<br>\n",
    "n = 50<br>\n",
    "mean_sample = 6<br>\n",
    "std = 2.5<br>\n",
    "df = 49<br>\n",
    "Confidence Level = 95%<br><br>\n",
    "As, we have to check for the effectiveness of a drug.<br>\n",
    "Let's say that the population mean is 0 i.e.,<br>\n",
    "mean_population = 0<br><br>\n",
    "Now, let's frame the hypothesis<br><br>\n",
    "H<sub>0</sub> : mu = 0 <br>\n",
    "H<sub>1</sub> : mu > 0 <br>\n",
    "<br>\n",
    "Now, we will calculate t-statistics as shown below:<br>"
   ]
  },
  {
   "attachments": {
    "f53fc8bd-d201-4d1c-9aa8-ad7d54ee9cdc.png": {
     "image/png": "[encoded data removed]"
    }
   },
   "cell_type": "markdown",
   "id": "911d6574-18fb-4829-b900-ec44ae3e8caf",
   "metadata": {},
   "source": [
    "![t-stat.png](attachment:f53fc8bd-d201-4d1c-9aa8-ad7d54ee9cdc.png)"
   ]
  },
  {
   "cell_type": "markdown",
   "id": "6439b53e-d804-4ad7-b2a5-e0e0f62d50be",
   "metadata": {},
   "source": [
    "Therefore,<br>\n",
    "t = (6 - 0)/(2.5/sqrt(50))<br>\n",
    "t = 6/(2.5/7.071)<br>\n",
    "t = 6/0.3536<br>\n",
    "t = 16.968   ---------------(i)<br><br>\n",
    "Then, let's find the critical t-value, which is<br>\n",
    "tcritical = 1.6771 -------------(ii) <br><br>\n",
    "Since,<br>\n",
    "t is greater that critical value i.e., 16.968 > 1.6771<br>\n",
    "Therefore,<br>\n",
    "We reject the null hypothesis<br><br>\n",
    "Hence,<br>\n",
    "Drug is effective."
   ]
  },
  {
   "cell_type": "markdown",
   "id": "aa4937ea-9ef0-4ccb-9266-fa0a21d72d8c",
   "metadata": {},
   "source": [
    "# 11."
   ]
  },
  {
   "cell_type": "markdown",
   "id": "77449d62-9927-4a3a-ad0b-2cdfd1713aff",
   "metadata": {},
   "source": [
    "- Given Data:<br><br>\n",
    "n = 500<br>\n",
    "p = 65% = 0.65<br>\n",
    "q = 1 - p = 0.35<br>\n",
    "Confidence Level = 95%<br><br>\n",
    "- Calculation:<br><br>\n",
    "Significance level = alpha = 1 - 0.95<br>\n",
    "alpha = 0.05<br>\n",
    "_alpha = alpha/2 = 0.025  -------------(i)<br><br>\n",
    "For,<br>\n",
    "_alpha = 0.025, z = 1.96  -------------(ii)<br><br>\n",
    "Hecnce,<br>\n",
    "CI = [p-(sqrt((p*q)/n), p+sqrt(p*q)/n)]<br>\n",
    "CI = [0.65-(sqrt((0.65*0.35)/500), 0.65+(sqrt((0.65*0.35)/500)]<br>\n",
    "CI = [0.65-0.02133, 0.65+0.02133]<br>\n",
    "CI = [0.4367, 0.67133]<br>"
   ]
  },
  {
   "cell_type": "markdown",
   "id": "259bfd11-5b1e-4042-8aa0-33505a4e2ee6",
   "metadata": {},
   "source": [
    "# 12."
   ]
  },
  {
   "cell_type": "markdown",
   "id": "3b498cff-09b9-4ee2-bac2-e3d395632245",
   "metadata": {},
   "source": [
    "- Given Data <br>\n",
    "\n",
    "alpha = 0.01<br>\n",
    "df = n1+n2-1\n",
    "For significance level 0.01, critical value is unknown --------------- (i) <br><br>\n",
    "\n",
    "__(i)__ Group-1:<br><br>\n",
    "n1 = unknown<br>\n",
    "mean_sample1 = 85<br>\n",
    "std1 = 6<br>\n",
    "\n",
    "__(ii)__ Group-2:<br><br>\n",
    "n2 = unknown<br>\n",
    "mean_sample2 = 82<br>\n",
    "std2 = 5<br>\n",
    "\n",
    "\n",
    "- Hypothesis<br>\n",
    "H<sub>0</sub> : mu1 = mu2<br>\n",
    "H<sub>1</sub> : mu1 != mu2<br>\n",
    "\n",
    "- Now let's calculate the t-score using formula shown below<br><br>"
   ]
  },
  {
   "attachments": {
    "5ce81b20-d0af-4e48-b163-a8ec429ffa57.png": {
     "image/png": "[encoded data removed]"
    }
   },
   "cell_type": "markdown",
   "id": "e71d6b14-ee5b-45ab-b272-2fd9b6ec3c0d",
   "metadata": {},
   "source": [
    "![t_two-sample.png](attachment:5ce81b20-d0af-4e48-b163-a8ec429ffa57.png)"
   ]
  },
  {
   "cell_type": "markdown",
   "id": "731fed26-7e5a-4091-b8c1-a4c3b4fa65c0",
   "metadata": {},
   "source": [
    "<br>\n",
    "t = (85 - 82)/sqrt((36/n1)+(25/n2))<br>\n",
    "t = (3)/sqrt((36/n1)+(25/n2)) <br>\n",
    "t = (3)/sqrt((36/n1)+(25/n2))   -------------- (ii)<br><br>\n",
    "<br><br>\n",
    "- Verifying p-value with significance level<br><br>\n",
    "According to the critical value of equation-(i) and t value from equation-(ii), we can make the following conclusions:<br><br>\n",
    "if(t value < critical value or t value > critical value),<br>\n",
    "then,<br>\n",
    "we simply have to discard the null hypothesis.<br>\n",
    "else,<br>\n",
    "accept the null hypothesis<br>"
   ]
  },
  {
   "cell_type": "markdown",
   "id": "311693f2-b333-45e1-8cb8-c05c89de13d8",
   "metadata": {},
   "source": [
    "# 13."
   ]
  },
  {
   "cell_type": "markdown",
   "id": "9543b1f0-73a5-489e-8dad-c2c07a55e95a",
   "metadata": {},
   "source": [
    "- Given Data<br><br>\n",
    "mean_population = 60<br>\n",
    "std_population = 8<br>\n",
    "mean_sample = 65 <br>\n",
    "n = 50<br>\n",
    "Confidence Level = 90%<br>\n",
    "\n",
    "Now, let's calculate the significance level that is alpha,<br><br>\n",
    "alpha = 1 - 0.90<br>\n",
    "alpha = 0.10<br>\n",
    "halpha = alpha/2 =0.05    ----------(i)<br><br>\n",
    "Then, let's calculate the z-value for halpha = 0.05<br>\n",
    "z = 1.645    -----------(ii)<br><br> \n",
    "Finally, let's calculate the CI from the formula given below;<br><br>\n",
    "CI = mean_sample ± z * std_population/sqrt(n)<br><br>\n",
    "CI = [60 - (1.645*8)/sqrt(50) , 60 + (1.645*8)/sqrt(50)]<br>\n",
    "CI = [60 - 13.16/7.071 , 60 + 13.16/7.071]<br>\n",
    "CI = [60 - 1.86 , 60 + 1.86]<br>\n",
    "CI = [58.14 , 61.86]<br>"
   ]
  },
  {
   "cell_type": "markdown",
   "id": "ebf9196e-e114-415a-90ee-0a41f4fba063",
   "metadata": {},
   "source": [
    "# 14."
   ]
  },
  {
   "cell_type": "markdown",
   "id": "4a562892-91b4-4adf-b412-4c0f6de11395",
   "metadata": {},
   "source": [
    "- Given Data<br><br>\n",
    "mean_population = 0<br>\n",
    "std = 0.05<br>\n",
    "mean_sample = 0.25 <br>\n",
    "n = 30<br>\n",
    "df = 29\n",
    "Confidence Level = 90%<br>\n",
    "critical_val = 1.699 -----------(i)\n"
   ]
  },
  {
   "cell_type": "markdown",
   "id": "670c2508-497a-4ec7-80bf-e191ce1e1328",
   "metadata": {},
   "source": [
    "- Hypothesis<br>\n",
    "H<sub>0</sub> : mu = 0<br>\n",
    "H<sub>1</sub> : mu != 0<br>"
   ]
  },
  {
   "cell_type": "markdown",
   "id": "c90316a0-62e3-4299-9fd4-c3dfd474c944",
   "metadata": {},
   "source": [
    "Then, let's calculate the t-value according to the formula given below <br>"
   ]
  },
  {
   "attachments": {
    "0b767340-21b0-4881-b749-f255604313a6.png": {
     "image/png": "[encoded data removed]"
    }
   },
   "cell_type": "markdown",
   "id": "cfa3f94b-e9c3-486c-9315-1db0f1a36ceb",
   "metadata": {},
   "source": [
    "![t-stat.png](attachment:0b767340-21b0-4881-b749-f255604313a6.png)"
   ]
  },
  {
   "cell_type": "markdown",
   "id": "25014a26-8473-48f6-a0b3-30a8efed5677",
   "metadata": {},
   "source": [
    "t = (0.25 - 0)/(0.05/sqrt(30))<br>\n",
    "t = 0.25/(0.05/5.477)<br>\n",
    "t = 0.25/0.00913<br>\n",
    "t = 27.38   --------------(ii)<br><br>\n",
    "Hence, from equation-(i) and equation-(ii) we can conclude that,<br>\n",
    "t > critical_val <br>\n",
    "Therefore, null hypothesis is rejected.<br>\n",
    "That is, caffeine do have a significant effect on reaction time."
   ]
  },
  {
   "cell_type": "code",
   "execution_count": null,
   "id": "ab4777c0-505c-4656-850f-bc6522f2f521",
   "metadata": {},
   "outputs": [],
   "source": []
  }
 ],
 "metadata": {
  "kernelspec": {
   "display_name": "Python 3 (ipykernel)",
   "language": "python",
   "name": "python3"
  },
  "language_info": {
   "codemirror_mode": {
    "name": "ipython",
    "version": 3
   },
   "file_extension": ".py",
   "mimetype": "text/x-python",
   "name": "python",
   "nbconvert_exporter": "python",
   "pygments_lexer": "ipython3",
   "version": "3.10.8"
  }
 },
 "nbformat": 4,
 "nbformat_minor": 5
}
