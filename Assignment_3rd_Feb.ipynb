{
 "cells": [
  {
   "cell_type": "markdown",
   "id": "c7e62dff-adad-47f2-be8b-6b77600eb375",
   "metadata": {},
   "source": [
    "# Assignment Answers"
   ]
  },
  {
   "cell_type": "markdown",
   "id": "2d759f1f-9109-4254-8b6a-bcd4805bddf0",
   "metadata": {},
   "source": [
    "# 1."
   ]
  },
  {
   "cell_type": "markdown",
   "id": "73df9267-7471-44d5-a923-3a5ae85cc219",
   "metadata": {},
   "source": [
    "<b> def</b> is a keyword which is used to create a function in Python."
   ]
  },
  {
   "cell_type": "code",
   "execution_count": null,
   "id": "8565681e-dd20-47be-a2a1-37188e55ecee",
   "metadata": {},
   "outputs": [],
   "source": [
    "# Function to create and return list of odd numbers\n",
    "def odd_num():\n",
    "    return [i for i in range(25) if(i&1!=0)]\n",
    "print(odd_num())"
   ]
  },
  {
   "cell_type": "markdown",
   "id": "e6f9d542-ff0e-4225-b53f-e6b0bff6d243",
   "metadata": {},
   "source": [
    "# 2."
   ]
  },
  {
   "cell_type": "markdown",
   "id": "a9157593-3e09-471c-89cf-21ffc7e9926d",
   "metadata": {},
   "source": [
    "<b> *args</b> is used when we are not sure about the number of non-keyword arguments that will be passed as arguments to a function.<br>\n",
    "While,<b> **kwargs</b> is used when we are not sure about the number of keyword arguments that will be passed as arguments to a function.<br>\n",
    "\n",
    "- For *args:"
   ]
  },
  {
   "cell_type": "code",
   "execution_count": null,
   "id": "e29ede79-1884-4db6-9f1b-3c69ce769eb0",
   "metadata": {},
   "outputs": [],
   "source": [
    "# This function can take any number of real numbers and return their product\n",
    "def product_of(*args):\n",
    "    res=1\n",
    "    \n",
    "    for num in args:\n",
    "        res*=num\n",
    "    return res\n",
    "\n",
    "print(product_of(2,3)) # To find product of two element\n",
    "print(product_of(2,3,5,6,7,8,9) )# To find product of more than two element"
   ]
  },
  {
   "cell_type": "markdown",
   "id": "08026453-823c-4794-a8f8-1f96fcfed4db",
   "metadata": {},
   "source": [
    "- For **kwargs:"
   ]
  },
  {
   "cell_type": "code",
   "execution_count": null,
   "id": "da9e0b9f-a022-4c29-b916-3f926d51af97",
   "metadata": {},
   "outputs": [],
   "source": [
    "# This function can take any number of courses enrolled and return the list of those courses\n",
    "def courses_enrolled(**kwargs):\n",
    "    courses=[]\n",
    "    \n",
    "    for key,val in kwargs.items():\n",
    "        courses.append(val)\n",
    "    return courses\n",
    "\n",
    "print(courses_enrolled(course1=\"Data Science\",course2=\"Frontend Development\")) # To find product of two element\n",
    "print(courses_enrolled(course1=\"Data Science\",course2=\"Frontend Development\",course3=\"Backend Development\",course4=\"Fullstack Development\"))# To find product of more than two element"
   ]
  },
  {
   "cell_type": "markdown",
   "id": "3cc5e3cd-46a3-4c8b-8f14-5fcf68b7585c",
   "metadata": {},
   "source": [
    "# 3."
   ]
  },
  {
   "cell_type": "markdown",
   "id": "51f3ac4d-fe67-4378-815e-8fa500fcd6e6",
   "metadata": {},
   "source": [
    "Iterator in Python is an object which is used to traverse over each element of the sequence, which is passed as an argument to the Iterator constructor. The sequence can be lists, tuples, sets,etc.<br><br>\n",
    "The method that is used to initialise an iterator object is, <b>iter()</b>. And the method that is used for traversing through the element of iterator object is, <b>next()</b>.<br><br>\n",
    "Example: To print the first five elements of list given below:"
   ]
  },
  {
   "cell_type": "code",
   "execution_count": null,
   "id": "1912d68c-8d5e-495a-b08b-bec93c97e863",
   "metadata": {},
   "outputs": [],
   "source": [
    "List=[2,4,6,8,10,12,14,16,18,20]\n",
    "Iterator=iter(List)\n",
    "for i in range(5):\n",
    "    print(next(Iterator))"
   ]
  },
  {
   "cell_type": "markdown",
   "id": "91590960-db8b-4ef8-b449-54eb8c5e6518",
   "metadata": {},
   "source": [
    "# 4."
   ]
  },
  {
   "cell_type": "markdown",
   "id": "73a58bac-9a76-463f-9754-e5b190a5122e",
   "metadata": {},
   "source": [
    "A generator function is a function that provides an iterator that, when iterated over, produces a series of values.<br>\n",
    "It uses <b>yield</b> statements to produce different iterable items for the generator object, which can then be accessed using next() method.<br><br>\n",
    "Example: To print the range of odd numbers from 0 to n."
   ]
  },
  {
   "cell_type": "code",
   "execution_count": null,
   "id": "b625b30c-6731-4542-b713-c293f91ffb7a",
   "metadata": {},
   "outputs": [],
   "source": [
    "# Function to yield range of odd numbers\n",
    "def Odd_range(n):\n",
    "    i=0\n",
    "    while(i!=n):\n",
    "        if(i&1!=0):\n",
    "            yield i\n",
    "        i+=1\n",
    "        \n",
    "n=int(input(\"Enter the value of n: \"))\n",
    "#Displaying odd numbers one by one using next() method\n",
    "for num in Odd_range(n):\n",
    "    print(num)\n",
    "    "
   ]
  },
  {
   "cell_type": "markdown",
   "id": "e6a4b461-d82e-4598-b6b5-a7a5c8a16bca",
   "metadata": {},
   "source": [
    "# 5."
   ]
  },
  {
   "cell_type": "code",
   "execution_count": null,
   "id": "c792df94-6255-4f92-944c-29b31476d9c5",
   "metadata": {},
   "outputs": [],
   "source": [
    "def prime_number():\n",
    "    for i in range(2,1000):\n",
    "        isPrime=True\n",
    "        for j in range(2,int(i**0.5)+1):\n",
    "            if(i%j==0):\n",
    "                isPrime=False\n",
    "                break\n",
    "            else:\n",
    "                continue\n",
    "        if(isPrime):\n",
    "            yield i\n",
    "        else:\n",
    "            continue\n",
    "# To display first 20 prime numbers.\n",
    "Iterator=prime_number()\n",
    "for i in range(20):\n",
    "    print(next(Iterator))"
   ]
  },
  {
   "cell_type": "code",
   "execution_count": null,
   "id": "b3f708f5-9ab6-43ee-aa3b-76fa8d96018b",
   "metadata": {},
   "outputs": [],
   "source": []
  }
 ],
 "metadata": {
  "kernelspec": {
   "display_name": "Python 3 (ipykernel)",
   "language": "python",
   "name": "python3"
  },
  "language_info": {
   "codemirror_mode": {
    "name": "ipython",
    "version": 3
   },
   "file_extension": ".py",
   "mimetype": "text/x-python",
   "name": "python",
   "nbconvert_exporter": "python",
   "pygments_lexer": "ipython3",
   "version": "3.10.8"
  }
 },
 "nbformat": 4,
 "nbformat_minor": 5
}
