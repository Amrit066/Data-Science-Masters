{
 "cells": [
  {
   "cell_type": "markdown",
   "id": "a124ee5d-916f-42c5-80af-18664c06454f",
   "metadata": {},
   "source": [
    "# Assignment Answers"
   ]
  },
  {
   "cell_type": "markdown",
   "id": "3d124534-217e-485a-abb9-172b1312e19e",
   "metadata": {},
   "source": [
    "# 1."
   ]
  },
  {
   "cell_type": "code",
   "execution_count": null,
   "id": "b97876bd-5a39-4009-8609-e556c42cb1af",
   "metadata": {},
   "outputs": [],
   "source": [
    "# Importing libraries \n",
    "import numpy as np\n",
    "import pandas as pd"
   ]
  },
  {
   "cell_type": "code",
   "execution_count": null,
   "id": "fec86bc6-0c61-4448-9faa-ede5176c5992",
   "metadata": {},
   "outputs": [],
   "source": [
    "# Generating random data\n",
    "np.random.seed(42)\n",
    "time = np.random.randint(1,12,10) # It's in hours/day\n",
    "score = np.random.randint(0,100,10)"
   ]
  },
  {
   "cell_type": "code",
   "execution_count": null,
   "id": "4da6b2ec-d88f-44e9-a172-22d3571debfa",
   "metadata": {},
   "outputs": [],
   "source": [
    "# Creating Dataframe\n",
    "df = pd.DataFrame({\"time\":time,\"final_score\":score})\n",
    "\n",
    "# Calculating Pearson's correlation coefficient\n",
    "df.corr(\"pearson\")"
   ]
  },
  {
   "cell_type": "markdown",
   "id": "90b0c57e-6a51-4826-b590-768a84dc89ae",
   "metadata": {},
   "source": [
    "From the above obtained correlation coefficient between time of study and final exam score, we can say that there exists a positive relationship between time and score."
   ]
  },
  {
   "cell_type": "markdown",
   "id": "a14694d9-f9f2-4ac3-b946-0eda44d227fe",
   "metadata": {},
   "source": [
    "# 2."
   ]
  },
  {
   "cell_type": "code",
   "execution_count": null,
   "id": "50974241-7006-439d-8f7b-d7c00a98f8d3",
   "metadata": {},
   "outputs": [],
   "source": [
    "# Importing libraries \n",
    "import numpy as np\n",
    "import pandas as pd"
   ]
  },
  {
   "cell_type": "code",
   "execution_count": null,
   "id": "27310fbe-f0dd-4421-af57-7892901c8653",
   "metadata": {},
   "outputs": [],
   "source": [
    "# Generating random data\n",
    "np.random.seed(42)\n",
    "sleep_time = np.random.randint(1,12,10) # time is in hours\n",
    "satisfaction_level = np.random.randint(1,10,10)"
   ]
  },
  {
   "cell_type": "code",
   "execution_count": null,
   "id": "62d3695a-d665-4fdb-85b0-74328ac5751e",
   "metadata": {},
   "outputs": [],
   "source": [
    "# Creating Dataframe\n",
    "df = pd.DataFrame({\"sleep_time\":sleep_time,\"satisfaction_level\":satisfaction_level})\n",
    "\n",
    "# Calculating Spearman Rank correlation coefficient\n",
    "df.corr(\"spearman\")"
   ]
  },
  {
   "cell_type": "markdown",
   "id": "c849bd3e-732c-4ee6-8dfb-acf6f99e4bdd",
   "metadata": {},
   "source": [
    "From the above obtained correlation coefficient between time of sleep and level of satisfaction, we can say that there exists a positive relationship between for how long a person sleep in a day and if they are satisfied or not, which means the more the person get sleeps, the more satisfied he/she is."
   ]
  },
  {
   "cell_type": "markdown",
   "id": "ee4fd9eb-e314-49d6-9b49-89af89b5ec8b",
   "metadata": {},
   "source": [
    "# 3."
   ]
  },
  {
   "cell_type": "code",
   "execution_count": null,
   "id": "b08980cd-c255-4aff-a627-66a714e5efcc",
   "metadata": {},
   "outputs": [],
   "source": [
    "# Importing libraries \n",
    "import numpy as np\n",
    "import pandas as pd"
   ]
  },
  {
   "cell_type": "code",
   "execution_count": null,
   "id": "0755afa5-380e-42ad-a908-2bd591e33159",
   "metadata": {},
   "outputs": [],
   "source": [
    "# Generating random data\n",
    "np.random.seed(50)\n",
    "excercise_time = np.random.randint(0,30,50) \n",
    "bmi = np.random.rand(50)*35"
   ]
  },
  {
   "cell_type": "code",
   "execution_count": null,
   "id": "089cf549-25e5-4397-8b61-624b04ac76f0",
   "metadata": {},
   "outputs": [],
   "source": [
    "# Creating Dataframe\n",
    "df = pd.DataFrame({\"excercise_time\":excercise_time,\"bmi\":bmi})\n",
    "\n",
    "# Calculating correlation coefficient\n",
    "pearson = df.corr(\"pearson\")\n",
    "spearman = df.corr(\"spearman\")\n",
    "\n",
    "# Result\n",
    "print(\"Spearman Correlation Coefficient\")\n",
    "print(spearman);print()\n",
    "print(\"Pearson Correlation Coefficient\")\n",
    "print(pearson)"
   ]
  },
  {
   "cell_type": "markdown",
   "id": "5fc49868-4a0b-49a5-ac83-639fa2e3e40a",
   "metadata": {},
   "source": [
    "The Pearson correlation coefficient between excercise time and bmi is 0.079938 which is slightl greater than Spearman correlation coefficient."
   ]
  },
  {
   "cell_type": "markdown",
   "id": "cbbba430-d384-441f-95a9-af58dee9d822",
   "metadata": {},
   "source": [
    "# 4."
   ]
  },
  {
   "cell_type": "code",
   "execution_count": null,
   "id": "cee88f1a-e0c7-4384-9029-9172f03a5966",
   "metadata": {},
   "outputs": [],
   "source": [
    "# Importing libraries \n",
    "import numpy as np\n",
    "import pandas as pd"
   ]
  },
  {
   "cell_type": "code",
   "execution_count": null,
   "id": "9d5db078-a8ca-46ca-9448-259df9457e2f",
   "metadata": {},
   "outputs": [],
   "source": [
    "# Generating random data\n",
    "np.random.seed(50)\n",
    "watch_hours = np.random.randint(0,10,50) \n",
    "physical_activity_level = np.random.randint(1,10,50)  # physical activity level is denoted using scale from 1 to 9"
   ]
  },
  {
   "cell_type": "code",
   "execution_count": null,
   "id": "596b6e5d-bca6-4113-b133-7680cfd6777f",
   "metadata": {},
   "outputs": [],
   "source": [
    "# Creating Dataframe\n",
    "df = pd.DataFrame({\"watch_hours\":watch_hours,\"physical_activity_level\":physical_activity_level})\n",
    "\n",
    "# Calculating Pearson's correlation coefficient\n",
    "df.corr(\"pearson\")"
   ]
  },
  {
   "cell_type": "markdown",
   "id": "e758ba7b-b438-438e-b830-36d5f789247d",
   "metadata": {},
   "source": [
    "# 5."
   ]
  },
  {
   "cell_type": "code",
   "execution_count": null,
   "id": "5ccb351b-821e-4429-b875-88f996845bc9",
   "metadata": {},
   "outputs": [],
   "source": [
    "# Importing libraries \n",
    "import numpy as np\n",
    "import pandas as pd"
   ]
  },
  {
   "cell_type": "code",
   "execution_count": null,
   "id": "c3745742-d3e8-4566-aace-060f1fdc7037",
   "metadata": {},
   "outputs": [],
   "source": [
    "# Given Data\n",
    "age = [25,42,37,19,31,28]\n",
    "drinks = [\"coke\",\"pepsi\",\"mountain dew\",\"coke\",\"pepsi\",\"coke\"]"
   ]
  },
  {
   "cell_type": "code",
   "execution_count": null,
   "id": "e6235ea0-3a53-4428-bbbd-46b0a7117860",
   "metadata": {},
   "outputs": [],
   "source": [
    "# Converting into dataframe\n",
    "df = pd.DataFrame({\"age\":age,\"drink_preferences\":drinks})\n",
    "\n",
    "# Encoding Categorical data soft drink preferences\n",
    "df_encoded =  pd.get_dummies(df,columns=[\"drink_preferences\"])"
   ]
  },
  {
   "cell_type": "code",
   "execution_count": null,
   "id": "f681c194-f193-404f-9b91-486b35321dda",
   "metadata": {},
   "outputs": [],
   "source": [
    "# Calculating Pearson's correlation coefficient\n",
    "df_encoded.corr(\"pearson\")"
   ]
  },
  {
   "cell_type": "markdown",
   "id": "48bbfb5a-b295-4831-ad60-5c0c8e9930b4",
   "metadata": {},
   "source": [
    "# 6."
   ]
  },
  {
   "cell_type": "code",
   "execution_count": null,
   "id": "375a9fbf-bfc1-4682-a510-5f4827c57497",
   "metadata": {},
   "outputs": [],
   "source": [
    "# Importing libraries \n",
    "import numpy as np\n",
    "import pandas as pd"
   ]
  },
  {
   "cell_type": "code",
   "execution_count": null,
   "id": "9eb04137-4fbc-4509-a326-5aa1af23d0f6",
   "metadata": {},
   "outputs": [],
   "source": [
    "# Generating random data\n",
    "np.random.seed(50)\n",
    "sales_calls = np.random.randint(0,30,30) \n",
    "sales = np.random.randint(0,200,30)"
   ]
  },
  {
   "cell_type": "code",
   "execution_count": null,
   "id": "79b9d4b3-efd9-4539-9afb-38373ca0fb4c",
   "metadata": {},
   "outputs": [],
   "source": [
    "# Converting into dataframe\n",
    "df = pd.DataFrame({\"sales_calls\":sales_calls,\"sales\":sales})"
   ]
  },
  {
   "cell_type": "code",
   "execution_count": null,
   "id": "e7bd01b7-07a1-4a32-a5df-f4f6eee2531b",
   "metadata": {},
   "outputs": [],
   "source": [
    "# Calculating Pearson's correlation coefficient\n",
    "df.corr(\"pearson\")"
   ]
  },
  {
   "cell_type": "code",
   "execution_count": null,
   "id": "5dbc15be-e8a6-4b2b-856d-2f0d5759c014",
   "metadata": {},
   "outputs": [],
   "source": []
  }
 ],
 "metadata": {
  "kernelspec": {
   "display_name": "Python 3 (ipykernel)",
   "language": "python",
   "name": "python3"
  },
  "language_info": {
   "codemirror_mode": {
    "name": "ipython",
    "version": 3
   },
   "file_extension": ".py",
   "mimetype": "text/x-python",
   "name": "python",
   "nbconvert_exporter": "python",
   "pygments_lexer": "ipython3",
   "version": "3.10.8"
  }
 },
 "nbformat": 4,
 "nbformat_minor": 5
}
