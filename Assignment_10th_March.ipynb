{
 "cells": [
  {
   "cell_type": "markdown",
   "id": "bb379da0-a356-4903-a0e2-31bcf4fc56f8",
   "metadata": {},
   "source": [
    "# Assignment Answers"
   ]
  },
  {
   "cell_type": "markdown",
   "id": "689698f3-bd67-45b7-a78e-dcff9d3cbc6f",
   "metadata": {},
   "source": [
    "# 1."
   ]
  },
  {
   "cell_type": "markdown",
   "id": "86ed2499-cb0a-498e-a384-c96b21fcb606",
   "metadata": {},
   "source": [
    "##### Part-1:<br><br>\n",
    "- Estimation statistics, or simply estimation, is a statistical process which involves deriving the numerical value of uncertain population values from insufficient data, like a sample.\n",
    "-  It complements hypothesis testing approaches such as null hypothesis significance testing.\n",
    "- It is also called as _new statistics_.\n",
    "<br><br>\n",
    "##### Part-2:<br><br>\n",
    "__Point Estimate__ is a specific value of the sample that is used to infer the unknown population parameter. It is a single value.<br><br>\n",
    "Whereas, __interval estimate__ is used to refer a range of data to estimate the unknown population parameter. It consists of values ranging from lower interval value to higher interval value."
   ]
  },
  {
   "cell_type": "markdown",
   "id": "c595ab9f-e8f2-4801-8785-2586ba650df5",
   "metadata": {},
   "source": [
    "# 2."
   ]
  },
  {
   "cell_type": "markdown",
   "id": "bb107943-90b4-4822-ac7c-8e364a88f376",
   "metadata": {},
   "source": [
    "- Let us take the confidence interal as 95%"
   ]
  },
  {
   "cell_type": "code",
   "execution_count": 9,
   "id": "b4665b34-eef8-4c34-b5e0-60f8b3f2841b",
   "metadata": {},
   "outputs": [],
   "source": [
    "# Function to calculate population mean\n",
    "def get_population_mean(mean_sample,std_sample):\n",
    "    # Calculate interval b/w which population mean with 95% CI falls\n",
    "    population_mean_interval =[(mean_sample+(1.96 * std_sample)),(mean_sample-(1.96 * std_sample))]\n",
    "    \n",
    "    return population_mean_interval"
   ]
  },
  {
   "cell_type": "code",
   "execution_count": 16,
   "id": "529f10e6-0c73-4b8f-8d82-73e65bd7d553",
   "metadata": {},
   "outputs": [
    {
     "name": "stdin",
     "output_type": "stream",
     "text": [
      "Enter sample mean:  500\n",
      "Enter sample standard deviation:  50\n"
     ]
    }
   ],
   "source": [
    "# Taking Input\n",
    "mean_sample = float(input(\"Enter sample mean: \"))\n",
    "std_sample = float(input(\"Enter sample standard deviation: \"))"
   ]
  },
  {
   "cell_type": "code",
   "execution_count": 17,
   "id": "d3edbe96-e51a-457c-8c29-47301997387e",
   "metadata": {},
   "outputs": [
    {
     "name": "stdout",
     "output_type": "stream",
     "text": [
      "Population mean with 95% CI falls in the range:  [598.0, 402.0]\n"
     ]
    }
   ],
   "source": [
    "# Printing Output\n",
    "print(\"Population mean with 95% CI falls in the range: \",get_population_mean(mean_sample,std_sample))"
   ]
  },
  {
   "cell_type": "markdown",
   "id": "cc530a97-054e-4546-9827-15436ab633f4",
   "metadata": {},
   "source": [
    "# 3."
   ]
  },
  {
   "cell_type": "markdown",
   "id": "29381759-c3f9-4681-b36d-0cbb4c87a62e",
   "metadata": {},
   "source": [
    "##### Part-1:<br><br>\n",
    "- Hypothesis testing is a methodical process for determining whether research study findings are consistent with a specific theory that pertains to a population. \n",
    "- It uses sample data to evaluate a hypothesis about a population\n",
    "<br><br>\n",
    "##### Part-2:<br><br>\n",
    "- Hypothesis testing is used to check if the assumptions made over the population parameters on the basis of sample data and estimates, are correct or not.\n",
    "<br><br>\n",
    "##### Part-3:<br><br>\n",
    "- Hypothesis testing is one of the most important concepts in statistics because it determines whether something actually occurred, whether a treatment is effective, whether groups vary from one another, and whether one variable predicts another. \n",
    "- In other words, we want to demonstrate that the data we have is statistically important and unlikely to have happened by accident. \n",
    "- Therefore, a hypothesis test is essentially a relevance test.\n",
    "<br><br>"
   ]
  },
  {
   "cell_type": "markdown",
   "id": "da7ba1dc-f80a-4df9-baca-9cab0f16cd57",
   "metadata": {},
   "source": [
    "# 4."
   ]
  },
  {
   "cell_type": "markdown",
   "id": "63078bb1-0c94-4555-a337-a66b42eeb5b1",
   "metadata": {},
   "source": [
    "Let us assume that the average weight of male college students be mu<sub>male</sub>, and average weigth of female college students be mu<sub>female</sub>.<br><br>\n",
    "Now, let's define our null and alternative hypothesis for the given question as;<br><br>\n",
    "__H<sub>0</sub>:__ mu<sub>male</sub> - mu<sub>female</sub> = 0<br><br>\n",
    "__H<sub>1</sub>:__ mu<sub>male</sub> - mu<sub>female</sub> > 0<br><br>"
   ]
  },
  {
   "cell_type": "markdown",
   "id": "ad7a87f4-b3fa-4812-9d27-0ac6f224364f",
   "metadata": {},
   "source": [
    "# 5."
   ]
  },
  {
   "cell_type": "markdown",
   "id": "d6df6f23-1032-489d-8159-0236fd61748f",
   "metadata": {},
   "source": [
    "- Hypothesis:<br><br>\n",
    "H<sub>0</sub> : mu1 = mu2<br>\n",
    "H<sub>1</sub> : mu1 != mu2<br><br>\n",
    "Where, mu1 = Population mean of one group<br>\n",
    "       mu2 = Population mean of other group<br><br>\n",
    "- Also, let's take the significance level 0.01 for which critical value is 2.576 --------------- (i) <br><br>"
   ]
  },
  {
   "cell_type": "code",
   "execution_count": 11,
   "id": "f0fc4093-91a1-4936-b8d2-f19c6dfd4806",
   "metadata": {},
   "outputs": [],
   "source": [
    "# Defining critical vale for 0.01 significance level\n",
    "cvalue = 2.576"
   ]
  },
  {
   "cell_type": "code",
   "execution_count": 18,
   "id": "1511751f-4715-43f3-b141-6999d48f67d3",
   "metadata": {},
   "outputs": [],
   "source": [
    "# Function to test difference between two population means\n",
    "def test_hypothesis_of_population_means(smean1,pstd1,n1,smean2,pstd2,n2):\n",
    "    # Calculating z-value\n",
    "    z = ((smean1-smean2)-(0))/((pstd1**2/n1)+(pstd2**2/n2))**0.5\n",
    "    \n",
    "    # Checking z-value with critical value to accept or reject null hypothesis\n",
    "    ans = \"Reject Null Hypothesis\" if((z>2.576) or (z<-2.576)) else \"Accept Null Hypothesis\"\n",
    "    \n",
    "    return ans\n",
    "    "
   ]
  },
  {
   "cell_type": "code",
   "execution_count": 19,
   "id": "2ab4c89b-90c0-4746-9d74-94e877be5c24",
   "metadata": {},
   "outputs": [
    {
     "name": "stdin",
     "output_type": "stream",
     "text": [
      "Enter sample mean of first group:  80\n",
      "Enter sample mean of second group:  75\n",
      "Enter sample size of first group:  30\n",
      "Enter sample size of second group:  40\n",
      "Enter population standard deviation of first group:  10\n",
      "Enter population standard deviation of second group:  8\n"
     ]
    }
   ],
   "source": [
    "# Taking Input\n",
    "smean1 = float(input(\"Enter sample mean of first group: \"))\n",
    "smean2 = float(input(\"Enter sample mean of second group: \"))\n",
    "n1 = int(input(\"Enter sample size of first group: \"))\n",
    "n2 = int(input(\"Enter sample size of second group: \"))\n",
    "pstd1 = float(input(\"Enter population standard deviation of first group: \"))\n",
    "pstd2 = float(input(\"Enter population standard deviation of second group: \"))"
   ]
  },
  {
   "cell_type": "code",
   "execution_count": 25,
   "id": "e05c82d3-3b69-47a1-8268-755904187c35",
   "metadata": {},
   "outputs": [
    {
     "name": "stdout",
     "output_type": "stream",
     "text": [
      "Accept Null Hypothesis\n"
     ]
    }
   ],
   "source": [
    "# Printing Result\n",
    "print(test_hypothesis_of_population_means(smean1,pstd1,n1,smean2,pstd2,n2))"
   ]
  },
  {
   "cell_type": "markdown",
   "id": "70e7f9ca-c2f5-4e49-8833-270612747f72",
   "metadata": {},
   "source": [
    "# 6."
   ]
  },
  {
   "cell_type": "markdown",
   "id": "7068907b-566b-4686-aa51-aae59ff47b04",
   "metadata": {},
   "source": [
    "1. Null Hypothesis\n",
    "- It is a part of hypothesis testing, which represents statements that we are beginng with.\n",
    "- It denotes that there is no relationship between variables.\n",
    "2. Alternative Hypothesis\n",
    "- It is a part of hypothesis testing, which represents statements that are opposite of null hypothesis.\n",
    "- It denotes that there is a relationship between variables.\n",
    "<br><br>\n",
    "For example, suppose that we have a mean of the marks of students in a class as m1 and population standard deviation is given to be s1. And we want to perform hypothesis testing by stating that the average marks of all the students in the college is greater than m1.<br>\n",
    "<br> \n",
    "Now, we can frame our hypothese in the following way,<br><br>\n",
    "H<sub>0</sub>: mu<sub></sub> = m1<br><br>\n",
    "H<sub>1</sub>: mu > m1<br><br>"
   ]
  },
  {
   "cell_type": "markdown",
   "id": "db4f27df-d6f8-4161-995d-15738d8aa4af",
   "metadata": {},
   "source": [
    "# 7."
   ]
  },
  {
   "cell_type": "markdown",
   "id": "9f2763a7-0168-4d4f-b36f-5b0793493dbd",
   "metadata": {},
   "source": [
    "Steps involved in hypothesis testing are as follows:<br><br>\n",
    "Step-1: Read and observe the given data.<br><br>\n",
    "Step-2: Based on the observation made in Step-1, formulate null and alternative hypothesis.<br><br>\n",
    "Step-3: Then perform appropriate statistical tests like t-test, z-test, etc., so as to reach to the conclusion.<br><br>\n",
    "Step-4: Finally, made a conclusion based on the results of Step-3, that's if null hypothesis is rejected or not.<br><br>"
   ]
  },
  {
   "cell_type": "markdown",
   "id": "16815fa3-9f0e-4a21-93bc-7fbae984610f",
   "metadata": {},
   "source": [
    "# 8."
   ]
  },
  {
   "cell_type": "markdown",
   "id": "96d1f823-aedc-4c3b-90b4-d6a8feb3ff67",
   "metadata": {},
   "source": [
    "##### Part-1:<br><br>\n",
    "- The likelihood of getting a result that is equal to or more extreme than what was actually observed is what is meant by the term \"P value,\" which is defined as the probability under the null hypothesis of no impact or difference. \n",
    "- The probability (P) indicator indicates the likelihood that any detected difference between groups is the result of chance.\n",
    "<br><br>\n",
    "##### Part-2:<br><br>\n",
    "- The p-value is a tool used in inferential statistics to assess the significance of an observed impact in relation to the null hypothesis. \n",
    "- It empowers the researcher to accept or deny the null hypothesis."
   ]
  },
  {
   "cell_type": "markdown",
   "id": "9f81af2c-987c-49e9-a48a-7b0b75d1c37b",
   "metadata": {},
   "source": [
    "# 9."
   ]
  },
  {
   "cell_type": "code",
   "execution_count": 2,
   "id": "4ae36404-95b2-4346-a91b-9918e5315993",
   "metadata": {},
   "outputs": [],
   "source": [
    "# Importing Libraries\n",
    "import numpy as np\n",
    "from scipy import stats\n",
    "import matplotlib.pyplot as plt"
   ]
  },
  {
   "cell_type": "code",
   "execution_count": 3,
   "id": "1b913860-7541-4631-b641-aeacadcd4795",
   "metadata": {},
   "outputs": [],
   "source": [
    "# Creating Data To be Plotted On X-axis\n",
    "x = np.linspace(-4,4,200)\n",
    "\n",
    "# Creating Student t-distribution Data To be Plotted On Y-axis\n",
    "y = stats.t.pdf(x, df=10)"
   ]
  },
  {
   "cell_type": "code",
   "execution_count": 4,
   "id": "127c921e-0379-47e1-b6c9-462e31a98fa8",
   "metadata": {},
   "outputs": [
    {
     "data": {
      "image/png": "[encoded data removed]",
      "text/plain": [
       "<Figure size 600x400 with 1 Axes>"
      ]
     },
     "metadata": {},
     "output_type": "display_data"
    }
   ],
   "source": [
    "# Plotting Student t-distribution\n",
    "plt.figure(figsize=(6,4))\n",
    "plt.plot(x,y,c=\"orange\")\n",
    "plt.title(\"Student t distribution\")\n",
    "plt.xlabel(\"X-axis\")\n",
    "plt.ylabel(\"Y-axis\")\n",
    "plt.show()"
   ]
  },
  {
   "cell_type": "markdown",
   "id": "1b232ff5-82b0-4c5f-97a9-3d7b24db6572",
   "metadata": {},
   "source": [
    "# 10."
   ]
  },
  {
   "cell_type": "markdown",
   "id": "bf1284c1-4b6b-44db-8b65-ecfbd569ec39",
   "metadata": {},
   "source": [
    "- Hypothesis:<br><br>\n",
    "H<sub>0</sub> : mu1 = mu2<br>\n",
    "H<sub>1</sub> : mu1 != mu2<br><br>\n",
    "Where, mu1 = Population mean of one group<br>\n",
    "       mu2 = Population mean of other group<br><br>\n",
    "- Also, let's take the CI as 95% and sample size for each group as 10 for which critical t-value is 2.093 --------------- (i) <br><br>"
   ]
  },
  {
   "cell_type": "code",
   "execution_count": 27,
   "id": "8ac156df-20df-4ca3-86de-31ba6c69b698",
   "metadata": {},
   "outputs": [],
   "source": [
    "# Defining critical t-value for 95% Confidence Level\n",
    "tvalue = 2.093\n",
    "# Sample size\n",
    "n = 10\n",
    "# Degree of freedom\n",
    "df= n+n-1"
   ]
  },
  {
   "cell_type": "code",
   "execution_count": 29,
   "id": "1e4a9518-a36c-427d-8eff-04707db05d52",
   "metadata": {},
   "outputs": [],
   "source": [
    "# Function to test difference between two population means\n",
    "def t_test_two_sample(smean1,sstd1,smean2,sstd2):\n",
    "    # Calculating t-value\n",
    "    t = (smean1-smean2)/((sstd1**2/n)+(sstd2**2/n))**0.5\n",
    "    \n",
    "    # Checking z-value with critical value to accept or reject null hypothesis\n",
    "    ans = \"Reject Null Hypothesis\" if((t>tvalue) or (t<-1*tvalue)) else \"Accept Null Hypothesis\"\n",
    "    \n",
    "    return ans\n",
    "    "
   ]
  },
  {
   "cell_type": "code",
   "execution_count": 31,
   "id": "b94ef160-d3c1-4213-9666-fe1696284030",
   "metadata": {},
   "outputs": [
    {
     "name": "stdin",
     "output_type": "stream",
     "text": [
      "Enter sample mean of first group:  8\n",
      "Enter sample mean of second group:  5\n",
      "Enter sample standard deviation of first group:  2.7\n",
      "Enter sample standard deviation of second group:  1.2\n"
     ]
    }
   ],
   "source": [
    "# Taking Input\n",
    "smean1 = float(input(\"Enter sample mean of first group: \"))\n",
    "smean2 = float(input(\"Enter sample mean of second group: \"))\n",
    "sstd1 = float(input(\"Enter sample standard deviation of first group: \"))\n",
    "sstd2 = float(input(\"Enter sample standard deviation of second group: \"))"
   ]
  },
  {
   "cell_type": "code",
   "execution_count": 32,
   "id": "b3b0ad5a-43ec-49f4-b7b1-542e6f329452",
   "metadata": {},
   "outputs": [
    {
     "name": "stdout",
     "output_type": "stream",
     "text": [
      "Reject Null Hypothesis\n"
     ]
    }
   ],
   "source": [
    "# Printing Result\n",
    "print(t_test_two_sample(smean1,sstd1,smean2,sstd2))"
   ]
  },
  {
   "cell_type": "markdown",
   "id": "37041902-b926-4626-95d4-8e14edad0444",
   "metadata": {},
   "source": [
    "# 11."
   ]
  },
  {
   "cell_type": "markdown",
   "id": "ed2e7a8b-9763-41c6-8243-9d369fc94258",
   "metadata": {},
   "source": [
    "##### Part-1:<br><br>\n",
    "- The t-distribution, also known as the Student’s t-distribution, is a type of probability distribution that is similar to the normal distribution with its bell shape but has heavier tails. \n",
    "- It is used for estimating population parameters for small sample sizes or unknown variances. \n",
    "- T-distributions have a greater chance for extreme values than normal distributions, and as a result have fatter tails.\n",
    "<br><br>\n",
    "##### Part-2:<br><br>\n",
    "- t-distribution should be used when the population standard deviation is not given.\n",
    "- When the sample size is small, t-distribution is preffered."
   ]
  },
  {
   "cell_type": "markdown",
   "id": "1181552d-b479-41da-affa-ec24c9182a8e",
   "metadata": {},
   "source": [
    "# 12."
   ]
  },
  {
   "cell_type": "markdown",
   "id": "2c9241e8-bd6c-4488-81dc-d497faa61f2c",
   "metadata": {},
   "source": [
    "##### Part-1:<br><br>\n",
    "- A t-test is an inferential statistic used to determine if there is a significant difference between the means of two groups and how they are related. \n",
    "- T-tests are used when the data sets follow a normal distribution and have unknown variances.\n",
    "- It is a test used for hypothesis testing in statistics and uses the t-statistic, the t-distribution values, and the degrees of freedom to determine statistical significance.\n",
    "<br><br>\n",
    "##### Part-2:<br><br>\n",
    "- Calculating a t-test requires three fundamental data values. They include the difference between the mean values from each data set, or the mean difference, the standard deviation of each group, and the number of data values of each group.\n",
    "\n",
    "- This comparison helps to determine the effect of chance on the difference, and whether the difference is outside that chance range. The t-test questions whether the difference between the groups represents a true difference in the study or merely a random difference.\n",
    "- The t-test produces two values as its output: t-value and degrees of freedom. The t-value, or t-score, is a ratio of the difference between the mean of the two sample sets and the variation that exists within the sample sets.\n",
    "\n",
    "- The numerator value is the difference between the mean of the two sample sets. The denominator is the variation that exists within the sample sets and is a measurement of the dispersion or variability.\n",
    "\n",
    "- This calculated t-value is then compared against a value obtained from a critical value table called the T-distribution table. \n",
    "- Higher values of the t-score indicate that a large difference exists between the two sample sets. The smaller the t-value, the more similarity exists between the two sample sets."
   ]
  },
  {
   "cell_type": "markdown",
   "id": "b30519c7-576f-4c01-9110-220456f2b26b",
   "metadata": {},
   "source": [
    "# 13."
   ]
  },
  {
   "cell_type": "markdown",
   "id": "8033a775-bd25-4584-a724-8a90903c359f",
   "metadata": {},
   "source": [
    "- Given Data <br>\n",
    "n = 50<br>\n",
    "mean_sample = 500<br>\n",
    "std = 50<br>\n",
    "\n",
    "- Assumed data<br>\n",
    "Let population mean be x<br>\n",
    "Now, we will use the formula of z-statistics to find the sample mean which is shown below<br>"
   ]
  },
  {
   "attachments": {
    "a30d5625-4820-4db9-a567-0b9a831497a9.png": {
     "image/png": "[encoded data removed]"
    }
   },
   "cell_type": "markdown",
   "id": "e92594bc-e955-49db-a1d0-29003c3ce879",
   "metadata": {},
   "source": [
    "![z-stat.png](attachment:a30d5625-4820-4db9-a567-0b9a831497a9.png)"
   ]
  },
  {
   "cell_type": "markdown",
   "id": "fb711af5-7b4a-48fd-8acf-8f86874380b6",
   "metadata": {},
   "source": [
    "Now, we will try to find z-score value for decision boundary. As the distribution will be symmetrical, therefore the lower and the higher z-score will be same with opposite signs.<br><br>\n",
    "As,<br>\n",
    "CI = 95% = 0.95<br>\n",
    "So,<br>\n",
    "Area on both sides of this CI will be 0.025<br>\n",
    "Hence, we need to find z-score for the area 1-0.025 i.e., 0.975<br><br>\n",
    "After examining the z-score table, we get,<br>\n",
    "z-score = 1.96   ----------- for higher end<br>\n",
    "z-score = -1.96  ----------- for lower end<br>\n",
    "Then the interval of population mean value according to the above shown z-statistics formula will be,<br><br>\n",
    "- Case-1: Taking z-score = -1.96 <br><br>\n",
    "x = mean_sample - (z*s)<br>\n",
    "x = 500 - (-1.96 * 50)<br>\n",
    "x = 598 -----------(i)<br><br>\n",
    "- Case-2: Taking z-score = 1.96 <br><br>\n",
    "x = mean_sample - (z*s)<br>\n",
    "x = 500 - (1.96 * 50)<br>\n",
    "x = 402 -----------(ii)<br><br>\n",
    "From equation (i) and (ii) we can say that,<br><br>\n",
    "population mean lie within the interval of [402, 598] i.e., 500-98 and 500+98<br><br>\n",
    "Hence,<br>\n",
    "x = [402,598]"
   ]
  },
  {
   "cell_type": "markdown",
   "id": "94b13388-75b6-467c-b0f1-6639036a12b6",
   "metadata": {},
   "source": [
    "# 14."
   ]
  },
  {
   "cell_type": "markdown",
   "id": "ca64de1f-2380-4a47-b1f9-d10a80828351",
   "metadata": {},
   "source": [
    "- Given Data <br>\n",
    "n = 100<br>\n",
    "mean_sample = 8<br>\n",
    "mean_population = 10<br>\n",
    "std = 3<br>\n",
    "alpha = 0.05<br>\n",
    "\n",
    "- Hypothesis<br>\n",
    "H<sub>0</sub> : mu = 10<br>\n",
    "H<sub>1</sub> : mu < 10<br>\n",
    "\n",
    "- Now let's calculate the z-score <br><br>\n",
    "\n",
    "z = (mean_sample - mean_population)/ std<br>\n",
    "z = (8 - 10)/3<br>\n",
    "z = -0.67   -------------- (i)<br><br>\n",
    "Then, let's find the p-value using z-table, which is<br><br>\n",
    "p-value = 0.25143 --------------(ii)<br><br>\n",
    "- Verifying p-value with significance level<br><br>\n",
    "As the p-value calculated in equation-(ii) is more than significance level i.e., p > alpha.<br>\n",
    "Therefore, Null Hypothesis is accepted.<br>\n",
    "That is researcher are correct about the drug to decrease blood pressure by 10 mmHg.\n"
   ]
  },
  {
   "cell_type": "markdown",
   "id": "117f1672-eac4-4146-9ac9-afcce8382074",
   "metadata": {},
   "source": [
    "# 15."
   ]
  },
  {
   "cell_type": "markdown",
   "id": "725c81e3-69ad-4c09-b4d9-317ab6b7513f",
   "metadata": {},
   "source": [
    "- Given Data <br>\n",
    "n = 25<br>\n",
    "mean_sample = 4.8<br>\n",
    "mean_population = 5<br>\n",
    "std = 0.5<br>\n",
    "alpha = 0.01<br>\n",
    "\n",
    "- Hypothesis<br>\n",
    "H<sub>0</sub> : mu = 5<br>\n",
    "H<sub>1</sub> : mu < 5<br>\n",
    "\n",
    "- Now let's calculate the z-score using formula shown below<br><br>\n",
    "\n",
    "__z = (mean_sample - mean_population)/ (std/sqrt(n))__<br>\n",
    "z = (4.8 - 5)/(0.5/5)<br>\n",
    "z = -2.00   -------------- (i)<br><br>\n",
    "Then, let's find the p-value using z-table, which is<br><br>\n",
    "p-value = 0.02275 --------------(ii)<br><br>\n",
    "- Verifying p-value with significance level<br><br>\n",
    "As the p-value calculated in equation-(ii) is more than significance level i.e., p > alpha.<br>\n",
    "Therefore, Null Hypothesis is accepted.<br>\n",
    "That is true mean weight of the product is 5 pounds.\n"
   ]
  },
  {
   "cell_type": "markdown",
   "id": "9203d21e-2ede-437e-9a25-07dad9edef2b",
   "metadata": {},
   "source": [
    "# 16."
   ]
  },
  {
   "cell_type": "markdown",
   "id": "7b00a09b-297a-4eb3-ad7c-1b1c930314de",
   "metadata": {},
   "source": [
    "- Given Data <br>\n",
    "\n",
    "alpha = 0.01<br>\n",
    "mean_population1 - mean_population2 =0<br>\n",
    "For significance level 0.01, critical value is 2.576 --------------- (i) <br><br>\n",
    "\n",
    "__(i)__ Group-1:<br><br>\n",
    "n1 = 30<br>\n",
    "mean_sample1 = 80<br>\n",
    "std1 = 10<br>\n",
    "\n",
    "__(ii)__ Group-2:<br><br>\n",
    "n2 = 40<br>\n",
    "mean_sample2 = 75<br>\n",
    "std2 = 8<br>\n",
    "\n",
    "\n",
    "- Hypothesis<br>\n",
    "H<sub>0</sub> : mu1 = mu2<br>\n",
    "H<sub>1</sub> : mu1 != mu2<br>\n",
    "\n",
    "- Now let's calculate the z-score using formula shown below<br><br>"
   ]
  },
  {
   "attachments": {
    "3298fc7d-4f21-40e9-98a7-56b37aa08771.png": {
     "image/png": "[encoded data removed]"
    }
   },
   "cell_type": "markdown",
   "id": "9299edef-5833-45fd-84db-a32a9b0254cc",
   "metadata": {},
   "source": [
    "![z_two-sample.png](attachment:3298fc7d-4f21-40e9-98a7-56b37aa08771.png)"
   ]
  },
  {
   "cell_type": "markdown",
   "id": "ebc71178-0115-4d89-b5f4-0a25d5a4a139",
   "metadata": {},
   "source": [
    "<br>\n",
    "z = ((80 -75)- (0))/sqrt((100/30)+(64/40))<br>\n",
    "z = (5)/sqrt(3.33+1.6) <br>\n",
    "z = 5/2.22\n",
    "z = 2.252   -------------- (ii)<br><br>\n",
    "<br><br>\n",
    "- Verifying p-value with significance level<br><br>\n",
    "As the z-value calculated in equation-(ii) is less than the critical value i.e., 2.252 < 2.576<br>\n",
    "Therefore, Null Hypothesis is accepted.<br>\n",
    "That is the population mean of the two groups are equal."
   ]
  },
  {
   "cell_type": "markdown",
   "id": "73e94eab-f39a-414b-a3a0-f8285b8cf629",
   "metadata": {},
   "source": [
    "# 17."
   ]
  },
  {
   "cell_type": "markdown",
   "id": "6e695419-3149-4366-8018-454ae2e4b163",
   "metadata": {},
   "source": [
    "- Given Data <br>\n",
    "n = 50<br>\n",
    "mean_sample = 4<br>\n",
    "std = 1.5<br>\n",
    "\n",
    "- Assumed data<br>\n",
    "Let population mean be x<br>\n",
    "Now, we will use the formula of z-statistics to find the sample mean which is shown below<br>"
   ]
  },
  {
   "attachments": {
    "5a69e9ad-d27c-4c23-b403-0e156c71ea7c.png": {
     "image/png": "[encoded data removed]"
    }
   },
   "cell_type": "markdown",
   "id": "87cbe862-858f-478d-8742-71c23b016b69",
   "metadata": {},
   "source": [
    "![z-stat.png](attachment:5a69e9ad-d27c-4c23-b403-0e156c71ea7c.png)"
   ]
  },
  {
   "cell_type": "markdown",
   "id": "f91e1635-d0a2-4a64-8e24-b189a25b76a9",
   "metadata": {},
   "source": [
    "Now, we will try to find z-score value for decision boundary. As the distribution will be symmetrical, therefore the lower and the higher z-score will be same with opposite signs.<br><br>\n",
    "As,<br>\n",
    "CI = 99% = 0.99<br>\n",
    "So,<br>\n",
    "Area on both sides of this CI will be 0.005<br>\n",
    "Hence, we need to find z-score for the area 1-0.005 i.e., 0.995<br><br>\n",
    "After examining the z-score table, we get,<br>\n",
    "z-score = 2.57   ----------- for higher end<br>\n",
    "z-score = -2.57  ----------- for lower end<br>\n",
    "Then the interval of population mean value according to the above shown z-statistics formula will be,<br><br>\n",
    "- Case-1: Taking z-score = -1.96 <br><br>\n",
    "x = mean_sample - (z*s)<br>\n",
    "x = 4 - (-2.57 * 1.5)<br>\n",
    "x = 7.855 -----------(i)<br><br>\n",
    "- Case-2: Taking z-score = 1.96 <br><br>\n",
    "x = mean_sample - (z*s)<br>\n",
    "x = 4 - (2.57 * 1.5)<br>\n",
    "x = 0.145 -----------(ii)<br><br>\n",
    "From equation (i) and (ii) we can say that,<br><br>\n",
    "population mean lie within the interval of [0.145, 7.855] i.e., 4-3.855 and 4+3.855<br><br>\n",
    "Hence,<br>\n",
    "x = [402,598]"
   ]
  },
  {
   "cell_type": "code",
   "execution_count": null,
   "id": "bd5db001-113f-4258-84ab-19bb83ac52fd",
   "metadata": {},
   "outputs": [],
   "source": []
  }
 ],
 "metadata": {
  "kernelspec": {
   "display_name": "Python 3 (ipykernel)",
   "language": "python",
   "name": "python3"
  },
  "language_info": {
   "codemirror_mode": {
    "name": "ipython",
    "version": 3
   },
   "file_extension": ".py",
   "mimetype": "text/x-python",
   "name": "python",
   "nbconvert_exporter": "python",
   "pygments_lexer": "ipython3",
   "version": "3.10.8"
  }
 },
 "nbformat": 4,
 "nbformat_minor": 5
}
