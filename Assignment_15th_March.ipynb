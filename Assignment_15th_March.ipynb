{
 "cells": [
  {
   "cell_type": "markdown",
   "id": "447dd2e4-2d58-4602-90d0-0c190d9429b5",
   "metadata": {},
   "source": [
    "# Assignment Answers"
   ]
  },
  {
   "cell_type": "markdown",
   "id": "392ad5c1-032d-492c-9e63-c7f506ada542",
   "metadata": {},
   "source": [
    "# 1."
   ]
  },
  {
   "cell_type": "markdown",
   "id": "b5864d6a-c635-4864-bc8a-fef8d9166293",
   "metadata": {},
   "source": [
    "1. Artificial Intelligence\n",
    "- AI refers to the simulation of human intelligence in machines that are programmed to think like humans and mimic their actions.\n",
    "- The term may also be applied to any machine that exhibits traits associated with a human such as learning and problem-solving.\n",
    "- Example: Self-driving car\n",
    "2. Machine Learning\n",
    "- It is a subset of AI, which refers to the concept that computer programs can automatically learn from and adapt to new data without being assisted by humans.\n",
    "- It is basically a collection of statistical tools that are used to learn, analyze, visualize, and make a predictive model based on the data.\n",
    "- Example: Product Recommendation Systems\n",
    "3. Deep Learning\n",
    "- It is a subset of ML, which is essentially a neural network.\n",
    "- These neural networks attempt to simulate the behavior of the human brain.\n",
    "- Example: Image Detection"
   ]
  },
  {
   "cell_type": "markdown",
   "id": "37b94796-be45-46a3-90a7-9a42d5a5e37f",
   "metadata": {},
   "source": [
    "# 2."
   ]
  },
  {
   "cell_type": "markdown",
   "id": "4c269be2-3865-4aa9-ac88-6c1f5146b6f6",
   "metadata": {},
   "source": [
    "- Supervised learning is a sub-category of machine learning in which machines are trained using labeled data, and on the basis of these data, the model predicts the output.\n",
    "- It is a process of providing input data as well as correct output data to the machine learning model.\n",
    "- Examples are;\n",
    "\t- Classification of image\n",
    "\t- Spam Filtering\n",
    "\t- Fraud Detection"
   ]
  },
  {
   "cell_type": "markdown",
   "id": "71ddbe54-2199-4488-a134-fae590a3e04b",
   "metadata": {},
   "source": [
    "# 3."
   ]
  },
  {
   "cell_type": "markdown",
   "id": "54f9e428-0888-4cef-9228-cb9759ad9092",
   "metadata": {},
   "source": [
    "- Unsupervised Learning is a machine learning technique in which machines are not trained using the labeled data.\n",
    "- This type of learning algorithm itself tries to find the hidden pattern and insights from the data.\n",
    "- Examples are;\n",
    "\t- Retail Marketing Analysis"
   ]
  },
  {
   "cell_type": "markdown",
   "id": "e1f9d269-6483-414f-b04a-4211216206bd",
   "metadata": {},
   "source": [
    "# 4."
   ]
  },
  {
   "cell_type": "markdown",
   "id": "f0664493-1956-4697-96ae-9bd1fa047a00",
   "metadata": {},
   "source": [
    "1. Artificial Intelligence\n",
    "- AI refers to the simulation of human intelligence in machines that are programmed to think like humans and mimic their actions.\n",
    "- The term may also be applied to any machine that exhibits traits associated with a human such as learning and problem-solving.\n",
    "- Example: Self-driving car\n",
    "2. Machine Learning\n",
    "- It is a subset of AI, which refers to the concept that computer programs can automatically learn from and adapt to new data without being assisted by humans.\n",
    "- It is basically a collection of statistical tools that are used to learn, analyze, visualize, and make a predictive model based on the data.\n",
    "- Example: Product Recommendation Systems\n",
    "3. Deep Learning\n",
    "- It is a subset of ML, which is essentially a neural network.\n",
    "- These neural networks attempt to simulate the behavior of the human brain.\n",
    "- Example: Image Detection\n",
    "4. DS\n",
    "- It is the study of data to extract meaningful insights from it.\n",
    "- It is a multidisciplinary approach that combines principles from the fields of mathematics, statistics, artificial intelligence, machine learning, and deep learning to analyze large amounts of data.\n",
    "- Example: Finance companies can use a customer's banking and bill-payment history to assess creditworthiness and loan risk."
   ]
  },
  {
   "cell_type": "markdown",
   "id": "56436d75-e2a8-4328-a781-d2cc893c2050",
   "metadata": {},
   "source": [
    "# 5."
   ]
  },
  {
   "cell_type": "markdown",
   "id": "c1f533e8-c3c9-4221-b8c6-ee4f99a517d9",
   "metadata": {},
   "source": [
    "1. Supervised Learning\n",
    "- Supervised learning is a sub-category of machine learning in which machines are trained using labeled data, and on the basis of these data, the model predicts the output.\n",
    "- It is a process of providing input data as well as correct output data to the machine learning model.\n",
    "- Examples are;\n",
    "\t- Classification of image\n",
    "\t- Spam Filtering\n",
    "\t- Fraud Detection\n",
    "2. Unsupervised Learning\n",
    "- Unsupervised Learning is a machine learning technique in which machines are not trained using the labeled data.\n",
    "- This type of learning algorithm itself tries to find the hidden pattern and insights from the data.\n",
    "- Examples are;\n",
    "\t- Retail Marketing Analysis\n",
    "3. Semi-supervised Learning\n",
    "- It is a combination of both supervised and unsupervised machine learning algorithms.\n",
    "- Here, while training the model, the training dataset comprises of a small amount of labeled data and a large amount of unlabeled data.\n",
    "- Example:\n",
    "\t- Text documents classifier"
   ]
  },
  {
   "cell_type": "markdown",
   "id": "d6cdcd18-159a-4cde-838f-da981e8560f4",
   "metadata": {},
   "source": [
    "# 6."
   ]
  },
  {
   "cell_type": "markdown",
   "id": "11fc31e4-f556-47ed-9d3a-f1a419467680",
   "metadata": {},
   "source": [
    "1. Train dataset\n",
    "- It is the largest corpus of data that is reserved for training the model.\n",
    "- Generally, 70% of the whole data is allocated for training the model.\n",
    "2. Test Dataset\n",
    "- It is a portion of the dataset on which the model is tested for its performance.\n",
    "- The model is not aware of this set of data.\n",
    "- Generally, 10% of the whole dataset is reserved for the purpose of training.\n",
    "3. Validation Dataset\n",
    "- It is also a separate portion of the dataset that is used to evaluate the performance of the model during training.\n",
    "- It is used for hyperparameter tuning of the model.\n",
    "- Generally, 20% of the dataset is reserved for this purpose."
   ]
  },
  {
   "cell_type": "markdown",
   "id": "c2f876be-3b21-4f19-87da-1577dc2bcc24",
   "metadata": {},
   "source": [
    "# 7."
   ]
  },
  {
   "cell_type": "markdown",
   "id": "f79d6f9d-7c86-44d8-b49d-7cff9e1eb19e",
   "metadata": {},
   "source": [
    "Anomaly detection can also be said to be outlier detection. Unsupervised learning algorithms perform anomaly detection on datasets that are not provided with the information as if which of the data points are normal and which are not normal.<br>\n",
    "It works by this principle where it assumes that large proportions of the data are normal, while those differing from these large proportions of data are anomalies.<br>\n",
    "And on this basis, it makes a cluster of two groups, one with normal data and the other with data having anomalies.<br>\n",
    "So, in this way, an unsupervised learning algorithm can perform the task of anomaly detection."
   ]
  },
  {
   "cell_type": "markdown",
   "id": "f0e91ff5-5a46-4505-9ac1-cabb74d7cb59",
   "metadata": {},
   "source": [
    "# 8."
   ]
  },
  {
   "cell_type": "markdown",
   "id": "f0e94332-fe5a-44c3-97e5-0fb8dd03be4c",
   "metadata": {},
   "source": [
    "- Some commonly used algorithms for Supervised learning are:\n",
    "\t- Decision Tree Algorithm\n",
    "\t- Regression Algorithm\n",
    "\t- Logistic Regression Algorithm\n",
    "\t- SVM\n",
    "- Some commonly used algorithms for Unsupervised learning are:\n",
    "\t- K-means Clustering Algorithm\n",
    "\t- Hierarchical Clustering\n",
    "\t- Apriori Algorithm\n",
    "\t- K-Nearest Neighbour Algorithm"
   ]
  },
  {
   "cell_type": "code",
   "execution_count": null,
   "id": "3990a8c8-b0e3-4776-9e13-9ba1052ef002",
   "metadata": {},
   "outputs": [],
   "source": []
  }
 ],
 "metadata": {
  "kernelspec": {
   "display_name": "Python 3 (ipykernel)",
   "language": "python",
   "name": "python3"
  },
  "language_info": {
   "codemirror_mode": {
    "name": "ipython",
    "version": 3
   },
   "file_extension": ".py",
   "mimetype": "text/x-python",
   "name": "python",
   "nbconvert_exporter": "python",
   "pygments_lexer": "ipython3",
   "version": "3.10.8"
  }
 },
 "nbformat": 4,
 "nbformat_minor": 5
}
