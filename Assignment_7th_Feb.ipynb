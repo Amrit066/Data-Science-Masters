{
 "cells": [
  {
   "cell_type": "markdown",
   "id": "d0361fb8-2487-4721-b7fa-0fb5aa991c31",
   "metadata": {},
   "source": [
    "# Assignment Answers"
   ]
  },
  {
   "cell_type": "markdown",
   "id": "a3f73e9c-8831-4164-8171-efeb6fea2c24",
   "metadata": {},
   "source": [
    "# 1."
   ]
  },
  {
   "cell_type": "code",
   "execution_count": 6,
   "id": "39a31d8a-4c22-4275-b042-ebe7881ee77c",
   "metadata": {},
   "outputs": [],
   "source": [
    "# To validate password\n",
    "def check_password(password):\n",
    "    \n",
    "    special_chars=\"~:'+[\\\\@^{%(-\\\"*|,&<`}._=]!>;?#$)/\"\n",
    "    uppercase_letters=\"ABCDEFGHIJKLMNOPQRSTUVWXYZ\"\n",
    "    lowercase_letters=\"abcdefghijklmnopqrstuvwxyz\"\n",
    "    numbers=\"0123456789\"\n",
    "    isValid=True\n",
    "    uc_count=0  # To store count of uppercase letters\n",
    "    lc_count=0  # To store count of lowercase letters\n",
    "    num_count=0 # To store count of numbers\n",
    "    sc_count=0  # To store count of special characters\n",
    "    \n",
    "    if(len(password)!=10):\n",
    "        isValid=False\n",
    "    else:\n",
    "        for letter in password:\n",
    "            if(letter in special_chars):\n",
    "                sc_count+=1\n",
    "            elif(letter in uppercase_letters):\n",
    "                uc_count+=1\n",
    "            elif(letter in lowercase_letters):\n",
    "                lc_count+=1\n",
    "            elif(letter in numbers):\n",
    "                num_count+=1\n",
    "    \n",
    "    if(sc_count<3 or uc_count<2 or lc_count<2 or num_count<1 or not isValid):\n",
    "        isValid=False\n",
    "    else:\n",
    "        isValid=True\n",
    "        \n",
    "    return \"Valid Password\" if(isValid) else \"Invalid Password\""
   ]
  },
  {
   "cell_type": "code",
   "execution_count": null,
   "id": "a02e3e75-7b63-4e98-8a1e-8003424dde1a",
   "metadata": {
    "tags": []
   },
   "outputs": [],
   "source": [
    "# Taking password as input\n",
    "password=input(\"Enter password: \")\n",
    "# Calling function to check the validity of password\n",
    "response=check_password(password)\n",
    "# Result\n",
    "print(f\"The password-\\\"{password}\\\", is {response}\")\n"
   ]
  },
  {
   "cell_type": "markdown",
   "id": "eae67551-ddcc-4097-8736-9ad6de82ace7",
   "metadata": {},
   "source": [
    "# 2."
   ]
  },
  {
   "cell_type": "markdown",
   "id": "84007b43-8446-4ce4-9d79-981218778cad",
   "metadata": {},
   "source": [
    "#### Part-1: To check if the string starts with a particular letter"
   ]
  },
  {
   "cell_type": "code",
   "execution_count": null,
   "id": "b8dc84f1-e001-4c3d-91e0-f8fa598e31eb",
   "metadata": {},
   "outputs": [],
   "source": [
    "# Taking Inputs\n",
    "string=input(\"Enter String: \")\n",
    "letter=input(\"Enter Letter: \")\n",
    "\n",
    "# Validating string for letter\n",
    "res=(lambda str1,ltr: True if(str1[0]==ltr) else False)(string,letter)\n",
    "\n",
    "# Displaying Result\n",
    "if(res):\n",
    "    print(\"String starts with a particular letter\")\n",
    "else:\n",
    "    print(\"String does not starts with a particular letter\")\n",
    "     "
   ]
  },
  {
   "cell_type": "markdown",
   "id": "967102bf-575f-4fd2-9a50-590eae28da10",
   "metadata": {},
   "source": [
    "#### Part-2: To check if the string is numeric"
   ]
  },
  {
   "cell_type": "code",
   "execution_count": null,
   "id": "1c46a2fe-50af-4546-8176-490358392fee",
   "metadata": {},
   "outputs": [],
   "source": [
    "# Taking Inputs\n",
    "string=input(\"Enter String: \")\n",
    "\n",
    "# Validating string for letter\n",
    "num=\"0123456789\"\n",
    "res=[]\n",
    "for each in string:\n",
    "    res.append((lambda x: True if(x in num) else False)(each))\n",
    "\n",
    "# Displaying Result\n",
    "if(all(res)):\n",
    "    print(\"String is numeric\")\n",
    "else:\n",
    "    print(\"String is not numeric\")"
   ]
  },
  {
   "cell_type": "markdown",
   "id": "2427f767-b6f1-4615-9856-481c147e3988",
   "metadata": {},
   "source": [
    "#### Part-3: To sort a list of tuples having fruit names and their quantity"
   ]
  },
  {
   "cell_type": "code",
   "execution_count": null,
   "id": "76d591e6-a98b-4860-a39b-c9a055852623",
   "metadata": {},
   "outputs": [],
   "source": [
    "# Variable to be passed as argument\n",
    "List=[(\"mango\",99),(\"orange\",80),(\"grapes\",1000)]\n",
    "\n",
    "# Sorting list of tuples\n",
    "Ans_List=list(sorted(List,key=lambda x:x[1]))\n",
    "\n",
    "# Displaying output\n",
    "print(\"Original List: \",List)\n",
    "print(\"Sorted List: \",Ans_List)"
   ]
  },
  {
   "cell_type": "markdown",
   "id": "9a5edb20-62eb-458d-bc3a-a9a212f98ff5",
   "metadata": {},
   "source": [
    "#### Part-4: To find the squares of numbers from 1 to 10"
   ]
  },
  {
   "cell_type": "code",
   "execution_count": null,
   "id": "db8b49c2-82ba-446a-9a06-dd15b46ac4e0",
   "metadata": {},
   "outputs": [],
   "source": [
    "# Initializing list of square of numbers from 1 to 10\n",
    "num=[i**2 for i in range(1,11)]\n",
    "# printing square of numbers from 1 to 10\n",
    "for each in num:\n",
    "    print(each, end=\" \")"
   ]
  },
  {
   "cell_type": "markdown",
   "id": "e30abb05-2e22-4954-922b-9b7d874bf5b1",
   "metadata": {},
   "source": [
    "#### Part-5: To find the cube root of numbers from 1 to 10"
   ]
  },
  {
   "cell_type": "code",
   "execution_count": null,
   "id": "25ef9e5b-e770-48d1-b177-c07de6e29c57",
   "metadata": {},
   "outputs": [],
   "source": [
    "# Initializing list of square of numbers from 1 to 10\n",
    "num=[i**(1/3) for i in range(1,11)]\n",
    "# printing square of numbers from 1 to 10\n",
    "for each in num:\n",
    "    print(f\"{each:.4f}\", end=\" \")"
   ]
  },
  {
   "cell_type": "markdown",
   "id": "1cc542e1-9f6b-4ded-aec0-ee54d9a6584e",
   "metadata": {},
   "source": [
    "#### Part-6: To check if a given number is even"
   ]
  },
  {
   "cell_type": "code",
   "execution_count": null,
   "id": "02152a41-e44c-4882-bce7-480f9fe2c19d",
   "metadata": {},
   "outputs": [],
   "source": [
    "# Input\n",
    "n=int(input(\"Enter a number: \"))\n",
    "\n",
    "# Output\n",
    "res=(lambda x: \"Even\" if(n&1==0) else \"not Even\")(n)\n",
    "print(f\"The number-{n} is {res}\")"
   ]
  },
  {
   "cell_type": "markdown",
   "id": "00963a7c-751a-4f03-b05b-034d17ed69e6",
   "metadata": {},
   "source": [
    "#### Part-7: To filter odd numbers from the given list"
   ]
  },
  {
   "cell_type": "code",
   "execution_count": null,
   "id": "a759c3b2-cac5-4690-ab2f-c0ec0df391d2",
   "metadata": {},
   "outputs": [],
   "source": [
    "# Initializing a list with first 10 natural numbers\n",
    "List=[i for i in range(1,11)]\n",
    "\n",
    "#Filtering odd numbers from the list\n",
    "res=list(filter(lambda x: x&1!=0,List))\n",
    "#Output\n",
    "print(\"Original List: \",List)\n",
    "print(\"List of odd numbers: \",res)"
   ]
  },
  {
   "cell_type": "markdown",
   "id": "395181db-fecb-4a2e-90ab-868553b1e310",
   "metadata": {},
   "source": [
    "#### Part-8: To sort a list of integers into positive and negative integers lists"
   ]
  },
  {
   "cell_type": "code",
   "execution_count": null,
   "id": "9ec16d3f-5f45-4be6-8079-01ce65c0622a",
   "metadata": {},
   "outputs": [],
   "source": [
    "# Initial List\n",
    "List=[1,2,3,4,5,6,-1,-2,-3,-4,-5,0]\n",
    "\n",
    "#Seggregating positive and negative integers into different lists\n",
    "pos_list=list(filter(lambda x: x>0,List))\n",
    "neg_list=list(filter(lambda x: x<0,List))\n",
    "\n",
    "# Output\n",
    "print(\"Original List: \",List)\n",
    "print(\"Positive Numbers List: \",pos_list)\n",
    "print(\"Negative Numbers List: \",neg_list)"
   ]
  },
  {
   "cell_type": "code",
   "execution_count": null,
   "id": "20bdad50-0731-4397-8736-500bbf062a50",
   "metadata": {},
   "outputs": [],
   "source": []
  }
 ],
 "metadata": {
  "kernelspec": {
   "display_name": "Python 3 (ipykernel)",
   "language": "python",
   "name": "python3"
  },
  "language_info": {
   "codemirror_mode": {
    "name": "ipython",
    "version": 3
   },
   "file_extension": ".py",
   "mimetype": "text/x-python",
   "name": "python",
   "nbconvert_exporter": "python",
   "pygments_lexer": "ipython3",
   "version": "3.10.8"
  }
 },
 "nbformat": 4,
 "nbformat_minor": 5
}
