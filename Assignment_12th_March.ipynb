{
 "cells": [
  {
   "cell_type": "markdown",
   "id": "acda8193-58af-47ff-a535-c589880383b3",
   "metadata": {},
   "source": [
    "# Assignment Answers"
   ]
  },
  {
   "cell_type": "markdown",
   "id": "8726cf23-00be-4cb6-913e-feb3f756c566",
   "metadata": {},
   "source": [
    "# 1."
   ]
  },
  {
   "cell_type": "markdown",
   "id": "c9c93bf4-86c9-46b6-92f2-d2f139f852ab",
   "metadata": {},
   "source": [
    "- At first, let's try to get the sample data using the given mean and standard deviation as that way it will make sense that we are calculating CI for the data we have obtained."
   ]
  },
  {
   "cell_type": "code",
   "execution_count": 5,
   "id": "9d012245-b34e-47ae-a422-0ade2aa05913",
   "metadata": {},
   "outputs": [],
   "source": [
    "# Importing Library\n",
    "import statistics as s\n",
    "import scipy.stats as stat"
   ]
  },
  {
   "cell_type": "code",
   "execution_count": 8,
   "id": "73ff7778-4e18-4363-969b-41645cedaea3",
   "metadata": {},
   "outputs": [],
   "source": [
    "# Given Data\n",
    "mean = 50\n",
    "std = 5\n",
    "n= 100 # Sample size\n",
    "alpha = 1 - 0.95\n",
    "\n",
    "# Calculating normal distribution for the given mean and std\n",
    "normal = s.NormalDist(mu=mean, sigma=std)\n",
    "\n",
    "# Getting sample from this normal distribution\n",
    "sample = normal.samples(n) "
   ]
  },
  {
   "cell_type": "code",
   "execution_count": 12,
   "id": "dd9dd195-c653-4c8e-8b30-524da8369f9f",
   "metadata": {},
   "outputs": [
    {
     "name": "stdout",
     "output_type": "stream",
     "text": [
      "Confidence Interval is: [49.966094314112226, 50.033905685887774]\n"
     ]
    },
    {
     "name": "stderr",
     "output_type": "stream",
     "text": [
      "/tmp/ipykernel_77/570381579.py:2: DeprecationWarning: Use of keyword argument `alpha` for method `interval` is deprecated. Use first positional argument or keyword argument `confidence` instead.\n",
      "  CI = stat.t.interval(alpha=alpha, df=len(sample)-1,\n"
     ]
    }
   ],
   "source": [
    "# Now, calculate CI for the above obtained sample\n",
    "CI = stat.t.interval(alpha=alpha, df=len(sample)-1,\n",
    "              loc=mean,\n",
    "              scale=stat.sem(sample))\n",
    "\n",
    "# Result\n",
    "print(\"Confidence Interval is: [{}, {}]\".format(CI[0],CI[1]))"
   ]
  },
  {
   "cell_type": "markdown",
   "id": "f495b0db-83e3-472c-b074-912d16b833a8",
   "metadata": {},
   "source": [
    "# 2."
   ]
  },
  {
   "cell_type": "code",
   "execution_count": 37,
   "id": "cf7259b0-0d89-47d2-b334-e7e8710c1d25",
   "metadata": {},
   "outputs": [
    {
     "name": "stdout",
     "output_type": "stream",
     "text": [
      "The distribution of colors in the bag is significantly different from the expected distribution.\n"
     ]
    }
   ],
   "source": [
    "# Importing Libraries\n",
    "import numpy as np\n",
    "from scipy.stats import chisquare\n",
    "\n",
    "# Given Data\n",
    "observed = np.array([40, 23, 17, 11, 9, 20])  \n",
    "expected = np.array([.2, .2, .2, .1, .1, .2]) * observed.sum()  \n",
    "\n",
    "# Calculating Chisquare statistic\n",
    "stat, p = chisquare(observed, expected)\n",
    "\n",
    "\n",
    "# Interpreting Result\n",
    "if p < 0.05:\n",
    "    print(\"The distribution of colors in the bag is significantly different from the expected distribution.\")\n",
    "else:\n",
    "    print(\"The distribution of colors in the bag is not significantly different from the expected distribution.\")"
   ]
  },
  {
   "cell_type": "markdown",
   "id": "7f6aa6a9-1ba7-4367-946c-4c9b5cabc7f2",
   "metadata": {},
   "source": [
    "# 3."
   ]
  },
  {
   "cell_type": "markdown",
   "id": "c54fa00f-2d6c-4790-add9-c3eb1e92c0a2",
   "metadata": {},
   "source": [
    "- Given Data:<br><br>\n",
    "groupA = [20,10,15]<br>\n",
    "groupB = [15,25,20]<br>\n",
    "data = [groupA,groupB]\n",
    "df = 2<br>\n",
    "And, let's assume confidence level to be 95%. Thus,<br>\n",
    "significance_level = 0.05<br>\n",
    "<br><br>\n",
    "- Hypothesis<br><br>\n",
    "H<sub>0</sub>:  There is no relation between two data.<br>\n",
    "H<sub>1</sub>:  There is a relation between two data.<br>"
   ]
  },
  {
   "cell_type": "code",
   "execution_count": 41,
   "id": "d55fa5a2-98d2-4dfa-925d-910be928880e",
   "metadata": {},
   "outputs": [
    {
     "name": "stdout",
     "output_type": "stream",
     "text": [
      "Chisquare Statistics: 5.83\n",
      "P value: 0.054\n",
      "Null hypothesis is accepted which means that there's a relation b/w the data\n"
     ]
    }
   ],
   "source": [
    "# Importing Library\n",
    "from scipy.stats import chi2_contingency\n",
    "\n",
    "\n",
    "# Given Data\n",
    "alpha = 0.05\n",
    "o1 = [20,15]\n",
    "o2 = [10,25]\n",
    "o3 = [15,20]\n",
    "data = [o1,o2,o3]\n",
    "\n",
    "# Clculating Chi_square_stats\n",
    "stat, p, dof, expected = chi2_contingency(data)\n",
    "\n",
    "print(f\"Chisquare Statistics: {stat:.2f}\")\n",
    "print(f\"P value: {p:.3f}\")\n",
    "# Interpreting Result\n",
    "if p <= alpha:\n",
    "    print(\"Null hypothesis is rejectd which means that there's no relation b/w the data\")\n",
    "else:\n",
    "    print(\"Null hypothesis is accepted which means that there's a relation b/w the data\")"
   ]
  },
  {
   "cell_type": "markdown",
   "id": "caa25278-ca6e-4c27-b69d-0c61bb8daf56",
   "metadata": {},
   "source": [
    "# 4."
   ]
  },
  {
   "cell_type": "code",
   "execution_count": 27,
   "id": "32905495-cc19-46b9-9b35-47bbf0f0be7b",
   "metadata": {},
   "outputs": [],
   "source": [
    "# Importing Library\n",
    "import scipy.stats as stat"
   ]
  },
  {
   "cell_type": "code",
   "execution_count": 28,
   "id": "04c061cf-86cf-46f7-99a1-f5bebb1a6836",
   "metadata": {},
   "outputs": [],
   "source": [
    "# Given Data\n",
    "mean = 60\n",
    "n= 500 \n",
    "alpha = 1 - 0.95\n"
   ]
  },
  {
   "cell_type": "code",
   "execution_count": 30,
   "id": "202001fe-57bc-44f0-9405-189367634373",
   "metadata": {},
   "outputs": [
    {
     "name": "stdout",
     "output_type": "stream",
     "text": [
      "Confidence Interval is: [59.93713404733565, 60.06286595266435]\n"
     ]
    },
    {
     "name": "stderr",
     "output_type": "stream",
     "text": [
      "/tmp/ipykernel_77/2809693631.py:2: DeprecationWarning: Use of keyword argument `alpha` for method `interval` is deprecated. Use first positional argument or keyword argument `confidence` instead.\n",
      "  CI = stat.t.interval(alpha=alpha, df=len(sample)-1,\n"
     ]
    }
   ],
   "source": [
    "# Now, calculate CI for the above obtained sample\n",
    "CI = stat.t.interval(alpha=alpha, df=len(sample)-1,\n",
    "              loc=mean)\n",
    "\n",
    "# Result\n",
    "print(\"Confidence Interval is: [{}, {}]\".format(CI[0],CI[1]))"
   ]
  },
  {
   "cell_type": "markdown",
   "id": "c28118b2-0917-46d7-9954-49ca51cc44d2",
   "metadata": {},
   "source": [
    "# 5."
   ]
  },
  {
   "cell_type": "markdown",
   "id": "ffe54621-76b8-4ff6-afe1-1a53e5dd5248",
   "metadata": {},
   "source": [
    "- At first, let's try to get the sample data using the given mean and standard deviation as that way it will make sense that we are calculating CI for the data we have obtained."
   ]
  },
  {
   "cell_type": "code",
   "execution_count": 15,
   "id": "8c435bf7-018a-4900-b760-fa5e5ac15c28",
   "metadata": {},
   "outputs": [],
   "source": [
    "# Importing Library\n",
    "import statistics as s\n",
    "import scipy.stats as stat"
   ]
  },
  {
   "cell_type": "code",
   "execution_count": 16,
   "id": "05c3dd86-e071-4bb4-b8ea-c76339d3b1ae",
   "metadata": {},
   "outputs": [],
   "source": [
    "# Given Data\n",
    "mean = 75\n",
    "std = 12\n",
    "n= 100 # Sample size\n",
    "alpha = 1 - 0.90\n",
    "\n",
    "# Calculating normal distribution for the given mean and std\n",
    "normal = s.NormalDist(mu=mean, sigma=std)\n",
    "\n",
    "# Getting sample from this normal distribution\n",
    "sample = normal.samples(n) "
   ]
  },
  {
   "cell_type": "code",
   "execution_count": 17,
   "id": "38a9e174-7c41-4ea9-8dee-b5d6caac5c74",
   "metadata": {},
   "outputs": [
    {
     "name": "stdout",
     "output_type": "stream",
     "text": [
      "Confidence Interval is: [74.84028040645507, 75.15971959354493]\n"
     ]
    },
    {
     "name": "stderr",
     "output_type": "stream",
     "text": [
      "/tmp/ipykernel_77/570381579.py:2: DeprecationWarning: Use of keyword argument `alpha` for method `interval` is deprecated. Use first positional argument or keyword argument `confidence` instead.\n",
      "  CI = stat.t.interval(alpha=alpha, df=len(sample)-1,\n"
     ]
    }
   ],
   "source": [
    "# Now, calculate CI for the above obtained sample\n",
    "CI = stat.t.interval(alpha=alpha, df=len(sample)-1,\n",
    "              loc=mean,\n",
    "              scale=stat.sem(sample))\n",
    "\n",
    "# Result\n",
    "print(\"Confidence Interval is: [{}, {}]\".format(CI[0],CI[1]))"
   ]
  },
  {
   "cell_type": "markdown",
   "id": "e5519066-6f5a-4817-83e4-0ed37595537b",
   "metadata": {},
   "source": [
    "# 6."
   ]
  },
  {
   "cell_type": "code",
   "execution_count": 14,
   "id": "d2c9c741-20f4-4236-8a13-8489ac061193",
   "metadata": {},
   "outputs": [
    {
     "data": {
      "image/png": "[encoded data removed]",
      "text/plain": [
       "<Figure size 600x500 with 1 Axes>"
      ]
     },
     "metadata": {},
     "output_type": "display_data"
    }
   ],
   "source": [
    "# Importing Libraries\n",
    "import numpy as np\n",
    "import matplotlib.pyplot as plt\n",
    "from scipy.stats import chi2\n",
    "\n",
    "# Creating data to be plotted on x-axis\n",
    "x = np.arange(0, 100, 0.5)\n",
    "# Creating chi-square distribution for the corresponding x-values with df= 10\n",
    "y = chi2.pdf(x, df=10)\n",
    "\n",
    "#plot Chi-square distribution with df= 10\n",
    "plt.figure(figsize=(6,5))\n",
    "plt.plot(x, y,color=\"orange\")\n",
    "plt.fill_between(x,y,color=\"orange\",where =(x<15) ,alpha=0.2)  # coloring area under chi-square statistic pf 15\n",
    "plt.title(\"Chi-square Distribution\")\n",
    "plt.xlabel(\"Chi statistics\")\n",
    "plt.ylabel(\"Density\")\n",
    "plt.show()"
   ]
  },
  {
   "cell_type": "markdown",
   "id": "a3f8796a-a8c6-47c0-8dad-82fbbeda2604",
   "metadata": {},
   "source": [
    "# 7."
   ]
  },
  {
   "cell_type": "markdown",
   "id": "b1c07292-2768-4217-837f-395be00f5743",
   "metadata": {},
   "source": [
    "- Given Data<br><br>\n",
    "people prefer coke = 520<br>\n",
    "n= 1000 <br>\n",
    "alpha = 1 - 0.99=0.01<br>\n",
    "half_alfa = 0.005<br>\n",
    "p value = 1-0.005 = 0.995<br><br>\n",
    "\n",
    "Now, let's find the z-value for p value = 0.995, which is,<br>\n",
    "z = 2.58 ----------------(i)<br><br>\n",
    "Then, let's calculate the true proportin for people who prefer coke.<br><br>\n",
    "p_cap = 520/1000<br>\n",
    "p_cap = 0.52 -----------------(ii)<br><br>\n",
    "Finally, let's calculate the CI using the formula given below:<br>\n"
   ]
  },
  {
   "attachments": {
    "a324a120-f3a4-4818-bbe2-1f08af23d86c.png": {
     "image/png": "[encoded data removed]"
    }
   },
   "cell_type": "markdown",
   "id": "0c8c7c39-ce5e-4042-8b76-5559aabc3ffa",
   "metadata": {},
   "source": [
    "![proportion_ci.png](attachment:a324a120-f3a4-4818-bbe2-1f08af23d86c.png)"
   ]
  },
  {
   "cell_type": "markdown",
   "id": "2cfcc56b-6c48-4230-b494-20df99b36b56",
   "metadata": {},
   "source": [
    "Hence, from equation-(i) and equation-(ii), we can obtain,<br><br>\n",
    "CI = [0.52- (2.58 * sqrt(0.52*(1-0.52)/1000)),0.52+ (2.58 * sqrt(0.52*(1-0.52)/1000))]<br>\n",
    "CI = [0.52- (2.58 * sqrt(0.2496/1000)),0.52+ (2.58 * sqrt(0.2496/1000))]<br>\n",
    "CI = [0.52- (2.58 * 0.0158),0.52+ (2.58 * 0.0158)]<br>\n",
    "CI = [0.52- 0.0408,0.52+ 0.0408]<br>\n",
    "CI = [0.4792,0.5608]<br>"
   ]
  },
  {
   "cell_type": "markdown",
   "id": "7bfb1b57-f57b-4143-be1e-9cdc70ae08c5",
   "metadata": {},
   "source": [
    "# 8."
   ]
  },
  {
   "cell_type": "code",
   "execution_count": 38,
   "id": "8320a5d0-b7ee-4a35-9f10-82dd0e412cd6",
   "metadata": {},
   "outputs": [
    {
     "name": "stdout",
     "output_type": "stream",
     "text": [
      "The coin is biased towards tail.\n"
     ]
    }
   ],
   "source": [
    "# Importing Libraries\n",
    "import numpy as np\n",
    "from scipy.stats import chisquare\n",
    "\n",
    "# Given Data\n",
    "# Observed Data\n",
    "obs_head = 55\n",
    "obs_tail = 45\n",
    "observed = [obs_head,obs_tail]\n",
    "# Expected Data\n",
    "exp_head = 0.5*100\n",
    "exp_tail = 0.5*100\n",
    "expected = [exp_head,exp_tail]\n",
    "\n",
    "# Calculating Chisquare statistic\n",
    "stat, p = chisquare(observed, expected)\n",
    "\n",
    "# Interpreting Result\n",
    "if p < 0.05:\n",
    "    print(\"The coin is not biased towards tail.\")\n",
    "else:\n",
    "    print(\"The coin is biased towards tail.\")"
   ]
  },
  {
   "cell_type": "markdown",
   "id": "fb602b63-5ba6-4d0e-a387-22e91ffad1c7",
   "metadata": {},
   "source": [
    "# 9."
   ]
  },
  {
   "cell_type": "markdown",
   "id": "90ef796e-25f5-45b9-8ca9-aab1af033dd3",
   "metadata": {},
   "source": [
    "- Hypothesis<br><br>\n",
    "H<sub>0</sub>:  There is not significant association between smoking status and lung cancer diagnosis.<br>\n",
    "H<sub>1</sub>:  There is  significant association between smoking status and lung cancer diagnosis.<br>"
   ]
  },
  {
   "cell_type": "code",
   "execution_count": 45,
   "id": "f30ac34b-9980-4c3c-b9a5-abdf86f723d5",
   "metadata": {},
   "outputs": [
    {
     "name": "stdout",
     "output_type": "stream",
     "text": [
      "Chisquare Statistics: 12.06\n",
      "P value: 0.001\n",
      "There is  significance association between smoking status and lung cancer diagnosis.\n"
     ]
    }
   ],
   "source": [
    "# Importing Library\n",
    "from scipy.stats import chi2_contingency\n",
    "\n",
    "\n",
    "# Given Data\n",
    "alpha = 0.05\n",
    "smoker = [60,140]\n",
    "non_smoker = [30,170]\n",
    "data = [smoker,non_smoker]\n",
    "\n",
    "# Clculating Chi_square_stats\n",
    "stat, p, dof, expected = chi2_contingency(data)\n",
    " \n",
    "print(f\"Chisquare Statistics: {stat:.2f}\")\n",
    "print(f\"P value: {p:.3f}\")\n",
    "# Interpreting Result\n",
    "if p <= alpha:\n",
    "    print(\"There is  significance association between smoking status and lung cancer diagnosis.\")\n",
    "else:\n",
    "    print(\"There is not significance association between smoking status and lung cancer diagnosis.\")"
   ]
  },
  {
   "cell_type": "markdown",
   "id": "a80d15f2-8fb1-4567-9509-1cafdff9a082",
   "metadata": {},
   "source": [
    "# 10."
   ]
  },
  {
   "cell_type": "markdown",
   "id": "2a62dbe6-1668-481a-a3e7-47aaeff20635",
   "metadata": {},
   "source": [
    "- Hypothesis<br><br>\n",
    "H<sub>0</sub>:  There is not a significant association between chocolate preference and country of origin.<br>\n",
    "H<sub>1</sub>:  There is  a significant association between chocolate preference and country of origin.<br>"
   ]
  },
  {
   "cell_type": "code",
   "execution_count": 46,
   "id": "61deb9c3-4bfa-4e99-8eaf-15717b7417d1",
   "metadata": {},
   "outputs": [
    {
     "name": "stdout",
     "output_type": "stream",
     "text": [
      "Chisquare Statistics: 13.39\n",
      "P value: 0.001\n",
      "There is  a significant association between chocolate preference and country of origin.\n"
     ]
    }
   ],
   "source": [
    "# Importing Library\n",
    "from scipy.stats import chi2_contingency\n",
    "\n",
    "\n",
    "# Given Data\n",
    "alpha = 0.05\n",
    "us = [200,150,150]\n",
    "uk = [225,175,100]\n",
    "data = [us,uk]\n",
    "\n",
    "# Clculating Chi_square_stats\n",
    "stat, p, dof, expected = chi2_contingency(data)\n",
    " \n",
    "print(f\"Chisquare Statistics: {stat:.2f}\")\n",
    "print(f\"P value: {p:.3f}\")\n",
    "# Interpreting Result\n",
    "if p <= alpha:\n",
    "    print(\"There is  a significant association between chocolate preference and country of origin.\")\n",
    "else:\n",
    "    print(\"There is not a significant association between chocolate preference and country of origin.\")"
   ]
  },
  {
   "cell_type": "markdown",
   "id": "421b9fe2-c84f-42f5-8510-3af55d698dd7",
   "metadata": {},
   "source": [
    "# 11."
   ]
  },
  {
   "cell_type": "markdown",
   "id": "bb54391a-415d-4eff-b494-75d7f3ab5438",
   "metadata": {},
   "source": [
    "- Given Data<br><br>\n",
    "mean_population = 70<br>\n",
    "std = 10<br>\n",
    "mean_sample = 72 <br>\n",
    "n = 30<br>\n",
    "df = 29\n",
    "Significance Level = 0.05<br>\n",
    "critical_val = 2.045 -----------(i)\n"
   ]
  },
  {
   "cell_type": "markdown",
   "id": "a376dc99-da1c-404e-8a21-a20103eaf90f",
   "metadata": {},
   "source": [
    "- Hypothesis<br>\n",
    "H<sub>0</sub> : mu = 70<br>\n",
    "H<sub>1</sub> : mu != 70<br>"
   ]
  },
  {
   "cell_type": "markdown",
   "id": "b608d449-1b56-4f57-8e6b-8d3e71188216",
   "metadata": {},
   "source": [
    "Then, let's calculate the t-value according to the formula given below <br>"
   ]
  },
  {
   "attachments": {
    "0b767340-21b0-4881-b749-f255604313a6.png": {
     "image/png": "[encoded data removed]"
    }
   },
   "cell_type": "markdown",
   "id": "7d370886-7223-4650-aa68-ff63353f71af",
   "metadata": {},
   "source": [
    "![t-stat.png](attachment:0b767340-21b0-4881-b749-f255604313a6.png)"
   ]
  },
  {
   "cell_type": "markdown",
   "id": "531151d0-36e6-417d-aac1-b4a8e64fb836",
   "metadata": {},
   "source": [
    "t = (72 - 70)/(10/sqrt(30))<br>\n",
    "t = 2/(10/5.477)<br>\n",
    "t = 2/1.826<br>\n",
    "t = 1.095   --------------(ii)<br><br>\n",
    "Hence, from equation-(i) and equation-(ii) we can conclude that,<br>\n",
    "-1*critical < t < critical_val <br>\n",
    "Therefore, null hypothesis is accepted.<br>\n",
    "That is, population mean is not significantly different from 70."
   ]
  },
  {
   "cell_type": "code",
   "execution_count": null,
   "id": "04a62a4f-3d57-4ffa-b201-872304c539ad",
   "metadata": {},
   "outputs": [],
   "source": []
  }
 ],
 "metadata": {
  "kernelspec": {
   "display_name": "Python 3 (ipykernel)",
   "language": "python",
   "name": "python3"
  },
  "language_info": {
   "codemirror_mode": {
    "name": "ipython",
    "version": 3
   },
   "file_extension": ".py",
   "mimetype": "text/x-python",
   "name": "python",
   "nbconvert_exporter": "python",
   "pygments_lexer": "ipython3",
   "version": "3.10.8"
  }
 },
 "nbformat": 4,
 "nbformat_minor": 5
}
