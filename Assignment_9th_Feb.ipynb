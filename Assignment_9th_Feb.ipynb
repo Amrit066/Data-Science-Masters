{
 "cells": [
  {
   "cell_type": "markdown",
   "id": "703058dd-bd58-4437-a653-184c76269f1c",
   "metadata": {},
   "source": [
    "# Assignment Answers"
   ]
  },
  {
   "cell_type": "markdown",
   "id": "8b2cae14-6dd4-4f54-a02d-3b43df5b6a56",
   "metadata": {},
   "source": [
    "# 1."
   ]
  },
  {
   "cell_type": "code",
   "execution_count": null,
   "id": "7b66b21c-0acc-4edb-8575-fad26526ea9b",
   "metadata": {},
   "outputs": [],
   "source": [
    "# Vehicle class\n",
    "class Vehicle:\n",
    "    def __init__(self,name,speed,average):\n",
    "        self.name_of_vehicle=name\n",
    "        self.max_speed=speed\n",
    "        self.average_of_vehicle=average\n",
    "        \n",
    "# Creating object\n",
    "tata_harrier=Vehicle(\"Tata Harrier\",200,45)\n",
    "# Accessing and dsplaying properties\n",
    "print(\"Name of the vehicle: \",tata_harrier.name_of_vehicle)\n",
    "print(\"Maximum speed of the vehicle: \",tata_harrier.max_speed,\"kmph\")\n",
    "print(\"Average of the vehicle: \",tata_harrier.average_of_vehicle,\"kmpl\")"
   ]
  },
  {
   "cell_type": "markdown",
   "id": "b5f21154-fcd4-4565-94db-bc9b79866650",
   "metadata": {},
   "source": [
    "# 2."
   ]
  },
  {
   "cell_type": "code",
   "execution_count": null,
   "id": "cb1bc19b-e061-482f-80e5-46c1d70cea29",
   "metadata": {},
   "outputs": [],
   "source": [
    "# Vehicle class\n",
    "class Vehicle:\n",
    "    def __init__(self,name,speed,average):\n",
    "        self.name_of_vehicle=name\n",
    "        self.max_speed=speed\n",
    "        self.average_of_vehicle=average\n",
    "        \n",
    "# Car class\n",
    "class Car(Vehicle):\n",
    "    def __init__(self,name,speed,average):\n",
    "        super().__init__(name,speed,average)\n",
    "    \n",
    "    def seating_capacity(self,capacity):\n",
    "        return (self.name_of_vehicle,capacity)\n",
    "\n",
    "# Creating object\n",
    "car1=Car(\"Range Rover Velar\",230,50)\n",
    "# Output\n",
    "res=car1.seating_capacity(5)\n",
    "print(res)"
   ]
  },
  {
   "cell_type": "markdown",
   "id": "3aceccc6-afb4-4938-bfdc-404e67fe6397",
   "metadata": {},
   "source": [
    "# 3."
   ]
  },
  {
   "cell_type": "markdown",
   "id": "21927eb7-b36b-49d1-9467-d74ddf57d035",
   "metadata": {},
   "source": [
    "Multiple Inheritance is a type of inheritance, in which a child class is derived from multiple parent class. This means that a class has more than one independent parent class.<br><br>\n",
    "Example:"
   ]
  },
  {
   "cell_type": "code",
   "execution_count": 3,
   "id": "90f7a5cd-19d5-48c4-8151-33048a2340c2",
   "metadata": {},
   "outputs": [],
   "source": [
    "# Base class-1\n",
    "class Parent1:\n",
    "    def func1(self):\n",
    "        print(\"Parent-1\")\n",
    "\n",
    "# Base class-2\n",
    "class Parent2:\n",
    "    def func2(self):\n",
    "        print(\"Parent-2\")\n",
    "\n",
    "# Child class\n",
    "class Child(Parent1,Parent2):\n",
    "    def func3(self):\n",
    "        print(\"Child\")"
   ]
  },
  {
   "cell_type": "markdown",
   "id": "22e0eb61-04a8-44cd-87b6-d57fbada0cfc",
   "metadata": {},
   "source": [
    "# 4."
   ]
  },
  {
   "cell_type": "markdown",
   "id": "0fa2c8f6-2020-4f7a-af66-5d2dfaca513f",
   "metadata": {},
   "source": [
    "<b>(i) Getter</b>\n",
    "- It is generally a method in a class which is used to retreive the value of the private instance variables.\n",
    "- It helps to prevent direct access to the variables of the object.<br>\n",
    "<b>(ii) Setter</b>\n",
    "- It is also a method in a class which is used to modify/reassign the value of/to the private instance variables.\n",
    "- It helps to prevent direct modification of the variables of the object.<br><br>\n",
    "Example:\n"
   ]
  },
  {
   "cell_type": "code",
   "execution_count": null,
   "id": "fd58715f-0d8e-4569-b7ee-2464d689b9b5",
   "metadata": {},
   "outputs": [],
   "source": [
    "class Getter_Setter:\n",
    "    def __init__(self,name):\n",
    "        self.__class_name=name\n",
    "    \n",
    "    # Using property decorator to define getter and setter\n",
    "    @property\n",
    "    def class_name(self):\n",
    "        return self.__class_name\n",
    "    # setter for the instance variable __class_name\n",
    "    @class_name.setter\n",
    "    def class_name(self,name):\n",
    "        self.__class_name=name\n",
    "        \n",
    "# Creating object\n",
    "obj1=Getter_Setter(\"Getter\")\n",
    "# Accessing name of the class\n",
    "print(\"Name of the class is\",obj1.class_name)\n",
    "# Changing name of the class\n",
    "obj1.class_name=\"Getter and Setter\"\n",
    "# Accessing new name of the class\n",
    "print(\"Name of the class is\",obj1.class_name)\n",
    "    \n",
    "    "
   ]
  },
  {
   "cell_type": "markdown",
   "id": "a502fce1-e7f0-4943-99db-0cad273cfbd9",
   "metadata": {},
   "source": [
    "# 5."
   ]
  },
  {
   "cell_type": "markdown",
   "id": "35bdd0ed-60d2-48e3-867c-0138bb9add4f",
   "metadata": {},
   "source": [
    "- Method overriding in a python is a way to achieve <b>polymorphism</b>.\n",
    "- It's a feture of Object-Oriented principle in which a derived class overrides the functionality of a method defined in parent/base class, without changing its signature.\n",
    "- Example:"
   ]
  },
  {
   "cell_type": "code",
   "execution_count": null,
   "id": "6aa24f7e-3cbe-48ba-91df-6a123d0a39d8",
   "metadata": {},
   "outputs": [],
   "source": [
    "# Base Class\n",
    "class Parent:\n",
    "    def func(self):\n",
    "        print(\"This is method in parent class\")\n",
    "\n",
    "# Derived Class\n",
    "class Child(Parent):\n",
    "    # Overriding the method- func(), inherited from parent class\n",
    "    def func(self):\n",
    "        print(\"This is method in child class\")\n",
    "\n",
    "# Creating object\n",
    "p1=Parent()\n",
    "c1=Child()\n",
    "# Calling the same method from both parent and child\n",
    "p1.func()\n",
    "c1.func()\n",
    "    "
   ]
  },
  {
   "cell_type": "code",
   "execution_count": null,
   "id": "aff692ed-4c18-4bb7-a4d6-4268adc9805d",
   "metadata": {},
   "outputs": [],
   "source": []
  }
 ],
 "metadata": {
  "kernelspec": {
   "display_name": "Python 3 (ipykernel)",
   "language": "python",
   "name": "python3"
  },
  "language_info": {
   "codemirror_mode": {
    "name": "ipython",
    "version": 3
   },
   "file_extension": ".py",
   "mimetype": "text/x-python",
   "name": "python",
   "nbconvert_exporter": "python",
   "pygments_lexer": "ipython3",
   "version": "3.10.8"
  }
 },
 "nbformat": 4,
 "nbformat_minor": 5
}
