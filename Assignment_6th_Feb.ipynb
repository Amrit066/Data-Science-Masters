{
 "cells": [
  {
   "cell_type": "markdown",
   "id": "52a16e51-05b0-4d54-a14b-d225408b8586",
   "metadata": {},
   "source": [
    "# Assignment Answers"
   ]
  },
  {
   "cell_type": "markdown",
   "id": "bfb7080f-991c-4ebb-a099-8eb0b9bb41b0",
   "metadata": {},
   "source": [
    "# 1."
   ]
  },
  {
   "cell_type": "code",
   "execution_count": 22,
   "id": "5b961e48-c016-41e6-8567-c45e4241bf84",
   "metadata": {},
   "outputs": [],
   "source": [
    "# Variable to be passed as argument\n",
    "list1=[1,2,3,4,[44,55,66,True], False,(34,56,78,89,34),{1,2,3,3,2,1},{1:34,\"key2\":[55,67,78,89],4:(45,22,61,34)},[56,\"data science\"],\"Machine Learning\"]\n",
    "\n",
    "# Declared list type variable to store the numeric values for flattened list\n",
    "flat_list=[]  "
   ]
  },
  {
   "cell_type": "code",
   "execution_count": 23,
   "id": "8f2f9b46-160d-4953-abf1-9deaebc237e2",
   "metadata": {},
   "outputs": [],
   "source": [
    "# Function to flatten the list\n",
    "def Flatten_List(list1):\n",
    "        if(len(list1)==0):\n",
    "            return\n",
    "        elif(isinstance(list1[0],bool)):\n",
    "            Flatten_List(list1[1:])\n",
    "            return\n",
    "        elif(isinstance(list1[0],int)):\n",
    "            flat_list.append(list1[0])\n",
    "            Flatten_List(list1[1:])\n",
    "            return\n",
    "        elif(isinstance(list1[0],float)):\n",
    "            flat_list.append(list1[0])\n",
    "            Flatten_List(list1[1:])\n",
    "            return\n",
    "        elif(isinstance(list1[0],str)):\n",
    "            Flatten_List(list1[1:])\n",
    "            return\n",
    "        elif(isinstance(list1[0],list)):\n",
    "            Flatten_List(list1[0])\n",
    "            Flatten_List(list1[1:])\n",
    "            return\n",
    "        elif(isinstance(list1[0],tuple)):\n",
    "            Flatten_List(list1[0])\n",
    "            Flatten_List(list1[1:])\n",
    "            return\n",
    "        elif(isinstance(list1[0],set)):\n",
    "            for each in list1[0]:\n",
    "                Flatten_List([each])\n",
    "            Flatten_List(list1[1:])\n",
    "            return\n",
    "        elif(isinstance(list1[0],dict)):\n",
    "            for key,val in list1[0].items():\n",
    "                Flatten_List([key])\n",
    "                Flatten_List([val])\n",
    "            Flatten_List(list1[1:])\n",
    "            return\n"
   ]
  },
  {
   "cell_type": "code",
   "execution_count": null,
   "id": "d436cc99-c3f1-41d3-9b46-8ebf2847c6b0",
   "metadata": {},
   "outputs": [],
   "source": [
    "# Function to find the product of all numeric values from the flatten list\n",
    "def find_product():\n",
    "    \n",
    "    global flat_list # Referring to flat_list declared in global scope.                          \n",
    "    flat_list=[]     # So that, each time the function-find_product() is called, then flat_list should be initialized with empty list\n",
    "    \n",
    "    Flatten_List(list1)  # calling Flatten_List() function to get the orginal list converted into flat list\n",
    "    res= 0 if(len(flat_list)==0) else 1 # variable to store final product\n",
    "    \n",
    "    for each in flat_list:\n",
    "        res*=each\n",
    "    \n",
    "    return res\n",
    "\n",
    "# Displaying the flat list and product as output\n",
    "print(\"Flat List of numeric value: \",flat_list)\n",
    "print(\"Product of all numeric values: \",find_product())"
   ]
  },
  {
   "cell_type": "markdown",
   "id": "1993c77c-fe13-4d1c-8bb4-f2a32e373c6c",
   "metadata": {},
   "source": [
    "# 2."
   ]
  },
  {
   "cell_type": "code",
   "execution_count": 27,
   "id": "7d52c63c-0c15-4926-bac1-846db876383e",
   "metadata": {},
   "outputs": [],
   "source": [
    "# Importing the necessary libraries in order to access the values of a certain category\n",
    "import string"
   ]
  },
  {
   "cell_type": "code",
   "execution_count": 39,
   "id": "2deec53e-0daa-4a6c-9a70-e86181890480",
   "metadata": {},
   "outputs": [],
   "source": [
    "# Declaring variables to be used further\n",
    "punctuations=string.punctuation # Stores all punctuation\n",
    "whitespaces=string.whitespace   # Stores all whitespaces\n",
    "inputStr=\"I want to become a Data Scientist.\" # To be passed as argument\n",
    "encryption_keys=\"abcdefghijklmnopqrstuvwxyz\""
   ]
  },
  {
   "cell_type": "code",
   "execution_count": null,
   "id": "74f8348d-a6c0-4c00-9a6f-6fd429b593bb",
   "metadata": {},
   "outputs": [],
   "source": [
    "# Function to encrypt the text passed\n",
    "def encrypt(msg):\n",
    "    \n",
    "    res=\"\"\n",
    "    for each in msg.lower():\n",
    "        if(each in whitespaces):\n",
    "            res+=\"$\"\n",
    "        elif(each in punctuations):\n",
    "            res+=each\n",
    "        else:\n",
    "            res+=encryption_keyss[25-encryption_keys.index(each)]\n",
    "            \n",
    "    return res\n",
    "\n",
    "# Calling the encrypt() function\n",
    "ans=encrypt(inputStr)\n",
    "# Displaying the enccrypted message\n",
    "print(\"Original Message: \", inputStr)\n",
    "print(\"Encrypted Message: \", ans)"
   ]
  },
  {
   "cell_type": "code",
   "execution_count": null,
   "id": "7799f9ab-b0f2-41c6-bced-4888fadd38ec",
   "metadata": {},
   "outputs": [],
   "source": []
  }
 ],
 "metadata": {
  "kernelspec": {
   "display_name": "Python 3 (ipykernel)",
   "language": "python",
   "name": "python3"
  },
  "language_info": {
   "codemirror_mode": {
    "name": "ipython",
    "version": 3
   },
   "file_extension": ".py",
   "mimetype": "text/x-python",
   "name": "python",
   "nbconvert_exporter": "python",
   "pygments_lexer": "ipython3",
   "version": "3.10.8"
  }
 },
 "nbformat": 4,
 "nbformat_minor": 5
}
