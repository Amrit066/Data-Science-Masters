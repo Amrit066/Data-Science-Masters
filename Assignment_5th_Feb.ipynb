{
 "cells": [
  {
   "cell_type": "markdown",
   "id": "194f0a0f-2bf0-4f43-a9ff-0212a34684f6",
   "metadata": {},
   "source": [
    "# Assignment Answers"
   ]
  },
  {
   "cell_type": "markdown",
   "id": "bb0b54dd-6f4b-473d-bc32-1e651fffbd19",
   "metadata": {},
   "source": [
    "# 1."
   ]
  },
  {
   "cell_type": "markdown",
   "id": "7d1b5817-4803-4490-a264-06dccc87f258",
   "metadata": {},
   "source": [
    "In Object-Oriented Programming paradigm, real world entitities are modelled as classes and objects in the world of programming.<br><br>\n",
    "Here, <b> Class</b>, is used to provide the blueprint for an object. And it contains the definition of all the attributes and methods that is needed to describe an object.<br>\n",
    "While, <b> Object</b>, is an actual implementation of the Class being defined. It's the object which gets memory and value for its attributes, where different objects have different values for their attributes. Object is also called as the <i> instance of the class</i>.<br><br>\n",
    "Let's take an example of a person as an object and how it can be represented in programming.<br>\n",
    "As we know, Person can have the following properties and attributes:<br>\n",
    "- Name\n",
    "- Age\n",
    "- Skin Color\n",
    "-  Can he speak or not?\n",
    "- Can he see or not?\n",
    ", these are few of the many possible properties of person.<br>\n",
    "Now we will see its implementation in programming as given below:"
   ]
  },
  {
   "cell_type": "code",
   "execution_count": null,
   "id": "9d6d2e6c-dc2b-4507-9405-c6b61c566c23",
   "metadata": {},
   "outputs": [],
   "source": [
    "# Defining Class For Person\n",
    "class Person:\n",
    "    def __init__(self,name,age,skin_color,canSpeak,canSee):\n",
    "        self.name=name\n",
    "        self.age=age\n",
    "        self.skin_color=skin_color\n",
    "        self.canSpeak=canSpeak\n",
    "        self.canSee=canSee\n",
    "        \n",
    "    def can_speak(self):\n",
    "        if(self.canSpeak):\n",
    "            print(f\"{self.name} can speak.\")\n",
    "        else:\n",
    "            print(f\"{self.name} can not speak.\")\n",
    "    \n",
    "    def can_see(self):\n",
    "        if(self.canSee):\n",
    "            print(f\"{self.name} can see.\")\n",
    "        else:\n",
    "            print(f\"{self.name} can not see.\")\n",
    "\n",
    "# Creating Object Of Person\n",
    "p1=Person(\"Abhay Singh\",21,\"Brown\",False,True)\n",
    "\n",
    "# Accessing Properties Of The Object\n",
    "print(\"Name: \",p1.name)\n",
    "print(\"Age: \",p1.age)\n",
    "print(\"Color of skin: \",p1.skin_color)\n",
    "p1.can_speak()\n",
    "p1.can_see()"
   ]
  },
  {
   "cell_type": "markdown",
   "id": "63563e42-ad25-4242-8c04-32708287e942",
   "metadata": {},
   "source": [
    "# 2."
   ]
  },
  {
   "cell_type": "markdown",
   "id": "afd29bc1-46d7-436c-9660-af48b909fb47",
   "metadata": {},
   "source": [
    "The four pillars of OOPs are as follows:\n",
    "- Inheritance\n",
    "- Polymorphism\n",
    "- Encapsulation\n",
    "- Abstraction"
   ]
  },
  {
   "cell_type": "markdown",
   "id": "b06c9a68-c814-489e-bd3e-4552e59c7df7",
   "metadata": {},
   "source": [
    "# 3."
   ]
  },
  {
   "cell_type": "markdown",
   "id": "358a3a94-2aaf-4f27-a082-1193dbb5c6fd",
   "metadata": {},
   "source": [
    "The __init__() function in Python class is used to initialize the instance variables of the class. It acts as a constructor to create an object during instatiation of the object.<br><br>\n",
    "For example, the __init__() method in the class-Person is used to initialize the instance variables like name, age, skin_color, etc., during the creation of object, when passed with the respective arguments, as shown below:"
   ]
  },
  {
   "cell_type": "code",
   "execution_count": 2,
   "id": "aa79a892-c31d-458f-a62b-457623f67230",
   "metadata": {},
   "outputs": [],
   "source": [
    "# Defining Class For Person\n",
    "class Person:\n",
    "    def __init__(self,name,age,skin_color,canSpeak,canSee):\n",
    "        self.name=name\n",
    "        self.age=age\n",
    "        self.skin_color=skin_color\n",
    "        self.canSpeak=canSpeak\n",
    "        self.canSee=canSee\n",
    "        \n",
    "    def can_speak(self):\n",
    "        if(self.canSpeak):\n",
    "            print(f\"{self.name} can speak.\")\n",
    "        else:\n",
    "            print(f\"{self.name} can not speak.\")\n",
    "    \n",
    "    def can_see(self):\n",
    "        if(self.canSee):\n",
    "            print(f\"{self.name} can see.\")\n",
    "        else:\n",
    "            print(f\"{self.name} can not see.\")\n",
    "\n",
    "# Creating Object Of Person\n",
    "p1=Person(\"Abhay Singh\",21,\"Brown\",False,True)"
   ]
  },
  {
   "cell_type": "markdown",
   "id": "64b20b29-e5b8-46ee-b25f-9fc3644c7043",
   "metadata": {},
   "source": [
    "# 4."
   ]
  },
  {
   "cell_type": "markdown",
   "id": "bdfa3b5c-b10d-4252-9bdf-2ef437a31fee",
   "metadata": {},
   "source": [
    "__self__ is passed as an arguments in each methods of the class in OOPs. It is used to denote the properties and methods of the current object that is being reffered in the program."
   ]
  },
  {
   "cell_type": "markdown",
   "id": "6e416aa6-db49-4403-805e-2dd4935cc2db",
   "metadata": {},
   "source": [
    "# 5."
   ]
  },
  {
   "cell_type": "markdown",
   "id": "b6ddac60-7cb4-42e9-a0eb-663036792bcf",
   "metadata": {},
   "source": [
    "Inheritance is a way to pass the the methods and properties of one class to another class. <br>\n",
    "The class being inherited from, often known as the base class, is the parent class. <br>\n",
    "The class that inherits from another class is referred to as a child class or derived class.<br><br>\n",
    "The different types of inheritance are as follows:<br><br>\n",
    "<b> (i) Single Inheritance: </b>\n",
    "- It enables a derived class to inherit properties from a single parent class.\n",
    "- Eg: <br>\n"
   ]
  },
  {
   "cell_type": "code",
   "execution_count": 5,
   "id": "49f2482e-3380-4345-8eab-bd76c803928c",
   "metadata": {},
   "outputs": [],
   "source": [
    "# Base class\n",
    "class Parent:\n",
    "    def func1(self):\n",
    "        print(\"This function is in parent class.\")\n",
    " \n",
    "# Child class\n",
    "class Child(Parent):\n",
    "    def func2(self):\n",
    "        print(\"This function is in child class.\")"
   ]
  },
  {
   "cell_type": "markdown",
   "id": "f94b3c13-5da0-48cd-b002-cc32f8992a7d",
   "metadata": {},
   "source": [
    "<b> (ii) Multiple Inheritance: </b>\n",
    "- When a class can be derived from more than one base class this type of inheritance is called multiple inheritances.\n",
    "- In multiple inheritances, all the features of the base classes are inherited into the derived class. \n",
    "- Eg: <br>"
   ]
  },
  {
   "cell_type": "code",
   "execution_count": 15,
   "id": "c9a9d9f3-f0a2-4d5f-b1b1-bd103ffbdd1f",
   "metadata": {},
   "outputs": [],
   "source": [
    "# Base class-1\n",
    "class Parent1:\n",
    "    def func1(self):\n",
    "        print(\"Parent-1\")\n",
    " \n",
    "# Base class-2\n",
    "class Parent2:\n",
    "    def func2(self):\n",
    "        print(\"Parent-2\")\n",
    " \n",
    "# Child class\n",
    "class Child(Parent1, Parent2):\n",
    "    def func3(self):\n",
    "        print(\"Child\")"
   ]
  },
  {
   "cell_type": "markdown",
   "id": "03ed17ae-d129-44b8-b5f9-987e6127280d",
   "metadata": {},
   "source": [
    "<b> (iii) Multilevel Inheritance: </b>\n",
    "- In multilevel inheritance, features of the base class and the derived class are further inherited into the new derived class.\n",
    "- It has more than one depth in inheritance.\n",
    "- Eg: <br>"
   ]
  },
  {
   "cell_type": "code",
   "execution_count": 14,
   "id": "a9490444-8cb5-4be7-847d-a6cea7e3f92e",
   "metadata": {},
   "outputs": [],
   "source": [
    "# Base class\n",
    "class Parent:\n",
    "    def func1(self):\n",
    "        print(\"Parent\")\n",
    " \n",
    "# Derived class-1\n",
    "class Child1(Parent):\n",
    "    def func2(self):\n",
    "        print(\"Child-1\")\n",
    " \n",
    "# Derived class-2\n",
    "class Child2(Child1):\n",
    "    def func3(self):\n",
    "        print(\"Child-2\")"
   ]
  },
  {
   "cell_type": "markdown",
   "id": "5c7408ee-8249-49a2-b6e1-c650d663fdef",
   "metadata": {},
   "source": [
    "<b> (iv) Hierarchial Inheritance: </b>\n",
    "- When more than one derived class are created from a single base this type of inheritance is called hierarchical inheritance. \n",
    "- In this program, we have a parent (base) class and two child classes.\n",
    "- Eg: <br>"
   ]
  },
  {
   "cell_type": "code",
   "execution_count": 13,
   "id": "2bd449de-cee8-429d-be15-9f21368183a9",
   "metadata": {},
   "outputs": [],
   "source": [
    "# Base class\n",
    "class Parent:\n",
    "    def func1(self):\n",
    "        print(\"Parent\")\n",
    " \n",
    "# Derived class-1\n",
    "class Child1(Parent):\n",
    "    def func2(self):\n",
    "        print(\"Child-1\")\n",
    " \n",
    "# Derived class-2\n",
    "class Child2(Parent):\n",
    "    def func3(self):\n",
    "        print(\"Child-2\")"
   ]
  },
  {
   "cell_type": "markdown",
   "id": "1661ded6-79b1-4524-966b-60586ef86710",
   "metadata": {},
   "source": [
    "<b> (v) Hybrid Inheritance: </b>\n",
    "- It is the mixture of more than one type of inheritance i.e., multiple, hierarchial, etc.\n",
    "- Eg: <br>"
   ]
  },
  {
   "cell_type": "code",
   "execution_count": 17,
   "id": "a38ccb39-4839-443c-9219-779e6b74d6e7",
   "metadata": {},
   "outputs": [],
   "source": [
    "# Base class-1\n",
    "class Parent1:\n",
    "    def func1(self):\n",
    "        print(\"Parent-1\")\n",
    "        \n",
    "# Base class-2\n",
    "class Parent2:\n",
    "    def func2(self):\n",
    "        print(\"Parent-2\")\n",
    "\n",
    "# Base class-3\n",
    "class Parent3:\n",
    "    def func3(self):\n",
    "        print(\"Parent-3\")\n",
    " \n",
    "# Derived class-1\n",
    "class Child1(Parent1,Parent2):\n",
    "    def func4(self):\n",
    "        print(\"Child-1\")\n",
    "\n",
    "# Derived class-2\n",
    "class Child3(Parent3,Child1):\n",
    "    def func5(self):\n",
    "        print(\"Child-2\")"
   ]
  },
  {
   "cell_type": "code",
   "execution_count": null,
   "id": "76da36b6-0243-499a-995c-7c725d919429",
   "metadata": {},
   "outputs": [],
   "source": []
  }
 ],
 "metadata": {
  "kernelspec": {
   "display_name": "Python 3 (ipykernel)",
   "language": "python",
   "name": "python3"
  },
  "language_info": {
   "codemirror_mode": {
    "name": "ipython",
    "version": 3
   },
   "file_extension": ".py",
   "mimetype": "text/x-python",
   "name": "python",
   "nbconvert_exporter": "python",
   "pygments_lexer": "ipython3",
   "version": "3.10.8"
  }
 },
 "nbformat": 4,
 "nbformat_minor": 5
}
