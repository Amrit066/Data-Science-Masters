{
 "cells": [
  {
   "cell_type": "markdown",
   "id": "d657aa01-5c39-4cfd-8ac5-c48d8367725b",
   "metadata": {},
   "source": [
    "# Assignment Answers"
   ]
  },
  {
   "cell_type": "code",
   "execution_count": null,
   "id": "e2328a4a-e945-4895-b63c-fac0b6b8a4bd",
   "metadata": {},
   "outputs": [],
   "source": [
    "# Importing Library\n",
    "import numpy as np\n",
    "\n",
    "# Declaring Data Given In Question\n",
    "# Data-1:\n",
    "list_ = [ \"1\",\"2\",\"3\",\"4\",\"5\" ]\n",
    "array_list = np.array(object = list_)\n",
    "\n",
    "# Data-2:\n",
    "num_list = [ [ 1 , 2 , 3 ] , [ 4 , 5 , 6 ] ]\n",
    "num_array = np.array(object = num_list)"
   ]
  },
  {
   "cell_type": "markdown",
   "id": "f0bd27e9-5d39-4f6e-b7a9-f6100d265a59",
   "metadata": {},
   "source": [
    "# 1."
   ]
  },
  {
   "cell_type": "markdown",
   "id": "6f621d99-9d0c-4dfd-8f0b-70f83031e69c",
   "metadata": {},
   "source": [
    "##### Part-1:<br><br>\n",
    "Yes, both list_ and array_list are different. list_ is having data type of \"List\", while array_list is of \"Array\" type, as their name suggests.<br><br>\n",
    "##### Part-2: Code to check data types;"
   ]
  },
  {
   "cell_type": "code",
   "execution_count": null,
   "id": "39f9bd72-4bfd-42fc-ab17-b386b7b83200",
   "metadata": {},
   "outputs": [],
   "source": [
    "print(\"Type of list_ is\",type(list_))\n",
    "print(\"Type of array_list is\",type(array_list))"
   ]
  },
  {
   "cell_type": "markdown",
   "id": "ba39e25c-6e8c-48f7-aa14-c2a64c77d33b",
   "metadata": {},
   "source": [
    "# 2."
   ]
  },
  {
   "cell_type": "code",
   "execution_count": null,
   "id": "800ba19a-7ab1-4869-aad6-6259d5b4abf5",
   "metadata": {},
   "outputs": [],
   "source": [
    "# Printing Data Type Of list_\n",
    "for i in list_:\n",
    "    print(\"Data Type of {} is {}\".format(i,type(i))) "
   ]
  },
  {
   "cell_type": "code",
   "execution_count": null,
   "id": "525464d9-cada-473c-85bd-575717b5e469",
   "metadata": {},
   "outputs": [],
   "source": [
    "# Printing Data Type Of array_list\n",
    "for i in array_list:\n",
    "    print(\"Data Type of {} is {}\".format(i,type(i))) "
   ]
  },
  {
   "cell_type": "markdown",
   "id": "131b1ea7-1587-4e1c-9d00-c7d704fae57e",
   "metadata": {},
   "source": [
    "# 3."
   ]
  },
  {
   "cell_type": "code",
   "execution_count": null,
   "id": "01481c11-284d-4b6b-98e7-00906dbfca08",
   "metadata": {},
   "outputs": [],
   "source": [
    "array_list = np.array(object = list_, dtype = int)"
   ]
  },
  {
   "cell_type": "markdown",
   "id": "33edb141-85b0-4358-8211-df1e7e701315",
   "metadata": {},
   "source": [
    "##### Part-1:<br><br>\n",
    "Yes, there will be difference.<br>\n",
    "Now, each element of array_list will be of \"int\" type. While, elements of list_ will be same as that of \"str\"<br>\n",
    "##### Part-2:"
   ]
  },
  {
   "cell_type": "code",
   "execution_count": null,
   "id": "a7f17d0e-4530-485d-909e-723505a869e5",
   "metadata": {},
   "outputs": [],
   "source": [
    "# Printing Data Type Of list_\n",
    "for i in list_:\n",
    "    print(\"Data Type of {} is {}\".format(i,type(i)))"
   ]
  },
  {
   "cell_type": "code",
   "execution_count": null,
   "id": "d6569a50-0e71-4c8a-b646-12411bb3e4d7",
   "metadata": {},
   "outputs": [],
   "source": [
    "# Printing Data Type Of array_list\n",
    "for i in array_list:\n",
    "    print(\"Data Type of {} is {}\".format(i,type(i))) "
   ]
  },
  {
   "cell_type": "markdown",
   "id": "fffe2537-23d0-4d80-92b9-eb6c207fe462",
   "metadata": {},
   "source": [
    "# 4."
   ]
  },
  {
   "cell_type": "markdown",
   "id": "6d708240-7ed7-45ea-a2ef-78c7eb824925",
   "metadata": {},
   "source": [
    "(i)"
   ]
  },
  {
   "cell_type": "code",
   "execution_count": null,
   "id": "18d3fbbc-5f17-4907-89d6-eb95bcbc06cb",
   "metadata": {},
   "outputs": [],
   "source": [
    "print(\"Shape of {} is {}\".format(num_array,num_array.shape))"
   ]
  },
  {
   "cell_type": "markdown",
   "id": "6077e88f-9c93-4ea6-8df2-2bdf86f7a441",
   "metadata": {},
   "source": [
    "(ii)"
   ]
  },
  {
   "cell_type": "code",
   "execution_count": null,
   "id": "f103da9c-72b2-461e-875e-ce9d1bbc0877",
   "metadata": {},
   "outputs": [],
   "source": [
    "print(\"Size of {} is {}\".format(num_array,num_array.size))"
   ]
  },
  {
   "cell_type": "markdown",
   "id": "ae65f6ea-d2a5-4e1e-b73d-75751a25d63d",
   "metadata": {},
   "source": [
    "# 5."
   ]
  },
  {
   "cell_type": "code",
   "execution_count": null,
   "id": "14ec4273-af41-4ce9-9a64-f8a03230307a",
   "metadata": {},
   "outputs": [],
   "source": [
    "# Creating Matrix\n",
    "matrix = np.matrix(np.zeros([3,3]))\n",
    "# Checking Types\n",
    "print(\"Data Type of \\n{} \\nis {}\".format(matrix,type(matrix)))"
   ]
  },
  {
   "cell_type": "markdown",
   "id": "fafc4074-a5be-4897-8e95-bb7cd32a2a8f",
   "metadata": {},
   "source": [
    "# 6."
   ]
  },
  {
   "cell_type": "code",
   "execution_count": null,
   "id": "fda23d5a-5b23-4714-9885-6967bbec3a3a",
   "metadata": {},
   "outputs": [],
   "source": [
    "# Creating Matrix\n",
    "identity_matrix = np.matrix(np.identity(5))\n",
    "# Checking Types\n",
    "print(\"Data Type of \\n{} \\nis {}\".format(identity_matrix,type(identity_matrix)))"
   ]
  },
  {
   "cell_type": "code",
   "execution_count": null,
   "id": "cb1d82d4-bdbf-400a-984d-9a89eb7ac8ff",
   "metadata": {},
   "outputs": [],
   "source": []
  }
 ],
 "metadata": {
  "kernelspec": {
   "display_name": "Python 3 (ipykernel)",
   "language": "python",
   "name": "python3"
  },
  "language_info": {
   "codemirror_mode": {
    "name": "ipython",
    "version": 3
   },
   "file_extension": ".py",
   "mimetype": "text/x-python",
   "name": "python",
   "nbconvert_exporter": "python",
   "pygments_lexer": "ipython3",
   "version": "3.10.8"
  }
 },
 "nbformat": 4,
 "nbformat_minor": 5
}
