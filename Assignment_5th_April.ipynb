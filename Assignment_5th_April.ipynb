{
 "cells": [
  {
   "cell_type": "markdown",
   "id": "3c4a0654-2750-4ed5-8ddb-0ae198187e20",
   "metadata": {},
   "source": [
    "# Assignment Answers"
   ]
  },
  {
   "cell_type": "code",
   "execution_count": null,
   "id": "2bf9cf5d-dfb5-49b3-9600-726783cea5aa",
   "metadata": {},
   "outputs": [],
   "source": [
    "# Importing Libraries\n",
    "import pandas as pd\n",
    "import numpy as np\n",
    "import seaborn as sns\n",
    "import matplotlib.pyplot as plt\n",
    "from warnings import filterwarnings"
   ]
  },
  {
   "cell_type": "code",
   "execution_count": null,
   "id": "d4a95b83-93e9-4b22-a63f-74dca3fa296f",
   "metadata": {},
   "outputs": [],
   "source": [
    "# Filtering Warnings\n",
    "filterwarnings('ignore')"
   ]
  },
  {
   "cell_type": "code",
   "execution_count": null,
   "id": "b0f0056f-8265-4c1d-872c-4e7c58f911f0",
   "metadata": {},
   "outputs": [],
   "source": [
    "# Path of data\n",
    "path = 'Datasets/diabetes.csv'"
   ]
  },
  {
   "cell_type": "code",
   "execution_count": null,
   "id": "bedd618e-7454-43c1-b09b-d295f43e9be9",
   "metadata": {},
   "outputs": [],
   "source": [
    "# Reading File\n",
    "df = pd.read_csv(path)"
   ]
  },
  {
   "cell_type": "code",
   "execution_count": null,
   "id": "f96449d1-c496-41b9-8570-c4faa49a1ceb",
   "metadata": {},
   "outputs": [],
   "source": [
    "df.head()"
   ]
  },
  {
   "cell_type": "markdown",
   "id": "0eb15ef1-bd24-406e-ae80-ddf425e8448f",
   "metadata": {},
   "source": [
    "# 1."
   ]
  },
  {
   "cell_type": "code",
   "execution_count": null,
   "id": "865e403e-6b8c-4487-a871-dc6ef21cba1f",
   "metadata": {},
   "outputs": [],
   "source": [
    "# Examining the dataset\n",
    "\n",
    "# Checking types of features present\n",
    "df.dtypes"
   ]
  },
  {
   "cell_type": "markdown",
   "id": "4a75ae90-4b14-4b13-a951-87661baea48d",
   "metadata": {},
   "source": [
    "From above output, we can say that every features is of numeric type.\n",
    "\n",
    "BMI and DiabetesPedigreeFunction are of float type, while rest other features are of integer type."
   ]
  },
  {
   "cell_type": "code",
   "execution_count": null,
   "id": "ebfb9429-e7ba-4610-ac5f-c03bb360d7e8",
   "metadata": {},
   "outputs": [],
   "source": [
    "# Checking statistics of the features\n",
    "df.describe()"
   ]
  },
  {
   "cell_type": "code",
   "execution_count": null,
   "id": "43a2d381-f303-47e2-a010-c1c0aac85581",
   "metadata": {},
   "outputs": [],
   "source": [
    "# Ploting pair plot to see relationship between each feature\n",
    "plt.figure(figsize=(12,6))\n",
    "sns.pairplot(df.iloc[:,:-1],markers='+',diag_kind=\"hist\",corner=True)\n",
    "plt.show()"
   ]
  },
  {
   "cell_type": "markdown",
   "id": "5a6fccca-8ad2-4690-a883-062cc8cb4c17",
   "metadata": {},
   "source": [
    "# 2."
   ]
  },
  {
   "cell_type": "code",
   "execution_count": null,
   "id": "b51f6564-991b-45a4-b152-ce861ef2fccf",
   "metadata": {},
   "outputs": [],
   "source": [
    "# Checking for null values\n",
    "df.isnull().sum()"
   ]
  },
  {
   "cell_type": "markdown",
   "id": "ad2669da-e898-4655-bd38-59e35b8c9fcf",
   "metadata": {},
   "source": [
    "From the above output, we can say that there are no null values present"
   ]
  },
  {
   "cell_type": "code",
   "execution_count": null,
   "id": "68de955d-ba4f-40e1-b325-b15ee9df790f",
   "metadata": {},
   "outputs": [],
   "source": [
    "# Checking for duplicate values\n",
    "df.duplicated().sum()"
   ]
  },
  {
   "cell_type": "markdown",
   "id": "4e62b17e-827f-4b18-98b1-adb4842bd4f8",
   "metadata": {},
   "source": [
    "From the above output, we can say that there are no duplicate records present"
   ]
  },
  {
   "cell_type": "code",
   "execution_count": null,
   "id": "ab5757cf-9bdd-460b-bb75-cfbfa1bf97bf",
   "metadata": {},
   "outputs": [],
   "source": [
    "# Checking for outliers using box plot\n",
    "plt.figure(figsize=(12,6))\n",
    "sns.boxplot(data=df.iloc[:,:-1])"
   ]
  },
  {
   "cell_type": "markdown",
   "id": "43cea1b0-4fca-4d18-8a39-a04897fce9ad",
   "metadata": {},
   "source": [
    "From the above diagram, we can say that almost every feature has outliers present in them.\n",
    "\n",
    "Therefore, we need to remove them.\n"
   ]
  },
  {
   "cell_type": "code",
   "execution_count": null,
   "id": "ee47cbd2-cf76-4595-bbe1-9f62246ae53f",
   "metadata": {},
   "outputs": [],
   "source": [
    "# Function to remove outliers\n",
    "def remove_outlier(df,col_name):\n",
    "        q1 = df[col_name].quantile(0.25)\n",
    "        q3 = df[col_name].quantile(0.75)\n",
    "        iqr = q3-q1 #Interquartile range\n",
    "        fence_low  = q1-1.5*iqr\n",
    "        fence_high = q3+1.5*iqr\n",
    "        df_new = df.loc[(df[col_name] > fence_low) & (df[col_name] < fence_high)]\n",
    "        \n",
    "        return df_new\n",
    "\n",
    "# Remove Outliers\n",
    "df_new = remove_outlier(df,'Insulin')"
   ]
  },
  {
   "cell_type": "code",
   "execution_count": null,
   "id": "0a0c020d-0197-4564-bc1e-7a777ff91f0c",
   "metadata": {},
   "outputs": [],
   "source": [
    "# Scaling the datasets\n",
    "from sklearn.preprocessing import StandardScaler\n",
    "scaler = StandardScaler()\n",
    "# Storing the scaled data into new dataframe\n",
    "df_new2 = pd.DataFrame(scaler.fit_transform(df_new.iloc[:,:-1]),columns=['Pregnancies', 'Glucose', 'BloodPressure', 'SkinThickness',\n",
    "       'Insulin', 'BMI', 'DiabetesPedigreeFunction', 'Age'])\n",
    "df_new2[\"Outcome\"] = df[\"Outcome\"]"
   ]
  },
  {
   "cell_type": "code",
   "execution_count": null,
   "id": "941bc8eb-65db-4efc-ac1b-768316e5b324",
   "metadata": {},
   "outputs": [],
   "source": [
    "# Checking for outliers after removing some of the outliers\n",
    "plt.figure(figsize=(12,6))\n",
    "sns.boxplot(data=df_new2.iloc[:,:-1])"
   ]
  },
  {
   "cell_type": "markdown",
   "id": "6f9e0e47-2b6d-4dba-b17c-1c14c0a02c7c",
   "metadata": {},
   "source": [
    "# 3."
   ]
  },
  {
   "cell_type": "code",
   "execution_count": null,
   "id": "d101de29-f507-48c2-854a-08db91505243",
   "metadata": {},
   "outputs": [],
   "source": [
    "# Importing Library\n",
    "from sklearn.model_selection import train_test_split"
   ]
  },
  {
   "cell_type": "code",
   "execution_count": null,
   "id": "5182c1c1-ca93-4b02-a73c-77b1edb276a3",
   "metadata": {},
   "outputs": [],
   "source": [
    "# Splitting dataset into training and testing dataset\n",
    "X = df_new2.iloc[:,:-1]\n",
    "y = df_new2.iloc[:,-1]\n",
    "X_train, X_test, y_train, y_test = train_test_split(X, y, test_size=0.25, random_state=42)"
   ]
  },
  {
   "cell_type": "markdown",
   "id": "aa7604ee-f9f0-4435-a14d-eb2910f4c531",
   "metadata": {},
   "source": [
    "# 4."
   ]
  },
  {
   "cell_type": "code",
   "execution_count": null,
   "id": "0656ac94-edcc-4c8a-a799-989751a3e2b1",
   "metadata": {},
   "outputs": [],
   "source": [
    "# Importing Library\n",
    "from sklearn.tree import DecisionTreeClassifier\n",
    "from sklearn.tree import export_text\n",
    "from sklearn.model_selection import GridSearchCV"
   ]
  },
  {
   "cell_type": "markdown",
   "id": "21fd2d8f-4298-42e1-b199-eadee9cc1bfa",
   "metadata": {},
   "source": [
    "Training the model"
   ]
  },
  {
   "cell_type": "code",
   "execution_count": null,
   "id": "03eca11f-d21d-47b8-94d0-c2bc9a27729c",
   "metadata": {},
   "outputs": [],
   "source": [
    "\n",
    "decision_tree = DecisionTreeClassifier()\n",
    "decision_tree = decision_tree.fit(X_train, y_train)\n",
    "y_pred1 = decision_tree.predict(X_test)"
   ]
  },
  {
   "cell_type": "markdown",
   "id": "79663fd6-d9fd-4511-ad47-bb8f7b85a330",
   "metadata": {},
   "source": [
    " Hypertuning parameter using Gridsearch cv"
   ]
  },
  {
   "cell_type": "code",
   "execution_count": null,
   "id": "d4b6a84f-05f3-477b-973a-5201da48c881",
   "metadata": {},
   "outputs": [],
   "source": [
    "# Importing library\n",
    "from sklearn.model_selection import GridSearchCV"
   ]
  },
  {
   "cell_type": "code",
   "execution_count": null,
   "id": "abbc31e5-939f-4f5c-b7a7-41f7a4dd3175",
   "metadata": {},
   "outputs": [],
   "source": [
    "parameters={\n",
    " 'criterion':['gini','entropy','log_loss'],\n",
    "  'splitter':['best','random'],\n",
    "  'max_depth':[1,2,3,4,5],\n",
    "  'max_features':['auto', 'sqrt', 'log2']\n",
    "    \n",
    "}\n",
    "# initializing classifier\n",
    "clf=GridSearchCV(decision_tree,param_grid=parameters,cv=5,scoring='accuracy')"
   ]
  },
  {
   "cell_type": "code",
   "execution_count": null,
   "id": "0f9abafd-92bd-4c72-af43-b37b1ec6df63",
   "metadata": {},
   "outputs": [],
   "source": [
    "clf = clf.fit(X_train,y_train)\n",
    "y_pred2 = clf.predict(X_test)"
   ]
  },
  {
   "cell_type": "code",
   "execution_count": null,
   "id": "f5fa7062-aed2-4d5c-9c4c-8df528487675",
   "metadata": {},
   "outputs": [],
   "source": [
    "# Checking for best parameters\n",
    "clf.best_params_"
   ]
  },
  {
   "cell_type": "markdown",
   "id": "2711247b-980c-4e2e-9a68-ce50b7591da7",
   "metadata": {},
   "source": [
    "From the above output, we get the following optimal parameters:\n",
    "\n",
    "criterion: 'gini'<br>\n",
    "max_depth: 2<br>\n",
    "max_features: 'auto'<br>\n",
    "splitter: 'random'<br>"
   ]
  },
  {
   "cell_type": "markdown",
   "id": "47869c9b-967c-4ab1-a32e-a9be9ea49aa5",
   "metadata": {},
   "source": [
    "# 5."
   ]
  },
  {
   "cell_type": "code",
   "execution_count": null,
   "id": "cc3e5e73-370c-4cfa-9e1b-ae3a56dc03c3",
   "metadata": {},
   "outputs": [],
   "source": [
    "# Importing libreay\n",
    "from sklearn.metrics import accuracy_score,classification_report,confusion_matrix,ConfusionMatrixDisplay,roc_curve,RocCurveDisplay"
   ]
  },
  {
   "cell_type": "code",
   "execution_count": null,
   "id": "73ec9378-3637-4074-a02d-90f6cb4bbab6",
   "metadata": {},
   "outputs": [],
   "source": [
    "accuracy,precision,recall,f1 = accuracy_score(y_pred1,y_test),precision_score(y_pred1,y_test),recall_score(y_pred1,y_test),f1_score(y_pred1,y_test)\n",
    "print(\"Metrics before hypertuning of parameter\\n\\n\")\n",
    "print(\"{}\".format(\"=\"*60))\n",
    "print(classification_report(y_pred1,y_test))\n",
    "print(\"\\n\\nConfusion Matrix:\")\n",
    "print(confusion_matrix(y_test,y_pred1))\n",
    "print(\"{}\".format(\"=\"*60))\n",
    "plt.figure(figsize=(12,8))\n",
    "cm = confusion_matrix(y_test, y_pred1)\n",
    "cm_display = ConfusionMatrixDisplay(cm).plot()\n",
    "print(\"ROC Curve:\")\n",
    "fpr, tpr, _ = roc_curve(y_test, y_pred1, pos_label=clf.classes_[1])\n",
    "roc_display = RocCurveDisplay(fpr=fpr, tpr=tpr).plot()\n",
    "plt.show()"
   ]
  },
  {
   "cell_type": "code",
   "execution_count": null,
   "id": "65d5bb9f-335b-439d-9cef-cc6da2dab6f9",
   "metadata": {},
   "outputs": [],
   "source": [
    "accuracy,precision,recall,f1 = accuracy_score(y_pred2,y_test),precision_score(y_pred2,y_test),recall_score(y_pred2,y_test),f1_score(y_pred2,y_test)\n",
    "print(\"Metrics after hypertuning of parameter\\n\\n\")\n",
    "print(\"{}\".format(\"=\"*60))\n",
    "print(classification_report(y_pred2,y_test))\n",
    "print(\"\\n\\nConfusion Matrix:\")\n",
    "print(confusion_matrix(y_test,y_pred2))\n",
    "print(\"{}\".format(\"=\"*60))\n",
    "print(\"Confusion Matrix:\")\n",
    "plt.figure(figsize=(12,8))\n",
    "cm = confusion_matrix(y_test, y_pred2)\n",
    "cm_display = ConfusionMatrixDisplay(cm).plot()\n",
    "print(\"ROC Curve:\")\n",
    "fpr, tpr, _ = roc_curve(y_test, y_pred2, pos_label=clf.classes_[1])\n",
    "roc_display = RocCurveDisplay(fpr=fpr, tpr=tpr).plot()\n",
    "plt.show()"
   ]
  },
  {
   "cell_type": "markdown",
   "id": "3d81fa69-9bb5-4528-b9d5-ed013b72cae8",
   "metadata": {},
   "source": [
    "# 6."
   ]
  },
  {
   "cell_type": "code",
   "execution_count": null,
   "id": "bc58cd9c-5566-4705-8eb4-d74da91f5662",
   "metadata": {},
   "outputs": [],
   "source": [
    "# Visualizing decision tree\n",
    "from sklearn import tree\n",
    "plt.figure(figsize=(20,20))\n",
    "tree.plot_tree(decision_tree,filled=True)\n",
    "plt.show()"
   ]
  },
  {
   "cell_type": "code",
   "execution_count": null,
   "id": "8ca02b19-4b64-4cc8-a8b2-d8c6ca0f952b",
   "metadata": {},
   "outputs": [],
   "source": [
    "decision_tree_new = DecisionTreeClassifier(criterion= 'gini',max_depth= 1,max_features= 'sqrt',splitter= 'random')\n",
    "decision_tree_new = decision_tree_new.fit(X_train, y_train)\n",
    "r = export_text(decision_tree_new, feature_names=['Pregnancies', 'Glucose', 'BloodPressure', 'SkinThickness', 'Insulin','BMI', 'DiabetesPedigreeFunction', 'Age'])\n",
    "print(r)"
   ]
  },
  {
   "cell_type": "markdown",
   "id": "f9ee081e-ed89-4529-8b13-b830c65de288",
   "metadata": {},
   "source": [
    "From the above output, we get the following results:\n",
    "- The root node of feature of this tree is __BMI__ with the threshold of __2.50__."
   ]
  },
  {
   "cell_type": "markdown",
   "id": "4e7ef983-1ff6-4de3-ba8c-7552218e0a57",
   "metadata": {},
   "source": [
    "# 7."
   ]
  },
  {
   "cell_type": "code",
   "execution_count": null,
   "id": "786435da-cebc-4661-967a-694007b377b3",
   "metadata": {},
   "outputs": [],
   "source": [
    "# Importing Library\n",
    "from sklearn.tree import DecisionTreeClassifier\n",
    "from sklearn.metrics import accuracy_score,classification_report,confusion_matrix,ConfusionMatrixDisplay,roc_curve,RocCurveDisplay"
   ]
  },
  {
   "cell_type": "code",
   "execution_count": null,
   "id": "9bc6ce4f-847b-4971-908e-72c8247a6982",
   "metadata": {},
   "outputs": [],
   "source": [
    "# Validating model on new data\n",
    "decision_tree = DecisionTreeClassifier()\n",
    "decision_tree = decision_tree.fit(X_train, y_train)\n",
    "y_pred1 = decision_tree.predict(X_test)"
   ]
  },
  {
   "cell_type": "code",
   "execution_count": null,
   "id": "867c2cc8-fc55-49b0-902b-f2c339f1697b",
   "metadata": {},
   "outputs": [],
   "source": [
    "# Checking result\n",
    "accuracy= accuracy_score(y_pred1,y_test)\n",
    "print(\"{}\".format(\"=\"*60))\n",
    "print(classification_report(y_pred1,y_test))\n",
    "print(\"{}\".format(\"=\"*60))\n",
    "plt.figure(figsize=(12,8))\n",
    "cm = confusion_matrix(y_test, y_pred1)\n",
    "cm_display = ConfusionMatrixDisplay(cm).plot()"
   ]
  },
  {
   "cell_type": "code",
   "execution_count": null,
   "id": "6f2e0125-3883-48ef-9a75-6e83a947849a",
   "metadata": {},
   "outputs": [],
   "source": []
  }
 ],
 "metadata": {
  "kernelspec": {
   "display_name": "Python 3 (ipykernel)",
   "language": "python",
   "name": "python3"
  },
  "language_info": {
   "codemirror_mode": {
    "name": "ipython",
    "version": 3
   },
   "file_extension": ".py",
   "mimetype": "text/x-python",
   "name": "python",
   "nbconvert_exporter": "python",
   "pygments_lexer": "ipython3",
   "version": "3.10.8"
  }
 },
 "nbformat": 4,
 "nbformat_minor": 5
}
