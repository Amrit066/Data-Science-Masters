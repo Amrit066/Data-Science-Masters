{
 "cells": [
  {
   "cell_type": "markdown",
   "id": "93a6c25e-9377-43cf-862f-05cd48e04258",
   "metadata": {},
   "source": [
    "# Assignment Answers"
   ]
  },
  {
   "cell_type": "markdown",
   "id": "474c0d09-e310-4dce-9b8a-53d4a5fe9edd",
   "metadata": {},
   "source": [
    "# 1."
   ]
  },
  {
   "cell_type": "markdown",
   "id": "eccd51d0-192e-4c50-85a1-9015a5c2702d",
   "metadata": {},
   "source": [
    "##### Part-1:<br><br>\n",
    "- Data Encoding is a technique in machine learning, where data having one form is converted into other form.\n",
    "- We generally, use these techniques to convert categorical data in our dataset to numerical form.\n",
    "<br><br>\n",
    "##### Part-2:\n",
    "- Encoding of data from categorical to numerical is important as it helps the different machine learning algorithms to be able to process those data. Machine learning models works on the numerical sets of data, that's why it's needed to convert any categorical data (if present) in the dataset to numerical form using appropriate encoding techniques."
   ]
  },
  {
   "cell_type": "markdown",
   "id": "16b3670e-7382-4d74-abea-abf1d174cdda",
   "metadata": {},
   "source": [
    "# 2."
   ]
  },
  {
   "cell_type": "markdown",
   "id": "5ccd4538-30b4-40b5-9561-e422e026123e",
   "metadata": {},
   "source": [
    "- Nominal encoding is a technique that converts categorical data into numerical data.\n",
    "- It works on those categorical data which only have labels associated with them.\n",
    "- It converts the data into a binary vector form, where each bits represent unique categories.\n",
    "- Example:\n",
    "    - Suppose we have a dataset containing feature as gender. As we know that, gender will have categorical data i.e., either male or female. So, in this case we will use nominal encoding to convert this categorical data into binary vector.<br>\n",
    "    - Binary vector here means that two separate feature each representing male and female will be created with the values of either 0 or 1."
   ]
  },
  {
   "cell_type": "markdown",
   "id": "95335a28-d1be-4e76-a906-7e4364d0f0d4",
   "metadata": {},
   "source": [
    "# 3."
   ]
  },
  {
   "cell_type": "markdown",
   "id": "2388c2ed-2507-4d70-95d6-297583caaa77",
   "metadata": {},
   "source": [
    "Question is wrong"
   ]
  },
  {
   "cell_type": "markdown",
   "id": "6d164d5a-d609-4e52-a0d7-2169046ca44b",
   "metadata": {},
   "source": [
    "# 4."
   ]
  },
  {
   "cell_type": "markdown",
   "id": "21b69053-cc57-4298-aae4-cc7d7fd536eb",
   "metadata": {},
   "source": [
    "Let's look at all the encoding techniques available to us first. Then we can decide which one to choose based on their characteristics.<br><br>\n",
    "1. Nominal/One hot encoding\n",
    "- It is used to convert data into a binary vector, where each digit represents unique vector.\n",
    "- It is not prefered for a variable with different categorical values as it will create sparse feature vector.\n",
    "2. Label Encoding\n",
    "- It uses alphabetical order or frequencies of occuring categories to convert it into numerical form by assigning an integer value.\n",
    "- But the model may consider these numbers as important factors if the value are large(i.e., if there are too may categories).\n",
    "3. Ordinal Encoding\n",
    "- It is same as label encoding but with only difference is that the categories posess intrinsic order.\n",
    "- Also not suitable for large dataset.\n",
    "4. Target Guided Ordinal Encoding\n",
    "- It is a technique used to encode categorical data based on their relationship with the target variable.\n",
    "- It works well when we have large number of unique categories.\n",
    "<br><br>\n",
    "Now,<br>\n",
    "we have discussed all the important encoding techniques from which we can either choose nominal encoding or label encoding or target guided ordinal encoding.<br>\n",
    "But taking label encoding may create problem as there are 5 categories so we will have to assign integer value upto 5.<br>\n",
    "So, we are left with nomial encoding and TGOE.<br>\n",
    "But I will choose nominal encoding here as there are not many categories and I don't want to consider early relationship with the target variable."
   ]
  },
  {
   "cell_type": "markdown",
   "id": "25d05300-e955-47c4-a847-1010304f6594",
   "metadata": {},
   "source": [
    "# 5."
   ]
  },
  {
   "cell_type": "markdown",
   "id": "24b20a9d-74aa-4aff-b6df-7a558506f364",
   "metadata": {},
   "source": [
    "Number of unique categories is not given in the question.<br>\n",
    "So, I simply assume that the number of unique categories in each of the two categorical variables are 'n' and 'm'.<br><br>\n",
    "Now,<br>\n",
    "as we know that we need to to create as many as new columns as there are unique categories in the dataset each haing value either 0 or 1.<br>\n",
    "So,<br>\n",
    "No. of columns for 1st categorical varibale = n<br>\n",
    "No. of columns for 2nd categorical varibale = m<br>\n",
    "Hence,<br>\n",
    "Total number of new columns = n+m"
   ]
  },
  {
   "cell_type": "markdown",
   "id": "41fded64-50c7-4be1-b476-b228d80026a3",
   "metadata": {},
   "source": [
    "# 6."
   ]
  },
  {
   "cell_type": "markdown",
   "id": "94902a3e-0454-4d9c-8fc9-db20aa9108c1",
   "metadata": {},
   "source": [
    "In this question,as per the given features, we can observe that feature like animals type, species, and habitat, are features of categorical datatype.<br>\n",
    "Now, we before deciding which encoding technique to use we first need to know about different unique categories that each categorical features have, which we can say by intuition that there are different animals and for each animal there are many different species.<br>\n",
    "So, we can conlude from the above inference that the number of unique categories for each categorical variable will be large.<br>\n",
    "And in such scenario, the only encoding technique that is available is called, \"Target Guided Ordinal Encoding\"."
   ]
  },
  {
   "cell_type": "markdown",
   "id": "c1430891-d144-4cc2-a81a-f66b21478bfa",
   "metadata": {},
   "source": [
    "# 7."
   ]
  },
  {
   "cell_type": "markdown",
   "id": "361d0b13-bf4c-4eae-b1f2-ee19c24ef8d6",
   "metadata": {},
   "source": [
    "All the features that are given in the dataset for predicting customer churn are not categorical. So we need to separate the categorical features from all the features to apply encoding.<br>\n",
    "From what we can observe here, features like age,monthly charges and tenure are numerical in nature. So, the categorical features are only gender and contract type.<br>\n",
    "Now, let's explore about these categorical features.<br>\n",
    "Gender is a categorical data which mainly consists of two categories that is male and female.<br>\n",
    "Conteact type is also a categorical data and it can have categories like monthly basis or yearly basis.<br><br>\n",
    "As we can see that each of the categorical variable have more or less like two unique categories, which are less in numbers.<br><br>\n",
    "Hence, the best option will be to apply __One Hot Encoding__ here to convert these data into numerical form, where a set of four new colums will be created, two for male and female, and two for montly and yearly contract types.<br><br>\n",
    "Now, let's understand about as how we can apply one hot encoding through python."
   ]
  },
  {
   "cell_type": "code",
   "execution_count": null,
   "id": "d44a9a8e-df52-41bd-9b49-9d37b84c69aa",
   "metadata": {},
   "outputs": [],
   "source": [
    "# Importing libraries\n",
    "import pandas as pd\n",
    "import numpy as np"
   ]
  },
  {
   "cell_type": "code",
   "execution_count": null,
   "id": "d86d7160-aa2c-47cd-8bb7-183b17f5b182",
   "metadata": {},
   "outputs": [],
   "source": [
    "# Creating a dummy data\n",
    "np.random.seed(20)\n",
    "gender = np.random.choice([\"male\",\"female\"],10)\n",
    "contract_type = np.random.choice([\"monthly\",\"yearly\"],10)\n",
    "age = np.random.randint(12,100,10)\n",
    "monthly_charges = np.random.randint(105,800,10)\n",
    "tenure = np.random.randint(1,12,10)"
   ]
  },
  {
   "cell_type": "code",
   "execution_count": null,
   "id": "5299fdde-7ded-4d9a-8ce5-c8fb799fcb60",
   "metadata": {},
   "outputs": [],
   "source": [
    "# Creating dataframe from the above \n",
    "dict1={\n",
    "    \"gender\":gender,\n",
    "    \"contract_type\":contract_type,\n",
    "    \"age\":age,\n",
    "    \"monthly_charges\":monthly_charges,\n",
    "    \"tenure\":tenure\n",
    "}\n",
    "df = pd.DataFrame(dict1)"
   ]
  },
  {
   "cell_type": "code",
   "execution_count": null,
   "id": "2b35f27a-a655-4498-95b1-c41ef69f05ea",
   "metadata": {},
   "outputs": [],
   "source": [
    "# Converting categorical data into numerical data\n",
    "df_encoded = pd.get_dummies(df,columns=[\"gender\",\"contract_type\"]) # we pass original dataframe then specify categorical columns to encoded"
   ]
  },
  {
   "cell_type": "code",
   "execution_count": null,
   "id": "30132c19-f81c-4130-9a61-2edc2541b4b8",
   "metadata": {},
   "outputs": [],
   "source": [
    "# Result\n",
    "print(\"Original Dataframe\")\n",
    "df"
   ]
  },
  {
   "cell_type": "code",
   "execution_count": null,
   "id": "f441bf4d-46b6-4f52-b0f4-1d92fb593ae2",
   "metadata": {},
   "outputs": [],
   "source": [
    "print(\"Encoded Dataframe\")\n",
    "df_encoded"
   ]
  },
  {
   "cell_type": "code",
   "execution_count": null,
   "id": "6d39202f-7b99-4267-ba19-1b4ae1810cd6",
   "metadata": {},
   "outputs": [],
   "source": []
  }
 ],
 "metadata": {
  "kernelspec": {
   "display_name": "Python 3 (ipykernel)",
   "language": "python",
   "name": "python3"
  },
  "language_info": {
   "codemirror_mode": {
    "name": "ipython",
    "version": 3
   },
   "file_extension": ".py",
   "mimetype": "text/x-python",
   "name": "python",
   "nbconvert_exporter": "python",
   "pygments_lexer": "ipython3",
   "version": "3.10.8"
  }
 },
 "nbformat": 4,
 "nbformat_minor": 5
}
